{
 "cells": [
  {
   "cell_type": "markdown",
   "metadata": {},
   "source": [
    "# Python Boot Camp - September 2024\n",
    "### Day 3 (September 25th 2024)\n",
    "\n",
    "#### Planned topics for the day\n",
    " - Python Builtin data types\n",
    " - String handling\n",
    " - Lists, Sets and Dictionaries"
   ]
  },
  {
   "cell_type": "markdown",
   "metadata": {},
   "source": [
    "##### Numbers, Boolean, None"
   ]
  },
  {
   "cell_type": "code",
   "execution_count": 1,
   "metadata": {},
   "outputs": [],
   "source": [
    "# int, bool, float, complex"
   ]
  },
  {
   "cell_type": "code",
   "execution_count": 2,
   "metadata": {},
   "outputs": [
    {
     "name": "stdout",
     "output_type": "stream",
     "text": [
      "1234 <class 'int'>\n"
     ]
    }
   ],
   "source": [
    "a = 1234\n",
    "print(a, type(a))"
   ]
  },
  {
   "cell_type": "code",
   "execution_count": 3,
   "metadata": {},
   "outputs": [
    {
     "name": "stdout",
     "output_type": "stream",
     "text": [
      "2893648723642378642378462387462378642378462378462378462387462378462378462378462378462378462378462378462348762347862347823647823647823647283462378467863487534895348957348957348957348953745\n"
     ]
    }
   ],
   "source": [
    "a = 2893648723642378642378462387462378642378462378462378462387462378462378462378462378462378462378462378462348762347862347823647823647823647283462378467863487534895348957348957348957348953745\n",
    "print(a)"
   ]
  },
  {
   "cell_type": "code",
   "execution_count": 4,
   "metadata": {},
   "outputs": [
    {
     "data": {
      "text/plain": [
       "9223372036854775807"
      ]
     },
     "execution_count": 4,
     "metadata": {},
     "output_type": "execute_result"
    }
   ],
   "source": [
    "import sys\n",
    "sys.maxsize"
   ]
  },
  {
   "cell_type": "code",
   "execution_count": 5,
   "metadata": {},
   "outputs": [
    {
     "data": {
      "text/plain": [
       "5802426499855242391017205102254891319294191200989"
      ]
     },
     "execution_count": 5,
     "metadata": {},
     "output_type": "execute_result"
    }
   ],
   "source": [
    "123487932465783456437856348756347853456734853455 + 5678938567389458934579348753498543465837456347534"
   ]
  },
  {
   "cell_type": "code",
   "execution_count": 13,
   "metadata": {},
   "outputs": [
    {
     "name": "stdout",
     "output_type": "stream",
     "text": [
      "12345\n",
      "8162 0x1fe2\n",
      "493 0o755\n",
      "91 0b1011011\n"
     ]
    }
   ],
   "source": [
    "a = 12345  # Decimal literal notation\n",
    "print(a)\n",
    "\n",
    "a = 0x1fe2 # Hexadecimal literal notation\n",
    "print(a, hex(a))\n",
    "\n",
    "a = 0o755 # Octal literal notation\n",
    "print(a, oct(a))\n",
    "\n",
    "a = 0b1011011 # Binary literal notation\n",
    "print(a, bin(a))"
   ]
  },
  {
   "cell_type": "code",
   "execution_count": 17,
   "metadata": {},
   "outputs": [
    {
     "name": "stdout",
     "output_type": "stream",
     "text": [
      "70\n",
      "30\n",
      "1000\n",
      "2.5\n",
      "2\n",
      "10\n",
      "9536743164062500000000000000000000\n"
     ]
    }
   ],
   "source": [
    "a = 50\n",
    "b = 20\n",
    "c = a + b\n",
    "c = a.__add__(b) # int.__add__(a, b)\n",
    "print(c)\n",
    "\n",
    "print(a.__sub__(b))  # a - b\n",
    "print(a.__mul__(b))  # a * b\n",
    "print(a.__truediv__(b)) # a / b\n",
    "print(a.__floordiv__(b)) # a // b\n",
    "print(a.__mod__(b)) # a % b\n",
    "print(a.__pow__(b)) # a ** b"
   ]
  },
  {
   "cell_type": "code",
   "execution_count": 9,
   "metadata": {},
   "outputs": [
    {
     "data": {
      "text/plain": [
       "'0x64'"
      ]
     },
     "execution_count": 9,
     "metadata": {},
     "output_type": "execute_result"
    }
   ],
   "source": [
    "a = 100\n",
    "hex(a)"
   ]
  },
  {
   "cell_type": "code",
   "execution_count": 18,
   "metadata": {},
   "outputs": [
    {
     "data": {
      "text/plain": [
       "['__abs__',\n",
       " '__add__',\n",
       " '__and__',\n",
       " '__bool__',\n",
       " '__ceil__',\n",
       " '__class__',\n",
       " '__delattr__',\n",
       " '__dir__',\n",
       " '__divmod__',\n",
       " '__doc__',\n",
       " '__eq__',\n",
       " '__float__',\n",
       " '__floor__',\n",
       " '__floordiv__',\n",
       " '__format__',\n",
       " '__ge__',\n",
       " '__getattribute__',\n",
       " '__getnewargs__',\n",
       " '__getstate__',\n",
       " '__gt__',\n",
       " '__hash__',\n",
       " '__index__',\n",
       " '__init__',\n",
       " '__init_subclass__',\n",
       " '__int__',\n",
       " '__invert__',\n",
       " '__le__',\n",
       " '__lshift__',\n",
       " '__lt__',\n",
       " '__mod__',\n",
       " '__mul__',\n",
       " '__ne__',\n",
       " '__neg__',\n",
       " '__new__',\n",
       " '__or__',\n",
       " '__pos__',\n",
       " '__pow__',\n",
       " '__radd__',\n",
       " '__rand__',\n",
       " '__rdivmod__',\n",
       " '__reduce__',\n",
       " '__reduce_ex__',\n",
       " '__repr__',\n",
       " '__rfloordiv__',\n",
       " '__rlshift__',\n",
       " '__rmod__',\n",
       " '__rmul__',\n",
       " '__ror__',\n",
       " '__round__',\n",
       " '__rpow__',\n",
       " '__rrshift__',\n",
       " '__rshift__',\n",
       " '__rsub__',\n",
       " '__rtruediv__',\n",
       " '__rxor__',\n",
       " '__setattr__',\n",
       " '__sizeof__',\n",
       " '__str__',\n",
       " '__sub__',\n",
       " '__subclasshook__',\n",
       " '__truediv__',\n",
       " '__trunc__',\n",
       " '__xor__',\n",
       " 'as_integer_ratio',\n",
       " 'bit_count',\n",
       " 'bit_length',\n",
       " 'conjugate',\n",
       " 'denominator',\n",
       " 'from_bytes',\n",
       " 'imag',\n",
       " 'is_integer',\n",
       " 'numerator',\n",
       " 'real',\n",
       " 'to_bytes']"
      ]
     },
     "execution_count": 18,
     "metadata": {},
     "output_type": "execute_result"
    }
   ],
   "source": [
    "dir(a)"
   ]
  },
  {
   "cell_type": "code",
   "execution_count": 21,
   "metadata": {},
   "outputs": [
    {
     "name": "stdout",
     "output_type": "stream",
     "text": [
      "-10\n",
      "10 10\n"
     ]
    }
   ],
   "source": [
    "a = -10\n",
    "print(a)\n",
    "print(abs(a), a.__abs__())"
   ]
  },
  {
   "cell_type": "code",
   "execution_count": 22,
   "metadata": {},
   "outputs": [
    {
     "data": {
      "text/plain": [
       "12.5"
      ]
     },
     "execution_count": 22,
     "metadata": {},
     "output_type": "execute_result"
    }
   ],
   "source": [
    "a = 50\n",
    "b = 4\n",
    "\n",
    "a / b"
   ]
  },
  {
   "cell_type": "code",
   "execution_count": 30,
   "metadata": {},
   "outputs": [
    {
     "name": "stdout",
     "output_type": "stream",
     "text": [
      "0b1010 0b110 0b1110\n",
      "2\n",
      "12\n",
      "0b1010 0b110 0b1100\n"
     ]
    }
   ],
   "source": [
    "a = 10\n",
    "b = 6\n",
    "c = a | b  # a.__or__(b)\n",
    "print(bin(a), bin(b), bin(c))\n",
    "print(a & b)\n",
    "print(a ^ b)  # Bitwise XOR -> a.__xor__(b)\n",
    "print(bin(a), bin(b), bin(a ^ b))"
   ]
  },
  {
   "cell_type": "code",
   "execution_count": 32,
   "metadata": {},
   "outputs": [
    {
     "data": {
      "text/plain": [
       "True"
      ]
     },
     "execution_count": 32,
     "metadata": {},
     "output_type": "execute_result"
    }
   ],
   "source": [
    "a = 16\n",
    "a % 2 == 0"
   ]
  },
  {
   "cell_type": "code",
   "execution_count": 34,
   "metadata": {},
   "outputs": [
    {
     "data": {
      "text/plain": [
       "1"
      ]
     },
     "execution_count": 34,
     "metadata": {},
     "output_type": "execute_result"
    }
   ],
   "source": [
    "a = 17\n",
    "a & 1  # a.__and__(1)"
   ]
  },
  {
   "cell_type": "code",
   "execution_count": 38,
   "metadata": {},
   "outputs": [
    {
     "name": "stdout",
     "output_type": "stream",
     "text": [
      "16 0b10000\n",
      "8 0b1000\n",
      "32 0b100000\n"
     ]
    }
   ],
   "source": [
    "a = 16\n",
    "print(a, bin(a))\n",
    "print(a >> 1, bin(a >> 1))  # a.__rshift__(1)\n",
    "print(a << 1, bin(a << 1))  # a.__lshift__(1)"
   ]
  },
  {
   "cell_type": "code",
   "execution_count": null,
   "metadata": {},
   "outputs": [],
   "source": [
    "# Builtin int helper functions\n",
    "# hex(), bin(), oct(), abs()\n",
    "# chr(), ord(), divmod()\n"
   ]
  },
  {
   "cell_type": "code",
   "execution_count": 41,
   "metadata": {},
   "outputs": [
    {
     "data": {
      "text/plain": [
       "'©'"
      ]
     },
     "execution_count": 41,
     "metadata": {},
     "output_type": "execute_result"
    }
   ],
   "source": [
    "chr(0x00A9)"
   ]
  },
  {
   "cell_type": "code",
   "execution_count": 44,
   "metadata": {},
   "outputs": [
    {
     "name": "stdout",
     "output_type": "stream",
     "text": [
      "₹ 8377 0x20b9\n"
     ]
    }
   ],
   "source": [
    "a = '₹'\n",
    "print(a, ord(a), hex(ord(a)))\n"
   ]
  },
  {
   "cell_type": "code",
   "execution_count": 46,
   "metadata": {},
   "outputs": [
    {
     "name": "stdout",
     "output_type": "stream",
     "text": [
      "4.5 <class 'float'>\n",
      "420000.0 <class 'float'>\n"
     ]
    }
   ],
   "source": [
    "a = 4.5\n",
    "print(a, type(a))\n",
    "a = 4.2e+5\n",
    "print(a, type(a))"
   ]
  },
  {
   "cell_type": "code",
   "execution_count": 48,
   "metadata": {},
   "outputs": [
    {
     "data": {
      "text/plain": [
       "4"
      ]
     },
     "execution_count": 48,
     "metadata": {},
     "output_type": "execute_result"
    }
   ],
   "source": [
    "round(3.7416456546)"
   ]
  },
  {
   "cell_type": "code",
   "execution_count": 49,
   "metadata": {},
   "outputs": [
    {
     "data": {
      "text/plain": [
       "3.742"
      ]
     },
     "execution_count": 49,
     "metadata": {},
     "output_type": "execute_result"
    }
   ],
   "source": [
    "round(3.7416456546, 3)"
   ]
  },
  {
   "cell_type": "code",
   "execution_count": 53,
   "metadata": {},
   "outputs": [
    {
     "name": "stdout",
     "output_type": "stream",
     "text": [
      "2 3\n",
      "2 3\n"
     ]
    }
   ],
   "source": [
    "a, b = 17, 7\n",
    "print(a // b, a % b)\n",
    "q, r = divmod(a, b)\n",
    "print(q, r)"
   ]
  },
  {
   "cell_type": "code",
   "execution_count": 54,
   "metadata": {},
   "outputs": [
    {
     "name": "stdout",
     "output_type": "stream",
     "text": [
      "45 45.0\n"
     ]
    }
   ],
   "source": [
    "a = 45\n",
    "b = float(a)\n",
    "print(a, b)"
   ]
  },
  {
   "cell_type": "code",
   "execution_count": 56,
   "metadata": {},
   "outputs": [
    {
     "name": "stdout",
     "output_type": "stream",
     "text": [
      "4.678 4 5\n"
     ]
    }
   ],
   "source": [
    "a = 4.678\n",
    "b = int(a)\n",
    "c = round(a)\n",
    "print(a, b, c)"
   ]
  },
  {
   "cell_type": "code",
   "execution_count": 58,
   "metadata": {},
   "outputs": [
    {
     "name": "stdout",
     "output_type": "stream",
     "text": [
      "1234 <class 'str'>\n",
      "1234 <class 'int'>\n"
     ]
    }
   ],
   "source": [
    "a = \"1234\"\n",
    "print(a, type(a))\n",
    "b = int(a)\n",
    "print(b, type(b))"
   ]
  },
  {
   "cell_type": "code",
   "execution_count": 59,
   "metadata": {},
   "outputs": [
    {
     "name": "stdout",
     "output_type": "stream",
     "text": [
      "1fb20 <class 'str'>\n"
     ]
    },
    {
     "ename": "ValueError",
     "evalue": "invalid literal for int() with base 10: '1fb20'",
     "output_type": "error",
     "traceback": [
      "\u001b[1;31m---------------------------------------------------------------------------\u001b[0m",
      "\u001b[1;31mValueError\u001b[0m                                Traceback (most recent call last)",
      "Cell \u001b[1;32mIn[59], line 3\u001b[0m\n\u001b[0;32m      1\u001b[0m a \u001b[38;5;241m=\u001b[39m \u001b[38;5;124m\"\u001b[39m\u001b[38;5;124m1fb20\u001b[39m\u001b[38;5;124m\"\u001b[39m\n\u001b[0;32m      2\u001b[0m \u001b[38;5;28mprint\u001b[39m(a, \u001b[38;5;28mtype\u001b[39m(a))\n\u001b[1;32m----> 3\u001b[0m b \u001b[38;5;241m=\u001b[39m \u001b[38;5;28mint\u001b[39m(a)\n\u001b[0;32m      4\u001b[0m \u001b[38;5;28mprint\u001b[39m(b, \u001b[38;5;28mtype\u001b[39m(b))\n",
      "\u001b[1;31mValueError\u001b[0m: invalid literal for int() with base 10: '1fb20'"
     ]
    }
   ],
   "source": [
    "a = \"1fb20\"\n",
    "print(a, type(a))\n",
    "b = int(a)\n",
    "print(b, type(b))"
   ]
  },
  {
   "cell_type": "code",
   "execution_count": 62,
   "metadata": {},
   "outputs": [
    {
     "name": "stdout",
     "output_type": "stream",
     "text": [
      "1fb20 <class 'str'>\n",
      "129824 <class 'int'>\n",
      "1011 11\n"
     ]
    }
   ],
   "source": [
    "a = \"1fb20\"\n",
    "print(a, type(a))\n",
    "b = int(a, 16)\n",
    "print(b, type(b))\n",
    "\n",
    "a = \"1011\"\n",
    "print(int(a), int(a, 2))"
   ]
  },
  {
   "cell_type": "code",
   "execution_count": 63,
   "metadata": {},
   "outputs": [
    {
     "data": {
      "text/plain": [
       "29083819094390"
      ]
     },
     "execution_count": 63,
     "metadata": {},
     "output_type": "execute_result"
    }
   ],
   "source": [
    "a = \"ab4x6yt12\"\n",
    "int(a, 36)"
   ]
  },
  {
   "cell_type": "code",
   "execution_count": 66,
   "metadata": {},
   "outputs": [
    {
     "name": "stdout",
     "output_type": "stream",
     "text": [
      "None <class 'NoneType'>\n"
     ]
    }
   ],
   "source": [
    "# None\n",
    "a = None  # Avoid statements like these - unless there is a logic requirement\n",
    "print(a, type(a))"
   ]
  },
  {
   "cell_type": "markdown",
   "metadata": {},
   "source": [
    "Collections in Python\n",
    "  - Sequences\n",
    "     - Buffers (Homogenous sequences)\n",
    "        - `str`, `bytes` and `bytearray`\n",
    "     - Sequence of references (Heteregenous sequences)\n",
    "        - `tuple`, `list`\n",
    "     - Pseudo-sequences \n",
    "        - `range`, `enumerate`, `zip`\n",
    "  - Sets\n",
    "      - `set`, `frozenset`\n",
    "  - Dictionaries (Mapping)\n",
    "      - `dict`\n"
   ]
  },
  {
   "cell_type": "markdown",
   "metadata": {},
   "source": [
    "##### Sequences\n",
    "  - Ordered collection of items\n",
    "  - Subscriptable using indices (starting from zero)\n",
    "  - Reverse subscriptible using -ve indices\n",
    "  - Slice-able\n",
    "  "
   ]
  },
  {
   "cell_type": "markdown",
   "metadata": {},
   "source": [
    "##### Set\n",
    "  - Unordered collection of unique hashable items\n",
    "  - Not subscriptable\n",
    "  - Suitable for operations based on set-theory\n",
    "  "
   ]
  },
  {
   "cell_type": "code",
   "execution_count": 68,
   "metadata": {},
   "outputs": [
    {
     "name": "stdout",
     "output_type": "stream",
     "text": [
      "[10, True, 'hello', 5.6, [11, 22, 33], (44, 55, 66), 10]\n",
      "(34, 3.4, [11, 22, 3], (2, 1, 3), True)\n"
     ]
    }
   ],
   "source": [
    "a = \"hello\"\n",
    "\n",
    "d = [10, True, \"hello\", 5.6, [11, 22, 33], (44, 55, 66), 10]\n",
    "print(d)\n",
    "t = 34, 3.4, [11, 22, 3], (2, 1, 3), True\n",
    "print(t)"
   ]
  },
  {
   "cell_type": "markdown",
   "metadata": {},
   "source": [
    "#### Strings in Python\n",
    "Strings are homogenous sequence (buffer) of characters"
   ]
  },
  {
   "cell_type": "code",
   "execution_count": 72,
   "metadata": {},
   "outputs": [
    {
     "name": "stdout",
     "output_type": "stream",
     "text": [
      "aअಅ 3\n",
      "0 a\n",
      "1 अ\n",
      "2 ಅ\n"
     ]
    }
   ],
   "source": [
    "a = \"a\\u0905\\u0c85\"\n",
    "print(a, len(a))\n",
    "for i, c in enumerate(a):\n",
    "    print(i, c)\n"
   ]
  },
  {
   "cell_type": "markdown",
   "metadata": {},
   "source": [
    "#### Bytes\n",
    "  - Byte-string (bytes) are sequence buffers that represent raw-binary data as byte values"
   ]
  },
  {
   "cell_type": "code",
   "execution_count": 78,
   "metadata": {},
   "outputs": [
    {
     "name": "stdout",
     "output_type": "stream",
     "text": [
      "hello <class 'str'>\n",
      "b'hello' <class 'bytes'>\n",
      "h 104\n",
      "h e l l o 104 101 108 108 111 "
     ]
    }
   ],
   "source": [
    "a = \"hello\"\n",
    "b = b\"hello\"\n",
    "print(a, type(a))\n",
    "print(b, type(b))\n",
    "\n",
    "print(a[0], b[0])\n",
    "\n",
    "for c in a:\n",
    "    print(c, end=\" \")\n",
    "\n",
    "for c in b:\n",
    "    print(c, end=\" \")"
   ]
  },
  {
   "cell_type": "code",
   "execution_count": 82,
   "metadata": {},
   "outputs": [
    {
     "name": "stdout",
     "output_type": "stream",
     "text": [
      "aअಅ 3\n",
      "b'a\\xe0\\xa4\\x85\\xe0\\xb2\\x85' <class 'bytes'>\n",
      "7\n",
      "b'a\\xe0\\xa4\\x85\\xe0\\xb2\\x85' <class 'bytes'>\n"
     ]
    }
   ],
   "source": [
    "a = \"a\\u0905\\u0c85\"\n",
    "print(a, len(a))\n",
    "\n",
    "b = bytes(a, \"utf8\")\n",
    "print(b, type(b))\n",
    "print(len(b))\n",
    "\n",
    "c = a.encode(\"utf8\")\n",
    "print(c, type(c))"
   ]
  },
  {
   "cell_type": "code",
   "execution_count": 85,
   "metadata": {},
   "outputs": [
    {
     "name": "stdout",
     "output_type": "stream",
     "text": [
      "b'a\\xe0\\xa4\\x85\\xe0\\xb2\\x85' <class 'bytes'>\n",
      "aअಅ <class 'str'>\n"
     ]
    }
   ],
   "source": [
    "print(c, type(c))\n",
    "\n",
    "d = str(c, \"utf8\")\n",
    "print(d, type(d))"
   ]
  },
  {
   "cell_type": "code",
   "execution_count": 86,
   "metadata": {},
   "outputs": [
    {
     "ename": "UnicodeDecodeError",
     "evalue": "'utf-8' codec can't decode byte 0xff in position 0: invalid start byte",
     "output_type": "error",
     "traceback": [
      "\u001b[1;31m---------------------------------------------------------------------------\u001b[0m",
      "\u001b[1;31mUnicodeDecodeError\u001b[0m                        Traceback (most recent call last)",
      "Cell \u001b[1;32mIn[86], line 2\u001b[0m\n\u001b[0;32m      1\u001b[0m b \u001b[38;5;241m=\u001b[39m \u001b[38;5;124mb\u001b[39m\u001b[38;5;124m\"\u001b[39m\u001b[38;5;130;01m\\xff\u001b[39;00m\u001b[38;5;130;01m\\x00\u001b[39;00m\u001b[38;5;130;01m\\xe0\u001b[39;00m\u001b[38;5;130;01m\\x45\u001b[39;00m\u001b[38;5;130;01m\\x78\u001b[39;00m\u001b[38;5;124m\"\u001b[39m\n\u001b[1;32m----> 2\u001b[0m c \u001b[38;5;241m=\u001b[39m \u001b[38;5;28mstr\u001b[39m(b, \u001b[38;5;124m\"\u001b[39m\u001b[38;5;124mutf8\u001b[39m\u001b[38;5;124m\"\u001b[39m)\n\u001b[0;32m      3\u001b[0m \u001b[38;5;28mprint\u001b[39m(c)\n",
      "\u001b[1;31mUnicodeDecodeError\u001b[0m: 'utf-8' codec can't decode byte 0xff in position 0: invalid start byte"
     ]
    }
   ],
   "source": [
    "b = b\"\\xff\\x00\\xe0\\x45\\x78\"\n",
    "c = str(b, \"utf8\")\n",
    "print(c)"
   ]
  },
  {
   "cell_type": "code",
   "execution_count": 87,
   "metadata": {},
   "outputs": [
    {
     "data": {
      "text/plain": [
       "'this is line 1\\nthis is line 2\\nthis is yet another line\\nthis is another boring line\\nthis is the last line'"
      ]
     },
     "execution_count": 87,
     "metadata": {},
     "output_type": "execute_result"
    }
   ],
   "source": [
    "f = open(\"b.txt\")\n",
    "data = f.read()\n",
    "f.close()\n",
    "data"
   ]
  },
  {
   "cell_type": "code",
   "execution_count": null,
   "metadata": {},
   "outputs": [
    {
     "data": {
      "text/plain": [
       "'this is line 1\\nthis is line 2\\nthis is yet another line\\nthis is another boring line\\nthis is the last line'"
      ]
     },
     "metadata": {},
     "output_type": "display_data"
    }
   ],
   "source": [
    "with open(\"b.txt\") as f:\n",
    "    data = f.read()\n",
    "\n",
    "data"
   ]
  },
  {
   "cell_type": "code",
   "execution_count": 90,
   "metadata": {},
   "outputs": [
    {
     "name": "stdout",
     "output_type": "stream",
     "text": [
      "In with block: f.closed=False\n",
      "Outside with block: f.closed=True\n"
     ]
    }
   ],
   "source": [
    "with open(\"b.txt\") as f:\n",
    "    print(f\"In with block: {f.closed=}\")\n",
    "\n",
    "print(f\"Outside with block: {f.closed=}\")\n"
   ]
  },
  {
   "cell_type": "code",
   "execution_count": 91,
   "metadata": {},
   "outputs": [
    {
     "name": "stdout",
     "output_type": "stream",
     "text": [
      "14\n"
     ]
    }
   ],
   "source": [
    "for i in range(10):\n",
    "    j = i + 5\n",
    "\n",
    "print(j)"
   ]
  },
  {
   "cell_type": "code",
   "execution_count": 93,
   "metadata": {},
   "outputs": [
    {
     "name": "stdout",
     "output_type": "stream",
     "text": [
      "this is line 1\n",
      "this is line 2\n",
      "this is yet another line\n",
      "this is another boring line\n",
      "this is the last line <class 'str'>\n"
     ]
    }
   ],
   "source": [
    "with open(\"b.txt\") as infile:\n",
    "    contents = infile.read()\n",
    "\n",
    "print(contents, type(contents))"
   ]
  },
  {
   "cell_type": "code",
   "execution_count": 96,
   "metadata": {},
   "outputs": [
    {
     "name": "stdout",
     "output_type": "stream",
     "text": [
      "<_io.TextIOWrapper name='c:\\\\Users\\\\chandra\\\\Downloads\\\\th.jfif' mode='r' encoding='utf-8'>\n"
     ]
    },
    {
     "ename": "UnicodeDecodeError",
     "evalue": "'utf-8' codec can't decode byte 0xff in position 0: invalid start byte",
     "output_type": "error",
     "traceback": [
      "\u001b[1;31m---------------------------------------------------------------------------\u001b[0m",
      "\u001b[1;31mUnicodeDecodeError\u001b[0m                        Traceback (most recent call last)",
      "Cell \u001b[1;32mIn[96], line 3\u001b[0m\n\u001b[0;32m      1\u001b[0m \u001b[38;5;28;01mwith\u001b[39;00m \u001b[38;5;28mopen\u001b[39m(\u001b[38;5;124m\"\u001b[39m\u001b[38;5;124mc:\u001b[39m\u001b[38;5;130;01m\\\\\u001b[39;00m\u001b[38;5;124mUsers\u001b[39m\u001b[38;5;130;01m\\\\\u001b[39;00m\u001b[38;5;124mchandra\u001b[39m\u001b[38;5;130;01m\\\\\u001b[39;00m\u001b[38;5;124mDownloads\u001b[39m\u001b[38;5;130;01m\\\\\u001b[39;00m\u001b[38;5;124mth.jfif\u001b[39m\u001b[38;5;124m\"\u001b[39m) \u001b[38;5;28;01mas\u001b[39;00m f:\n\u001b[0;32m      2\u001b[0m     \u001b[38;5;28mprint\u001b[39m(f)\n\u001b[1;32m----> 3\u001b[0m     contents \u001b[38;5;241m=\u001b[39m f\u001b[38;5;241m.\u001b[39mread()\n\u001b[0;32m      5\u001b[0m \u001b[38;5;28mprint\u001b[39m(contents)\n",
      "File \u001b[1;32m<frozen codecs>:322\u001b[0m, in \u001b[0;36mdecode\u001b[1;34m(self, input, final)\u001b[0m\n",
      "\u001b[1;31mUnicodeDecodeError\u001b[0m: 'utf-8' codec can't decode byte 0xff in position 0: invalid start byte"
     ]
    }
   ],
   "source": [
    "with open(\"c:\\\\Users\\\\chandra\\\\Downloads\\\\th.jfif\") as f:\n",
    "    print(f)\n",
    "    contents = f.read()\n",
    "\n",
    "print(contents)"
   ]
  },
  {
   "cell_type": "code",
   "execution_count": 97,
   "metadata": {},
   "outputs": [
    {
     "name": "stdout",
     "output_type": "stream",
     "text": [
      "<_io.BufferedReader name='c:\\\\Users\\\\chandra\\\\Downloads\\\\th.jfif'>\n",
      "b'\\xff\\xd8\\xff\\xe0\\x00\\x10JFIF\\x00\\x01\\x01\\x00\\x00\\x01\\x00\\x01\\x00\\x00\\xff\\xdb\\x00\\x84\\x00\\n\\n\\n\\n\\n\\n\\x0b\\x0c\\x0c\\x0b\\x0f\\x10\\x0e\\x10\\x0f\\x16\\x14\\x13\\x13\\x14\\x16\"\\x18\\x1a\\x18\\x1a\\x18\"3 %  % 3-7,),7-Q@88@Q^OJO^qeeq\\x8f\\x88\\x8f\\xbb\\xbb\\xfb\\x01\\n\\n\\n\\n\\n\\n\\x0b\\x0c\\x0c\\x0b\\x0f\\x10\\x0e\\x10\\x0f\\x16\\x14\\x13\\x13\\x14\\x16\"\\x18\\x1a\\x18\\x1a\\x18\"3 %  % 3-7,),7-Q@88@Q^OJO^qeeq\\x8f\\x88\\x8f\\xbb\\xbb\\xfb\\xff\\xc2\\x00\\x11\\x08\\x01\\x04\\x01\\x95\\x03\\x01\"\\x00\\x02\\x11\\x01\\x03\\x11\\x01\\xff\\xc4\\x00\\x1c\\x00\\x01\\x00\\x01\\x05\\x01\\x01\\x00\\x00\\x00\\x00\\x00\\x00\\x00\\x00\\x00\\x00\\x00\\x04\\x01\\x02\\x03\\x05\\x06\\x07\\x08\\xff\\xda\\x00\\x08\\x01\\x01\\x00\\x00\\x00\\x00\\xf1\\x90\\x00\\x00W\\xa3\\xed:\\xb9\\x10\\xab6\\x14=6ky\\x9eR60\\x00\\x00\\x00\\x03s\\xeb\\x9b\\x89\\x1a\\x8d\\xfe;\"k\\xb1\\xc0\\xdcS\\x98\\xf3\\xcdX\\x00\\x00\\x00\\x01\\xdc\\xf4\\xbb\\xed\\xee\\x92\\xf9vj430\\xcb\\xd9\\xf1\\\\n\\xb8\\x00\\x00\\x00\\x01\\x7fi\\xe8\\xb6\\xea\\xb5\\xfb\\xe9\\x97p\\xd0\\xfazj\\xfa\\xee/\\x9e\\xe6h\\x00\\x00\\x00\\x02\\xbb\\xbe\\xd2L8\\xf22\\xc1\\x95\\x9e\\xb8\\xe1l61\\xb4\\xbc\\x060\\x00\\x00\\x00\\x12\\xbb\\x08\\xb3\\xab\\x8b\\x0e{f\\xcb\\xd7\\xe6\\xb2.\\xfb\\x1c/=\\xc4\\x00\\x00\\x00\\x02g]\\xa1\\x93*\\x1d\\xf9z\\xfd&\\xae$\\xc6\\xd7u\\xa9\\x87\\xc7\\xc6\\x00\\x00\\x00\\x01\\x93\\xa3\\xd4[/\\x1c\\xce\\xf6?/\\xa7\\xc5\\x9bw\\xb6\\xae\\x8e?;`\\x02\\xb4\\x00\\x00\\x0b\\xb68\\x94\\x9d\\xba\\xcd\\'S\\x83.M\\xbc\\x88\\x19\\xf8\\x88\\x14\\x00V\\x80\\x00\\x00\\x93\"=\\xb3\\xba9\\xd2)u\\xb8s\\xe7\\xa7M\\xe1\\xf1@\\n\\xd0\\x00\\x00\\x19\\xf3Z\\xcf\\xd5f\\x91\\x9a\\xeb-\\xa6\\x0c\\xbb\\x8f4\\xd5Z\\x00\\xad\\x00\\x00\\x01~\\xda\\x0e=\\xce\\xfe\\xfc\\xf9\\xd0&j\\xf0\\xf5Z\\x8eK\\x0e\\xb0\\x01Z\\x00\\x00\\x02\\xbe\\x83\\x03\\x9b\\x9f\\xb6\\x99d<\\x19.\\xdf\\xf2\\xb3p\\xf4^s\\x1c\\x01Z\\x00\\x00\\x02\\xbe\\x91\\'\\x90\\xbb}2&xR\"\\xfa\\x97\\x0b\\x8feo\\x91\\xe3\\x00]h\\x00\\x00\\x1d\\xb7I\\xa3\\xd5mf\\xe7\\x8fb/MM\\r\\xd84\\x1c\\xf8\\x02\\xeb@\\x00\\x00\\x9b\\xe8p\\xf5\\xb3\\xa4JV\\x1e\\x1b\\xb53\\xab\\x16\\x0f6\\x00\\xba\\xd0\\x00\\x00\\x1d\\xc6\\xcfG:N{\\xae\\xd7\\xeb\\x10\\xae\\x98\\xd7h@\\x15\\xa0\\x00\\x00\\x0c\\xdb\\x9933\\xcd\\xc9\\x02\\x1d2\\xe2\\xb3\\x16}\\x1e\\xb0\\x01Z\\x00\\x00\\x00]\\xbd\\x993$\\x9dT\\x9c3\\xec\\x8d\\x15\\xa0\\x86\\x00\\xad\\x00\\x00\\x00+\\xd0\\xe3\\xd9\\xe6\\xba\\x1e\\xd2\\xce\\x97\\xbb\\x95\\xc8x\\xfe\\xbe=\\x00+@\\x00\\x00\\x06\\xfeT)\\xb1\\xb2\\xed$\\xf67\\xdd\\xaf\\xf3\\xcen\\x80\\x0b\\xad\\x00\\x00\\x00l\\xfa\\x9d$|6\\xce\\x99\"\\xbb\\xadF\\xff\\x00\\x94\\xe5\\xec\\x00\\xad\\x00\\x00\\x00+\\xb3\\xec5\\xda\\xb8V]v\\xf2>\\xff\\x00K\\xea\\x1d\\xce\\x83\\xcb\\xfc\\xfb\\x1d\\x01u\\xa0\\x00\\x00/\\xe9\\xba\\xac\\x18 k\\xe2\\xe0\\xc9tXS=\\x13\\xda2\\xdf\\xa6\\xf3O6\\xd4\\xd0]h\\x00\\x00U\\x9b\\xd7:\\xeegGlX\\xf8\\xa9\\x1e\\xeb\\xf8\\xef[\\xf4\\r\\xe4\\x9b\\xee\\xa6\\x1e\\x03\\xcay\\xab)[@\\x00\\x02\\xbd/\\xa8\\xee\\xaf\\xc3\\xcb\\xebq+\\x94\\xc1\\xc3H\\xbf\\xd4\\xbd3-\\xe2\\xd8\\x1c\\xb7\\x95qv\\xd0\\x00\\x05M\\x9f\\xact\\xf6\\xd6\\xeab\\x87\\xac\\xc3K\\xf3g\\x95\\xc6y\\x8e^\\xc3\\xe8\\xab\\xb2V\\x85\\x16y\\xb7\\x87G\\x00\\x01t\\xff\\x00S\\xf4}V:\\xad\\xa5\\xb4\\xb1Z\\xad\\xb3U\\xe2S\\xfd\\xa7\\xaf\\xd1\\xf4;:\\xd5m-\\xa7+\\xf3H\\x00\\x13}\\x7f\\xd3n\\xe7\\xa3\\xd4\\xb7\\x1d\\x96V\\x8b\\x96\\xdb\\xc6\\xf1\\xde\\x9f\\x93u\\xa7\\xdav\\x97\\xde\\xb6\\x98\\xec\\xb3\\xe4p\\x00t?B\\xefm\\xd4i\\xd5\\xa2\\x98\\xec\\xb6\\x95\\xb2\\xb4\\xb2\\xdd\\x14M\\xc7C\\x03U+\\xbf\\x97}\\x14\\xc1\\x82\\xff\\x00\\x92\\x00\\x03\\xa1\\xfa?eX\\xda(\\x8a\\xd2\\x96\\xdbK\\x15\\xa6+)v._{\\x9a|e\\xbdV\\xea\\xe5\\xb1\\xe2g\\xf9,\\x00\\xad\\xff\\x00Kt\\xd7R\\x16\\x93\\x01E)m)Z[\\x86\\xda\\xd3G\\xa8\\xe9\\x1a+ew\\xdd\\x0eJ\\xd9\\x8fO/\\xe5 \\x01\\xd9}\\x0b\\x93=5\\x9a\\x8ce\\xaaZ\\xa5\\xaa0\\xe3R\\x17/\\xd0A\\xe80m%u\\x15\\xc9c\\x99\\xda\\x7f\\xff\\xc4\\x00\\x19\\x01\\x01\\x00\\x03\\x01\\x01\\x00\\x00\\x00\\x00\\x00\\x00\\x00\\x00\\x00\\x00\\x00\\x00\\x01\\x02\\x03\\x04\\x05\\xff\\xda\\x00\\n\\x02\\x02\\x10\\x03\\x10\\x00\\x00\\x00\\x00\\x00\\tqty\\x1d\\xe4M-z\\xe9O_\\x83\\xab\\x18\\x00\\x00\\x00\\x00x\\x9e\\x976\\xf6\\x8a[L\\xf3\\xb1\\xe9r\\xfa| \\x00\\x00\\x00\\x18k\\xe7\\xf5\\xe9Yel\\xaf\\n\\xda\\xf4\\xf6\\xfc\\xe9\\x80\\x94\\x00\\x00\\x00\\xe6\\xda\\xd0\\x9ct\\xc3^\\x9c\\xb3\\xbf\\x1fGF\\x1e\\x97\\x14\\xc0H\\x80\\x00\\x00D\\xa6\\xb3\\xcd\\xd56\\xb4F\\x98il;\\xf8\\x00%\\x00\\x00\\x00)x\\x9cz\\xec\\x0c\\xebX\\xed\\xe3\\x90\\x12\\x80\\x00\\x04\\xa0rz\\x1bse\\xbc\\xd6Yo4\\xc2\\xfe\\x9f\\x98\\x01(\\x00\\x00J\\x12\\xe7\\xec\\x89\\xa6\\x92\\x94^\\xb5\\x8a\\xf4q\\xeb\\x98\\x12\\x84\\xa0\\x00\\x01*_\\x1e\\x9a\\xddi\\x89\\xa22us^\\x80\\x00\\x00\\x00J\\x19\\xeb\\x96\\xd1i\\x93\\n^;9\\xe6\\xa0\\x00\\x00\\x04\\xa1\"\\x97\\xc7[Vm\\x11\\xbf.\\x1bi[@\\x01(\\x00\\x04\\xa1(c\\xae=\\x1a\\xe5z\\x1ae\\xc3\\xd1GN:\\xc5\\xe0\\x00\\x00\\x00\\x85/[a\\xb4\\xd86\\xc2\\xd9\\xf2\\xeb\\xaeax\\xd6\\xb2\\x00\\x001\\xbdozkM)KD\\xda/Lu\\xe1\\xe9\\xbc_\\x1b!KZ:s\\x00\\x0c\\xa7\\x1b\\xdet\\xac\\xc5\\xab\\xa5-[D\\xc6=\\\\\\x1e\\x8f6\\xb5\\xa7W\\x06\\xd4\\x89\\x89\\xa5\\xbby\\xe5\\x003\\xb67\\xb4\\xeb\\x9c\\xd6\\xc9\\x89\\x8bD\\xc5\\xaay\\xbe\\xb6\\x1a\\xd5\\x83\\xbf\\x87H\\xaag\\xa7\\t@\\x0em\\x16\\xb3lILLI\\x17\\xa4\\xc7\\x17\\xa3\\xcf\\xbf7W4\\xf7\\xf9\\x9d\\x15D\\xbf\\xff\\xc4\\x00A\\x10\\x00\\x02\\x01\\x03\\x03\\x02\\x04\\x03\\x05\\x06\\x02\\x08\\x07\\x00\\x00\\x00\\x01\\x02\\x03\\x00\\x04\\x11\\x05\\x12!1A\\x13\"Qa\\x06\\x10q\\x1402@\\x81 #BPR\\xa1\\x07\\x91\\x15$3br\\xb1\\xc1\\xf14CSc\\x83\\x92\\xd1\\xff\\xda\\x00\\x08\\x01\\x01\\x00\\x01?\\x00\\xfc\\xb0\\xad\\x06\\xdd\\x1agwR\\xcb\\xb0\\xd5\\xb4<f@\\xd8\\x03\\x8a\\xb6Y\\xe1\\xf0\\xd9\\xa2#\\xcb\\x9a\\xbd6wQ$\\x9eerB\\x94\\xecj-\\x1a\\x14\\xde\\xe5\\x8e\\x0b\\x82\\x01\\xa5\\xd0-\\xb8\\x91\\t8m\\xddj\\xea\\xc9.]%bU\\xc2\\xe3w\\xa1\\xa4\\xd1\\xe1\\xb2T1\\xab\\x99\\xd6M\\xdb\\x89\\xf2\\xd5\\xee\\x95nI1\\xb3\\x17/\\xe2;u\\x19=\\x852\\xdcX\\x8b\\x95DV\\xf1\\x86\\xd7$\\x13P\\xd9\\x0b\\x96Y&\\x93\\x81\\x1e6\\x81P\\xe8\\x82\\xe2\\x0b\\x82\\xd3aO\\x18\\xc78S\\xc5]\\xe8*`}\\xb9/\\x1eq\\x9e\\xe2\\xa6\\xb2\\x9a\\x0f\\xc4\\xb8\\xe7\\x15&\\xc0@@p\\x079\\xf5\\xf9\\x0f\\xe4ZF\\x97.\\xa7>\\x07\\x08\\xa4\\x17>\\x82\\xadt\\xbd6\\xc7\\xc0\\x86\\x1c8\\xc1\\xc9\\xf54\\x91\"\\x82\\x8d\\x1at\\xe2\\xae\\x0cv\\xb0\\xa9\\x94\\xb3\\r\\xbc\"\\xf2H\\xf4\\x15\\t\\x9a\\xear\\xc9\\x18\\x8e\\x0c\\x82\\x03\\x1c\\xb5l\\xb60\\xe1el\\x03\\xfd\\xeaD\\xf0\\x94\\x08\\xe4\\xeb\\xd4\\n\\x0eBc9\\xfa\\xd5\\xcd\\xc1\\xda\\xc3\\xa9\\xa4\\xb92\\xc7\\xfd-\\x82\\xa7\\xf4\\xa9|\\xf0\\xab\\x82\\x0fc\\xf5\\xa8\\xbc`\\xd9\\x8c\\xe0\\x83\\xd0\\xf4\\xc7Z\\xb3\\xc7\\x85p\\x18\\x05fc\\x92;U\\xd1F\\xb6x|%\\'\\xc4S\\xb8\\xafn\\xf5\\xa9\\xc1\\xa6\\x94t\\x80\\xe7\\t\\xb87@O|V\\xa1\\x14q2\\xe0\\x82\\xc7\\x96\\xf6\\xfeI\\xf0\\xe4\\xdfd\\xd3\\xee\\xe4\\xee\\xcc\\x05[\\xcbuz\\xe9\\xf6x\\xfc8#\\xce_\\xa9cS\\xdcx3\\xcaX7\\x07\\x85\\xef\\xc54~:\\r\\xcd\\xc9\\x00\\x9fb*\\xe5\\x96\\t\\xda2\\xc5\\x17\\x1cT\\x17{7mo\\xedA\\xc4\\x8f\\xbf\\x04I\\x91\\x82\\xbdh\\xb8A\\xbc\\xc8NGz\\xbf\\x93\\xc3\\x9b!\\xf0\\x18u\\x14.\\xa6\\x1b\\xf0\\xe78\\xe4\\xd5\\xac\\xf7\\x85\\x0b\\x08\\xb2\\xa3\\xa9\\xa6\\x96\\xe5\\tp\\xa5GcVs\\x9b\\x99\\x92\"\\xe5|i:\\x8fn\\xd5\\xa9\\xc6\\xf1DUI\\xdbE\\xd1wG#\\x12\\xa4\\x9ez\\xd5\\xecL\\xae\\xe4\\x8e3\\xfc\\x8d\\x11\\x9d\\x82\\xa8\\xc9\\'\\x02\\xac\\xed\\x0e\\xc8 \\xc9\\n\\xdc\\xbd}\\xa2\\xde\\xc2\\xc5v\\xa6\\x06\\x01\\x8dGe\\xa8\\x9a#iqsr\\xf9|\\x06@;\\xe2\\x86\\xb1*.wu95-\\xfc\\xb7S\\x022s\\xd0R\\xce\\xd0E\\x1c{rH\\xcf\\xd75\\x05\\xd4r\\x04_\\x13\\x0e\\x1b\\x91\\xdb\\x1fZ\\x9at\\x9e\\x16\\xc4\\xa8\\x80f\\xaf\\xe2\\x9eo\\x19\\x92u8\\xec*\\xc2\\xde\\xf6@\\x18\\xab`pA\\xf7\\xabD\\x9c\\x05\\x07\\x81\\xb7\\x05}Gz\\xbd\\x96$\\x1bS\\xf0\\x8a\\xb7\\xbb\\xf0\\xdd\\x0e\\xcc:\\x11\\xff\\x00z\\x9e\\xf5n\\xb4\\xe9\\x0b\\x8f7\\x18\\x1e\\xdd+\\xec\\xe1\\xc5\\xc4x\\xc9\\xd8^<w\\xc5j\\xc3|jB\\x9e\\xc6\\x98`\\xff\\x00\"\\xd0\\xed\\x9ak\\xd4!A\\xc6jT\\x8e\\x0b\\x85\\x84\\xb6V\\x10\\x06\\xe1\\xdc\\x9ekV\\xb8&ql:*(5%\\xe9x\\x0ci\\xe6U\\xe0T@0i\\x1d\\xb0\\xbd\\xc7\\xadGu\\x14L\\x18\\xc7\\x84\\xa3\\xac<\\xb3\\xa9\\n\\xd8\\x03\\x18\\x15>\\xa3:\\xa3(8\\xad3\\xc5,\\xb9ut\\x90\\x01\\x8c\\xf4\\xcdx;\\x19\\x9f`\\xc0\\xa9os\\xb9\\x90f4\\x03$v\\xa9\\xb5]\\xe1v\\xb1\\x00\\x828^@\\xff\\x00\\xf4\\xd4\\x97~>\\x06\\xd2\\xa88\\xff\\x00\\x8b\\xde\\xa1h\\x9dv9\\xc4\\xc8\\x9f\\x8b\\xb9\\xaf\\xb5$\\xd0*\\xa0 \\xa0\\xc6=U\\x8e\\x0e>\\x9d\\xaa\\xde{{o\\xb4G2\\x9f\\x1d\\x1c:{\\xabyYG\\xb1\\x15uh$K\\x82T\\xe5\\xd0\\x95\\xc7N*Q\\xb5\\xd8\\x7f!\\xb6\\x11\\xbc\\x9bd\\x04\\x82\\xa7\\xa7\\xadXF\\xd6\\xa0\\x08\\x94(j\\x9e\\xe5\\x95\\xe5|\\xe4\\x06\\xc7\\xd4\\x8a7\\x9e?\\xef\\x8a\\x80\\xee\\xa3?\\xa5D6\\x8d\\xddA\\xeb\\x8a\\xba\\xbb\\xe1UW\\x0bFB\\xdf\\xba\\x07#\\xaeh]%\\xbb\\x17\\n\\x0b\\x11\\xd0\\x8a\\x91e\\xb9\\x867\\x16\\xe3\\xaf,\\x0es\\x8a\\xb3\\x96\\xde\\xd5\\x1c\\x98\\xc9\\x90\\x90B\\x9a\\x97S\\xb3\\x9d\\x08H\\x19_\\xd4\\x9a\\x068X:\\xbf#\\xdf\\xa8\\xf45\\x0c\\xf6{\\x98\\xb3nly}\\x005uyhg\\xb7D\\x8b(\\x9c\\x15\\x14\\xe5\\xdeT\\x95Kn|\\x96\\x07\\x8cb\\xad\\x9b\\xfd\\\\\\xb3\\x8214R!\\xf6\\xe8\\xe2\\xb5\\xfbyc0\\xcd\\x10\\x1e\\x1c\\x8b\\x95#\\xadG#Oc\\n\\x17<\\xf8\\x88\\xad\\x8e|\\xbej\\x98\\x11#\\x83\\xd7q\\xfeCd\\xaa\\xd7\\x11\\x86\\xe0RH\\xea\\xa4\\x9eB\\xa7\\xeb\\xcdN\\xf9b\\x0f\\x00\\xb1\\xab\\x89\\xa2\\x89\\x84P\\xc8X\\xaa\\x00H\\xe0g\\xd2\\x92\\xe3\\xf7j\\x14`\\xe3\\x9a\\xf1K1,Fpie(\\x02\\xa1\\xe4\\xf75\\x1c\\x173\\xc8\\xacT\\xed\\xce\\t\\x1c\\xe2\\xadm\\xadl\\xe2\\xc9\\x919\\xe4\\x02{\\xd6\\xa3u\\x01\\xe18n\\xc6\\x85\\xe0\\xc3\\r\\xa0\\xbe8\\xa4\\x93|\\x8c\\xfd\\xb1\\xde\\x82\\xc6\\x8f\\x92\\xe3\\x8c\\x12\\xa3\\xdf\\x9a9\\x92\\xedLJY[\\x18\\xa7}\\xf3\\x86T\\x03%T\\xa8\\xe4\\nY^\\xd1-\\xad\\xdc\\xaby]\\x80>\\x8cjk\\x95\\x9a4K\\x94\\x91\\xd1b(\\x85O\\xe15aq2\\xc1\"!\\x1b\\xad\\x9f\\xc4\\x19\\x1f\\xc2\\xdc\\x1a\\xbc \\xdc\\xcb\\x8f\\xeb?v\\x7f-\\x1f.\\xa0\\x93\\x80i\\xef\\x0b\\xa3\\xc6\\t\\xd9\\x8c&{w4\\xe4\\x97]\\xc6\\x89\\xf3\\x00(\\xcf\\x85\\xc7\\xb6*<0>\\xbd*\\x1f+\\x8c\\xa6v\\xf4\\xcdZCgy\\x024M\\xe0\\xceGf\\xab\\xb8\\x04@\\xf8\\xe3\\x9f\\xea\\x06\\xae\\xa3\\x8c>A\\x18\\xa9\\x18F\\xea\\xc3<\\x9a$\\xb8!\\x03psB\\x1b\\x80\\xa1\\xc9\\xefV\\x109\\x1b\\x8b}1H\\x88\\x8c\\x06z0\\'\\xde\\xb5;\\xc14\\xca\\xc1J\\xb0\\x18\\x18\\xe8\\x17\\xb5]K(\\xb2\\x8d\\xfa\"\\xc8\\xd8\\x04p3V\\xd7%\\xcb\\xf9\\xb0Jy\\xb3\\xddEJC;\\x11\\xdc\\x93\\xf7g\\xf2\\xcapE,\\xe5\\xe1\\t\\x81\\xe5\\xcf\\x9b\\xbf4\\xf9 \\x1a8n\\xfcb\\x96L\\x9e}1V\\xc88c\\xeb@#\\xed\\xca\\xe0g\\xad\\x06\\x93~cL\\x10x\"\\xa4\\x17\\x12)f\\x91\\x8bc\\xebR@\\xef\\xc3\\x93CKn\\x19\\xdb\\x8a\\xfb:\\xa27\\x18\\x14\\xb1<\\xdf\\xc3\\xe5\\xabX\\xcaB\\x00\\xed^\\x0b\\x94\\x03\\xb1\\x06\\xa7F&5\\'\\xa2`T\\xd6;\\xf4Y\\xf3\\xc3\\x0c\\xbf5n|\\xcd\\xec\\x98\\xa6\\xea~\\xec\\xfe^\\x1c\\x9c\\x81\\\\\\x01\\xcdv\"\\x94\\x11\\xc9\\xa8X\\xe4d\\xd4\\x1c(\\x1d\\xfa\\xd2`\\x0e)q\\xb6\\x9a5=\\xeb\\xec\\xe8E\\x18\\x97\\xa6\\xd1Q\\xa1\\x0c\\xe9\\xd3\\x8c\\xd4\\x0b\\xe4s\\xd85<\\xbeTU\\xa3\\x08y\\xa2\\x06\\xa6\\xb2\\x8eM>X\\xc7S\\x1b\\n>Ga\\xd0\\xe4\\x8a?v\\x7f/\\x0e\\x0b\\xe2\\x89\\xe8\\xbd\\x85\\x12\\xb4\\xec\\x06\\x05Y\\xa1y\\x05F0\\xb4\\x0f R\\xe7\\xd6\\x93&\\xbcDRFhH\\xa5\\x88\\xc8\\xa4\\xff\\x00nq\\x8c\\x11P\\xc8\\x17\\xc5C\\xdc\\x83RNA!j\\x19\\xa6Y\\x15\\xcfQI\\xac:\\xb2\\x07C\\xb7w&\\xb5\\x8d\\x9f\\xe9+\\xc6\\x8dp\\x86V+EN2>\\xec\\xfe]N\\x18b\\xa1\\xb0\\x9e\\xe2?\\x118\\x1e\\xa6\\xa5\\x82X[\\x0e\\xb8\\xa3\\xd6\\xb4\\xccf\\x97<\\x83@\\xed\\xea)y\\xa1\\x06\\xf1\\x85\\xc94\\xdau\\xc2!c\\x13`\\xf7\"\\xb7\\xa2\\x1c\\x16\\x03\\x15\\x11V\\xe7 \\xd5\\xfc\\x8f\\x0c\\xa0\\xaf\\xf1qQJ\\xbb\\xc0f*\\x83\\x92{\\xd0\\xf8\\xa7E\\xd3\\xd4Gk\\xa1\\xc9,\\xbd\\xdeg\\x0bW\\xbf\\x16\\xea\\x97\\x84\\xc4\\x90[@\\xa7\\xa2\\xa4c?\\xe6\\xd5~\\xf7ip\\xc9;y\\xba\\xf2=i\\xee\\xd2;Q\\x14v\\xea\\xb2>w\\xb9\\xe7?O\\xbb?\\x97\\x14\\x90\\x08\\xe0\\x86\\x11\\xd4\"\\x8f\\xd6\\xaf4\\xf7Q\\xbebYH\\xe2\\xa5L5X\\xc5\\xb8\\x9eHoQ[n\\xd3\\x95\"A\\xfeF\\xa1a4\\xd0D\\xd9\\x8d\\xa48%\\xf8\\x03\\xf5\\xab\\x8b\\xb5\\xb6\\x91\\xe2\\x89\\x92c\\xd9\\x87JSu*HE\\xc4\\x88H\\xf2\\xed8\\xa9\\x05\\xdc\\xb33\\xcd#\\xed#\\xf0\\xee8\\xe0{\\xd46\\xeb\\xf8\\x88\\xa8\\'-q\\x88F6\\x92\\x0f\\xa1\\xa94\\xbb\\xab\\xfbq\"G\\x92\\x802\\xe0u\"\\xa2\\x91\\x8b\\xb8u\\x01\\xb3\\xcf\\x18\\xe6\\x82\\xab\\x02I\\xe6\\x92\\x1d\\xd7Q\\x15N\\x8c+\\xe3=5Z;K\\xb8G-\\xe4j\\xb9l\\xc9\\xb7\\xfaF\\xdf\\xe4C\\xa8\\xa4o\\x18\\xdb\\xb7f\\x89\\x0f\\xf6\\xa9A\\x90xm\\x978?E\\xadJ\\xd8\\xc2\\xeaq\\xc6qV\\x03\\xbf\\xbdBA4\\xfed\\xe9QZ\\xab\\x12\\x00\\x01\\x85x*\\x84\\x86QR\\xc2\\x0b`P\\x85`@Z\\xa2\\x8dVR\\xc1@\\xc9\\xe2\\xb4\\x98s`\\x87\\x005|C\\xa5-\\xae\\xa6\\x93/\\x96\\x1b\\xae\\x0f\\xb4\\x82\\x93E\\x9d\\x8ec\\xdb \\xf6\"\\x8e\\x8f\\xf6u\\r%\\xb3>9\\xc1p\\xb5\\xad_\\x1b\\x9b\\x1f\\xb3\\xf8h\\x9e^\\x00\\xf6\\xa9AW`F\\x08?v\\x7f1\\xa1\\xdd,\\xd6\\xd1\\xa3\\x1f<\\r\\x8f\\xaa5DA\\x96@z\\xe2\\xb5\\xa8G\\xd9\\x98w\\xdc\\x1a\\xac\\x97#\\x15\\x1f\\x18\\xa8\\xdf\\xb62)\\xe3GQ\\x9e1\\xd0\\x8ax$\\x1d&\\'\\xebKo\\'yp>\\x95,Q\\xa2\\x16rY\\x97\\xd6\\xa3\\xdd#\\x03\\xefZn\\xa9<\\n\\xd1\\xb3p\\x05k\\x1a\\xac\\x17\\xd6R[:\\x95,F\\xc3\\xfd\\x0c:\\x1a\\x86\\xe2p\\xa2H\\xdd\\x94\\xf48=\\xc5>\\xa5tN\\x1d\\xcbT\\xf3\\xf8\\xf2*\\x92\\x7f\\t\\x02\\xb5\\x98\\x13\\xf7SD\\xbf\\x88\\x12\\xff\\x00Q\\xc5\\x1f\\xba?\\x98\\xb1\\xba6\\x97\\t\\'l\\xe1\\x87\\xa8\\xa1\\xb4\\x98\\x9f\\xaa\\x900\\xc3\\xd0\\xd5\\xfc\\x03k\\xe1\\xc9\\x07\\xb1\\xabp\\x15\\x88\\x14\\xa7\\x91I\\xc1\\xe3\\xb8\\xac\\xf1Y\\xae\\x005\\'\\xef\\x03\\xfb\\x8aW(\\xa1\"U.{\\x9a\\xcc\\x91(b\\xd9j\\x9a\\xf4\\xc9)-\\xc68\\x0b\\xeb\\x9a\\xb1\\xc2DP\\x9c\\x9d\\xc5\\x8f\\xeaju\\xc1\\xc8\\xa8\\x882\\x00}\\xf2}\\x05j{\\xb3\\xb8\\x15\\xc1L0\\xfb\\xb3\\xd3\\xf3:\\r\\xe8\\x9e\\xdb\\xec\\xf2\\x1f<_\\x84\\xfb\\x1a\\xb8\\\\\\xa3\\xbfQ\\xb4\\xd4g\\x1c\\x0fZ\\x0c\\xb8\\xa8\\x98\\x1a\\x1e\\xf5\\xbb4\\xe4\\xed4\\xf2\\x05S\\xcf\\x15$\\xac3\\xb4\\xf3Bg\\x0c71\"\\xa7@\\xef\\x91\\xd6\\x90\\xc8\\x84m\\'4\\xb7\\x0c\\xeb\\xe6\\xa8\\xca\\x86\\xc9l\\n\\xd4\\xae\\n\\xb6\\xc3\\xe6\\x0e\\x98(\\x7f\\x87\\xd0\\x8f\\xe4\\x90\\xcf%\\xbc\\x8b$lC\\n\\x1a\\xc5\\xcd\\xc6\"r\\x15X\\xf9\\x88\\xefHB\\x12*2B\\xfbR\\xb9R=\\xe9\\\\\\x15\\x19<\\xd2\\xf2j{\\x962lS\\xf5\\xa2\\xae\\xcd\\xb4\\xf7\\xa6\\x8db+\\x91\\x96\\xe9\\x8a\\x10\\xa9`\\x8c\\x87$dS\\xaa\\xaba\\x97\\x19=\\xeb\\x80x\"\\x95O\\x89\\xceB\\x9e\\xb5$H\\x14\\xbe\\x0e\\xd22*\\xf65S\\xe6bx\\x1b[\\xd7\\xee\\xfb\\x0f\\xcd\\x03\\x82(\\x96\\xd8\\x8f\\xdd\\x96\\xad\\xa5\\xc8\\t\\x9a\\x19\\x1e\\xfc\\xd6\\xfc\\x1f\\xd6\\x84\\xcd\\x9f)\\xc9\\xa1\\x93;\\xe7\\xae\\xea\\x9a\\'\\xe1\\x80\\xc7\\x15\\x18\\x02e\\x92]\\xc4/LP\\xbd\\xb4\\xc2\\xb9,X!\\xebM\\x14\\xd7\\xdb\\x8d\\xb5\\xab\\xbf\\x03\\x9d\\xbd\\xd4f\\xa7\\xd35\\x0bo<\\x96\\x92\\xa8<\\xe7m3\\xf8l\\xa4\\xe7\\xad]\\xcaY\\x0b+v\\xc0\\xf7\\xab\\x99\\x0b\\x04B?\\x0f\\xdd\\xf6\\xfc\\xdd\\xa8\\x12\\xd8\\xafr\\xb5\\x1b\\x18\\x9a\\x96]\\xf8\\x1e\\xbf\\xf3\\xac\\xe4\\x10;\\x81L\\xc10}\\xb9\\xc5#)\\x90\\x1fS\\x9aS\\x94\\x14p9<V\\x95\\xa1\\xc1\"\\xc5up\\x99/\\xca\\'\\xd0\\xf5?C\\xd4T\\x11\\x88Q#\\x85\\x11F\\xd0\\x0e\\x07J\\xf1\\'\\x89Ih\\xf7\\xa6y\\xe38\\x15\\xf1?\\xc3\\xb6\\x9a\\x95\\xb4\\xf7\\xdaf\\x05\\xd4J^H\\x93\\x9d\\xe2\\x9a]\\xd1\\x92H\\xff\\x00\\xbd+B\\xee\\xde1`6\\x9c\\x15\\xe7\\x9e\\xd4~\\xeb\\xb7\\xe6\\xf4v\\x05dCW\\x16\\xe0\\xa9 t\\xa5\\x95\\x90\\x01\\xde\\xa3\\x97\\x86\\xcdIr\\xcb\\x95\\x15\\x01\\x03\\x0cOJI\\x94c$r)DR:\\x87\\xc1RT\\x10N\\x01\\xfa\\xfa\\n\\x97\\xe2\\x0bK9\\xfc\\xe1\\x88@\\x02\\xa9\\xc3>@\\xc0\\x0cG\\r\\xec\\xfd\\xc5\\'\\xc50\\x0c9R=\\x85K\\xf1&\\xafx\\x8e\\xb18\\xb6\\x8f8i\\x02d\\xaf\\xb0\\xcfW44\\xa7\\xb8\\x98\\xb4\\x97\\xed\\xe2\\x92\\xa5Hm\\x98\\xcfE$z\\x8f\\xf25\\xaf\\xda\\xa6\\x9dwqk\\xe1H\\xbb[\\x80\\xfdG\\xdev\\xfc\\xde\\x93&\\xdb\\xb5^\\xce1M\\x1f\\xa8\\xedWQ\\xe1\\xd4\\xaf\\xad4\\x9c\\xfa\\x1c\\xd4\\x87\\xcd\\x9c\\x9c\\xe7&\\xbcg\\x1fJY\\xb0\\xa0\\x1esFu*ppG\\xf7\\xaf\\xb3<qEw!,Xa1\\xd8{\\x7f\\xd4R\\xce]\\xf9\\xcb0=\\xb6\\xd3\\xc7\\xaa\\x18\\x92\\xeeE\\x7f\\x01\\x00\\x08G\\x1f\\xaav\\x04\\xf5\\x07\\xd6\\x9fZ\\x929\\x18fN\\xb2\\x0c6pK\\xf2\\xd9\\x1e\\x8d\\xdf\\xde\\xaf~\\x1f\\xbe\\xf8\\x9e\\xc6\\xc6\\xfdn\\xb3s\\xe0\\x84)\\'e^\\x80\\x9a\\xbf\\xf87^\\xb1Wv\\xb5.\\x8b\\xc9)\\xe6\\xa6FC\\x820~\\xeb\\xb7\\xe6\\xf4\\x88\\x0c\\xd7\\xb1\\xfa.X\\xd6\\xda\\xba\\x87s\\x83\\x8e\\x05Mo\\xb0\\x92*E4\\xa0\\x9eq\\x9a\\xdcG$\\xfd\\x05o8\\'\\xd6\\xac\\xee\\xd5\\xedM\\xac\\xeep\\x0f\\xee\\x89\\xe8\\xbe\\xa2\\x9a\\xf0i\\x93\\xe4\\xc5\\xbd\\x81\\xf2\\xd4\\x7f\\x1bj9\\x8b\\x16V\\xa0\"\\xe4\\x19\\x81\\x90\\xb5jZ\\xb9\\xd5\\xefV}A\\x15c)\\x82\\xb0(\\\\W\\xc3q\\xcf\\x15\\x94\\x04\\xc8e\\x82X\\xd5\\xe0s\\xd7o\\xa1\\xf7\\x15j\\x98Rq\\xd6\\xb5_\\x834]]\\x9d\\xda\\x13\\x0c\\xad\\xfcq\\xd6\\xbf\\xfe\\x1f\\xdf\\xe9\\xa1\\xa6\\xb4cs\\x00\\x1d\\x87\\x9e\\xa4\\x8aH\\x9bk\\xa3)\\x1d\\x88\\xc1\\xfb\\x8e\\xdf\\x99Dy\\x18*)c\\xedV\\x1f\\nj\\x97\\x8f\\x1f\\x89\\x17\\x83\\x19\\xea\\xcfKgmi\\x19\\x86\\xde<*\\x1cn?\\x89\\x8f\\xa9\\xacv5\"\\x8c\\x8e>\\xb4\\xf1\\x0c\\x9e\\x01\\xcdM\\x1a?A\\x8cQ\\x85\\xd7$\\n\\xf0\\xb7`\\xfaRF\\xbd\\xfaW\\x93\\xa7j\\xbcy\\\\\\xa3\\xb7E\\x1bE\\x17fl\\xb1\\xcd\\x02\\x1d\\x00\\xaf\\x83>%\\xb4\\xb7\\x82\\r\"\\xf0\\xba\\x9f\\x1c\\xf8\\x12v\\x01\\xfb\\x1a^\\x00\\x14\\xbf-O\\xe1\\xed#VL]Z!?\\xd68aZ\\xbf\\xf8b\\xe8\\x19\\xf4\\xdb\\x90\\xff\\x00\\xfbOZ\\x8e\\x89\\xa9in\\x16\\xee\\xd6H\\xfd\\xc8\\xe2\\x88?\\xb3\\xdb\\xf3\\x10[\\xcds*\\xc7\\x0cl\\xeeO\\x01E|1\\xf0\\xf2\\xe9q\\x19\\xae\\x11Z\\xe9\\xff\\x00P\\x82\\x82c\\x9a\\xd4\\xed\\x8c\\x12\\xb3\\x8c\\xecn~\\x84\\xd3\\x0ex\\xa6L\\xe4\\x91^\\x10$\\x92\\x0f\\x15,\\x08_\\xd8\\xd1\\xb79`\\xbd\\x05x!\\x81\\x1bA4\\xf6\\x0e\\xc0\\xb05\\x16\\x9a\\xcd\\xf8\\xaa\\xfbN\\xcd\\xab\\x05\\xe4\\x81\\x9a\\xc6\\x0e+\\xe0M#C\\xd4t\\xd9\\xee.-D\\xd70\\xccU\\x83S\\xe8\\x9a\\\\\\x88V=*\\xdd\\x94~\\x16\\tV\\xe4\\x94PA\\x04\\x0c\\x10z\\xfc\\x87\\xce{h.ch\\xe7\\x89$C\\xd48\\xc8\\xadc\\xfc:\\xd2\\xefw\\xc9d\\xc6\\xda_\\xf3J\\xd5~\\x0f\\xd6\\xf4\\x92L\\x96\\xad$\\x7f\\xd6\\x9c\\x8ah\\x9d2\\x19H\\xfa\\x8a\\xed\\xf2\\xed\\xf9}\\x1f\\xe1\\x9b\\xfdW\\x0f\\xb0\\xc5\\x07\\xfe\\xab\\xd6\\x95\\xa1\\xd8\\xe91\\xed\\x81r\\xff\\x00\\xc5#~#K\\xc5\\x10\\x00\\xa9cIT\\xc7 \\x05H\\xab\\xad&h\\tx\\xff\\x00x\\x9f\\xdcQ\\xec\\x0f\\x14E\\x18\\xc3\\x8e\\x834\"\\xf6\\xa3\\x12\\xf4\\xdb\\xc9\\xa3\\x12\\x82\\x06\\xda!\\x00\\'\\x14wHv\\xaa\\x96>\\x95\\xab\\xd8\\xc9\\xa7\\xde\\xbcN\\xa5s\\xe6\\\\\\xfa\\x1a\\xd1\\xbe \\xd4\\xf4/\\xb4}\\x82`\\x86e\\x01\\xf2\\xb9\\xe9S|E\\xae\\\\\\xb6f\\xd5.O\\xd1\\xf1\\xfd\\x85\\x7f\\x87\\x9a\\xcc\\xf7K\\x7feur\\xf2\\xc9\\x19I#.rv\\xd0\\xe4\\xe6\\x97\\xf6J\\x83S\\xe9Zm\\xc0\"k(\\x1f>\\xa8+S\\xf8\\x07B\\xbeRa\\x88\\xdbI\\xea\\x95\\xae\\xfc\\x11\\xabh\\xfb\\xa4\\t\\xe3\\xc1\\xfdiL1\\xc1\\x1f\\x95\\xd3t\\x9b\\xfdZe\\x86\\xce\\x06\\x91\\x8f~\\xc3\\xeakH\\xf8\\x16\\xc7K\\x0b>\\xa4\\xc2\\xe2~\\xd1\\xff\\x00\\x02\\xd3\\x1d\\xe0p\\x02\\x8e\\x02\\x8e\\x00\\x15\\x8a\\xc5)\\xf5\\xa6\\x14r*kky\\x8f\\xef!\\x19\\xf5\\x1c\\x1a\\x93E\\x8d\\x8eb\\x98\\x8ff\\xaf\\xf4=\\xc0<2\\x1a\\x1a]\\xd8<\\x04\\xff\\x00:\\x1ae\\xe1?\\xc0?Z]\"R\\x0e\\xe9T}9\\xa1\\xa4\\xdb\\x8e\\\\\\xb3\\x7faQ\\xc3\\x0c<G\\x1a\\xaf\\xb8\\x1c\\xd7\\xc6\\xb6\\x1e5\\xa47\\x8a\\xbc\\xc2v?\\xd0\\xd0\\xa1\\xe6\\xaf\\x84\\xef\\xa0\\xd3\\xb5\\x1b{\\xc7\\x99\\x90\\x86\\x118\\xc6U\\xe3~\\x0eM\\x02=h0\\xf5\\xfb\\x86\\x00\\x82\\x08\\xc8=\\xab\\xe2\\x8f\\x81-\\xef\\xd5\\xee\\xb4\\xd4\\x11]u(8W\\xa9\\xad\\xe5\\x82W\\x8aT(\\xe8\\xc42\\xb7\\x04\\x11\\xf9\\x00+\\x15e\\xa6^\\xea\\x12\\x88\\xedm\\xa4\\x95\\xbf\\xdd\\x15\\xa1\\x7f\\x86\\xbc\\xac\\xfa\\xbb\\xff\\x00\\xf0\\xa5$\\x16:T\\x1e\\r\\x9c\\t\\x12\\x0e\\xca*Gi\\x18\\xb3\\x1a\\x02\\xbd>F\\xb7\\x10h\\xb2\\xe7\\x06\\x8a\\x9a\\xda}(\\x1a\\xcd\\n\\xfdM\\x123\\x91F\\xb5\\x19,\\xcc\\x13\\xdb\\xdcH\\x14J\\x85q\\xd4\\x8a\\x95\\x0cn\\xe9\\xe8H\\xff\\x00*\\xd34\\xeb\\xadN\\xe9-\\xad\\xa3\\xdc\\xed\\xfeJ=Mh\\x7f\\x05\\xe9zz\\t.\\xb1s?\\xbf\\xe0\\x15%\\xd4P/.\\xa0\\x0e:\\xd5\\xdf\\xc4\\x10\\xc4\\x0f\\x86\\xdb\\xcdi\\x1a\\x8a\\xeaZu\\xbd\\xc8\\xea\\xc0\\x86\\xfa\\xaf\\x06\\xb7V~y\\xa2h\\x9aj\\xd5>\\x15\\xd1\\xf5[\\xb3uq\\x11\\x12\\x95\\x01\\xb6\\xfeB\\xca\\xc6\\xea\\xfet\\x82\\xda\\x16\\x92F<(\\x15\\xa1\\xff\\x00\\x86\\xf0\"\\xa4\\xda\\xab\\x97~\\xbe\\n\\xd5\\xad\\x95\\xa5\\x8cb;h\\x12%\\x1d\\x94b\\xa6\\x94\"\\x9a\\xb8\\x94\\xbbW\\x7f\\xd8?#X=\\x98\\xd6\\xf7\\x14[wj\\xfd\\r\\x0f\\x91\\x03\\x1c\\x9a\\xca\\xd4\\xa1\\xa4,\\\\\\xe5\\xb7\\x1c\\xd5\\xee\\x9b4\\xfa\\x94P\\xdb\\xa6^s\\x84\\x15c\\xa4G\\xf0\\xd6\\x9eB\\x01$\\xcd\\x8f\\x1aN\\xff\\x00A\\xedK\\xa8\\xdc\\xb6#\\x8fpf\\xe0(\\xeaj\\x1d-&U7\\xb3;9\\x1d\\x01\\xe0U\\xe7\\xc3\\x8e\\x19\\x85\\xbd\\xd2\\xb7\\xfb\\xaf\\xc5|$\\x976f\\xf6\\xc6t*C,\\xa9\\xfa\\xf0q\\xf2_\\xd84O\\x98\\n\\xb8m\\xaa\\x9e\\xec\\x05d}\\xfe\\x81\\xf0\\xf5\\xee\\xbdt\\xb1@\\xa4 >y\\x0fE\\xad\\x0f\\xe1\\xed;B\\x80%\\xac`\\xc8G\\x9eS\\xd5\\xbeL@\\x06\\xae\\xe5\\xe0\\xd1\\xe6\\xbb\\xd0\\xf9\\x93\\xc5sF\\x85\\x03EE\\x10A\\xeb[\\xb9\\xc14O\\xbd\\x12=(\\xf3Z\\x8c&9\\xd6p<\\xb2p\\xff\\x00\\xf1\\x0e\\xff\\x00\\xad$\\xc2\\xc6\\xea\\x0b\\xd0\\x99\\xf0\\xf2\\x0f\\x1c\\xeda\\x83M|\\x9a\\x90\\x8d-\\xe5Y$\\x93\\xa2\\x83\\x9c\\x0fz\\xb1\\xb1\\xb6\\xb0\\\\\\xb1\\r/w\\xff\\x00\\xa0\\xadB\\xe8\\xabb9)\\xc6\\xac\\x1d]c\\x98\\xf7\\xe5MZkwv\\x93\\xc6\\xb7\\t\\xb5\\x89\\xc75ou\\x14\\xe8\\x088\\'\\xb5)\\x1f\\xb0i|\\xcej\\xf9\\xb0\\xb0\\x0fY\\x96\\xb9=>\\xfb\\xe1\\xed\\x02\\xeb_\\xbdX!\\x18A\\xcc\\x92vQZV\\x97g\\xa3\\xd9\\xc7ki\\x18TQ\\xc9\\xee\\xc7\\xd4\\xfc\\xb3S6\\x01\\xab\\x82Y\\xbe]\\xfa~\\xc1=\\xbeDV\\xda\\xc7\\xc8\\x8c\\xd1^\\xf9\\xac\\xfc\\x85O\\n\\xcf\\x0c\\x911\\xfcC\\x83\\xe8GCD\\xb3##!\\xde\\tV\\x1e\\xfd\\x08\\xad\\x0bL\\xb5\\xd1\\xed\\x9eA\\xb5\\xae\\xa6\\xcb1\\xf4^\\xca*{\\xb9\\x1c\\x85L\\x96c\\x80\\x07SPZ\\xa5\\x8a\\x0b\\x8b\\x92\\x0c\\xbd\\x87P\\xb5?\\xc4\\x1b8\\nv\\xe7\\xad\\rV\\x1b\\x88\\xce\\xef\\r\\xf2\\xa7\\x87\\xad2\\xf5\\xael\\x0f\\x84?}\\x11*\\xc3\\xd4\\xadh\\xd7\\xc6\\xfe\\xd0\\x96\\xfch\\xe5\\x1e\\x83V~Np\\xa4\\xd5\\xb7\\x9b&\\xb5\\'\\xc4\\x96)\\xeb8\\xfe\\xd5\\xbc\\x02~\\xf6(\\x9eYR4\\x1b\\x99\\x98*\\x81\\xdc\\x9a\\xf8_C\\x8bA\\xd3R\\x0e\\x0c\\xef\\xe7\\x99\\xbdZ\\xb3\\xf25;`T\\xc7&\\xb1D|\\xb0\\x7f`\\xd1\\xacc\\xe7\\x8a`\\x05\\x1e\\xb9\\xac\\xd18\\xadB-\\x97\\x02U\\xff\\x00\\xcc\\x04\\x9f\\xf8\\x96\\xa2\\xbap\\xf9v=MX\\xce\\x88\\x9e9\\\\\\xbbt\\'\\xb0\\xab\\xab\\xe2\\xe8A<{\\xd2\\xdb\\xde\\xea\\x19\\x16p<\\x8a\\xbd[\\xa0\\xa6\\xd35A\\xc1\\xb1\\x97\\x8e\\xb8\\x00\\xd6\\x92\\xfa\\x9cS\\xb4\\x9fgs\\xbd\\xf9\\n\\x98\\xc68\\xab;\\xb1\\x0c\\xa8\\xae\\x81<V\\x00\\xfa\\xee\\xed\\xf2S\\x91\\xf2\\x94\\xf9\\x1b\\xe9V\\xe3\\x0bZ\\x93\\xe7R\\xb1\\x8f\\xfar\\xc6\\x8eO\\xde\\xfc\\x0b\\x04S|Ejd@\\xdb\\x03\\xba\\xfdTP\\xa8\\xd8\\xe7\\xe4j\\xe4\\x9c\\xd4\\x87\\xcck4>@\\xe7\\xe4hQ\\xf9\\x0e\\xb4O\\xc8w\\xfaQ\\xedG\\xd6\\xb3\\xcf\\xcbQ\\xff\\x00\\xc2\\xe7\\xb8o\\xf9\\x8cQ\\x03\\t\\xf5\\xa2p\\x14\\x0e\\x06\\x05\"-\\xcd\\xeaE/\\x993\\x92\\xb5}#\\xda!H\\x0f\\x86\\xaa\\x06\\x00\\xab+\\xdb\\x97R\\x0c\\xa4\\xd5\\x9d\\xc4\\xcf\\xcb?&\\xae\\x14\\x11\\x13wY\\xe2#\\xff\\x00\\xb0\\xf9)\\xc3Wz\\x97\\xf0\\x1a\\x83\\xfd\\x98\\xfa\\xd4\\x84\\xbe\\xb7&\\xe3\\xd2>>_\\xff\\xc4\\x00,\\x11\\x00\\x02\\x02\\x01\\x03\\x02\\x05\\x03\\x04\\x03\\x00\\x00\\x00\\x00\\x00\\x00\\x01\\x02\\x00\\x11\\x03\\x12!1\\x10@\\x04\\x132AQ\"0a\\x14 \\x81\\x91#bq\\xff\\xda\\x00\\x08\\x01\\x02\\x01\\x01?\\x00\\xfb~+\\xc4*\\r\\x03\\x98\\xd6\\xc6\\xe6\\xe4\\x93\\x0c\\xbd\\xf63Y\\x1c\\xccy\\xdd\\x18SL\\x19\\xce]\\x88\\xdf\\xb3\\xf1$\\x1c\\x84\\x8eL\\n\\xc4\\xc6B*Q\\x83\\x1a\\xe9\\xd4H\\x9c\\x99D0\\x9e\\x19\\xe9\\x87e\\xe22iB\\xa3\\x93<\\x92i\\x8c\\x18\\xc7\\xb48a\\xc6\\x00;A\\x8e\\x04\\xad\\xb4\\xcc\\x89[\\xc4\\x04i``\\xe0v9\\xd3S,\\x18\\xc5T\\xd0\\x04\\xcb\\x93DO\\xa9\\xac\\xc1\\x8cTd\\xa8\\xe8I\\xa9\\x8f\\x17\\xd1\\xfc\\xc5\\x14\\x00\\xfcv$t1\\x96\\xcc\\x08:\\x11\\xb4k\\x17<\\x1bj\\x19\\x07\\xc1\\xec\\x8f\\x10\\x11\\x1b\\x88`\\xdaX\\xe8\\xea\\xdc\\x05\\xb9\\xe1\\xd0\\xe3s~\\xf0\\x12{!a\\x8c\\xbb\\x1d\\x03NfV*\\x05O;\\xe9\\x11\\xb2^Te\\xbe\\xcd\\xc5\\x1b\\x9a\\xb6\\xea#(nb\\xe3U\\x062(\\x16&\\x1b\\xd0;&]Bi\\xaeet\\x1d\\t\\x84\\xedS\\x18\\xa5\\x1d\\x9eN\\x01\\x84ug\\n\\'\\x9c\\xdf\\x10}tj\\x01@vn-LSp\\x08TA\\x88?3\\xc8J\\xa0\\x04\\xc8q\\xe1\\xd0\\xcc\\xc0\\x02b\\xe4G\\xddX\\x11\\xd9\\xe5\\xc8\\x15\\x7f\\xecS\\x01\\x97\\x03\\xe93U\\x82g\\x89\\xc5\\xe6b\\xa0x71\\xa8\\x00\\x0f\\x7f\\x91\\x03\\xba\\xff\\x00\\xb0\\x8b\\x95[c\\xb1\\xf8?|\\x909\\x9a\\x8b\\x1f\\xc4|Z\\xc6\\xd3I^\\x96e\\xb4\\xc2O\\x0660nV\\x93Pq\\x08\\x04o\\x06\\xb5\\xf4\\x9f\\xef\\x882\\xb0\\xf5 \\x8a\\xea\\xe3o\\xb4HQ\\xbc9o\\xd3\\xfd\\xc0/s\\x00\\x82iS\\xcc8P\\xcf\\xd3\\xac\\x18PM \\x08\\xc4\\x00I\\x8d\\x90\\x16\\'\\xda#\\x83,\\x1e\\xa4Q\\xb5\\x9e\\x7f\\xc8\\xfb\\x0f\\x92\\xac.\\xe6~N\\xe6*\\xfb\\xca\\x95\\x07@z\\xe6R@31g\\xfaI\\xa5\\x9b\\x13K\\x0b\\x14nlD`\\xc4\\x10z\\x9e%~\\xfc\\xaeTP\\xe4\\xc1\\xb4\\xa8\\x06\\xd2\\xa5A\\xd4\\x1e\\x84X\\x99\\x90\\x9d\\xae\\xa1R\\xd4\\x00\\xa0#\\xe1\\xc4G\\xaa\\xa2\\xff\\x00\\x89\\xea\\xf6\\xb8\\xad\\xd3\\xd8J\\xfd\\xc2d\\xf5\\xf4\\x1c\\x8f\\xb0:f\\xf5\\x7f\\x11x1\\xfd1\\xb9\\xfeD_WO\\x8e\\x9f\\xff\\xc4\\x00(\\x11\\x00\\x02\\x02\\x01\\x03\\x04\\x02\\x02\\x02\\x03\\x00\\x00\\x00\\x00\\x00\\x00\\x00\\x01\\x02\\x11\\x03\\x12!1\\x10\\x13@A0Q\\x04\"2Baq\\x81\\xff\\xda\\x00\\x08\\x01\\x03\\x01\\x01?\\x00\\xf8\\xf0\\xe1\\x94\\x9a\\x93\\xe0\\x8a\\xa2\\x92HQF\\x88\\x9a\\t\\xe1\\x8c\\x91\\x93\\x1e\\x8f\\x0f\\nzQi\\nH\\xb2SwG\\xa2\\xed\\x19\\xa3k\\xc2\\xc5\\x1b\\x92gq+Hr~\\xce\\xe0\\xa6\\xdb5}\\x0eM\\xfb\"\\xec\\x93N\\xe2\\xc7\\xcb\\xf0q\\xca\\x8dF\\xb3\\x1c5\\x12\\xd9\\x1a\\x88\\xbb|\\x11\\xfdQ9T\\x89r\\xfc\\x14\\xfa\"\\x0ba\\xab\\x14\\x08\\xaae&~\\\\t\\xe8\\x7f\\xe3\\xc3qh\\x8f\",\\xb1\\xca\\x91\\xdc\\xa3<\\xdc\\xe0\\x87\\xe18\\xdcW\\xfa4\\xd4\\x8a\\xd8\\xe7\\x91F\\x8cpM=Gi\\xdbH\\xedV9)!\\xf8X\\xa7q\\xa1\\xaf\\xd8E#H\\xa4\\xe0K+\\x93\\xb49\\xc9\\xec\\xd9\\x93\\xf9?\\x0b\\x1c\\xb4J\\xcdj\\\\\\t\\x89\\x8eC\\xb6WL\\x9b\\xc9\\xf8x\\xf9hL\\xb2;\\x92\\x82\\xfb-$)\\x92v\\xdf\\x87\\x07RD\\x95\\x1a\\x99\\x0c\\x86\\\\\\x95D\\xb2K\\x9b1\\xa9d\\xba^\\x86\\x9a\\xe5xx\\xe0\\xe4\\xc6\\x87\\x12\\x87\\rH\\xaat`\\xc9\\xa2fG\\xa9\\xb6QO\\xe7J\\xd8\\x95\\x10\\xc9\\xa1\\xee)\\xa9\\x15f\\x94iFd\\xadP\\x9dQ\\xc8\\xf9,\\xd9\\x94?\\x8dE\\xb3d\\xa9\\r\\x8c\\xb9\\'\\xb3\\x16i\\xafg~c\\xcd7\\xecZ\\x9b\\xfb\\x14[i\\x0b\\x0c\\x9d#.\\x17\\neu\\xa3G\\xc0\\x95\\x89\\r\\xd1}\\x18\\xd0\\xd7_\\xc5\\x92Si\\xfb1\\xc2\\x10\\x93~\\xcf\\xbd\\xda%\\x8dJ\\x0e\\x9e\\xe4\\xe2\\xe3\\xb3U\\xf1\\xc5_N\\x10\\xdfK\\x1fV\\xba&\\xe2\\xec\\xc3\\x914\\xa4\\xf7\\x13\\xf6\\xd8\\xb2=\\xff\\x00S\"\\xeeb\\xba\\xdd\\rt\\xf7\\xf0@c\\xe3\\xe0c0\\x7f\\x0f\\xfa{#\\xc2?\\xa4\\x87\\xc7O}?\\xff\\xd9'\n"
     ]
    }
   ],
   "source": [
    "with open(\"c:\\\\Users\\\\chandra\\\\Downloads\\\\th.jfif\", \"rb\") as f:\n",
    "    print(f)\n",
    "    contents = f.read()\n",
    "\n",
    "print(contents)"
   ]
  },
  {
   "cell_type": "code",
   "execution_count": 101,
   "metadata": {},
   "outputs": [
    {
     "name": "stdout",
     "output_type": "stream",
     "text": [
      "<_io.BufferedReader name='b.txt'>\n",
      "b'this is line 1\\r\\nthis is line 2\\r\\nthis is yet another line\\r\\nthis is another boring line\\r\\nthis is the last line'\n",
      "<class 'bytes'>\n",
      "this is line 1\n",
      "this is line 2\n",
      "this is yet another line\n",
      "this is another boring line\n",
      "this is the last line\n"
     ]
    }
   ],
   "source": [
    "with open(\"b.txt\", \"rb\") as t:\n",
    "    print(t)\n",
    "    data = t.read()\n",
    "\n",
    "print(data)\n",
    "print(type(data))\n",
    "\n",
    "#lines = data.decode(\"utf8\")\n",
    "lines = str(data, \"utf8\")\n",
    "print(lines)"
   ]
  },
  {
   "cell_type": "markdown",
   "metadata": {},
   "source": [
    "#### String operations\n",
    " - Common sequence operations"
   ]
  },
  {
   "cell_type": "code",
   "execution_count": 109,
   "metadata": {},
   "outputs": [
    {
     "name": "stdout",
     "output_type": "stream",
     "text": [
      "HelloWorld\n",
      "HelloHelloHelloHelloHello\n",
      "Hello\n",
      "H o l\n"
     ]
    },
    {
     "ename": "IndexError",
     "evalue": "string index out of range",
     "output_type": "error",
     "traceback": [
      "\u001b[1;31m---------------------------------------------------------------------------\u001b[0m",
      "\u001b[1;31mIndexError\u001b[0m                                Traceback (most recent call last)",
      "Cell \u001b[1;32mIn[109], line 15\u001b[0m\n\u001b[0;32m     12\u001b[0m \u001b[38;5;28mprint\u001b[39m(a)\n\u001b[0;32m     13\u001b[0m \u001b[38;5;28mprint\u001b[39m(a[\u001b[38;5;241m0\u001b[39m], a[\u001b[38;5;241m-\u001b[39m\u001b[38;5;241m1\u001b[39m], a[\u001b[38;5;241m-\u001b[39m\u001b[38;5;241m2\u001b[39m])\n\u001b[1;32m---> 15\u001b[0m \u001b[38;5;28mprint\u001b[39m(a[\u001b[38;5;241m10\u001b[39m])\n",
      "\u001b[1;31mIndexError\u001b[0m: string index out of range"
     ]
    }
   ],
   "source": [
    "# Concatenation\n",
    "a = \"Hello\"\n",
    "b = \"World\"\n",
    "c = a + b\n",
    "print(c)\n",
    "\n",
    "# Repetition\n",
    "c = a * 5\n",
    "print(c)\n",
    "\n",
    "# Subscript indexing\n",
    "print(a)\n",
    "print(a[0], a[-1], a[-2])\n",
    "\n",
    "print(a[10])\n"
   ]
  },
  {
   "cell_type": "code",
   "execution_count": 118,
   "metadata": {},
   "outputs": [
    {
     "name": "stdout",
     "output_type": "stream",
     "text": [
      "this is a test string\n",
      "test\n",
      "this\n",
      "\n",
      "this is a test st\n",
      "ring\n",
      "is a test string\n",
      "this is a test \n"
     ]
    }
   ],
   "source": [
    "a = \"this is a test string\"\n",
    "print(a)\n",
    "print(a[10:14]) # Slicing\n",
    "print(a[:4]) # First 4 items of a sequence\n",
    "print(a[-1:4])\n",
    "print(a[:-4])\n",
    "print(a[-4:]) # Last 4 items of a sequence\n",
    "print(a[5:]) # Extract by skipping the first 5 items\n",
    "print(a[:-6]) # Extract by skipping the last 6 items"
   ]
  },
  {
   "cell_type": "code",
   "execution_count": 133,
   "metadata": {},
   "outputs": [
    {
     "name": "stdout",
     "output_type": "stream",
     "text": [
      "AaBbCcDdEeFfGg\n",
      "BbCcDd\n",
      "BCD\n",
      "ABCDEFG abcdefg\n",
      "gGfFeEdDcCbBaA\n"
     ]
    }
   ],
   "source": [
    "a = \"AaBbCcDdEeFfGg\"\n",
    "print(a)\n",
    "print(a[2:8])\n",
    "print(a[2:8:2])\n",
    "print(a[::2], a[1::2])\n",
    "print(a[::-1])"
   ]
  },
  {
   "cell_type": "code",
   "execution_count": 130,
   "metadata": {},
   "outputs": [
    {
     "name": "stdout",
     "output_type": "stream",
     "text": [
      "(0, 1, 2, 3, 4, 5, 6, 7, 8, 9, 10, 11, 12, 13, 14, 15, 16)\n",
      "(2, 5, 8)\n",
      "(0, 2, 4, 6, 8, 10, 12, 14, 16) (1, 3, 5, 7, 9, 11, 13, 15)\n",
      "(0, 3, 6, 9, 12, 15) (0, 4, 8, 12, 16)\n"
     ]
    }
   ],
   "source": [
    "t = 0, 1, 2, 3, 4, 5, 6, 7, 8, 9, 10, 11, 12, 13, 14, 15, 16\n",
    "print(t)\n",
    "print(t[2:10:3])\n",
    "print(t[::2], t[1::2])\n",
    "print(t[::3], t[::4])"
   ]
  },
  {
   "cell_type": "code",
   "execution_count": 144,
   "metadata": {},
   "outputs": [
    {
     "name": "stdout",
     "output_type": "stream",
     "text": [
      "(0, 1, 2, 3, 4, 5, 6, 7, 8, 9, 10, 11, 12, 13, 14, 15, 16)\n",
      "(16, 15, 14, 13, 12, 11, 10, 9, 8, 7, 6, 5, 4, 3, 2, 1, 0)\n",
      "(6, 5, 4, 3)\n"
     ]
    }
   ],
   "source": [
    "t = 0, 1, 2, 3, 4, 5, 6, 7, 8, 9, 10, 11, 12, 13, 14, 15, 16\n",
    "print(t)\n",
    "print(t[::-1])\n",
    "print(t[6:2:-1])"
   ]
  },
  {
   "cell_type": "code",
   "execution_count": 135,
   "metadata": {},
   "outputs": [
    {
     "name": "stdout",
     "output_type": "stream",
     "text": [
      "hello world\n",
      "dlrow olleh\n"
     ]
    }
   ],
   "source": [
    "a = \"hello world\"\n",
    "print(a)\n",
    "b = a[::-1] # Returns a reverse-copy of a sequence (str)\n",
    "print(b)"
   ]
  },
  {
   "cell_type": "code",
   "execution_count": 140,
   "metadata": {},
   "outputs": [
    {
     "data": {
      "text/plain": [
       "'dlrow olleh'"
      ]
     },
     "execution_count": 140,
     "metadata": {},
     "output_type": "execute_result"
    }
   ],
   "source": [
    "a = \"hello world\"\n",
    "\"\".join(reversed(a))\n",
    "a[::-1]"
   ]
  },
  {
   "cell_type": "code",
   "execution_count": 145,
   "metadata": {},
   "outputs": [
    {
     "data": {
      "text/plain": [
       "True"
      ]
     },
     "execution_count": 145,
     "metadata": {},
     "output_type": "execute_result"
    }
   ],
   "source": [
    "# Check whether a string a palidrome\n",
    "a = \"malayalam\"\n",
    "a == a[::-1]"
   ]
  },
  {
   "cell_type": "code",
   "execution_count": 149,
   "metadata": {},
   "outputs": [
    {
     "name": "stdout",
     "output_type": "stream",
     "text": [
      "tHiS iS a tEST StRinG\n",
      "THIS IS A TEST STRING\n",
      "this is a test string\n",
      "This Is A Test String\n",
      "This is a test string\n",
      "ThIs Is A Test sTrINg\n"
     ]
    }
   ],
   "source": [
    "a = \"tHiS iS a tEST StRinG\"\n",
    "print(a)\n",
    "print(a.upper())\n",
    "print(a.lower(), a.title(), a.capitalize(), a.swapcase(), sep=\"\\n\")"
   ]
  },
  {
   "cell_type": "code",
   "execution_count": 152,
   "metadata": {},
   "outputs": [
    {
     "name": "stdout",
     "output_type": "stream",
     "text": [
      "True\n",
      "True\n",
      "True\n"
     ]
    }
   ],
   "source": [
    "a = \"this is a test string\"\n",
    "print(a.startswith(\"this\"))\n",
    "print(a.endswith(\"ing\"))\n",
    "print(\"test\" in a)"
   ]
  },
  {
   "cell_type": "code",
   "execution_count": 157,
   "metadata": {},
   "outputs": [
    {
     "data": {
      "text/plain": [
       "True"
      ]
     },
     "execution_count": 157,
     "metadata": {},
     "output_type": "execute_result"
    }
   ],
   "source": [
    "a = \"tHiS iS a tEST StRinG\"\n",
    "a.startswith(\"this\")\n",
    "a.lower().startswith(\"this\")\n",
    "a[:4].lower().startswith(\"this\")\n",
    "a[:4].lower() == \"this\""
   ]
  },
  {
   "cell_type": "code",
   "execution_count": 159,
   "metadata": {},
   "outputs": [
    {
     "data": {
      "text/plain": [
       "True"
      ]
     },
     "execution_count": 159,
     "metadata": {},
     "output_type": "execute_result"
    }
   ],
   "source": [
    "a = \"tHiS iS a tEST StRinG\"\n",
    "\"test\" in a.lower()"
   ]
  },
  {
   "cell_type": "code",
   "execution_count": 162,
   "metadata": {},
   "outputs": [
    {
     "data": {
      "text/plain": [
       "True"
      ]
     },
     "execution_count": 162,
     "metadata": {},
     "output_type": "execute_result"
    }
   ],
   "source": [
    "a = \"tHiS iS a tEST StRinG\"\n",
    "w = \"teSt\"\n",
    "w.casefold() in a.casefold()"
   ]
  },
  {
   "cell_type": "code",
   "execution_count": null,
   "metadata": {},
   "outputs": [],
   "source": [
    "a.casefold()"
   ]
  },
  {
   "cell_type": "code",
   "execution_count": 164,
   "metadata": {},
   "outputs": [
    {
     "name": "stdout",
     "output_type": "stream",
     "text": [
      "6\n"
     ]
    }
   ],
   "source": [
    "a = \"this is a test test is a test string with test string test test\"\n",
    "\"test\" in a\n",
    "print(a.count(\"test\"))"
   ]
  },
  {
   "cell_type": "code",
   "execution_count": 166,
   "metadata": {},
   "outputs": [
    {
     "name": "stdout",
     "output_type": "stream",
     "text": [
      "this is a test test is a test string with test string test test\n",
      "10\n"
     ]
    }
   ],
   "source": [
    "a = \"this is a test test is a test string with test string test test\"\n",
    "print(a)\n",
    "print(a.index(\"test\"))"
   ]
  },
  {
   "cell_type": "code",
   "execution_count": 167,
   "metadata": {},
   "outputs": [
    {
     "name": "stdout",
     "output_type": "stream",
     "text": [
      "this is a test test is a test string with test string test test\n"
     ]
    },
    {
     "ename": "ValueError",
     "evalue": "substring not found",
     "output_type": "error",
     "traceback": [
      "\u001b[1;31m---------------------------------------------------------------------------\u001b[0m",
      "\u001b[1;31mValueError\u001b[0m                                Traceback (most recent call last)",
      "Cell \u001b[1;32mIn[167], line 3\u001b[0m\n\u001b[0;32m      1\u001b[0m a \u001b[38;5;241m=\u001b[39m \u001b[38;5;124m\"\u001b[39m\u001b[38;5;124mthis is a test test is a test string with test string test test\u001b[39m\u001b[38;5;124m\"\u001b[39m\n\u001b[0;32m      2\u001b[0m \u001b[38;5;28mprint\u001b[39m(a)\n\u001b[1;32m----> 3\u001b[0m \u001b[38;5;28mprint\u001b[39m(a\u001b[38;5;241m.\u001b[39mindex(\u001b[38;5;124m\"\u001b[39m\u001b[38;5;124mtemp\u001b[39m\u001b[38;5;124m\"\u001b[39m))\n",
      "\u001b[1;31mValueError\u001b[0m: substring not found"
     ]
    }
   ],
   "source": [
    "a = \"this is a test test is a test string with test string test test\"\n",
    "print(a)\n",
    "print(a.index(\"temp\"))"
   ]
  },
  {
   "cell_type": "code",
   "execution_count": 170,
   "metadata": {},
   "outputs": [
    {
     "name": "stdout",
     "output_type": "stream",
     "text": [
      "3 3\n"
     ]
    },
    {
     "ename": "ValueError",
     "evalue": "tuple.index(x): x not in tuple",
     "output_type": "error",
     "traceback": [
      "\u001b[1;31m---------------------------------------------------------------------------\u001b[0m",
      "\u001b[1;31mValueError\u001b[0m                                Traceback (most recent call last)",
      "Cell \u001b[1;32mIn[170], line 3\u001b[0m\n\u001b[0;32m      1\u001b[0m t \u001b[38;5;241m=\u001b[39m \u001b[38;5;241m11\u001b[39m, \u001b[38;5;241m22\u001b[39m, \u001b[38;5;241m33\u001b[39m, \u001b[38;5;241m44\u001b[39m, \u001b[38;5;241m22\u001b[39m, \u001b[38;5;241m44\u001b[39m, \u001b[38;5;241m33\u001b[39m, \u001b[38;5;241m55\u001b[39m, \u001b[38;5;241m44\u001b[39m, \u001b[38;5;241m33\u001b[39m, \u001b[38;5;241m44\u001b[39m, \u001b[38;5;241m55\u001b[39m, \u001b[38;5;241m66\u001b[39m, \u001b[38;5;241m77\u001b[39m\n\u001b[0;32m      2\u001b[0m \u001b[38;5;28mprint\u001b[39m(t\u001b[38;5;241m.\u001b[39mcount(\u001b[38;5;241m33\u001b[39m), t\u001b[38;5;241m.\u001b[39mindex(\u001b[38;5;241m44\u001b[39m))\n\u001b[1;32m----> 3\u001b[0m t\u001b[38;5;241m.\u001b[39mindex(\u001b[38;5;241m100\u001b[39m)\n",
      "\u001b[1;31mValueError\u001b[0m: tuple.index(x): x not in tuple"
     ]
    }
   ],
   "source": [
    "t = 11, 22, 33, 44, 22, 44, 33, 55, 44, 33, 44, 55, 66, 77\n",
    "print(t.count(33), t.index(44))\n",
    "t.index(100)"
   ]
  },
  {
   "cell_type": "code",
   "execution_count": 174,
   "metadata": {},
   "outputs": [
    {
     "name": "stdout",
     "output_type": "stream",
     "text": [
      "10 10\n",
      "0\n",
      "-1\n"
     ]
    }
   ],
   "source": [
    "a = \"this is a test test is a test string with test string test test\"\n",
    "print(a.find(\"test\"), a.index(\"test\"))\n",
    "print(a.find(\"this\"))\n",
    "print(a.find(\"temp\"))\n"
   ]
  },
  {
   "cell_type": "code",
   "execution_count": 181,
   "metadata": {},
   "outputs": [
    {
     "data": {
      "text/plain": [
       "-1"
      ]
     },
     "execution_count": 181,
     "metadata": {},
     "output_type": "execute_result"
    }
   ],
   "source": [
    "a = \"this is a test test is a test string with test string test test\"\n",
    "a.find(\"test\", 63)"
   ]
  },
  {
   "cell_type": "code",
   "execution_count": 183,
   "metadata": {},
   "outputs": [
    {
     "data": {
      "text/plain": [
       "[10, 15, 25, 42, 54, 59]"
      ]
     },
     "execution_count": 183,
     "metadata": {},
     "output_type": "execute_result"
    }
   ],
   "source": [
    "def findall(main_string, sub_string):\n",
    "    indices = []\n",
    "    i, skip = 0, len(sub_string)\n",
    "    while (i := main_string.find(sub_string, i)) != -1:\n",
    "        indices.append(i)\n",
    "        i += skip\n",
    "    return indices\n",
    "\n",
    "a = \"this is a test test is a test string with test string test test\"\n",
    "findall(a, \"test\")\n",
    "#OUTPUT: [10, 15, 25, 42, 54, 59]"
   ]
  },
  {
   "cell_type": "code",
   "execution_count": 184,
   "metadata": {},
   "outputs": [
    {
     "data": {
      "text/plain": [
       "[10, 15, 25, 42, 54, 59]"
      ]
     },
     "execution_count": 184,
     "metadata": {},
     "output_type": "execute_result"
    }
   ],
   "source": [
    "def findall(main_string, sub_string):\n",
    "    indices = []\n",
    "    i, skip = 0, len(sub_string)\n",
    "    while True:\n",
    "        i = main_string.find(sub_string, i)\n",
    "        if i == -1:\n",
    "            break\n",
    "        indices.append(i)\n",
    "        i += skip\n",
    "    return indices\n",
    "\n",
    "a = \"this is a test test is a test string with test string test test\"\n",
    "findall(a, \"test\")\n",
    "#OUTPUT: [10, 15, 25, 42, 54, 59]"
   ]
  },
  {
   "cell_type": "code",
   "execution_count": null,
   "metadata": {},
   "outputs": [],
   "source": []
  }
 ],
 "metadata": {
  "kernelspec": {
   "display_name": "base",
   "language": "python",
   "name": "python3"
  },
  "language_info": {
   "codemirror_mode": {
    "name": "ipython",
    "version": 3
   },
   "file_extension": ".py",
   "mimetype": "text/x-python",
   "name": "python",
   "nbconvert_exporter": "python",
   "pygments_lexer": "ipython3",
   "version": "3.12.4"
  }
 },
 "nbformat": 4,
 "nbformat_minor": 2
}
