{
 "cells": [
  {
   "cell_type": "markdown",
   "metadata": {},
   "source": [
    "# Python Boot Camp - September 2024\n",
    "### Day 5 (September 27th 2024)\n",
    "\n",
    "#### Planned topics for the day\n",
    " - More on Functions in Python\n",
    " - The `lambda` expressions, `map()`, `filter()` and `reduce()`\n",
    " - Generators in Python\n",
    " - An overview on Classes and Objects\n",
    " - A brief tour into Python standard library\n",
    " - Testing, Profiling and Debugging Python code"
   ]
  },
  {
   "cell_type": "code",
   "execution_count": 62,
   "metadata": {},
   "outputs": [
    {
     "name": "stdout",
     "output_type": "stream",
     "text": [
      "4\n",
      "11.559999999999999\n",
      "(-9+40j)\n",
      "0\n"
     ]
    }
   ],
   "source": [
    "def square(x):\n",
    "    if type(x) in (int, float, complex):\n",
    "        return x*x\n",
    "    else:\n",
    "        return 0\n",
    "\n",
    "print(square(2))\n",
    "print(square(3.4))\n",
    "print(square(4+5j))\n",
    "print(square(\"john\"))"
   ]
  },
  {
   "cell_type": "code",
   "execution_count": 63,
   "metadata": {},
   "outputs": [
    {
     "data": {
      "text/plain": [
       "[1.7320508075688772, 2.23606797749979, 2.588435821108957, 3.4641016151377544]"
      ]
     },
     "execution_count": 63,
     "metadata": {},
     "output_type": "execute_result"
    }
   ],
   "source": [
    "\n",
    "def square(x): return x*x\n",
    "\n",
    "def map_fn(fn, data): # Example of a Higher-Order-Function\n",
    "    result = []\n",
    "    for v in data:\n",
    "        r = fn(v)\n",
    "        result.append(r)\n",
    "    return result\n",
    "\n",
    "#values = [3, 5, 6.7, \"hello\", True, 12, (\"john\", \"doe\"), None]\n",
    "\n",
    "values = [3, 5, 6.7, 12]\n",
    "\n",
    "def sqrt(x): return x ** 0.5\n",
    "\n",
    "map_fn(sqrt, values)\n"
   ]
  },
  {
   "cell_type": "code",
   "execution_count": 64,
   "metadata": {},
   "outputs": [
    {
     "data": {
      "text/plain": [
       "[9, 25, 44.89, 0, (-11+60j), 0, 144]"
      ]
     },
     "execution_count": 64,
     "metadata": {},
     "output_type": "execute_result"
    }
   ],
   "source": [
    "\n",
    "\n",
    "\n",
    "def apply(fn, data): # Example of a Higher-Order-Function\n",
    "    result = []\n",
    "    for v in data:\n",
    "        r = fn(v)\n",
    "        result.append(r)\n",
    "    return result\n",
    "\n",
    "#values = [3, 5, 6.7, \"hello\", True, 12, (\"john\", \"doe\"), None]\n",
    "\n",
    "def square(x):\n",
    "    if type(x) in (int, float, complex):\n",
    "        return x*x\n",
    "    else:\n",
    "        return 0\n",
    "\n",
    "values = [3, 5, 6.7, \"hello\", 5+6j, True, 12]\n",
    "apply(square, values)\n"
   ]
  },
  {
   "cell_type": "code",
   "execution_count": 65,
   "metadata": {},
   "outputs": [
    {
     "data": {
      "text/plain": [
       "[9, 25, 44.89, 0, (-11+60j), 1, 144]"
      ]
     },
     "execution_count": 65,
     "metadata": {},
     "output_type": "execute_result"
    }
   ],
   "source": [
    "def apply(fn, data): # Example of a Higher-Order-Function\n",
    "    result = []\n",
    "    from numbers import Number\n",
    "    for v in data:\n",
    "        if isinstance(v, Number):  # Example of using Generalization\n",
    "            r = fn(v)\n",
    "        else:\n",
    "            r = 0\n",
    "        result.append(r)\n",
    "    return result\n",
    "\n",
    "#values = [3, 5, 6.7, \"hello\", True, 12, (\"john\", \"doe\"), None]\n",
    "\n",
    "def square(x): \n",
    "     return x*x\n",
    "\n",
    "values = [3, 5, 6.7, \"hello\", 5+6j, True, 12]\n",
    "apply(square, values)\n"
   ]
  },
  {
   "cell_type": "code",
   "execution_count": 66,
   "metadata": {},
   "outputs": [
    {
     "data": {
      "text/plain": [
       "[0, 0, 0, 0, 0, 0]"
      ]
     },
     "execution_count": 66,
     "metadata": {},
     "output_type": "execute_result"
    }
   ],
   "source": [
    "def apply(fn, data): # Example of a Higher-Order-Function\n",
    "    result = []\n",
    "    from numbers import Number\n",
    "    for v in data:\n",
    "        if isinstance(v, Number):  # Example of using Generalization\n",
    "            r = fn(v)\n",
    "        else:\n",
    "            r = 0\n",
    "        result.append(r)\n",
    "    return result\n",
    "\n",
    "def to_upper(n): return n.upper()\n",
    "\n",
    "values = [\"john\", \"sam\", \"joel\", \"sarah\", \"emily\", \"dave\"]\n",
    "\n",
    "apply(to_upper, values)\n"
   ]
  },
  {
   "cell_type": "code",
   "execution_count": 67,
   "metadata": {},
   "outputs": [
    {
     "data": {
      "text/plain": [
       "[1089, 1936, 5.289999999999999, (-11+60j), None, None, None, 16]"
      ]
     },
     "execution_count": 67,
     "metadata": {},
     "output_type": "execute_result"
    }
   ],
   "source": [
    "def apply(fn, data, *, default=None): # Example of a Higher-Order-Function\n",
    "    result = []\n",
    "    for v in data:\n",
    "        try: # Example of using DuckTyping\n",
    "            r = fn(v)\n",
    "        except:\n",
    "            r = default\n",
    "        result.append(r)\n",
    "    return result\n",
    "\n",
    "def to_upper(n): return n.upper()\n",
    "\n",
    "values = [\"john\", \"sam\", 45, \"joel\", \"sarah\", True, \"emily\", \"dave\"]\n",
    "\n",
    "nums = [33, 44, 2.3, 5+6j, \"hello\", (None, True, \"aaa\"), None, 4]\n",
    "def square(x): return x*x\n",
    "\n",
    "apply(to_upper, values, default=\"GUEST\")\n",
    "apply(square, nums)\n",
    "\n"
   ]
  },
  {
   "cell_type": "code",
   "execution_count": 68,
   "metadata": {},
   "outputs": [
    {
     "name": "stdout",
     "output_type": "stream",
     "text": [
      "<__main__.Student object at 0x00000271BC765310> <__main__.Manager object at 0x00000271BC765400>\n",
      "<class '__main__.Student'>\n",
      "True False\n",
      "True False\n",
      "False True\n",
      "False\n",
      "True True True\n"
     ]
    }
   ],
   "source": [
    "class Person: pass\n",
    "\n",
    "class Student(Person): pass\n",
    "\n",
    "class Employee(Person): pass\n",
    "\n",
    "class Manager(Employee): pass\n",
    "\n",
    "s = Student()\n",
    "m = Manager()\n",
    "print(s, m)\n",
    "print(type(s))\n",
    "print(type(s) is Student, type(s) is Employee)\n",
    "print(isinstance(s, Student), isinstance(s, Employee))\n",
    "\n",
    "print(type(s) is Person, isinstance(s, Person))\n",
    "print(type(m) is Person)\n",
    "print(isinstance(m, Employee), isinstance(m, Person), isinstance(m, Manager))"
   ]
  },
  {
   "cell_type": "code",
   "execution_count": 69,
   "metadata": {},
   "outputs": [],
   "source": [
    "# a = 10 + 20 * 30\n",
    "# (setq '(a (+ 10 (* 20 30)))\n"
   ]
  },
  {
   "cell_type": "code",
   "execution_count": 70,
   "metadata": {},
   "outputs": [
    {
     "name": "stdout",
     "output_type": "stream",
     "text": [
      "200 <http.client.HTTPResponse object at 0x00000271BFD46E30>\n"
     ]
    }
   ],
   "source": [
    "from urllib.request import urlopen\n",
    "\n",
    "res = urlopen(\"https://python.org\")\n",
    "res\n",
    "print(res.code, res)"
   ]
  },
  {
   "cell_type": "code",
   "execution_count": 71,
   "metadata": {},
   "outputs": [
    {
     "name": "stdout",
     "output_type": "stream",
     "text": [
      "<_io.TextIOWrapper name='C:\\\\Users\\\\chandra\\\\Downloads\\\\Welcome to Python.org.html' mode='r' encoding='utf-8'>\n"
     ]
    },
    {
     "data": {
      "text/plain": [
       "['https://www.python.org/#content',\n",
       " 'https://www.python.org/#python-network',\n",
       " 'https://www.python.org/',\n",
       " 'https://www.python.org/psf/',\n",
       " 'https://docs.python.org/',\n",
       " 'https://pypi.org/',\n",
       " 'https://www.python.org/jobs/',\n",
       " 'https://www.python.org/community-landing/',\n",
       " 'https://www.python.org/#top',\n",
       " 'https://www.python.org/',\n",
       " 'https://psfmember.org/civicrm/contribute/transact?reset=1&id=2',\n",
       " 'https://www.python.org/#site-map',\n",
       " 'https://www.python.org/#',\n",
       " 'javascript:;',\n",
       " 'javascript:;',\n",
       " 'javascript:;',\n",
       " 'https://www.python.org/#',\n",
       " 'https://www.linkedin.com/company/python-software-foundation/',\n",
       " 'https://fosstodon.org/@ThePSF',\n",
       " 'https://www.python.org/community/irc/',\n",
       " 'https://twitter.com/ThePSF',\n",
       " 'https://www.python.org/accounts/login/',\n",
       " 'https://www.python.org/accounts/signup/',\n",
       " 'https://www.python.org/accounts/login/',\n",
       " 'https://www.python.org/about/',\n",
       " 'https://www.python.org/about/apps/',\n",
       " 'https://www.python.org/about/quotes/',\n",
       " 'https://www.python.org/about/gettingstarted/',\n",
       " 'https://www.python.org/about/help/',\n",
       " 'http://brochure.getpython.info/',\n",
       " 'https://www.python.org/about',\n",
       " 'https://www.python.org/downloads/',\n",
       " 'https://www.python.org/downloads/',\n",
       " 'https://www.python.org/downloads/source/',\n",
       " 'https://www.python.org/downloads/windows/',\n",
       " 'https://www.python.org/downloads/macos/',\n",
       " 'https://www.python.org/download/other/',\n",
       " 'https://docs.python.org/3/license.html',\n",
       " 'https://www.python.org/download/alternatives',\n",
       " 'https://www.python.org/ftp/python/3.12.6/Python-3.12.6.tar.xz',\n",
       " 'https://www.python.org/downloads/',\n",
       " 'https://www.python.org/ftp/python/3.12.6/python-3.12.6-amd64.exe',\n",
       " 'https://www.python.org/downloads/',\n",
       " 'https://www.python.org/ftp/python/3.12.6/python-3.12.6-macos11.pkg',\n",
       " 'https://www.python.org/downloads/',\n",
       " 'https://www.python.org/downloads/operating-systems/',\n",
       " 'https://www.python.org/doc/',\n",
       " 'https://www.python.org/doc/',\n",
       " 'https://www.python.org/doc/av',\n",
       " 'https://wiki.python.org/moin/BeginnersGuide',\n",
       " 'https://devguide.python.org/',\n",
       " 'https://docs.python.org/faq/',\n",
       " 'http://wiki.python.org/moin/Languages',\n",
       " 'https://peps.python.org/',\n",
       " 'https://wiki.python.org/moin/PythonBooks',\n",
       " 'https://www.python.org/doc/essays/',\n",
       " 'https://www.python.org/doc/versions/',\n",
       " 'http://docs.python.org/3/',\n",
       " 'https://www.python.org/community/',\n",
       " 'https://www.python.org/community/diversity/',\n",
       " 'https://www.python.org/community/lists/',\n",
       " 'https://www.python.org/community/irc/',\n",
       " 'https://www.python.org/community/forums/',\n",
       " 'https://www.python.org/psf/annual-report/2021/',\n",
       " 'https://www.python.org/community/workshops/',\n",
       " 'https://www.python.org/community/sigs/',\n",
       " 'https://www.python.org/community/logos/',\n",
       " 'https://wiki.python.org/moin/',\n",
       " 'https://www.python.org/psf/conduct/',\n",
       " 'https://www.python.org/community/awards',\n",
       " 'https://www.python.org/psf/get-involved/',\n",
       " 'https://www.python.org/psf/community-stories/',\n",
       " 'https://www.python.org/success-stories/',\n",
       " 'https://www.python.org/success-stories/category/arts/',\n",
       " 'https://www.python.org/success-stories/category/business/',\n",
       " 'https://www.python.org/success-stories/category/education/',\n",
       " 'https://www.python.org/success-stories/category/engineering/',\n",
       " 'https://www.python.org/success-stories/category/government/',\n",
       " 'https://www.python.org/success-stories/category/scientific/',\n",
       " 'https://www.python.org/success-stories/category/software-development/',\n",
       " 'https://www.hudsonrivertrading.com/',\n",
       " 'https://www.python.org/blogs/',\n",
       " 'https://www.python.org/blogs/',\n",
       " 'https://www.python.org/psf/newsletter/',\n",
       " 'http://pyfound.blogspot.com/',\n",
       " 'http://pycon.blogspot.com/',\n",
       " 'http://planetpython.org/',\n",
       " 'https://www.python.org/events/',\n",
       " 'https://www.python.org/events/python-events/',\n",
       " 'https://www.python.org/events/python-user-group/',\n",
       " 'https://www.python.org/events/python-events/past/',\n",
       " 'https://www.python.org/events/python-user-group/past/',\n",
       " 'https://wiki.python.org/moin/PythonEventsCalendar#Submitting_an_Event',\n",
       " 'https://www.python.org/shell/',\n",
       " 'https://docs.python.org/3/tutorial/controlflow.html#defining-functions',\n",
       " 'https://docs.python.org/3/tutorial/introduction.html#lists',\n",
       " 'http://docs.python.org/3/tutorial/introduction.html#using-python-as-a-calculator',\n",
       " 'https://docs.python.org/3/tutorial/controlflow.html',\n",
       " 'https://docs.python.org/3/tutorial/',\n",
       " 'https://www.python.org/doc/',\n",
       " 'https://www.python.org/about/gettingstarted/',\n",
       " 'https://www.python.org/downloads/release/python-3126/',\n",
       " 'https://docs.python.org/',\n",
       " 'https://jobs.python.org/',\n",
       " 'https://blog.python.org/',\n",
       " 'https://pyfound.blogspot.com/2024/09/service-awards-given-by-psf-what-are.html',\n",
       " 'https://pythoninsider.blogspot.com/2024/09/python-3130rc2-3126-31110-31015-3920.html',\n",
       " 'https://pyfound.blogspot.com/2024/08/pallets-projects-now-in-scope-for-psf-cna.html',\n",
       " 'https://pyfound.blogspot.com/2024/08/python-developers-survey-2023-results.html',\n",
       " 'https://pyfound.blogspot.com/2024/08/ask-questions-or-tell-us-what-you-think.html',\n",
       " 'https://www.python.org/events/calendars/',\n",
       " 'https://www.python.org/events/python-events/1779/',\n",
       " 'https://www.python.org/events/python-user-group/1764/',\n",
       " 'https://www.python.org/events/python-events/1733/',\n",
       " 'https://www.python.org/events/python-user-group/1786/',\n",
       " 'https://www.python.org/events/python-user-group/1725/',\n",
       " 'https://www.python.org/success-stories/',\n",
       " 'https://www.python.org/success-stories/building-an-open-source-and-cross-platform-azure-cli-with-python/',\n",
       " 'https://www.python.org/success-stories/building-an-open-source-and-cross-platform-azure-cli-with-python/',\n",
       " 'https://www.python.org/about/apps',\n",
       " 'http://www.djangoproject.com/',\n",
       " 'http://www.pylonsproject.org/',\n",
       " 'http://bottlepy.org/',\n",
       " 'http://tornadoweb.org/',\n",
       " 'http://flask.pocoo.org/',\n",
       " 'http://www.web2py.com/',\n",
       " 'http://wiki.python.org/moin/TkInter',\n",
       " 'https://wiki.gnome.org/Projects/PyGObject',\n",
       " 'http://www.riverbankcomputing.co.uk/software/pyqt/intro',\n",
       " 'https://wiki.qt.io/PySide',\n",
       " 'https://kivy.org/',\n",
       " 'http://www.wxpython.org/',\n",
       " 'https://dearpygui.readthedocs.io/en/latest/',\n",
       " 'http://www.scipy.org/',\n",
       " 'http://pandas.pydata.org/',\n",
       " 'http://ipython.org/',\n",
       " 'http://buildbot.net/',\n",
       " 'http://trac.edgewall.org/',\n",
       " 'http://roundup.sourceforge.net/',\n",
       " 'http://www.ansible.com/',\n",
       " 'https://saltproject.io/',\n",
       " 'https://www.openstack.org/',\n",
       " 'https://xon.sh/',\n",
       " 'https://www.python.org/psf/',\n",
       " 'https://www.python.org/psf/',\n",
       " 'https://www.python.org/users/membership/',\n",
       " 'https://www.python.org/psf/donations/',\n",
       " 'https://www.python.org/#python-network',\n",
       " 'https://www.python.org/about/',\n",
       " 'https://www.python.org/about/apps/',\n",
       " 'https://www.python.org/about/quotes/',\n",
       " 'https://www.python.org/about/gettingstarted/',\n",
       " 'https://www.python.org/about/help/',\n",
       " 'http://brochure.getpython.info/',\n",
       " 'https://www.python.org/downloads/',\n",
       " 'https://www.python.org/downloads/',\n",
       " 'https://www.python.org/downloads/source/',\n",
       " 'https://www.python.org/downloads/windows/',\n",
       " 'https://www.python.org/downloads/macos/',\n",
       " 'https://www.python.org/download/other/',\n",
       " 'https://docs.python.org/3/license.html',\n",
       " 'https://www.python.org/download/alternatives',\n",
       " 'https://www.python.org/doc/',\n",
       " 'https://www.python.org/doc/',\n",
       " 'https://www.python.org/doc/av',\n",
       " 'https://wiki.python.org/moin/BeginnersGuide',\n",
       " 'https://devguide.python.org/',\n",
       " 'https://docs.python.org/faq/',\n",
       " 'http://wiki.python.org/moin/Languages',\n",
       " 'https://peps.python.org/',\n",
       " 'https://wiki.python.org/moin/PythonBooks',\n",
       " 'https://www.python.org/doc/essays/',\n",
       " 'https://www.python.org/community/',\n",
       " 'https://www.python.org/community/diversity/',\n",
       " 'https://www.python.org/community/lists/',\n",
       " 'https://www.python.org/community/irc/',\n",
       " 'https://www.python.org/community/forums/',\n",
       " 'https://www.python.org/psf/annual-report/2021/',\n",
       " 'https://www.python.org/community/workshops/',\n",
       " 'https://www.python.org/community/sigs/',\n",
       " 'https://www.python.org/community/logos/',\n",
       " 'https://wiki.python.org/moin/',\n",
       " 'https://www.python.org/psf/conduct/',\n",
       " 'https://www.python.org/community/awards',\n",
       " 'https://www.python.org/psf/get-involved/',\n",
       " 'https://www.python.org/psf/community-stories/',\n",
       " 'https://www.python.org/success-stories/',\n",
       " 'https://www.python.org/success-stories/category/arts/',\n",
       " 'https://www.python.org/success-stories/category/business/',\n",
       " 'https://www.python.org/success-stories/category/education/',\n",
       " 'https://www.python.org/success-stories/category/engineering/',\n",
       " 'https://www.python.org/success-stories/category/government/',\n",
       " 'https://www.python.org/success-stories/category/scientific/',\n",
       " 'https://www.python.org/success-stories/category/software-development/',\n",
       " 'https://www.python.org/blogs/',\n",
       " 'https://www.python.org/blogs/',\n",
       " 'https://www.python.org/psf/newsletter/',\n",
       " 'http://pyfound.blogspot.com/',\n",
       " 'http://pycon.blogspot.com/',\n",
       " 'http://planetpython.org/',\n",
       " 'https://www.python.org/events/',\n",
       " 'https://www.python.org/events/python-events/',\n",
       " 'https://www.python.org/events/python-user-group/',\n",
       " 'https://www.python.org/events/python-events/past/',\n",
       " 'https://www.python.org/events/python-user-group/past/',\n",
       " 'https://wiki.python.org/moin/PythonEventsCalendar#Submitting_an_Event',\n",
       " 'https://www.python.org/dev/',\n",
       " 'https://devguide.python.org/',\n",
       " 'https://github.com/python/cpython/issues',\n",
       " 'https://mail.python.org/mailman/listinfo/python-dev',\n",
       " 'https://www.python.org/dev/core-mentorship/',\n",
       " 'https://www.python.org/dev/security/',\n",
       " 'https://www.python.org/#python-network',\n",
       " 'https://www.python.org/about/help/',\n",
       " 'https://www.python.org/community/diversity/',\n",
       " 'https://github.com/python/pythondotorg/issues',\n",
       " 'https://status.python.org/',\n",
       " 'https://www.python.org/psf-landing/',\n",
       " 'https://www.python.org/about/legal/',\n",
       " 'https://www.python.org/privacy/']"
      ]
     },
     "execution_count": 71,
     "metadata": {},
     "output_type": "execute_result"
    }
   ],
   "source": [
    "import lxml.html as et\n",
    "\n",
    "with open(r\"C:\\Users\\chandra\\Downloads\\Welcome to Python.org.html\") as source:\n",
    "    print(source)\n",
    "    doc = et.parse(source)\n",
    "\n",
    "doc.xpath(\".//a[@href]/@href\")\n"
   ]
  },
  {
   "cell_type": "code",
   "execution_count": 72,
   "metadata": {},
   "outputs": [
    {
     "name": "stdout",
     "output_type": "stream",
     "text": [
      "<http.client.HTTPResponse object at 0x00000271BE3BE260>\n"
     ]
    },
    {
     "data": {
      "text/plain": [
       "<!--<![endif]-->"
      ]
     },
     "execution_count": 72,
     "metadata": {},
     "output_type": "execute_result"
    }
   ],
   "source": [
    "import lxml.html as et\n",
    "from urllib.request import urlopen\n",
    "\n",
    "source = urlopen(\"https://python.org/\")\n",
    "print(source)\n",
    "doc = et.parse(source)\n",
    "\n",
    "doc.getroot()[0]\n"
   ]
  },
  {
   "cell_type": "code",
   "execution_count": 73,
   "metadata": {},
   "outputs": [
    {
     "name": "stdout",
     "output_type": "stream",
     "text": [
      "['JOHN', 'SAM', 'GUEST', 'JOEL', 'SARAH', 'GUEST', 'EMILY', 'DAVE']\n",
      "[1089, 1936, 5.289999999999999, (-11+60j), None, None, None, 16]\n",
      "[5.744562646538029, 6.6332495807108, 1.51657508881031, (2.530834810483159+1.1853796176555962j), None, None, None, 2.0]\n"
     ]
    }
   ],
   "source": [
    "def apply(fn, data, *, default=None): # Example of a Higher-Order-Function\n",
    "    result = []\n",
    "    for v in data:\n",
    "        try: # Example of using DuckTyping\n",
    "            r = fn(v)\n",
    "        except:\n",
    "            r = default\n",
    "        result.append(r)\n",
    "    return result\n",
    "\n",
    "values = [\"john\", \"sam\", 45, \"joel\", \"sarah\", True, \"emily\", \"dave\"]\n",
    "nums = [33, 44, 2.3, 5+6j, \"hello\", (None, True, \"aaa\"), None, 4]\n",
    "\n",
    "r = apply(lambda x: x.upper(), values, default=\"GUEST\")\n",
    "print(r)\n",
    "\n",
    "r = apply(lambda v: v*v, nums)\n",
    "print(r)\n",
    "\n",
    "r = apply(lambda x: x**0.5, nums)\n",
    "print(r)"
   ]
  },
  {
   "cell_type": "code",
   "execution_count": 74,
   "metadata": {},
   "outputs": [
    {
     "name": "stdout",
     "output_type": "stream",
     "text": [
      "<function square at 0x00000271BD27ACA0> <class 'function'> 16\n",
      "<function <lambda> at 0x00000271BD278220> <class 'function'> 16\n"
     ]
    }
   ],
   "source": [
    "# lambda expressions\n",
    "\n",
    "def square(x):\n",
    "    return x*x\n",
    "\n",
    "print(square, type(square), square(4))\n",
    "\n",
    "sqr = lambda x: x*x\n",
    "print(sqr, type(sqr), sqr(4))"
   ]
  },
  {
   "cell_type": "code",
   "execution_count": 75,
   "metadata": {},
   "outputs": [
    {
     "data": {
      "text/plain": [
       "30"
      ]
     },
     "execution_count": 75,
     "metadata": {},
     "output_type": "execute_result"
    }
   ],
   "source": [
    "add = lambda a,b: a+b  # def add(a,b): return a+b\n",
    "\n",
    "add(10, 20)"
   ]
  },
  {
   "cell_type": "code",
   "execution_count": 76,
   "metadata": {},
   "outputs": [
    {
     "name": "stdout",
     "output_type": "stream",
     "text": [
      "[484, 1024, 196, 3136, 5929, 7921]\n"
     ]
    }
   ],
   "source": [
    "values = 22, 32, 14, 56, 77, 89\n",
    "\n",
    "squares = list(map(lambda x: x*x, values))\n",
    "print(squares)"
   ]
  },
  {
   "cell_type": "code",
   "execution_count": 77,
   "metadata": {},
   "outputs": [
    {
     "name": "stdout",
     "output_type": "stream",
     "text": [
      "[22, 32, 14, 56, 62, 12, 18, 94]\n"
     ]
    }
   ],
   "source": [
    "values = 22, 32, 14, 56, 77, 89, 45, 62, 12, 13, 17, 18, 19, 21, 94, 37\n",
    "\n",
    "even = list(filter(lambda x: x % 2 == 0, values))\n",
    "print(even)"
   ]
  },
  {
   "cell_type": "code",
   "execution_count": 57,
   "metadata": {},
   "outputs": [
    {
     "name": "stdout",
     "output_type": "stream",
     "text": [
      "[484, 1024, 196, 3136, 3844, 144, 324, 8836]\n",
      "[484, 1024, 196, 3136, 3844, 144, 324, 8836]\n"
     ]
    }
   ],
   "source": [
    "values = 22, 32, 14, 56, 77, 89, 45, 62, 12, 13, 17, 18, 19, 21, 94, 37\n",
    "\n",
    "even = list(map(lambda x: x*x, filter(lambda x: x % 2 == 0, values)))\n",
    "print(even)\n",
    "\n",
    "even = [ v*v for v in values if v % 2 == 0]\n",
    "print(even)"
   ]
  },
  {
   "cell_type": "code",
   "execution_count": 58,
   "metadata": {},
   "outputs": [],
   "source": [
    "values = 22, 32, 14, 56, 77, 89, 45, 62, 12, 13, 17, 18, 19, 21, 94, 37\n"
   ]
  },
  {
   "cell_type": "code",
   "execution_count": 60,
   "metadata": {},
   "outputs": [
    {
     "name": "stdout",
     "output_type": "stream",
     "text": [
      "3.23 μs ± 237 ns per loop (mean ± std. dev. of 7 runs, 100,000 loops each)\n"
     ]
    }
   ],
   "source": [
    "%%timeit\n",
    "even = list(map(lambda x: x*x, filter(lambda x: x % 2 == 0, values)))\n",
    "\n"
   ]
  },
  {
   "cell_type": "code",
   "execution_count": 78,
   "metadata": {},
   "outputs": [
    {
     "name": "stdout",
     "output_type": "stream",
     "text": [
      "1.25 μs ± 127 ns per loop (mean ± std. dev. of 7 runs, 1,000,000 loops each)\n"
     ]
    }
   ],
   "source": [
    "%%timeit\n",
    "even = [ v*v for v in values if v % 2 == 0]\n"
   ]
  },
  {
   "cell_type": "code",
   "execution_count": 83,
   "metadata": {},
   "outputs": [
    {
     "name": "stdout",
     "output_type": "stream",
     "text": [
      "150 150\n",
      "50 50\n"
     ]
    }
   ],
   "source": [
    "from functools import reduce\n",
    "\n",
    "values = [10, 30, 20, 50, 40]\n",
    "\n",
    "print(reduce(lambda x, y: x + y, values), sum(values))\n",
    "\n",
    "big = reduce(lambda x, y: x if x > y else y, values)\n",
    "print(big, max(values))\n"
   ]
  },
  {
   "cell_type": "code",
   "execution_count": 87,
   "metadata": {},
   "outputs": [
    {
     "name": "stdout",
     "output_type": "stream",
     "text": [
      "x=34, y=56\n"
     ]
    }
   ],
   "source": [
    "a, b = 34, 56\n",
    "\n",
    "x, y = (a, b) if a < b else (b, a)\n",
    "print(f\"{x=}, {y=}\")"
   ]
  },
  {
   "cell_type": "code",
   "execution_count": 109,
   "metadata": {},
   "outputs": [
    {
     "name": "stdout",
     "output_type": "stream",
     "text": [
      "0 0\n",
      "1 1\n"
     ]
    },
    {
     "name": "stdout",
     "output_type": "stream",
     "text": [
      "1 1\n",
      "2 4\n",
      "3 9\n",
      "5 25\n",
      "8 64\n",
      "13 169\n",
      "21 441\n",
      "34 1156\n"
     ]
    }
   ],
   "source": [
    "# Generators\n",
    "# 0, 1, 1, 2, 3, 5, 8, 13, 21, 34, ...\n",
    "from time import sleep\n",
    "\n",
    "def fib(n):  # This function is not very re-usable\n",
    "    a, b = 0, 1\n",
    "    for _ in range(n):\n",
    "        print(a, end=\" \")\n",
    "        a, b = b, a + b\n",
    "        #c = a\n",
    "        #a = b\n",
    "        #b = b + c\n",
    "\n",
    "def fib_list(n): # This function is re-usable, but not \"concurrent\"\n",
    "    series = [0, 1]\n",
    "    for _ in range(n-2):\n",
    "        series.append(series[-1] + series[-2])\n",
    "        sleep(1)\n",
    "    return series\n",
    "\n",
    "def fib_gen(n): # Example of a generator\n",
    "    a, b = 0, 1\n",
    "    for _ in range(n):\n",
    "        yield a\n",
    "        sleep(1)\n",
    "        a, b = b, a + b\n",
    "\n",
    "for v in fib_gen(10):\n",
    "    print(v, v*v)"
   ]
  },
  {
   "cell_type": "code",
   "execution_count": 2,
   "metadata": {},
   "outputs": [
    {
     "data": {
      "text/plain": [
       "<map at 0x1d56cf6df00>"
      ]
     },
     "execution_count": 2,
     "metadata": {},
     "output_type": "execute_result"
    }
   ],
   "source": [
    "map(lambda x: x*x, [11, 22, 33, 44, 55])"
   ]
  },
  {
   "cell_type": "code",
   "execution_count": 4,
   "metadata": {},
   "outputs": [
    {
     "name": "stdout",
     "output_type": "stream",
     "text": [
      "<generator object my_range at 0x000001D56CF98FB0>\n",
      "10\n",
      "12\n",
      "14\n",
      "16\n",
      "18\n"
     ]
    }
   ],
   "source": [
    "def my_range(start, stop, step):\n",
    "    while start < stop:\n",
    "        yield start\n",
    "        start += step\n",
    "\n",
    "m = my_range(10, 20, 2)\n",
    "print(m)\n",
    "\n",
    "for v in my_range(10, 20, 2):\n",
    "    print(v)"
   ]
  },
  {
   "cell_type": "code",
   "execution_count": 98,
   "metadata": {},
   "outputs": [
    {
     "name": "stdout",
     "output_type": "stream",
     "text": [
      "Start of testfn...\n"
     ]
    },
    {
     "data": {
      "text/plain": [
       "100"
      ]
     },
     "execution_count": 98,
     "metadata": {},
     "output_type": "execute_result"
    }
   ],
   "source": [
    "def testfn():\n",
    "    print(\"Start of testfn...\")\n",
    "    return 100\n",
    "    print(\"Continuing in testfn...\")\n",
    "\n",
    "testfn()"
   ]
  },
  {
   "cell_type": "code",
   "execution_count": 103,
   "metadata": {},
   "outputs": [
    {
     "name": "stdout",
     "output_type": "stream",
     "text": [
      "<generator object testfn at 0x00000271BFD60AC0>\n",
      "<generator object testfn at 0x00000271BFD60AC0>\n"
     ]
    }
   ],
   "source": [
    "def testfn():\n",
    "    print(\"Start of testfn...\")\n",
    "    yield 100\n",
    "    print(\"Continuing in testfn...\")\n",
    "    yield \"hello\"\n",
    "    print(\"Back inside testfn...\")\n",
    "    yield\n",
    "    print(\"End of testfn...\")\n",
    "\n",
    "g = testfn()\n",
    "print(g)\n",
    "print(iter(g))"
   ]
  },
  {
   "cell_type": "code",
   "execution_count": 107,
   "metadata": {},
   "outputs": [
    {
     "name": "stdout",
     "output_type": "stream",
     "text": [
      "End of testfn...\n"
     ]
    },
    {
     "ename": "StopIteration",
     "evalue": "",
     "output_type": "error",
     "traceback": [
      "\u001b[1;31m---------------------------------------------------------------------------\u001b[0m",
      "\u001b[1;31mStopIteration\u001b[0m                             Traceback (most recent call last)",
      "Cell \u001b[1;32mIn[107], line 1\u001b[0m\n\u001b[1;32m----> 1\u001b[0m \u001b[38;5;28mnext\u001b[39m(g)\n",
      "\u001b[1;31mStopIteration\u001b[0m: "
     ]
    }
   ],
   "source": [
    "next(g)"
   ]
  },
  {
   "cell_type": "code",
   "execution_count": 108,
   "metadata": {},
   "outputs": [
    {
     "name": "stdout",
     "output_type": "stream",
     "text": [
      "Start of testfn...\n",
      "In for loop: v = 100\n",
      "Continuing in testfn...\n",
      "In for loop: v = hello\n",
      "Back inside testfn...\n",
      "In for loop: v = None\n",
      "End of testfn...\n"
     ]
    }
   ],
   "source": [
    "def testfn():\n",
    "    print(\"Start of testfn...\")\n",
    "    yield 100\n",
    "    print(\"Continuing in testfn...\")\n",
    "    yield \"hello\"\n",
    "    print(\"Back inside testfn...\")\n",
    "    yield\n",
    "    print(\"End of testfn...\")\n",
    "\n",
    "for v in testfn():\n",
    "    print(\"In for loop: v =\", v)\n"
   ]
  },
  {
   "cell_type": "markdown",
   "metadata": {},
   "source": [
    "##### Classes and Objects (overview)"
   ]
  },
  {
   "cell_type": "code",
   "execution_count": 11,
   "metadata": {},
   "outputs": [
    {
     "name": "stdout",
     "output_type": "stream",
     "text": [
      "<class '__main__.Car'>\n",
      "<class '__main__.Car'>\n",
      "Car <class 'object'>\n",
      "white <function Car.drive at 0x000001D56CF76020>\n",
      "Driving a car...\n"
     ]
    }
   ],
   "source": [
    "# All definitions within a class are treated as class attributes\n",
    "\n",
    "class Car:\n",
    "    color = \"white\"\n",
    "    \n",
    "    def drive():\n",
    "        print(\"Driving a car...\")\n",
    "\n",
    "print(Car)\n",
    "a = Car\n",
    "print(a)\n",
    "print(Car.__name__, Car.__base__)\n",
    "print(Car.color, Car.drive)\n",
    "Car.drive()"
   ]
  },
  {
   "cell_type": "code",
   "execution_count": 20,
   "metadata": {},
   "outputs": [
    {
     "name": "stdout",
     "output_type": "stream",
     "text": [
      "<class '__main__.Car'>\n",
      "<__main__.Car object at 0x000001D56CE169F0>\n",
      "<__main__.Car object at 0x000001D56CE16780>\n",
      "<class '__main__.Car'> <class '__main__.Car'>\n",
      "<class '__main__.Car'> <class '__main__.Car'>\n",
      "white white\n",
      "red white\n",
      "{'color': 'red'} {}\n",
      "red\n",
      "white\n"
     ]
    }
   ],
   "source": [
    "# All definitions within a class are treated as class attributes\n",
    "\n",
    "class Car:\n",
    "    color = \"white\"\n",
    "    \n",
    "    def drive():\n",
    "        print(\"Driving a car...\")\n",
    "\n",
    "c1 = Car()  # Constructor expression\n",
    "c2 = Car()\n",
    "print(Car)\n",
    "print(c1, c2, sep=\"\\n\")\n",
    "print(type(c1), type(c2))\n",
    "print(c1.__class__, c2.__class__)\n",
    "print(c1.color, c2.color)\n",
    "c1.color = \"red\" # c1.__dict__[\"color\"] = \"red\"\n",
    "print(c1.color, c2.color)\n",
    "print(c1.__dict__, c2.__dict__)\n",
    "\n",
    "# c1.color is resolved as below:\n",
    "print(c1.__dict__.get(\"color\", c1.__class__.__dict__.get(\"color\")))\n",
    "\n",
    "# c2.color is resolved as below:\n",
    "print(c2.__dict__.get(\"color\", c2.__class__.__dict__.get(\"color\")))\n"
   ]
  },
  {
   "cell_type": "code",
   "execution_count": 23,
   "metadata": {},
   "outputs": [
    {
     "ename": "TypeError",
     "evalue": "Car.drive() takes 0 positional arguments but 1 was given",
     "output_type": "error",
     "traceback": [
      "\u001b[1;31m---------------------------------------------------------------------------\u001b[0m",
      "\u001b[1;31mTypeError\u001b[0m                                 Traceback (most recent call last)",
      "Cell \u001b[1;32mIn[23], line 12\u001b[0m\n\u001b[0;32m      9\u001b[0m c1 \u001b[38;5;241m=\u001b[39m Car()  \u001b[38;5;66;03m# Constructor expression\u001b[39;00m\n\u001b[0;32m     10\u001b[0m c2 \u001b[38;5;241m=\u001b[39m Car()\n\u001b[1;32m---> 12\u001b[0m c1\u001b[38;5;241m.\u001b[39mdrive()\n",
      "\u001b[1;31mTypeError\u001b[0m: Car.drive() takes 0 positional arguments but 1 was given"
     ]
    }
   ],
   "source": [
    "# All definitions within a class are treated as class attributes\n",
    "\n",
    "class Car:\n",
    "    color = \"white\"\n",
    "    \n",
    "    def drive():\n",
    "        print(\"Driving a car...\")\n",
    "\n",
    "c1 = Car()  # Constructor expression\n",
    "c2 = Car()\n",
    "\n",
    "c1.drive()  # Car.drive(c1)"
   ]
  },
  {
   "cell_type": "code",
   "execution_count": 26,
   "metadata": {},
   "outputs": [
    {
     "name": "stdout",
     "output_type": "stream",
     "text": [
      "Driving car: <__main__.Car object at 0x000001D56D1F2690>\n",
      "Driving car: <__main__.Car object at 0x000001D56D1F0F80>\n"
     ]
    }
   ],
   "source": [
    "# All definitions within a class are treated as class attributes\n",
    "\n",
    "class Car:\n",
    "    color = \"white\"\n",
    "    \n",
    "    def drive(self):  # Instance methods are functions that take first argument as the instance of this class\n",
    "        print(\"Driving car:\", self)\n",
    "\n",
    "c1 = Car()  # Constructor expression\n",
    "c2 = Car()\n",
    "\n",
    "c1.drive()  # Car.drive(c1)\n",
    "c2.drive()"
   ]
  },
  {
   "cell_type": "code",
   "execution_count": 28,
   "metadata": {},
   "outputs": [
    {
     "name": "stdout",
     "output_type": "stream",
     "text": [
      "Driving a red car\n",
      "Driving a blue car\n"
     ]
    }
   ],
   "source": [
    "# All definitions within a class are treated as class attributes\n",
    "\n",
    "class Car:\n",
    "    color = \"white\"\n",
    "    \n",
    "    def drive(self):  # Instance methods are functions that take first argument as the instance of this class\n",
    "        print(f\"Driving a {self.color} car\")\n",
    "\n",
    "c1 = Car()  # Constructor expression\n",
    "c1.color = \"red\"\n",
    "\n",
    "c2 = Car()\n",
    "c2.color = \"blue\"\n",
    "\n",
    "c1.drive()  # Car.drive(c1)\n",
    "c2.drive()"
   ]
  },
  {
   "cell_type": "code",
   "execution_count": 31,
   "metadata": {},
   "outputs": [
    {
     "name": "stdout",
     "output_type": "stream",
     "text": [
      "Driving a red car\n"
     ]
    },
    {
     "ename": "AttributeError",
     "evalue": "'Car' object has no attribute 'color'",
     "output_type": "error",
     "traceback": [
      "\u001b[1;31m---------------------------------------------------------------------------\u001b[0m",
      "\u001b[1;31mAttributeError\u001b[0m                            Traceback (most recent call last)",
      "Cell \u001b[1;32mIn[31], line 14\u001b[0m\n\u001b[0;32m     11\u001b[0m c2 \u001b[38;5;241m=\u001b[39m Car()\n\u001b[0;32m     13\u001b[0m c1\u001b[38;5;241m.\u001b[39mdrive()  \u001b[38;5;66;03m# Car.drive(c1)\u001b[39;00m\n\u001b[1;32m---> 14\u001b[0m c2\u001b[38;5;241m.\u001b[39mdrive()\n",
      "Cell \u001b[1;32mIn[31], line 6\u001b[0m, in \u001b[0;36mCar.drive\u001b[1;34m(self)\u001b[0m\n\u001b[0;32m      5\u001b[0m \u001b[38;5;28;01mdef\u001b[39;00m \u001b[38;5;21mdrive\u001b[39m(\u001b[38;5;28mself\u001b[39m):  \u001b[38;5;66;03m# Instance methods are functions that take first argument as the instance of this class\u001b[39;00m\n\u001b[1;32m----> 6\u001b[0m     \u001b[38;5;28mprint\u001b[39m(\u001b[38;5;124mf\u001b[39m\u001b[38;5;124m\"\u001b[39m\u001b[38;5;124mDriving a \u001b[39m\u001b[38;5;132;01m{\u001b[39;00m\u001b[38;5;28mself\u001b[39m\u001b[38;5;241m.\u001b[39mcolor\u001b[38;5;132;01m}\u001b[39;00m\u001b[38;5;124m car\u001b[39m\u001b[38;5;124m\"\u001b[39m)\n",
      "\u001b[1;31mAttributeError\u001b[0m: 'Car' object has no attribute 'color'"
     ]
    }
   ],
   "source": [
    "# All definitions within a class are treated as class attributes\n",
    "\n",
    "class Car:\n",
    "    \n",
    "    def drive(self):  # Instance methods are functions that take first argument as the instance of this class\n",
    "        print(f\"Driving a {self.color} car\")\n",
    "\n",
    "c1 = Car()  # Constructor expression\n",
    "c1.color = \"red\"\n",
    "\n",
    "c2 = Car()\n",
    "\n",
    "c1.drive()  # Car.drive(c1)\n",
    "c2.drive()\n"
   ]
  },
  {
   "cell_type": "code",
   "execution_count": 33,
   "metadata": {},
   "outputs": [
    {
     "name": "stdout",
     "output_type": "stream",
     "text": [
      "__init__ invoked on <__main__.Car object at 0x000001D56D1FC1A0>\n",
      "<__main__.Car object at 0x000001D56D1FC1A0>\n"
     ]
    }
   ],
   "source": [
    "# The __init__() method is defined, if you need to initialize instance attributes during construction\n",
    "\n",
    "class Car:\n",
    "    def __init__(self):\n",
    "        print(\"__init__ invoked on\", self)\n",
    "        self.color = \"red\"\n",
    "\n",
    "    def drive(self):  # Instance methods are functions that take first argument as the instance of this class\n",
    "        print(f\"Driving a {self.color} car\")\n",
    "\n",
    "c1 = Car()  # Constructor expression\n",
    "print(c1)\n"
   ]
  },
  {
   "cell_type": "code",
   "execution_count": 40,
   "metadata": {},
   "outputs": [
    {
     "name": "stdout",
     "output_type": "stream",
     "text": [
      "__init__ invoked on <__main__.Car object at 0x000001D56D1F32F0>\n",
      "__init__ invoked on <__main__.Car object at 0x000001D56D1EEEA0>\n",
      "Driving a red colored Honda car\n",
      "Driving a green colored Maruti car\n"
     ]
    }
   ],
   "source": [
    "# The __init__() method is defined, if you need to initialize instance attributes during construction\n",
    "\n",
    "class Car:\n",
    "    def __init__(self, c, m):\n",
    "        print(\"__init__ invoked on\", self)\n",
    "        self.color = c\n",
    "        self.make = m\n",
    "\n",
    "    def drive(self):  # Instance methods are functions that take first argument as the instance of this class\n",
    "        print(f\"Driving a {self.color} colored {self.make} car\")\n",
    "\n",
    "c1 = Car(\"red\", \"Honda\")  # Constructor expression\n",
    "c2 = Car(\"green\", \"Maruti\")\n",
    "c1.drive()\n",
    "c2.drive()\n"
   ]
  },
  {
   "cell_type": "markdown",
   "metadata": {},
   "source": [
    "#### Scope of variables"
   ]
  },
  {
   "cell_type": "code",
   "execution_count": 1,
   "metadata": {},
   "outputs": [
    {
     "ename": "UnboundLocalError",
     "evalue": "cannot access local variable 'a' where it is not associated with a value",
     "output_type": "error",
     "traceback": [
      "\u001b[1;31m---------------------------------------------------------------------------\u001b[0m",
      "\u001b[1;31mUnboundLocalError\u001b[0m                         Traceback (most recent call last)",
      "Cell \u001b[1;32mIn[1], line 7\u001b[0m\n\u001b[0;32m      4\u001b[0m     \u001b[38;5;28mprint\u001b[39m(\u001b[38;5;124m\"\u001b[39m\u001b[38;5;124mIn testfn: a =\u001b[39m\u001b[38;5;124m\"\u001b[39m, a)\n\u001b[0;32m      5\u001b[0m     a \u001b[38;5;241m=\u001b[39m \u001b[38;5;241m200\u001b[39m\n\u001b[1;32m----> 7\u001b[0m testfn()\n\u001b[0;32m      8\u001b[0m \u001b[38;5;28mprint\u001b[39m(\u001b[38;5;124m\"\u001b[39m\u001b[38;5;124mIn main: a =\u001b[39m\u001b[38;5;124m\"\u001b[39m, a)\n",
      "Cell \u001b[1;32mIn[1], line 4\u001b[0m, in \u001b[0;36mtestfn\u001b[1;34m()\u001b[0m\n\u001b[0;32m      3\u001b[0m \u001b[38;5;28;01mdef\u001b[39;00m \u001b[38;5;21mtestfn\u001b[39m():\n\u001b[1;32m----> 4\u001b[0m     \u001b[38;5;28mprint\u001b[39m(\u001b[38;5;124m\"\u001b[39m\u001b[38;5;124mIn testfn: a =\u001b[39m\u001b[38;5;124m\"\u001b[39m, a)\n\u001b[0;32m      5\u001b[0m     a \u001b[38;5;241m=\u001b[39m \u001b[38;5;241m200\u001b[39m\n",
      "\u001b[1;31mUnboundLocalError\u001b[0m: cannot access local variable 'a' where it is not associated with a value"
     ]
    }
   ],
   "source": [
    "a = 100\n",
    "\n",
    "def testfn():\n",
    "    print(\"In testfn: a =\", a)\n",
    "    a = 200\n",
    "\n",
    "testfn()\n",
    "print(\"In main: a =\", a)"
   ]
  },
  {
   "cell_type": "code",
   "execution_count": 5,
   "metadata": {},
   "outputs": [
    {
     "name": "stdout",
     "output_type": "stream",
     "text": [
      "In testfn: a = 200\n",
      "In main: a = 100\n"
     ]
    }
   ],
   "source": [
    "a = 100\n",
    "\n",
    "def testfn():  # All definitions within function body are scoped local to that function\n",
    "    a = 200\n",
    "    print(\"In testfn: a =\", a)\n",
    "\n",
    "testfn()\n",
    "print(\"In main: a =\", a)"
   ]
  },
  {
   "cell_type": "code",
   "execution_count": 9,
   "metadata": {},
   "outputs": [
    {
     "ename": "UnboundLocalError",
     "evalue": "cannot access local variable 'a' where it is not associated with a value",
     "output_type": "error",
     "traceback": [
      "\u001b[1;31m---------------------------------------------------------------------------\u001b[0m",
      "\u001b[1;31mUnboundLocalError\u001b[0m                         Traceback (most recent call last)",
      "Cell \u001b[1;32mIn[9], line 8\u001b[0m\n\u001b[0;32m      4\u001b[0m     \u001b[38;5;28mprint\u001b[39m(\u001b[38;5;124m\"\u001b[39m\u001b[38;5;124mIn testfn: a =\u001b[39m\u001b[38;5;124m\"\u001b[39m, a)\n\u001b[0;32m      5\u001b[0m     a \u001b[38;5;241m=\u001b[39m \u001b[38;5;241m200\u001b[39m\n\u001b[1;32m----> 8\u001b[0m testfn()\n\u001b[0;32m      9\u001b[0m \u001b[38;5;28mprint\u001b[39m(\u001b[38;5;124m\"\u001b[39m\u001b[38;5;124mIn main: a =\u001b[39m\u001b[38;5;124m\"\u001b[39m, a)\n",
      "Cell \u001b[1;32mIn[9], line 4\u001b[0m, in \u001b[0;36mtestfn\u001b[1;34m()\u001b[0m\n\u001b[0;32m      3\u001b[0m \u001b[38;5;28;01mdef\u001b[39;00m \u001b[38;5;21mtestfn\u001b[39m():  \u001b[38;5;66;03m# All definitions within function body are scoped local to that function\u001b[39;00m\n\u001b[1;32m----> 4\u001b[0m     \u001b[38;5;28mprint\u001b[39m(\u001b[38;5;124m\"\u001b[39m\u001b[38;5;124mIn testfn: a =\u001b[39m\u001b[38;5;124m\"\u001b[39m, a)\n\u001b[0;32m      5\u001b[0m     a \u001b[38;5;241m=\u001b[39m \u001b[38;5;241m200\u001b[39m\n",
      "\u001b[1;31mUnboundLocalError\u001b[0m: cannot access local variable 'a' where it is not associated with a value"
     ]
    }
   ],
   "source": [
    "a = 100\n",
    "\n",
    "def testfn():  # All definitions within function body are scoped local to that function\n",
    "    print(\"In testfn: a =\", a)\n",
    "    a = 200\n",
    "    \n",
    "\n",
    "testfn()\n",
    "print(\"In main: a =\", a)"
   ]
  },
  {
   "cell_type": "code",
   "execution_count": 7,
   "metadata": {},
   "outputs": [
    {
     "name": "stdout",
     "output_type": "stream",
     "text": [
      "In testfn: a = 100\n",
      "In main: a = 200\n"
     ]
    }
   ],
   "source": [
    "a = 100\n",
    "\n",
    "def testfn():  # All definitions within function body are scoped local to that function\n",
    "    global a\n",
    "    print(\"In testfn: a =\", a)\n",
    "    a = 200\n",
    "    \n",
    "\n",
    "testfn()\n",
    "print(\"In main: a =\", a)"
   ]
  },
  {
   "cell_type": "code",
   "execution_count": 12,
   "metadata": {},
   "outputs": [
    {
     "ename": "UnboundLocalError",
     "evalue": "cannot access local variable 'a' where it is not associated with a value",
     "output_type": "error",
     "traceback": [
      "\u001b[1;31m---------------------------------------------------------------------------\u001b[0m",
      "\u001b[1;31mUnboundLocalError\u001b[0m                         Traceback (most recent call last)",
      "Cell \u001b[1;32mIn[12], line 7\u001b[0m\n\u001b[0;32m      4\u001b[0m     \u001b[38;5;28mprint\u001b[39m(\u001b[38;5;124m\"\u001b[39m\u001b[38;5;124mIn testfn: a =\u001b[39m\u001b[38;5;124m\"\u001b[39m, a)\n\u001b[0;32m      5\u001b[0m     a \u001b[38;5;241m=\u001b[39m [\u001b[38;5;241m100\u001b[39m, \u001b[38;5;241m20\u001b[39m, \u001b[38;5;241m30\u001b[39m]\n\u001b[1;32m----> 7\u001b[0m testfn()\n\u001b[0;32m      8\u001b[0m \u001b[38;5;28mprint\u001b[39m(\u001b[38;5;124m\"\u001b[39m\u001b[38;5;124mIn main: a =\u001b[39m\u001b[38;5;124m\"\u001b[39m, a)\n",
      "Cell \u001b[1;32mIn[12], line 4\u001b[0m, in \u001b[0;36mtestfn\u001b[1;34m()\u001b[0m\n\u001b[0;32m      3\u001b[0m \u001b[38;5;28;01mdef\u001b[39;00m \u001b[38;5;21mtestfn\u001b[39m():\n\u001b[1;32m----> 4\u001b[0m     \u001b[38;5;28mprint\u001b[39m(\u001b[38;5;124m\"\u001b[39m\u001b[38;5;124mIn testfn: a =\u001b[39m\u001b[38;5;124m\"\u001b[39m, a)\n\u001b[0;32m      5\u001b[0m     a \u001b[38;5;241m=\u001b[39m [\u001b[38;5;241m100\u001b[39m, \u001b[38;5;241m20\u001b[39m, \u001b[38;5;241m30\u001b[39m]\n",
      "\u001b[1;31mUnboundLocalError\u001b[0m: cannot access local variable 'a' where it is not associated with a value"
     ]
    }
   ],
   "source": [
    "a = [10, 20, 30]\n",
    "\n",
    "def testfn(): # Example of function-with-side-effect!\n",
    "    print(\"In testfn: a =\", a)\n",
    "    a[0] = 100 # This is NOT a variable definition, but a list item assignment \n",
    "\n",
    "testfn()\n",
    "print(\"In main: a =\", a)"
   ]
  },
  {
   "cell_type": "code",
   "execution_count": 15,
   "metadata": {},
   "outputs": [
    {
     "name": "stdout",
     "output_type": "stream",
     "text": [
      "[10, 20, 30, 40, 50]\n",
      "[100, 400, 900, 1600, 2500]\n",
      "[10, 20, 30, 40, 50]\n",
      "[10, 20, 30, 40, 50]\n",
      "[1, 4, 9, 16, 25]\n"
     ]
    }
   ],
   "source": [
    "# Pure functions vs Function with side-effects\n",
    "\n",
    "values = [10, 20, 30, 40, 50]\n",
    "\n",
    "def square_values(): # This is a function with side-effect!\n",
    "    for i, v in enumerate(values):\n",
    "        values[i] = v*v\n",
    "\n",
    "print(values)\n",
    "square_values() # This function causes a side-effect!\n",
    "print(values)\n",
    "\n",
    "def pure_square_values(data): # This is a \"pure\" function\n",
    "    print(data)\n",
    "    data = [1, 2, 3, 4, 5]\n",
    "    return [ v*v for v in data ]\n",
    "\n",
    "values = [10, 20, 30, 40, 50]\n",
    "result = pure_square_values(values)\n",
    "print(values)\n",
    "print(result)\n",
    "\n",
    "# A \"pure\" function is a function that does not depend on / manipulate any object\n",
    "# outside of its local scope.\n"
   ]
  },
  {
   "cell_type": "code",
   "execution_count": 23,
   "metadata": {},
   "outputs": [
    {
     "name": "stdout",
     "output_type": "stream",
     "text": [
      "Light Bulb Switch: state = OFF\n",
      "Light Bulb Switch: state = ON\n",
      "Light Bulb Switch: state = OFF\n"
     ]
    }
   ],
   "source": [
    "# By design, all \"methods\" are functions with side-effects.\n",
    "# Avoid creating pure functions as methods in a class / object\n",
    "\n",
    "class FlipSwitch:\n",
    "    def __init__(self, name):\n",
    "        self.name = name\n",
    "        self.state = \"OFF\"\n",
    "\n",
    "    def power_on(self):\n",
    "        self.state = \"ON\"\n",
    "\n",
    "    def power_off(self):\n",
    "        self.state = \"OFF\"\n",
    "\n",
    "    def __str__(self):\n",
    "        return f\"{self.name.title()} Switch: state = {self.state}\"\n",
    "\n",
    "\n",
    "s1 = FlipSwitch(\"light bulb\")\n",
    "print(s1)\n",
    "s1.power_on()\n",
    "print(s1)\n",
    "s1.power_off()\n",
    "print(s1)"
   ]
  },
  {
   "cell_type": "code",
   "execution_count": 26,
   "metadata": {},
   "outputs": [
    {
     "name": "stdout",
     "output_type": "stream",
     "text": [
      "Driving a white car\n",
      "green\n",
      "green\n"
     ]
    }
   ],
   "source": [
    "color = \"white\"  # color - here is a global variable\n",
    "\n",
    "class Car:\n",
    "    color = \"green\"  # color - here is a class attribute\n",
    "\n",
    "    def __init__(self):\n",
    "        color = \"blue\" # color - here is a local variable\n",
    "\n",
    "    def drive(self):\n",
    "        print(\"Driving a\", color, \"car\")\n",
    "        print(self.color)\n",
    "        print(Car.color)\n",
    "\n",
    "c = Car()\n",
    "c.drive()\n"
   ]
  },
  {
   "cell_type": "code",
   "execution_count": 27,
   "metadata": {},
   "outputs": [
    {
     "name": "stdout",
     "output_type": "stream",
     "text": [
      "Driving a white car\n",
      "blue\n",
      "green\n"
     ]
    }
   ],
   "source": [
    "color = \"white\"  # color - here is a global variable\n",
    "\n",
    "class Car:\n",
    "    color = \"green\"  # color - here is a class attribute\n",
    "\n",
    "    def __init__(self):\n",
    "        self.color = \"blue\" # color - here is a instance attribute\n",
    "\n",
    "    def drive(self):\n",
    "        print(\"Driving a\", b, \"car\")\n",
    "        print(self.color)\n",
    "        print(Car.color)\n",
    "\n",
    "c = Car()\n",
    "c.drive()\n"
   ]
  },
  {
   "cell_type": "code",
   "execution_count": 29,
   "metadata": {},
   "outputs": [
    {
     "name": "stdout",
     "output_type": "stream",
     "text": [
      "Driving a blue car\n",
      "green\n",
      "green\n"
     ]
    }
   ],
   "source": [
    "color = \"white\"  # color - here is a global variable\n",
    "\n",
    "class Car:\n",
    "    color = \"green\"  # color - here is a class attribute\n",
    "\n",
    "    def __init__(self):\n",
    "        global color  # Bad practice! Never do this!\n",
    "        color = \"blue\" # color - here is a local variable\n",
    "\n",
    "    def drive(self):\n",
    "        print(\"Driving a\", color, \"car\")\n",
    "        print(self.color)\n",
    "        print(Car.color)\n",
    "\n",
    "c = Car()\n",
    "c.drive()\n"
   ]
  },
  {
   "cell_type": "code",
   "execution_count": 30,
   "metadata": {},
   "outputs": [
    {
     "ename": "NameError",
     "evalue": "name 'count' is not defined",
     "output_type": "error",
     "traceback": [
      "\u001b[1;31m---------------------------------------------------------------------------\u001b[0m",
      "\u001b[1;31mNameError\u001b[0m                                 Traceback (most recent call last)",
      "Cell \u001b[1;32mIn[30], line 1\u001b[0m\n\u001b[1;32m----> 1\u001b[0m count\n",
      "\u001b[1;31mNameError\u001b[0m: name 'count' is not defined"
     ]
    }
   ],
   "source": [
    "count"
   ]
  },
  {
   "cell_type": "code",
   "execution_count": 32,
   "metadata": {},
   "outputs": [
    {
     "data": {
      "text/plain": [
       "123"
      ]
     },
     "execution_count": 32,
     "metadata": {},
     "output_type": "execute_result"
    }
   ],
   "source": [
    "def testfn():\n",
    "    global count\n",
    "    count = 123  # Hoisting global variable from a function -- bad idea\n",
    "\n",
    "testfn()\n",
    "count"
   ]
  },
  {
   "cell_type": "code",
   "execution_count": 33,
   "metadata": {},
   "outputs": [
    {
     "name": "stdout",
     "output_type": "stream",
     "text": [
      "Start program...\n",
      "Driving car...\n"
     ]
    }
   ],
   "source": [
    "def start():\n",
    "    print(\"Start program...\")\n",
    "\n",
    "class Car:\n",
    "    def start(self):\n",
    "        print(\"Starting car...\")\n",
    "\n",
    "    def drive(self):\n",
    "        start()\n",
    "        print(\"Driving car...\")\n",
    "\n",
    "c = Car()\n",
    "c.drive()"
   ]
  },
  {
   "cell_type": "code",
   "execution_count": 36,
   "metadata": {},
   "outputs": [
    {
     "name": "stdout",
     "output_type": "stream",
     "text": [
      "Starting car...\n",
      "Driving car...\n",
      "Start program...\n",
      "Starting car...\n"
     ]
    }
   ],
   "source": [
    "def start():\n",
    "    print(\"Start program...\")\n",
    "\n",
    "class Car:\n",
    "    def start(self):\n",
    "        print(\"Starting car...\")\n",
    "\n",
    "    def drive(self):\n",
    "        self.start()\n",
    "        print(\"Driving car...\")\n",
    "\n",
    "c = Car()\n",
    "c.drive()\n",
    "start()\n",
    "c.start()"
   ]
  },
  {
   "cell_type": "code",
   "execution_count": 38,
   "metadata": {},
   "outputs": [
    {
     "name": "stdout",
     "output_type": "stream",
     "text": [
      "300\n"
     ]
    }
   ],
   "source": [
    "a = 100\n",
    "b = 200\n",
    "c = a + b  # int.__add__(a, b)\n",
    "print(c)"
   ]
  },
  {
   "cell_type": "code",
   "execution_count": 44,
   "metadata": {},
   "outputs": [
    {
     "name": "stdout",
     "output_type": "stream",
     "text": [
      "Driving a Maruti Suzuki\n",
      "Maruti Suzuki\n"
     ]
    }
   ],
   "source": [
    "class Car:\n",
    "    def __init__(self, make):\n",
    "        self.make = make\n",
    "\n",
    "    def __add__(self, other):\n",
    "        return Car(self.make + \" \" + other.make)\n",
    "    \n",
    "    def drive(self):\n",
    "        print(f\"Driving a {self.make}\")\n",
    "\n",
    "\n",
    "c1 = Car(\"Maruti\")\n",
    "c2 = Car(\"Suzuki\")\n",
    "c3 = c1 + c2 # c1.__add__(c2) --> Car.__add__(c1, c2)\n",
    "c3.drive()\n",
    "print(c1.make, c2.make)"
   ]
  },
  {
   "cell_type": "code",
   "execution_count": 43,
   "metadata": {},
   "outputs": [
    {
     "name": "stdout",
     "output_type": "stream",
     "text": [
      "red red red\n"
     ]
    }
   ],
   "source": [
    "class Car:\n",
    "    color = \"red\"\n",
    "\n",
    "\n",
    "Car.color\n",
    "\n",
    "c1 = Car()\n",
    "c2 = Car()\n",
    "print(c1.color, c2.color, Car.color)"
   ]
  },
  {
   "cell_type": "code",
   "execution_count": 45,
   "metadata": {},
   "outputs": [
    {
     "data": {
      "text/plain": [
       "'3.12.4 | packaged by Anaconda, Inc. | (main, Jun 18 2024, 15:03:56) [MSC v.1929 64 bit (AMD64)]'"
      ]
     },
     "execution_count": 45,
     "metadata": {},
     "output_type": "execute_result"
    }
   ],
   "source": [
    "import sys\n",
    "sys.version"
   ]
  },
  {
   "cell_type": "code",
   "execution_count": 49,
   "metadata": {},
   "outputs": [
    {
     "name": "stdout",
     "output_type": "stream",
     "text": [
      "3 12 4 final 0 "
     ]
    }
   ],
   "source": [
    "import sys\n",
    "v = sys.version_info\n",
    "for i in v:\n",
    "    print(i, end=\" \")"
   ]
  },
  {
   "cell_type": "code",
   "execution_count": 52,
   "metadata": {},
   "outputs": [
    {
     "name": "stdout",
     "output_type": "stream",
     "text": [
      "3 12\n",
      "3 12\n",
      "sys.version_info(major=3, minor=12, micro=4, releaselevel='final', serial=0)\n"
     ]
    }
   ],
   "source": [
    "print(sys.version_info[0], sys.version_info[1])\n",
    "print(sys.version_info.major, sys.version_info.minor)\n",
    "print(sys.version_info)"
   ]
  },
  {
   "cell_type": "code",
   "execution_count": 53,
   "metadata": {},
   "outputs": [
    {
     "data": {
      "text/plain": [
       "88"
      ]
     },
     "execution_count": 53,
     "metadata": {},
     "output_type": "execute_result"
    }
   ],
   "source": [
    "sys.getsizeof([11, 22, 33, 44])"
   ]
  },
  {
   "cell_type": "code",
   "execution_count": 54,
   "metadata": {},
   "outputs": [
    {
     "data": {
      "text/plain": [
       "3"
      ]
     },
     "execution_count": 54,
     "metadata": {},
     "output_type": "execute_result"
    }
   ],
   "source": [
    "a = 12323232\n",
    "sys.getrefcount(a)"
   ]
  },
  {
   "cell_type": "code",
   "execution_count": 55,
   "metadata": {},
   "outputs": [
    {
     "name": "stdout",
     "output_type": "stream",
     "text": [
      "Help on built-in module sys:\n",
      "\n",
      "NAME\n",
      "    sys\n",
      "\n",
      "MODULE REFERENCE\n",
      "    https://docs.python.org/3.12/library/sys.html\n",
      "\n",
      "    The following documentation is automatically generated from the Python\n",
      "    source files.  It may be incomplete, incorrect or include features that\n",
      "    are considered implementation detail and may vary between Python\n",
      "    implementations.  When in doubt, consult the module reference at the\n",
      "    location listed above.\n",
      "\n",
      "DESCRIPTION\n",
      "    This module provides access to some objects used or maintained by the\n",
      "    interpreter and to functions that interact strongly with the interpreter.\n",
      "\n",
      "    Dynamic objects:\n",
      "\n",
      "    argv -- command line arguments; argv[0] is the script pathname if known\n",
      "    path -- module search path; path[0] is the script directory, else ''\n",
      "    modules -- dictionary of loaded modules\n",
      "\n",
      "    displayhook -- called to show results in an interactive session\n",
      "    excepthook -- called to handle any uncaught exception other than SystemExit\n",
      "      To customize printing in an interactive session or to install a custom\n",
      "      top-level exception handler, assign other functions to replace these.\n",
      "\n",
      "    stdin -- standard input file object; used by input()\n",
      "    stdout -- standard output file object; used by print()\n",
      "    stderr -- standard error object; used for error messages\n",
      "      By assigning other file objects (or objects that behave like files)\n",
      "      to these, it is possible to redirect all of the interpreter's I/O.\n",
      "\n",
      "    last_exc - the last uncaught exception\n",
      "      Only available in an interactive session after a\n",
      "      traceback has been printed.\n",
      "    last_type -- type of last uncaught exception\n",
      "    last_value -- value of last uncaught exception\n",
      "    last_traceback -- traceback of last uncaught exception\n",
      "      These three are the (deprecated) legacy representation of last_exc.\n",
      "\n",
      "    Static objects:\n",
      "\n",
      "    builtin_module_names -- tuple of module names built into this interpreter\n",
      "    copyright -- copyright notice pertaining to this interpreter\n",
      "    exec_prefix -- prefix used to find the machine-specific Python library\n",
      "    executable -- absolute path of the executable binary of the Python interpreter\n",
      "    float_info -- a named tuple with information about the float implementation.\n",
      "    float_repr_style -- string indicating the style of repr() output for floats\n",
      "    hash_info -- a named tuple with information about the hash algorithm.\n",
      "    hexversion -- version information encoded as a single integer\n",
      "    implementation -- Python implementation information.\n",
      "    int_info -- a named tuple with information about the int implementation.\n",
      "    maxsize -- the largest supported length of containers.\n",
      "    maxunicode -- the value of the largest Unicode code point\n",
      "    platform -- platform identifier\n",
      "    prefix -- prefix used to find the Python library\n",
      "    thread_info -- a named tuple with information about the thread implementation.\n",
      "    version -- the version of this interpreter as a string\n",
      "    version_info -- version information as a named tuple\n",
      "    dllhandle -- [Windows only] integer handle of the Python DLL\n",
      "    winver -- [Windows only] version number of the Python DLL\n",
      "    _enablelegacywindowsfsencoding -- [Windows only]\n",
      "    __stdin__ -- the original stdin; don't touch!\n",
      "    __stdout__ -- the original stdout; don't touch!\n",
      "    __stderr__ -- the original stderr; don't touch!\n",
      "    __displayhook__ -- the original displayhook; don't touch!\n",
      "    __excepthook__ -- the original excepthook; don't touch!\n",
      "\n",
      "    Functions:\n",
      "\n",
      "    displayhook() -- print an object to the screen, and save it in builtins._\n",
      "    excepthook() -- print an exception and its traceback to sys.stderr\n",
      "    exception() -- return the current thread's active exception\n",
      "    exc_info() -- return information about the current thread's active exception\n",
      "    exit() -- exit the interpreter by raising SystemExit\n",
      "    getdlopenflags() -- returns flags to be used for dlopen() calls\n",
      "    getprofile() -- get the global profiling function\n",
      "    getrefcount() -- return the reference count for an object (plus one :-)\n",
      "    getrecursionlimit() -- return the max recursion depth for the interpreter\n",
      "    getsizeof() -- return the size of an object in bytes\n",
      "    gettrace() -- get the global debug tracing function\n",
      "    setdlopenflags() -- set the flags to be used for dlopen() calls\n",
      "    setprofile() -- set the global profiling function\n",
      "    setrecursionlimit() -- set the max recursion depth for the interpreter\n",
      "    settrace() -- set the global debug tracing function\n",
      "\n",
      "SUBMODULES\n",
      "    monitoring\n",
      "\n",
      "FUNCTIONS\n",
      "    __breakpointhook__ = breakpointhook(...)\n",
      "        breakpointhook(*args, **kws)\n",
      "\n",
      "        This hook function is called by built-in breakpoint().\n",
      "\n",
      "    __displayhook__ = displayhook(object, /)\n",
      "        Print an object to sys.stdout and also save it in builtins._\n",
      "\n",
      "    __excepthook__ = excepthook(exctype, value, traceback, /)\n",
      "        Handle an exception by displaying it with a traceback on sys.stderr.\n",
      "\n",
      "    __unraisablehook__ = unraisablehook(unraisable, /)\n",
      "        Handle an unraisable exception.\n",
      "\n",
      "        The unraisable argument has the following attributes:\n",
      "\n",
      "        * exc_type: Exception type.\n",
      "        * exc_value: Exception value, can be None.\n",
      "        * exc_traceback: Exception traceback, can be None.\n",
      "        * err_msg: Error message, can be None.\n",
      "        * object: Object causing the exception, can be None.\n",
      "\n",
      "    activate_stack_trampoline(backend, /)\n",
      "        Activate stack profiler trampoline *backend*.\n",
      "\n",
      "    addaudithook(hook)\n",
      "        Adds a new audit hook callback.\n",
      "\n",
      "    audit(...)\n",
      "        audit(event, *args)\n",
      "\n",
      "        Passes the event to any audit hooks that are attached.\n",
      "\n",
      "    call_tracing(func, args, /)\n",
      "        Call func(*args), while tracing is enabled.\n",
      "\n",
      "        The tracing state is saved, and restored afterwards.  This is intended\n",
      "        to be called from a debugger from a checkpoint, to recursively debug\n",
      "        some other code.\n",
      "\n",
      "    deactivate_stack_trampoline()\n",
      "        Deactivate the current stack profiler trampoline backend.\n",
      "\n",
      "        If no stack profiler is activated, this function has no effect.\n",
      "\n",
      "    exc_info()\n",
      "        Return current exception information: (type, value, traceback).\n",
      "\n",
      "        Return information about the most recent exception caught by an except\n",
      "        clause in the current stack frame or in an older stack frame.\n",
      "\n",
      "    exception()\n",
      "        Return the current exception.\n",
      "\n",
      "        Return the most recent exception caught by an except clause\n",
      "        in the current stack frame or in an older stack frame, or None\n",
      "        if no such exception exists.\n",
      "\n",
      "    exit(status=None, /)\n",
      "        Exit the interpreter by raising SystemExit(status).\n",
      "\n",
      "        If the status is omitted or None, it defaults to zero (i.e., success).\n",
      "        If the status is an integer, it will be used as the system exit status.\n",
      "        If it is another kind of object, it will be printed and the system\n",
      "        exit status will be one (i.e., failure).\n",
      "\n",
      "    get_asyncgen_hooks()\n",
      "        Return the installed asynchronous generators hooks.\n",
      "\n",
      "        This returns a namedtuple of the form (firstiter, finalizer).\n",
      "\n",
      "    get_coroutine_origin_tracking_depth()\n",
      "        Check status of origin tracking for coroutine objects in this thread.\n",
      "\n",
      "    get_int_max_str_digits()\n",
      "        Return the maximum string digits limit for non-binary int<->str conversions.\n",
      "\n",
      "    getallocatedblocks()\n",
      "        Return the number of memory blocks currently allocated.\n",
      "\n",
      "    getdefaultencoding()\n",
      "        Return the current default encoding used by the Unicode implementation.\n",
      "\n",
      "    getfilesystemencodeerrors()\n",
      "        Return the error mode used Unicode to OS filename conversion.\n",
      "\n",
      "    getfilesystemencoding()\n",
      "        Return the encoding used to convert Unicode filenames to OS filenames.\n",
      "\n",
      "    getprofile()\n",
      "        Return the profiling function set with sys.setprofile.\n",
      "\n",
      "        See the profiler chapter in the library manual.\n",
      "\n",
      "    getrecursionlimit()\n",
      "        Return the current value of the recursion limit.\n",
      "\n",
      "        The recursion limit is the maximum depth of the Python interpreter\n",
      "        stack.  This limit prevents infinite recursion from causing an overflow\n",
      "        of the C stack and crashing Python.\n",
      "\n",
      "    getrefcount(object, /)\n",
      "        Return the reference count of object.\n",
      "\n",
      "        The count returned is generally one higher than you might expect,\n",
      "        because it includes the (temporary) reference as an argument to\n",
      "        getrefcount().\n",
      "\n",
      "    getsizeof(...)\n",
      "        getsizeof(object [, default]) -> int\n",
      "\n",
      "        Return the size of object in bytes.\n",
      "\n",
      "    getswitchinterval()\n",
      "        Return the current thread switch interval; see sys.setswitchinterval().\n",
      "\n",
      "    gettrace()\n",
      "        Return the global debug tracing function set with sys.settrace.\n",
      "\n",
      "        See the debugger chapter in the library manual.\n",
      "\n",
      "    getunicodeinternedsize()\n",
      "        Return the number of elements of the unicode interned dictionary\n",
      "\n",
      "    getwindowsversion()\n",
      "        Return info about the running version of Windows as a named tuple.\n",
      "\n",
      "        The members are named: major, minor, build, platform, service_pack,\n",
      "        service_pack_major, service_pack_minor, suite_mask, product_type and\n",
      "        platform_version. For backward compatibility, only the first 5 items\n",
      "        are available by indexing. All elements are numbers, except\n",
      "        service_pack and platform_type which are strings, and platform_version\n",
      "        which is a 3-tuple. Platform is always 2. Product_type may be 1 for a\n",
      "        workstation, 2 for a domain controller, 3 for a server.\n",
      "        Platform_version is a 3-tuple containing a version number that is\n",
      "        intended for identifying the OS rather than feature detection.\n",
      "\n",
      "    intern(string, /)\n",
      "        ``Intern'' the given string.\n",
      "\n",
      "        This enters the string in the (global) table of interned strings whose\n",
      "        purpose is to speed up dictionary lookups. Return the string itself or\n",
      "        the previously interned string object with the same value.\n",
      "\n",
      "    is_finalizing()\n",
      "        Return True if Python is exiting.\n",
      "\n",
      "    is_stack_trampoline_active()\n",
      "        Return *True* if a stack profiler trampoline is active.\n",
      "\n",
      "    set_asyncgen_hooks(...)\n",
      "        set_asyncgen_hooks([firstiter] [, finalizer])\n",
      "\n",
      "        Set a finalizer for async generators objects.\n",
      "\n",
      "    set_coroutine_origin_tracking_depth(depth)\n",
      "        Enable or disable origin tracking for coroutine objects in this thread.\n",
      "\n",
      "        Coroutine objects will track 'depth' frames of traceback information\n",
      "        about where they came from, available in their cr_origin attribute.\n",
      "\n",
      "        Set a depth of 0 to disable.\n",
      "\n",
      "    set_int_max_str_digits(maxdigits)\n",
      "        Set the maximum string digits limit for non-binary int<->str conversions.\n",
      "\n",
      "    setprofile(...)\n",
      "        setprofile(function)\n",
      "\n",
      "        Set the profiling function.  It will be called on each function call\n",
      "        and return.  See the profiler chapter in the library manual.\n",
      "\n",
      "    setrecursionlimit(limit, /)\n",
      "        Set the maximum depth of the Python interpreter stack to n.\n",
      "\n",
      "        This limit prevents infinite recursion from causing an overflow of the C\n",
      "        stack and crashing Python.  The highest possible limit is platform-\n",
      "        dependent.\n",
      "\n",
      "    setswitchinterval(interval, /)\n",
      "        Set the ideal thread switching delay inside the Python interpreter.\n",
      "\n",
      "        The actual frequency of switching threads can be lower if the\n",
      "        interpreter executes long sequences of uninterruptible code\n",
      "        (this is implementation-specific and workload-dependent).\n",
      "\n",
      "        The parameter must represent the desired switching delay in seconds\n",
      "        A typical value is 0.005 (5 milliseconds).\n",
      "\n",
      "    settrace(...)\n",
      "        settrace(function)\n",
      "\n",
      "        Set the global debug tracing function.  It will be called on each\n",
      "        function call.  See the debugger chapter in the library manual.\n",
      "\n",
      "    unraisablehook(unraisable, /)\n",
      "        Handle an unraisable exception.\n",
      "\n",
      "        The unraisable argument has the following attributes:\n",
      "\n",
      "        * exc_type: Exception type.\n",
      "        * exc_value: Exception value, can be None.\n",
      "        * exc_traceback: Exception traceback, can be None.\n",
      "        * err_msg: Error message, can be None.\n",
      "        * object: Object causing the exception, can be None.\n",
      "\n",
      "DATA\n",
      "    __stderr__ = <_io.TextIOWrapper name='<stderr>' mode='w' encoding='utf...\n",
      "    __stdin__ = <_io.TextIOWrapper name='<stdin>' mode='r' encoding='utf-8...\n",
      "    __stdout__ = <_io.TextIOWrapper name='<stdout>' mode='w' encoding='utf...\n",
      "    api_version = 1013\n",
      "    argv = [r'c:\\Users\\chandra\\anaconda3\\Lib\\site-packages\\ipykernel_launc...\n",
      "    base_exec_prefix = r'c:\\Users\\chandra\\anaconda3'\n",
      "    base_prefix = r'c:\\Users\\chandra\\anaconda3'\n",
      "    builtin_module_names = ('_abc', '_ast', '_bisect', '_blake2', '_codecs...\n",
      "    byteorder = 'little'\n",
      "    copyright = 'Copyright (c) 2001-2023 Python Software Foundati...ematis...\n",
      "    displayhook = <ipykernel.displayhook.ZMQShellDisplayHook object>\n",
      "    dllhandle = 140715560665088\n",
      "    dont_write_bytecode = False\n",
      "    exec_prefix = r'c:\\Users\\chandra\\anaconda3'\n",
      "    executable = r'c:\\Users\\chandra\\anaconda3\\python.exe'\n",
      "    flags = sys.flags(debug=0, inspect=0, interactive=0, opt...ding=0, saf...\n",
      "    float_info = sys.float_info(max=1.7976931348623157e+308, max_...epsilo...\n",
      "    float_repr_style = 'short'\n",
      "    hash_info = sys.hash_info(width=64, modulus=2305843009213693...iphash1...\n",
      "    hexversion = 51119344\n",
      "    implementation = namespace(name='cpython', cache_tag='cpython-312...as...\n",
      "    int_info = sys.int_info(bits_per_digit=30, sizeof_digit=4, ..._str_dig...\n",
      "    last_value = TypeError(\"unsupported operand type(s) for -: 'Car' and '...\n",
      "    maxsize = 9223372036854775807\n",
      "    maxunicode = 1114111\n",
      "    meta_path = [<_distutils_hack.DistutilsMetaFinder object>, <class '_fr...\n",
      "    modules = {'IPython': <module 'IPython' from 'c:\\\\Users\\\\chandra\\\\anac...\n",
      "    orig_argv = [r'c:\\Users\\chandra\\anaconda3\\python.exe', '-m', 'ipykerne...\n",
      "    path = [r'c:\\Users\\chandra\\Python_Boot_Camp\\pbc_sep2024\\day5', r'c:\\Us...\n",
      "    path_hooks = [<class 'zipimport.zipimporter'>, <function FileFinder.pa...\n",
      "    path_importer_cache = {r'c:\\Users\\chandra\\Python_Boot_Camp\\pbc_sep2024...\n",
      "    platform = 'win32'\n",
      "    platlibdir = 'DLLs'\n",
      "    prefix = r'c:\\Users\\chandra\\anaconda3'\n",
      "    ps1 = 'In : '\n",
      "    ps2 = '...: '\n",
      "    ps3 = 'Out: '\n",
      "    pycache_prefix = None\n",
      "    stderr = <ipykernel.iostream.OutStream object>\n",
      "    stdin = <_io.TextIOWrapper name='<stdin>' mode='r' encoding='utf-8'>\n",
      "    stdlib_module_names = frozenset({'__future__', '_abc', '_aix_support',...\n",
      "    stdout = <ipykernel.iostream.OutStream object>\n",
      "    thread_info = sys.thread_info(name='nt', lock=None, version=None)\n",
      "    version = '3.12.4 | packaged by Anaconda, Inc. | (main, Jun 18 2024, 1...\n",
      "    version_info = sys.version_info(major=3, minor=12, micro=4, releaselev...\n",
      "    warnoptions = []\n",
      "    winver = '3.12'\n",
      "\n",
      "FILE\n",
      "    (built-in)\n",
      "\n",
      "\n"
     ]
    }
   ],
   "source": [
    "help(sys)"
   ]
  },
  {
   "cell_type": "code",
   "execution_count": 60,
   "metadata": {},
   "outputs": [
    {
     "name": "stdout",
     "output_type": "stream",
     "text": [
      "Windows\n",
      "('64bit', 'WindowsPE')\n",
      "Intel64 Family 6 Model 158 Stepping 10, GenuineIntel\n",
      "AMD64\n",
      "TRITON\n"
     ]
    }
   ],
   "source": [
    "import platform\n",
    "print(platform.system())\n",
    "print(platform.architecture())\n",
    "print(platform.processor())\n",
    "print(platform.machine())\n",
    "print(platform.node())"
   ]
  },
  {
   "cell_type": "code",
   "execution_count": 63,
   "metadata": {},
   "outputs": [
    {
     "name": "stdout",
     "output_type": "stream",
     "text": [
      "c:\\Users\\chandra\\Python_Boot_Camp\\pbc_sep2024\\day5\n",
      "c:\\Users\\chandra\\anaconda3;C:\\Users\\chandra\\anaconda3;C:\\Users\\chandra\\anaconda3\\Library\\mingw-w64\\bin;C:\\Users\\chandra\\anaconda3\\Library\\usr\\bin;C:\\Users\\chandra\\anaconda3\\Library\\bin;C:\\Users\\chandra\\anaconda3\\Scripts;C:\\Users\\chandra\\anaconda3\\bin;C:\\Users\\chandra\\anaconda3\\condabin;C:\\Program Files (x86)\\Common Files\\Oracle\\Java\\java8path;C:\\Program Files (x86)\\Common Files\\Oracle\\Java\\javapath;C:\\Python310\\Scripts;C:\\Python310;C:\\ActiveTcl\\bin;C:\\WINDOWS\\system32;C:\\WINDOWS;C:\\WINDOWS\\System32\\Wbem;C:\\WINDOWS\\System32\\WindowsPowerShell\\v1.0;C:\\WINDOWS\\System32\\OpenSSH;C:\\ProgramData\\chocolatey\\bin;C:\\Program Files\\Intel\\WiFi\\bin;C:\\Program Files\\Common Files\\Intel\\WirelessCommon;C:\\Program Files\\Git\\cmd;E:\\Strawberry\\c\\bin;E:\\Strawberry\\perl\\site\\bin;E:\\Strawberry\\perl\\bin;C:\\Program Files (x86)\\GnuPG\\bin;C:\\Program Files\\starship\\bin;C:\\Program Files\\PowerShell\\7;C:\\Users\\chandra\\AppData\\Local\\Programs\\Python\\Python312\\Scripts;C:\\Users\\chandra\\AppData\\Local\\Programs\\Python\\Python312;C:\\Users\\chandra\\AppData\\Local\\Programs\\Python\\Launcher;C:\\Users\\chandra\\AppData\\Local\\Microsoft\\WindowsApps;C:\\Users\\chandra\\AppData\\Local\\Programs\\Microsoft VS Code\\bin\n"
     ]
    }
   ],
   "source": [
    "import os\n",
    "print(os.getcwd())\n",
    "print(os.environ[\"PATH\"])\n"
   ]
  },
  {
   "cell_type": "code",
   "execution_count": 64,
   "metadata": {},
   "outputs": [
    {
     "name": "stdout",
     "output_type": "stream",
     "text": [
      "1727433919.6908867\n"
     ]
    }
   ],
   "source": [
    "import time\n",
    "print(time.time()) # Seconds since Unix Epochs (Jan 1st 1970 5:30 AM GMT)"
   ]
  },
  {
   "cell_type": "code",
   "execution_count": 65,
   "metadata": {},
   "outputs": [
    {
     "data": {
      "text/plain": [
       "1.0002305507659912"
      ]
     },
     "execution_count": 65,
     "metadata": {},
     "output_type": "execute_result"
    }
   ],
   "source": [
    "s = time.time()\n",
    "time.sleep(1)\n",
    "e = time.time()\n",
    "e - s"
   ]
  },
  {
   "cell_type": "code",
   "execution_count": 67,
   "metadata": {},
   "outputs": [
    {
     "name": "stdout",
     "output_type": "stream",
     "text": [
      "time.struct_time(tm_year=2024, tm_mon=9, tm_mday=27, tm_hour=16, tm_min=17, tm_sec=25, tm_wday=4, tm_yday=271, tm_isdst=0)\n",
      "2024 9\n"
     ]
    }
   ],
   "source": [
    "print(time.localtime())\n",
    "\n",
    "t = time.localtime()\n",
    "print(t.tm_year, t.tm_mon)\n"
   ]
  },
  {
   "cell_type": "code",
   "execution_count": 69,
   "metadata": {},
   "outputs": [
    {
     "data": {
      "text/plain": [
       "time.struct_time(tm_year=2024, tm_mon=8, tm_mday=15, tm_hour=0, tm_min=0, tm_sec=0, tm_wday=3, tm_yday=228, tm_isdst=-1)"
      ]
     },
     "execution_count": 69,
     "metadata": {},
     "output_type": "execute_result"
    }
   ],
   "source": [
    "s = \"2024-08-15\"\n",
    "time.strptime(s, \"%Y-%m-%d\")\n"
   ]
  },
  {
   "cell_type": "code",
   "execution_count": 70,
   "metadata": {},
   "outputs": [
    {
     "data": {
      "text/plain": [
       "'Fri Sep 27 16:19:21 2024'"
      ]
     },
     "execution_count": 70,
     "metadata": {},
     "output_type": "execute_result"
    }
   ],
   "source": [
    "time.ctime()"
   ]
  },
  {
   "cell_type": "code",
   "execution_count": 73,
   "metadata": {},
   "outputs": [
    {
     "data": {
      "text/plain": [
       "'2024/09/27 16:20:05'"
      ]
     },
     "execution_count": 73,
     "metadata": {},
     "output_type": "execute_result"
    }
   ],
   "source": [
    "time.strftime(\"%Y/%m/%d %H:%M:%S\")"
   ]
  },
  {
   "cell_type": "code",
   "execution_count": 79,
   "metadata": {},
   "outputs": [
    {
     "data": {
      "text/plain": [
       "datetime.timedelta(days=1598)"
      ]
     },
     "execution_count": 79,
     "metadata": {},
     "output_type": "execute_result"
    }
   ],
   "source": [
    "from datetime import datetime\n",
    "\n",
    "d1 = datetime(2020, 5, 1)\n",
    "d2 = datetime(2024, 9, 15)\n",
    "\n",
    "t = d2 - d1\n",
    "t"
   ]
  },
  {
   "cell_type": "code",
   "execution_count": 83,
   "metadata": {},
   "outputs": [
    {
     "data": {
      "text/plain": [
       "(1598, 0)"
      ]
     },
     "execution_count": 83,
     "metadata": {},
     "output_type": "execute_result"
    }
   ],
   "source": [
    "t.days, t.seconds"
   ]
  },
  {
   "cell_type": "code",
   "execution_count": 84,
   "metadata": {},
   "outputs": [],
   "source": [
    "import random"
   ]
  },
  {
   "cell_type": "code",
   "execution_count": 88,
   "metadata": {},
   "outputs": [
    {
     "name": "stdout",
     "output_type": "stream",
     "text": [
      "[44, 11, 77, 55, 88, 66, 22, 33]\n"
     ]
    }
   ],
   "source": [
    "a = [11, 22, 33, 44, 55, 66, 77, 88]\n",
    "random.shuffle(a)\n",
    "print(a)"
   ]
  },
  {
   "cell_type": "code",
   "execution_count": 95,
   "metadata": {},
   "outputs": [
    {
     "data": {
      "text/plain": [
       "48"
      ]
     },
     "execution_count": 95,
     "metadata": {},
     "output_type": "execute_result"
    }
   ],
   "source": [
    "random.randint(10, 100)"
   ]
  },
  {
   "cell_type": "code",
   "execution_count": 99,
   "metadata": {},
   "outputs": [
    {
     "data": {
      "text/plain": [
       "[66, 55, 22]"
      ]
     },
     "execution_count": 99,
     "metadata": {},
     "output_type": "execute_result"
    }
   ],
   "source": [
    "a = [11, 22, 33, 44, 55, 66, 77, 88]\n",
    "random.sample(a, 3)"
   ]
  },
  {
   "cell_type": "code",
   "execution_count": 109,
   "metadata": {},
   "outputs": [
    {
     "data": {
      "text/plain": [
       "'h?Y=5.3('"
      ]
     },
     "execution_count": 109,
     "metadata": {},
     "output_type": "execute_result"
    }
   ],
   "source": [
    "import string\n",
    "\"\".join(random.sample(string.printable[:-5], 8))"
   ]
  },
  {
   "cell_type": "code",
   "execution_count": 117,
   "metadata": {},
   "outputs": [
    {
     "data": {
      "text/plain": [
       "['def square(x):\\n',\n",
       " '    if type(x) in (int, float, complex):\\n',\n",
       " '        return x*x\\n',\n",
       " '    else:\\n',\n",
       " '        return 0\\n',\n",
       " '\\n',\n",
       " 'print(square(2))\\n',\n",
       " 'print(square(3.4))\\n',\n",
       " 'print(square(4+5j))\\n',\n",
       " 'print(square(\"john\"))']"
      ]
     },
     "execution_count": 117,
     "metadata": {},
     "output_type": "execute_result"
    }
   ],
   "source": [
    "import json\n",
    "with open(\"2024_Sep27.ipynb\") as json_file:\n",
    "    nb = json.load(json_file)\n",
    "nb[\"cells\"][1][\"source\"]"
   ]
  },
  {
   "cell_type": "code",
   "execution_count": 119,
   "metadata": {},
   "outputs": [
    {
     "data": {
      "text/plain": [
       "['def square(x):\\n    if type(x) in (int, float, complex):\\n        return x*x\\n    else:\\n        return 0\\n\\nprint(square(2))\\nprint(square(3.4))\\nprint(square(4+5j))\\nprint(square(\"john\"))',\n",
       " '\\ndef square(x): return x*x\\n\\ndef map_fn(fn, data): # Example of a Higher-Order-Function\\n    result = []\\n    for v in data:\\n        r = fn(v)\\n        result.append(r)\\n    return result\\n\\n#values = [3, 5, 6.7, \"hello\", True, 12, (\"john\", \"doe\"), None]\\n\\nvalues = [3, 5, 6.7, 12]\\n\\ndef sqrt(x): return x ** 0.5\\n\\nmap_fn(sqrt, values)\\n',\n",
       " '\\n\\n\\ndef apply(fn, data): # Example of a Higher-Order-Function\\n    result = []\\n    for v in data:\\n        r = fn(v)\\n        result.append(r)\\n    return result\\n\\n#values = [3, 5, 6.7, \"hello\", True, 12, (\"john\", \"doe\"), None]\\n\\ndef square(x):\\n    if type(x) in (int, float, complex):\\n        return x*x\\n    else:\\n        return 0\\n\\nvalues = [3, 5, 6.7, \"hello\", 5+6j, True, 12]\\napply(square, values)\\n',\n",
       " 'def apply(fn, data): # Example of a Higher-Order-Function\\n    result = []\\n    from numbers import Number\\n    for v in data:\\n        if isinstance(v, Number):  # Example of using Generalization\\n            r = fn(v)\\n        else:\\n            r = 0\\n        result.append(r)\\n    return result\\n\\n#values = [3, 5, 6.7, \"hello\", True, 12, (\"john\", \"doe\"), None]\\n\\ndef square(x): \\n     return x*x\\n\\nvalues = [3, 5, 6.7, \"hello\", 5+6j, True, 12]\\napply(square, values)\\n',\n",
       " 'def apply(fn, data): # Example of a Higher-Order-Function\\n    result = []\\n    from numbers import Number\\n    for v in data:\\n        if isinstance(v, Number):  # Example of using Generalization\\n            r = fn(v)\\n        else:\\n            r = 0\\n        result.append(r)\\n    return result\\n\\ndef to_upper(n): return n.upper()\\n\\nvalues = [\"john\", \"sam\", \"joel\", \"sarah\", \"emily\", \"dave\"]\\n\\napply(to_upper, values)\\n',\n",
       " 'def apply(fn, data, *, default=None): # Example of a Higher-Order-Function\\n    result = []\\n    for v in data:\\n        try: # Example of using DuckTyping\\n            r = fn(v)\\n        except:\\n            r = default\\n        result.append(r)\\n    return result\\n\\ndef to_upper(n): return n.upper()\\n\\nvalues = [\"john\", \"sam\", 45, \"joel\", \"sarah\", True, \"emily\", \"dave\"]\\n\\nnums = [33, 44, 2.3, 5+6j, \"hello\", (None, True, \"aaa\"), None, 4]\\ndef square(x): return x*x\\n\\napply(to_upper, values, default=\"GUEST\")\\napply(square, nums)\\n\\n',\n",
       " 'class Person: pass\\n\\nclass Student(Person): pass\\n\\nclass Employee(Person): pass\\n\\nclass Manager(Employee): pass\\n\\ns = Student()\\nm = Manager()\\nprint(s, m)\\nprint(type(s))\\nprint(type(s) is Student, type(s) is Employee)\\nprint(isinstance(s, Student), isinstance(s, Employee))\\n\\nprint(type(s) is Person, isinstance(s, Person))\\nprint(type(m) is Person)\\nprint(isinstance(m, Employee), isinstance(m, Person), isinstance(m, Manager))',\n",
       " \"# a = 10 + 20 * 30\\n# (setq '(a (+ 10 (* 20 30)))\\n\",\n",
       " 'from urllib.request import urlopen\\n\\nres = urlopen(\"https://python.org\")\\nres\\nprint(res.code, res)',\n",
       " 'import lxml.html as et\\n\\nwith open(r\"C:\\\\Users\\\\chandra\\\\Downloads\\\\Welcome to Python.org.html\") as source:\\n    print(source)\\n    doc = et.parse(source)\\n\\ndoc.xpath(\".//a[@href]/@href\")\\n',\n",
       " 'import lxml.html as et\\nfrom urllib.request import urlopen\\n\\nsource = urlopen(\"https://python.org/\")\\nprint(source)\\ndoc = et.parse(source)\\n\\ndoc.getroot()[0]\\n',\n",
       " 'def apply(fn, data, *, default=None): # Example of a Higher-Order-Function\\n    result = []\\n    for v in data:\\n        try: # Example of using DuckTyping\\n            r = fn(v)\\n        except:\\n            r = default\\n        result.append(r)\\n    return result\\n\\nvalues = [\"john\", \"sam\", 45, \"joel\", \"sarah\", True, \"emily\", \"dave\"]\\nnums = [33, 44, 2.3, 5+6j, \"hello\", (None, True, \"aaa\"), None, 4]\\n\\nr = apply(lambda x: x.upper(), values, default=\"GUEST\")\\nprint(r)\\n\\nr = apply(lambda v: v*v, nums)\\nprint(r)\\n\\nr = apply(lambda x: x**0.5, nums)\\nprint(r)',\n",
       " '# lambda expressions\\n\\ndef square(x):\\n    return x*x\\n\\nprint(square, type(square), square(4))\\n\\nsqr = lambda x: x*x\\nprint(sqr, type(sqr), sqr(4))',\n",
       " 'add = lambda a,b: a+b  # def add(a,b): return a+b\\n\\nadd(10, 20)',\n",
       " 'values = 22, 32, 14, 56, 77, 89\\n\\nsquares = list(map(lambda x: x*x, values))\\nprint(squares)',\n",
       " 'values = 22, 32, 14, 56, 77, 89, 45, 62, 12, 13, 17, 18, 19, 21, 94, 37\\n\\neven = list(filter(lambda x: x % 2 == 0, values))\\nprint(even)',\n",
       " 'values = 22, 32, 14, 56, 77, 89, 45, 62, 12, 13, 17, 18, 19, 21, 94, 37\\n\\neven = list(map(lambda x: x*x, filter(lambda x: x % 2 == 0, values)))\\nprint(even)\\n\\neven = [ v*v for v in values if v % 2 == 0]\\nprint(even)',\n",
       " 'values = 22, 32, 14, 56, 77, 89, 45, 62, 12, 13, 17, 18, 19, 21, 94, 37\\n',\n",
       " '%%timeit\\neven = list(map(lambda x: x*x, filter(lambda x: x % 2 == 0, values)))\\n\\n',\n",
       " '%%timeit\\neven = [ v*v for v in values if v % 2 == 0]\\n',\n",
       " 'from functools import reduce\\n\\nvalues = [10, 30, 20, 50, 40]\\n\\nprint(reduce(lambda x, y: x + y, values), sum(values))\\n\\nbig = reduce(lambda x, y: x if x > y else y, values)\\nprint(big, max(values))\\n',\n",
       " 'a, b = 34, 56\\n\\nx, y = (a, b) if a < b else (b, a)\\nprint(f\"{x=}, {y=}\")',\n",
       " '# Generators\\n# 0, 1, 1, 2, 3, 5, 8, 13, 21, 34, ...\\nfrom time import sleep\\n\\ndef fib(n):  # This function is not very re-usable\\n    a, b = 0, 1\\n    for _ in range(n):\\n        print(a, end=\" \")\\n        a, b = b, a + b\\n        #c = a\\n        #a = b\\n        #b = b + c\\n\\ndef fib_list(n): # This function is re-usable, but not \"concurrent\"\\n    series = [0, 1]\\n    for _ in range(n-2):\\n        series.append(series[-1] + series[-2])\\n        sleep(1)\\n    return series\\n\\ndef fib_gen(n): # Example of a generator\\n    a, b = 0, 1\\n    for _ in range(n):\\n        yield a\\n        sleep(1)\\n        a, b = b, a + b\\n\\nfor v in fib_gen(10):\\n    print(v, v*v)',\n",
       " 'map(lambda x: x*x, [11, 22, 33, 44, 55])',\n",
       " 'def my_range(start, stop, step):\\n    while start < stop:\\n        yield start\\n        start += step\\n\\nm = my_range(10, 20, 2)\\nprint(m)\\n\\nfor v in my_range(10, 20, 2):\\n    print(v)',\n",
       " 'def testfn():\\n    print(\"Start of testfn...\")\\n    return 100\\n    print(\"Continuing in testfn...\")\\n\\ntestfn()',\n",
       " 'def testfn():\\n    print(\"Start of testfn...\")\\n    yield 100\\n    print(\"Continuing in testfn...\")\\n    yield \"hello\"\\n    print(\"Back inside testfn...\")\\n    yield\\n    print(\"End of testfn...\")\\n\\ng = testfn()\\nprint(g)\\nprint(iter(g))',\n",
       " 'next(g)',\n",
       " 'def testfn():\\n    print(\"Start of testfn...\")\\n    yield 100\\n    print(\"Continuing in testfn...\")\\n    yield \"hello\"\\n    print(\"Back inside testfn...\")\\n    yield\\n    print(\"End of testfn...\")\\n\\nfor v in testfn():\\n    print(\"In for loop: v =\", v)\\n',\n",
       " '# All definitions within a class are treated as class attributes\\n\\nclass Car:\\n    color = \"white\"\\n    \\n    def drive():\\n        print(\"Driving a car...\")\\n\\nprint(Car)\\na = Car\\nprint(a)\\nprint(Car.__name__, Car.__base__)\\nprint(Car.color, Car.drive)\\nCar.drive()',\n",
       " '# All definitions within a class are treated as class attributes\\n\\nclass Car:\\n    color = \"white\"\\n    \\n    def drive():\\n        print(\"Driving a car...\")\\n\\nc1 = Car()  # Constructor expression\\nc2 = Car()\\nprint(Car)\\nprint(c1, c2, sep=\"\\\\n\")\\nprint(type(c1), type(c2))\\nprint(c1.__class__, c2.__class__)\\nprint(c1.color, c2.color)\\nc1.color = \"red\" # c1.__dict__[\"color\"] = \"red\"\\nprint(c1.color, c2.color)\\nprint(c1.__dict__, c2.__dict__)\\n\\n# c1.color is resolved as below:\\nprint(c1.__dict__.get(\"color\", c1.__class__.__dict__.get(\"color\")))\\n\\n# c2.color is resolved as below:\\nprint(c2.__dict__.get(\"color\", c2.__class__.__dict__.get(\"color\")))\\n',\n",
       " '# All definitions within a class are treated as class attributes\\n\\nclass Car:\\n    color = \"white\"\\n    \\n    def drive():\\n        print(\"Driving a car...\")\\n\\nc1 = Car()  # Constructor expression\\nc2 = Car()\\n\\nc1.drive()  # Car.drive(c1)',\n",
       " '# All definitions within a class are treated as class attributes\\n\\nclass Car:\\n    color = \"white\"\\n    \\n    def drive(self):  # Instance methods are functions that take first argument as the instance of this class\\n        print(\"Driving car:\", self)\\n\\nc1 = Car()  # Constructor expression\\nc2 = Car()\\n\\nc1.drive()  # Car.drive(c1)\\nc2.drive()',\n",
       " '# All definitions within a class are treated as class attributes\\n\\nclass Car:\\n    color = \"white\"\\n    \\n    def drive(self):  # Instance methods are functions that take first argument as the instance of this class\\n        print(f\"Driving a {self.color} car\")\\n\\nc1 = Car()  # Constructor expression\\nc1.color = \"red\"\\n\\nc2 = Car()\\nc2.color = \"blue\"\\n\\nc1.drive()  # Car.drive(c1)\\nc2.drive()',\n",
       " '# All definitions within a class are treated as class attributes\\n\\nclass Car:\\n    \\n    def drive(self):  # Instance methods are functions that take first argument as the instance of this class\\n        print(f\"Driving a {self.color} car\")\\n\\nc1 = Car()  # Constructor expression\\nc1.color = \"red\"\\n\\nc2 = Car()\\n\\nc1.drive()  # Car.drive(c1)\\nc2.drive()\\n',\n",
       " '# The __init__() method is defined, if you need to initialize instance attributes during construction\\n\\nclass Car:\\n    def __init__(self):\\n        print(\"__init__ invoked on\", self)\\n        self.color = \"red\"\\n\\n    def drive(self):  # Instance methods are functions that take first argument as the instance of this class\\n        print(f\"Driving a {self.color} car\")\\n\\nc1 = Car()  # Constructor expression\\nprint(c1)\\n',\n",
       " '# The __init__() method is defined, if you need to initialize instance attributes during construction\\n\\nclass Car:\\n    def __init__(self, c, m):\\n        print(\"__init__ invoked on\", self)\\n        self.color = c\\n        self.make = m\\n\\n    def drive(self):  # Instance methods are functions that take first argument as the instance of this class\\n        print(f\"Driving a {self.color} colored {self.make} car\")\\n\\nc1 = Car(\"red\", \"Honda\")  # Constructor expression\\nc2 = Car(\"green\", \"Maruti\")\\nc1.drive()\\nc2.drive()\\n',\n",
       " 'a = 100\\n\\ndef testfn():\\n    print(\"In testfn: a =\", a)\\n    a = 200\\n\\ntestfn()\\nprint(\"In main: a =\", a)',\n",
       " 'a = 100\\n\\ndef testfn():  # All definitions within function body are scoped local to that function\\n    a = 200\\n    print(\"In testfn: a =\", a)\\n\\ntestfn()\\nprint(\"In main: a =\", a)',\n",
       " 'a = 100\\n\\ndef testfn():  # All definitions within function body are scoped local to that function\\n    print(\"In testfn: a =\", a)\\n    a = 200\\n    \\n\\ntestfn()\\nprint(\"In main: a =\", a)',\n",
       " 'a = 100\\n\\ndef testfn():  # All definitions within function body are scoped local to that function\\n    global a\\n    print(\"In testfn: a =\", a)\\n    a = 200\\n    \\n\\ntestfn()\\nprint(\"In main: a =\", a)',\n",
       " 'a = [10, 20, 30]\\n\\ndef testfn(): # Example of function-with-side-effect!\\n    print(\"In testfn: a =\", a)\\n    a[0] = 100 # This is NOT a variable definition, but a list item assignment \\n\\ntestfn()\\nprint(\"In main: a =\", a)',\n",
       " '# Pure functions vs Function with side-effects\\n\\nvalues = [10, 20, 30, 40, 50]\\n\\ndef square_values(): # This is a function with side-effect!\\n    for i, v in enumerate(values):\\n        values[i] = v*v\\n\\nprint(values)\\nsquare_values() # This function causes a side-effect!\\nprint(values)\\n\\ndef pure_square_values(data): # This is a \"pure\" function\\n    print(data)\\n    data = [1, 2, 3, 4, 5]\\n    return [ v*v for v in data ]\\n\\nvalues = [10, 20, 30, 40, 50]\\nresult = pure_square_values(values)\\nprint(values)\\nprint(result)\\n\\n# A \"pure\" function is a function that does not depend on / manipulate any object\\n# outside of its local scope.\\n',\n",
       " '# By design, all \"methods\" are functions with side-effects.\\n# Avoid creating pure functions as methods in a class / object\\n\\nclass FlipSwitch:\\n    def __init__(self, name):\\n        self.name = name\\n        self.state = \"OFF\"\\n\\n    def power_on(self):\\n        self.state = \"ON\"\\n\\n    def power_off(self):\\n        self.state = \"OFF\"\\n\\n    def __str__(self):\\n        return f\"{self.name.title()} Switch: state = {self.state}\"\\n\\n\\ns1 = FlipSwitch(\"light bulb\")\\nprint(s1)\\ns1.power_on()\\nprint(s1)\\ns1.power_off()\\nprint(s1)',\n",
       " 'color = \"white\"  # color - here is a global variable\\n\\nclass Car:\\n    color = \"green\"  # color - here is a class attribute\\n\\n    def __init__(self):\\n        color = \"blue\" # color - here is a local variable\\n\\n    def drive(self):\\n        print(\"Driving a\", color, \"car\")\\n        print(self.color)\\n        print(Car.color)\\n\\nc = Car()\\nc.drive()\\n',\n",
       " 'color = \"white\"  # color - here is a global variable\\n\\nclass Car:\\n    color = \"green\"  # color - here is a class attribute\\n\\n    def __init__(self):\\n        self.color = \"blue\" # color - here is a instance attribute\\n\\n    def drive(self):\\n        print(\"Driving a\", b, \"car\")\\n        print(self.color)\\n        print(Car.color)\\n\\nc = Car()\\nc.drive()\\n',\n",
       " 'color = \"white\"  # color - here is a global variable\\n\\nclass Car:\\n    color = \"green\"  # color - here is a class attribute\\n\\n    def __init__(self):\\n        global color  # Bad practice! Never do this!\\n        color = \"blue\" # color - here is a local variable\\n\\n    def drive(self):\\n        print(\"Driving a\", color, \"car\")\\n        print(self.color)\\n        print(Car.color)\\n\\nc = Car()\\nc.drive()\\n',\n",
       " 'count',\n",
       " 'def testfn():\\n    global count\\n    count = 123  # Hoisting global variable from a function -- bad idea\\n\\ntestfn()\\ncount',\n",
       " 'def start():\\n    print(\"Start program...\")\\n\\nclass Car:\\n    def start(self):\\n        print(\"Starting car...\")\\n\\n    def drive(self):\\n        start()\\n        print(\"Driving car...\")\\n\\nc = Car()\\nc.drive()',\n",
       " 'def start():\\n    print(\"Start program...\")\\n\\nclass Car:\\n    def start(self):\\n        print(\"Starting car...\")\\n\\n    def drive(self):\\n        self.start()\\n        print(\"Driving car...\")\\n\\nc = Car()\\nc.drive()\\nstart()\\nc.start()',\n",
       " 'a = 100\\nb = 200\\nc = a + b  # int.__add__(a, b)\\nprint(c)',\n",
       " 'class Car:\\n    def __init__(self, make):\\n        self.make = make\\n\\n    def __add__(self, other):\\n        return Car(self.make + \" \" + other.make)\\n    \\n    def drive(self):\\n        print(f\"Driving a {self.make}\")\\n\\n\\nc1 = Car(\"Maruti\")\\nc2 = Car(\"Suzuki\")\\nc3 = c1 + c2 # c1.__add__(c2) --> Car.__add__(c1, c2)\\nc3.drive()\\nprint(c1.make, c2.make)',\n",
       " 'class Car:\\n    color = \"red\"\\n\\n\\nCar.color\\n\\nc1 = Car()\\nc2 = Car()\\nprint(c1.color, c2.color, Car.color)',\n",
       " 'import sys\\nsys.version',\n",
       " 'import sys\\nv = sys.version_info\\nfor i in v:\\n    print(i, end=\" \")',\n",
       " 'print(sys.version_info[0], sys.version_info[1])\\nprint(sys.version_info.major, sys.version_info.minor)\\nprint(sys.version_info)',\n",
       " 'sys.getsizeof([11, 22, 33, 44])',\n",
       " 'a = 12323232\\nsys.getrefcount(a)',\n",
       " 'help(sys)',\n",
       " 'import platform\\nprint(platform.system())\\nprint(platform.architecture())\\nprint(platform.processor())\\nprint(platform.machine())\\nprint(platform.node())',\n",
       " 'import os\\nprint(os.getcwd())\\nprint(os.environ[\"PATH\"])\\n',\n",
       " 'import time\\nprint(time.time()) # Seconds since Unix Epochs (Jan 1st 1970 5:30 AM GMT)',\n",
       " 's = time.time()\\ntime.sleep(1)\\ne = time.time()\\ne - s',\n",
       " 'print(time.localtime())\\n\\nt = time.localtime()\\nprint(t.tm_year, t.tm_mon)\\n',\n",
       " 's = \"2024-08-15\"\\ntime.strptime(s, \"%Y-%m-%d\")\\n',\n",
       " 'time.ctime()',\n",
       " 'time.strftime(\"%Y/%m/%d %H:%M:%S\")',\n",
       " 'from datetime import datetime\\n\\nd1 = datetime(2020, 5, 1)\\nd2 = datetime(2024, 9, 15)\\n\\nt = d2 - d1\\nt',\n",
       " 't.days, t.seconds',\n",
       " 'import random',\n",
       " 'a = [11, 22, 33, 44, 55, 66, 77, 88]\\nrandom.shuffle(a)\\nprint(a)',\n",
       " 'random.randint(10, 100)',\n",
       " 'a = [11, 22, 33, 44, 55, 66, 77, 88]\\nrandom.sample(a, 3)',\n",
       " 'import string\\n\"\".join(random.sample(string.printable[:-5], 8))',\n",
       " 'import json\\nwith open(\"2024_Sep27.ipynb\") as json_file:\\n    nb = json.load(json_file)\\nnb[\"cells\"][1][\"source\"]',\n",
       " 'import json\\nwith open(\"2024_Sep27.ipynb\") as json_file:\\n    nb = json.load(json_file)\\n\\n#for cell in nb[\"cells\"]:\\n#    if cell[\"cell_type\"] == \"code\":\\n#        print(cell[\"source\"])\\n\\n[ \"\".join(cell[\"source\"]) for cell in nb[\"cells\"] if cell[\"cell_type\"] == \"code\"]']"
      ]
     },
     "execution_count": 119,
     "metadata": {},
     "output_type": "execute_result"
    }
   ],
   "source": [
    "import json\n",
    "with open(\"2024_Sep27.ipynb\") as json_file:\n",
    "    nb = json.load(json_file)\n",
    "\n",
    "#for cell in nb[\"cells\"]:\n",
    "#    if cell[\"cell_type\"] == \"code\":\n",
    "#        print(cell[\"source\"])\n",
    "\n",
    "[ \"\".join(cell[\"source\"]) for cell in nb[\"cells\"] if cell[\"cell_type\"] == \"code\"]"
   ]
  },
  {
   "cell_type": "code",
   "execution_count": 120,
   "metadata": {},
   "outputs": [
    {
     "data": {
      "text/plain": [
       "[{'name': 'Adeel Solangi',\n",
       "  'language': 'Sindhi',\n",
       "  'id': 'V59OF92YF627HFY0',\n",
       "  'bio': 'Donec lobortis eleifend condimentum. Cras dictum dolor lacinia lectus vehicula rutrum. Maecenas quis nisi nunc. Nam tristique feugiat est vitae mollis. Maecenas quis nisi nunc.',\n",
       "  'version': 6.1},\n",
       " {'name': 'Afzal Ghaffar',\n",
       "  'language': 'Sindhi',\n",
       "  'id': 'ENTOCR13RSCLZ6KU',\n",
       "  'bio': 'Aliquam sollicitudin ante ligula, eget malesuada nibh efficitur et. Pellentesque massa sem, scelerisque sit amet odio id, cursus tempor urna. Etiam congue dignissim volutpat. Vestibulum pharetra libero et velit gravida euismod.',\n",
       "  'version': 1.88},\n",
       " {'name': 'Aamir Solangi',\n",
       "  'language': 'Sindhi',\n",
       "  'id': 'IAKPO3R4761JDRVG',\n",
       "  'bio': 'Vestibulum pharetra libero et velit gravida euismod. Quisque mauris ligula, efficitur porttitor sodales ac, lacinia non ex. Fusce eu ultrices elit, vel posuere neque.',\n",
       "  'version': 7.27},\n",
       " {'name': 'Abla Dilmurat',\n",
       "  'language': 'Uyghur',\n",
       "  'id': '5ZVOEPMJUI4MB4EN',\n",
       "  'bio': 'Donec lobortis eleifend condimentum. Morbi ac tellus erat.',\n",
       "  'version': 2.53},\n",
       " {'name': 'Adil Eli',\n",
       "  'language': 'Uyghur',\n",
       "  'id': '6VTI8X6LL0MMPJCC',\n",
       "  'bio': 'Vivamus id faucibus velit, id posuere leo. Morbi vitae nisi lacinia, laoreet lorem nec, egestas orci. Suspendisse potenti.',\n",
       "  'version': 6.49},\n",
       " {'name': 'Adile Qadir',\n",
       "  'language': 'Uyghur',\n",
       "  'id': 'F2KEU5L7EHYSYFTT',\n",
       "  'bio': 'Duis commodo orci ut dolor iaculis facilisis. Morbi ultricies consequat ligula posuere eleifend. Aenean finibus in tortor vel aliquet. Fusce eu ultrices elit, vel posuere neque.',\n",
       "  'version': 1.9},\n",
       " {'name': 'Abdukerim Ibrahim',\n",
       "  'language': 'Uyghur',\n",
       "  'id': 'LO6DVTZLRK68528I',\n",
       "  'bio': 'Vivamus id faucibus velit, id posuere leo. Nunc aliquet sodales nunc a pulvinar. Nunc aliquet sodales nunc a pulvinar. Ut viverra quis eros eu tincidunt.',\n",
       "  'version': 5.9},\n",
       " {'name': 'Adil Abro',\n",
       "  'language': 'Sindhi',\n",
       "  'id': 'LJRIULRNJFCNZJAJ',\n",
       "  'bio': 'Etiam malesuada blandit erat, nec ultricies leo maximus sed. Fusce congue aliquam elit ut luctus. Etiam malesuada blandit erat, nec ultricies leo maximus sed. Cras dictum dolor lacinia lectus vehicula rutrum. Integer vehicula, arcu sit amet egestas efficitur, orci justo interdum massa, eget ullamcorper risus ligula tristique libero.',\n",
       "  'version': 9.32},\n",
       " {'name': 'Afonso Vilarchán',\n",
       "  'language': 'Galician',\n",
       "  'id': 'JMCL0CXNXHPL1GBC',\n",
       "  'bio': 'Fusce eu ultrices elit, vel posuere neque. Morbi ac tellus erat. Nunc tincidunt laoreet laoreet.',\n",
       "  'version': 5.21},\n",
       " {'name': 'Mark Schembri',\n",
       "  'language': 'Maltese',\n",
       "  'id': 'KU4T500C830697CW',\n",
       "  'bio': 'Nam laoreet, nunc non suscipit interdum, justo turpis vestibulum massa, non vulputate ex urna at purus. Morbi ultricies consequat ligula posuere eleifend. Vivamus id faucibus velit, id posuere leo. Sed laoreet posuere sapien, ut feugiat nibh gravida at. Ut maximus, libero nec facilisis fringilla, ex sem sollicitudin leo, non congue tortor ligula in eros.',\n",
       "  'version': 3.17},\n",
       " {'name': 'Antía Sixirei',\n",
       "  'language': 'Galician',\n",
       "  'id': 'XOF91ZR7MHV1TXRS',\n",
       "  'bio': 'Pellentesque massa sem, scelerisque sit amet odio id, cursus tempor urna. Phasellus massa ligula, hendrerit eget efficitur eget, tincidunt in ligula. Morbi finibus dui sed est fringilla ornare. Duis pellentesque ultrices convallis. Morbi ultricies consequat ligula posuere eleifend.',\n",
       "  'version': 6.44},\n",
       " {'name': 'Aygul Mutellip',\n",
       "  'language': 'Uyghur',\n",
       "  'id': 'FTSNV411G5MKLPDT',\n",
       "  'bio': 'Duis commodo orci ut dolor iaculis facilisis. Nam semper gravida nunc, sit amet elementum ipsum. Donec pellentesque ultrices mi, non consectetur eros luctus non. Pellentesque massa sem, scelerisque sit amet odio id, cursus tempor urna.',\n",
       "  'version': 9.1},\n",
       " {'name': 'Awais Shaikh',\n",
       "  'language': 'Sindhi',\n",
       "  'id': 'OJMWMEEQWMLDU29P',\n",
       "  'bio': 'Nunc aliquet sodales nunc a pulvinar. Ut dictum, ligula eget sagittis maximus, tellus mi varius ex, a accumsan justo tellus vitae leo. Donec pellentesque ultrices mi, non consectetur eros luctus non. Nulla finibus massa at viverra facilisis. Nunc tincidunt laoreet laoreet.',\n",
       "  'version': 1.59},\n",
       " {'name': 'Ambreen Ahmed',\n",
       "  'language': 'Sindhi',\n",
       "  'id': '5G646V7E6TJW8X2M',\n",
       "  'bio': 'Vestibulum ante ipsum primis in faucibus orci luctus et ultrices posuere cubilia curae; Etiam consequat enim lorem, at tincidunt velit ultricies et. Ut maximus, libero nec facilisis fringilla, ex sem sollicitudin leo, non congue tortor ligula in eros.',\n",
       "  'version': 2.35},\n",
       " {'name': 'Celtia Anes',\n",
       "  'language': 'Galician',\n",
       "  'id': 'Z53AJY7WUYPLAWC9',\n",
       "  'bio': 'Nullam ac sodales dolor, eu facilisis dui. Maecenas non arcu nulla. Ut viverra quis eros eu tincidunt. Curabitur quis commodo quam.',\n",
       "  'version': 8.34},\n",
       " {'name': 'George Mifsud',\n",
       "  'language': 'Maltese',\n",
       "  'id': 'N1AS6UFULO6WGTLB',\n",
       "  'bio': 'Phasellus tincidunt sollicitudin posuere. Ut accumsan, est vel fringilla varius, purus augue blandit nisl, eu rhoncus ligula purus vel dolor. Donec congue sapien vel euismod interdum. Cras dictum dolor lacinia lectus vehicula rutrum. Phasellus massa ligula, hendrerit eget efficitur eget, tincidunt in ligula.',\n",
       "  'version': 7.47},\n",
       " {'name': 'Aytürk Qasim',\n",
       "  'language': 'Uyghur',\n",
       "  'id': '70RODUVRD95CLOJL',\n",
       "  'bio': 'Curabitur ultricies id urna nec ultrices. Aliquam scelerisque pretium tellus, sed accumsan est ultrices id. Duis commodo orci ut dolor iaculis facilisis.',\n",
       "  'version': 1.32},\n",
       " {'name': 'Dialè Meso',\n",
       "  'language': 'Sesotho sa Leboa',\n",
       "  'id': 'VBLI24FKF7VV6BWE',\n",
       "  'bio': 'Maecenas non arcu nulla. Vivamus id faucibus velit, id posuere leo. Nullam sodales convallis mauris, sit amet lobortis magna auctor sit amet.',\n",
       "  'version': 6.29},\n",
       " {'name': 'Breixo Galáns',\n",
       "  'language': 'Galician',\n",
       "  'id': '4VRLON0GPEZYFCVL',\n",
       "  'bio': 'Integer vehicula, arcu sit amet egestas efficitur, orci justo interdum massa, eget ullamcorper risus ligula tristique libero. Morbi ac tellus erat. In id elit malesuada, pulvinar mi eu, imperdiet nulla. Vestibulum pharetra libero et velit gravida euismod. Cras dictum dolor lacinia lectus vehicula rutrum.',\n",
       "  'version': 1.62},\n",
       " {'name': 'Bieito Lorme',\n",
       "  'language': 'Galician',\n",
       "  'id': '5DRDI1QLRGLP29RC',\n",
       "  'bio': 'Ut viverra quis eros eu tincidunt. Morbi vitae nisi lacinia, laoreet lorem nec, egestas orci. Curabitur quis commodo quam. Morbi ac tellus erat.',\n",
       "  'version': 4.45},\n",
       " {'name': 'Azrugul Osman',\n",
       "  'language': 'Uyghur',\n",
       "  'id': '5RCTVD3C5QGVAKTQ',\n",
       "  'bio': 'Maecenas tempus neque ut porttitor malesuada. Donec lobortis eleifend condimentum.',\n",
       "  'version': 3.18},\n",
       " {'name': 'Brais Verdiñas',\n",
       "  'language': 'Galician',\n",
       "  'id': 'BT407GHCC0IHXCD3',\n",
       "  'bio': 'Quisque maximus sodales mauris ut elementum. Ut viverra quis eros eu tincidunt. Sed eu libero maximus nunc lacinia lobortis et sit amet nisi. In id elit malesuada, pulvinar mi eu, imperdiet nulla. Curabitur quis commodo quam.',\n",
       "  'version': 5.01},\n",
       " {'name': 'Ekber Sadir',\n",
       "  'language': 'Uyghur',\n",
       "  'id': 'AGZDAP8D8OVRRLTY',\n",
       "  'bio': 'Quisque efficitur vel sapien ut imperdiet. Phasellus massa ligula, hendrerit eget efficitur eget, tincidunt in ligula. In id elit malesuada, pulvinar mi eu, imperdiet nulla. Sed nec suscipit ligula. Integer vehicula, arcu sit amet egestas efficitur, orci justo interdum massa, eget ullamcorper risus ligula tristique libero.',\n",
       "  'version': 2.04},\n",
       " {'name': 'Doreen Bartolo',\n",
       "  'language': 'Maltese',\n",
       "  'id': '59QSX02O2XOZGRLH',\n",
       "  'bio': 'Vestibulum ante ipsum primis in faucibus orci luctus et ultrices posuere cubilia curae; Etiam consequat enim lorem, at tincidunt velit ultricies et. Nam semper gravida nunc, sit amet elementum ipsum. Ut viverra quis eros eu tincidunt. Curabitur sed condimentum felis, ut luctus eros.',\n",
       "  'version': 9.31},\n",
       " {'name': 'Ali Ayaz',\n",
       "  'language': 'Sindhi',\n",
       "  'id': '3WNLUZ5LT2F7MYVU',\n",
       "  'bio': 'Cras dictum dolor lacinia lectus vehicula rutrum. Vestibulum ante ipsum primis in faucibus orci luctus et ultrices posuere cubilia curae; Etiam consequat enim lorem, at tincidunt velit ultricies et. Etiam malesuada blandit erat, nec ultricies leo maximus sed.',\n",
       "  'version': 7.8},\n",
       " {'name': 'Guzelnur Polat',\n",
       "  'language': 'Uyghur',\n",
       "  'id': 'I6QQHAEGV4CYDXLP',\n",
       "  'bio': 'Nam laoreet, nunc non suscipit interdum, justo turpis vestibulum massa, non vulputate ex urna at purus. Vestibulum ante ipsum primis in faucibus orci luctus et ultrices posuere cubilia curae; Etiam consequat enim lorem, at tincidunt velit ultricies et. Nulla finibus massa at viverra facilisis.',\n",
       "  'version': 8.56},\n",
       " {'name': 'John Falzon',\n",
       "  'language': 'Maltese',\n",
       "  'id': 'U3AWXHDTSU0H82SL',\n",
       "  'bio': 'Sed nec suscipit ligula. Nullam sodales convallis mauris, sit amet lobortis magna auctor sit amet.',\n",
       "  'version': 9.96},\n",
       " {'name': 'Erkin Qadir',\n",
       "  'language': 'Uyghur',\n",
       "  'id': 'GV6TA1AATZYBJ3VR',\n",
       "  'bio': 'Phasellus massa ligula, hendrerit eget efficitur eget, tincidunt in ligula. .',\n",
       "  'version': 3.53},\n",
       " {'name': 'Anita Rajput',\n",
       "  'language': 'Sindhi',\n",
       "  'id': 'XLLVD0NO2ZFEP4AK',\n",
       "  'bio': 'Nam semper gravida nunc, sit amet elementum ipsum. Etiam congue dignissim volutpat.',\n",
       "  'version': 5.16},\n",
       " {'name': 'Ayesha Khalique',\n",
       "  'language': 'Sindhi',\n",
       "  'id': 'Q9A5QNGA0OSU8P6Y',\n",
       "  'bio': 'Morbi vitae nisi lacinia, laoreet lorem nec, egestas orci. Etiam mauris magna, fermentum vitae aliquet eu, cursus vitae sapien.',\n",
       "  'version': 3.9},\n",
       " {'name': 'Pheladi Rammala',\n",
       "  'language': 'Sesotho sa Leboa',\n",
       "  'id': 'EELSIRT2T4Q0M3M4',\n",
       "  'bio': 'Quisque efficitur vel sapien ut imperdiet. Morbi ac tellus erat. Aliquam scelerisque pretium tellus, sed accumsan est ultrices id. Ut maximus, libero nec facilisis fringilla, ex sem sollicitudin leo, non congue tortor ligula in eros.',\n",
       "  'version': 1.88},\n",
       " {'name': 'Antón Caneiro',\n",
       "  'language': 'Galician',\n",
       "  'id': 'ENTAPNU3MMFUGM1W',\n",
       "  'bio': 'Integer vehicula, arcu sit amet egestas efficitur, orci justo interdum massa, eget ullamcorper risus ligula tristique libero. Vestibulum pharetra libero et velit gravida euismod.',\n",
       "  'version': 4.84},\n",
       " {'name': 'Qahar Abdulla',\n",
       "  'language': 'Uyghur',\n",
       "  'id': 'OGLODUPEHKEW0K83',\n",
       "  'bio': 'Duis commodo orci ut dolor iaculis facilisis. Aliquam sollicitudin ante ligula, eget malesuada nibh efficitur et. Fusce congue aliquam elit ut luctus. Integer vehicula, arcu sit amet egestas efficitur, orci justo interdum massa, eget ullamcorper risus ligula tristique libero. Quisque maximus sodales mauris ut elementum.',\n",
       "  'version': 3.65},\n",
       " {'name': 'Reyhan Murat',\n",
       "  'language': 'Uyghur',\n",
       "  'id': 'Y91F4D54794E9ANT',\n",
       "  'bio': 'Suspendisse sit amet ullamcorper sem. Curabitur sed condimentum felis, ut luctus eros.',\n",
       "  'version': 2.69},\n",
       " {'name': 'Tatapi Phogole',\n",
       "  'language': 'Sesotho sa Leboa',\n",
       "  'id': '7JA42P5CMCWDVPNR',\n",
       "  'bio': 'Duis luctus, lacus eu aliquet convallis, purus elit malesuada ex, vitae rutrum ipsum dui ut magna. Nullam ac sodales dolor, eu facilisis dui. Ut viverra quis eros eu tincidunt.',\n",
       "  'version': 3.78},\n",
       " {'name': 'Marcos Amboade',\n",
       "  'language': 'Galician',\n",
       "  'id': 'WPX7H97C7D70CZJR',\n",
       "  'bio': 'Nulla finibus massa at viverra facilisis. Pellentesque massa sem, scelerisque sit amet odio id, cursus tempor urna. Curabitur ultricies id urna nec ultrices. Ut maximus, libero nec facilisis fringilla, ex sem sollicitudin leo, non congue tortor ligula in eros. Nunc aliquet sodales nunc a pulvinar.',\n",
       "  'version': 7.37},\n",
       " {'name': 'Grace Tabone',\n",
       "  'language': 'Maltese',\n",
       "  'id': 'K4XO8G8DMRNSHF2B',\n",
       "  'bio': 'Curabitur sed condimentum felis, ut luctus eros. Duis luctus, lacus eu aliquet convallis, purus elit malesuada ex, vitae rutrum ipsum dui ut magna.',\n",
       "  'version': 5.36},\n",
       " {'name': 'Shafqat Memon',\n",
       "  'language': 'Sindhi',\n",
       "  'id': 'D8VFLVRXBXMVBRVI',\n",
       "  'bio': 'Aliquam scelerisque pretium tellus, sed accumsan est ultrices id. . Curabitur quis commodo quam. Quisque maximus sodales mauris ut elementum. Quisque mauris ligula, efficitur porttitor sodales ac, lacinia non ex.',\n",
       "  'version': 8.95},\n",
       " {'name': 'Zeynep Semet',\n",
       "  'language': 'Uyghur',\n",
       "  'id': 'Z324TZV8S0FGDSAO',\n",
       "  'bio': 'Quisque mauris ligula, efficitur porttitor sodales ac, lacinia non ex. Fusce eu ultrices elit, vel posuere neque. Nulla finibus massa at viverra facilisis.',\n",
       "  'version': 1.03},\n",
       " {'name': 'Meladi Papo',\n",
       "  'language': 'Sesotho sa Leboa',\n",
       "  'id': 'RJAZQ6BBLRT72CD9',\n",
       "  'bio': 'Quisque efficitur vel sapien ut imperdiet. Pellentesque massa sem, scelerisque sit amet odio id, cursus tempor urna. Ut accumsan, est vel fringilla varius, purus augue blandit nisl, eu rhoncus ligula purus vel dolor. Etiam congue dignissim volutpat. Donec congue sapien vel euismod interdum.',\n",
       "  'version': 7.22},\n",
       " {'name': 'Semet Alim',\n",
       "  'language': 'Uyghur',\n",
       "  'id': 'HI7L2SR4RCS8C8CS',\n",
       "  'bio': 'Duis commodo orci ut dolor iaculis facilisis. Ut viverra quis eros eu tincidunt. Lorem ipsum dolor sit amet, consectetur adipiscing elit.',\n",
       "  'version': 1.01},\n",
       " {'name': 'Sabela Veloso',\n",
       "  'language': 'Galician',\n",
       "  'id': 'QA55WXDLC7SRH97X',\n",
       "  'bio': 'Duis commodo orci ut dolor iaculis facilisis. Suspendisse potenti. Cras dictum dolor lacinia lectus vehicula rutrum.',\n",
       "  'version': 7.32},\n",
       " {'name': 'Madule Ledimo',\n",
       "  'language': 'Sesotho sa Leboa',\n",
       "  'id': 'IHJN2DGJB5O1Y00D',\n",
       "  'bio': 'Maecenas non arcu nulla. Aliquam scelerisque pretium tellus, sed accumsan est ultrices id.',\n",
       "  'version': 7.47},\n",
       " {'name': 'Michelle Caruana',\n",
       "  'language': 'Maltese',\n",
       "  'id': 'EG1I21R75IV9Q0Q8',\n",
       "  'bio': 'Nam tristique feugiat est vitae mollis. Morbi ultricies consequat ligula posuere eleifend. Pellentesque massa sem, scelerisque sit amet odio id, cursus tempor urna.',\n",
       "  'version': 4.95},\n",
       " {'name': 'Philip Camilleri',\n",
       "  'language': 'Maltese',\n",
       "  'id': 'FCO0URUHARX5FDFW',\n",
       "  'bio': 'Quisque efficitur vel sapien ut imperdiet. Suspendisse sit amet ullamcorper sem. Aliquam scelerisque pretium tellus, sed accumsan est ultrices id. . Aenean finibus in tortor vel aliquet.',\n",
       "  'version': 9.97},\n",
       " {'name': 'Olalla Romeu',\n",
       "  'language': 'Galician',\n",
       "  'id': 'WOCMVO6CYPG01ZHY',\n",
       "  'bio': 'Maecenas tempus neque ut porttitor malesuada. Sed nec suscipit ligula. Morbi vitae nisi lacinia, laoreet lorem nec, egestas orci. Nullam sodales convallis mauris, sit amet lobortis magna auctor sit amet.',\n",
       "  'version': 1.98},\n",
       " {'name': 'Gulnur Perhat',\n",
       "  'language': 'Uyghur',\n",
       "  'id': 'VO3M22TTQMBA2XEM',\n",
       "  'bio': 'Nullam ac sodales dolor, eu facilisis dui. Etiam mauris magna, fermentum vitae aliquet eu, cursus vitae sapien. Ut accumsan, est vel fringilla varius, purus augue blandit nisl, eu rhoncus ligula purus vel dolor. Maecenas quis nisi nunc. Duis pellentesque ultrices convallis.',\n",
       "  'version': 5.03},\n",
       " {'name': 'Hunadi Makgatho',\n",
       "  'language': 'Sesotho sa Leboa',\n",
       "  'id': 'MRJDOV2MU7PTCDXE',\n",
       "  'bio': 'Phasellus tincidunt sollicitudin posuere. Maecenas quis nisi nunc. Duis luctus, lacus eu aliquet convallis, purus elit malesuada ex, vitae rutrum ipsum dui ut magna.',\n",
       "  'version': 8.18},\n",
       " {'name': 'Charmaine Abela',\n",
       "  'language': 'Maltese',\n",
       "  'id': 'F6FJP1QDJL944X4Z',\n",
       "  'bio': 'Nam rutrum sollicitudin ante tempus consequat. Suspendisse sit amet ullamcorper sem. Morbi ac tellus erat. Sed nec suscipit ligula.',\n",
       "  'version': 6.95},\n",
       " {'name': 'Tumelò Letamo',\n",
       "  'language': 'Sesotho sa Leboa',\n",
       "  'id': 'F8BL9NPIKV0OWO1X',\n",
       "  'bio': 'Aliquam sollicitudin ante ligula, eget malesuada nibh efficitur et. Etiam congue dignissim volutpat. Sed nec suscipit ligula. Nullam sodales convallis mauris, sit amet lobortis magna auctor sit amet.',\n",
       "  'version': 7.17},\n",
       " {'name': 'Aneela Mohan',\n",
       "  'language': 'Sindhi',\n",
       "  'id': 'CRYN52CXKNJU0YXU',\n",
       "  'bio': 'Sed nec suscipit ligula. Phasellus massa ligula, hendrerit eget efficitur eget, tincidunt in ligula. Maecenas tempus neque ut porttitor malesuada.',\n",
       "  'version': 4.45},\n",
       " {'name': 'Koketšo Montjane',\n",
       "  'language': 'Sesotho sa Leboa',\n",
       "  'id': '0TTAMXC9TENQCA2O',\n",
       "  'bio': 'Curabitur sed condimentum felis, ut luctus eros. Aliquam sollicitudin ante ligula, eget malesuada nibh efficitur et. Etiam mauris magna, fermentum vitae aliquet eu, cursus vitae sapien. Ut maximus, libero nec facilisis fringilla, ex sem sollicitudin leo, non congue tortor ligula in eros.',\n",
       "  'version': 3.61},\n",
       " {'name': 'Tegra Núnez',\n",
       "  'language': 'Galician',\n",
       "  'id': 'NC1ZUV6B853BZZCW',\n",
       "  'bio': 'Maecenas tempus neque ut porttitor malesuada. Pellentesque massa sem, scelerisque sit amet odio id, cursus tempor urna.',\n",
       "  'version': 6.68},\n",
       " {'name': 'Dilnur Qeyser',\n",
       "  'language': 'Uyghur',\n",
       "  'id': 'JVQ8RQ4YRPGLFMR8',\n",
       "  'bio': 'Maecenas non arcu nulla. Nulla finibus massa at viverra facilisis. Integer vehicula, arcu sit amet egestas efficitur, orci justo interdum massa, eget ullamcorper risus ligula tristique libero. Ut maximus, libero nec facilisis fringilla, ex sem sollicitudin leo, non congue tortor ligula in eros.',\n",
       "  'version': 7.93},\n",
       " {'name': 'Tania Agius',\n",
       "  'language': 'Maltese',\n",
       "  'id': 'WTDGKLDWJLR1BJKR',\n",
       "  'bio': 'Etiam congue dignissim volutpat. Pellentesque massa sem, scelerisque sit amet odio id, cursus tempor urna.',\n",
       "  'version': 4.78},\n",
       " {'name': 'Iago Peirallo',\n",
       "  'language': 'Galician',\n",
       "  'id': 'D51G7XQTX2SPHR52',\n",
       "  'bio': 'Aliquam sollicitudin ante ligula, eget malesuada nibh efficitur et. Donec congue sapien vel euismod interdum. Suspendisse potenti. Quisque maximus sodales mauris ut elementum. Quisque maximus sodales mauris ut elementum.',\n",
       "  'version': 6.3},\n",
       " {'name': 'Mpho Lamola',\n",
       "  'language': 'Sesotho sa Leboa',\n",
       "  'id': 'UGL8EOTXYBW1ILLW',\n",
       "  'bio': 'In id elit malesuada, pulvinar mi eu, imperdiet nulla. Curabitur ultricies id urna nec ultrices. Maecenas tempus neque ut porttitor malesuada. In sed ultricies lorem. Nullam sodales convallis mauris, sit amet lobortis magna auctor sit amet.',\n",
       "  'version': 2.05},\n",
       " {'name': 'Josephine Balzan',\n",
       "  'language': 'Maltese',\n",
       "  'id': '4OLTG6QD0A2VB432',\n",
       "  'bio': 'Maecenas tempus neque ut porttitor malesuada. Sed eu libero maximus nunc lacinia lobortis et sit amet nisi. Maecenas non arcu nulla. Ut accumsan, est vel fringilla varius, purus augue blandit nisl, eu rhoncus ligula purus vel dolor. Curabitur quis commodo quam.',\n",
       "  'version': 7.64},\n",
       " {'name': 'Thabò Motongwane',\n",
       "  'language': 'Sesotho sa Leboa',\n",
       "  'id': 'NROE4ZZVGKZGDFNO',\n",
       "  'bio': 'Donec pellentesque ultrices mi, non consectetur eros luctus non. Suspendisse potenti. Suspendisse potenti.',\n",
       "  'version': 2.07},\n",
       " {'name': 'Mmathabò Mojapelo',\n",
       "  'language': 'Sesotho sa Leboa',\n",
       "  'id': 'VXJDXYPV5L300IFW',\n",
       "  'bio': 'Sed laoreet posuere sapien, ut feugiat nibh gravida at. Duis luctus, lacus eu aliquet convallis, purus elit malesuada ex, vitae rutrum ipsum dui ut magna. Nunc tincidunt laoreet laoreet. .',\n",
       "  'version': 9.36},\n",
       " {'name': 'Kgabo Lerumo',\n",
       "  'language': 'Sesotho sa Leboa',\n",
       "  'id': 'D63WWKQE2R4TFDIL',\n",
       "  'bio': 'Vestibulum pharetra libero et velit gravida euismod. Maecenas tempus neque ut porttitor malesuada. Morbi ultricies consequat ligula posuere eleifend. Quisque efficitur vel sapien ut imperdiet. Nam rutrum sollicitudin ante tempus consequat.',\n",
       "  'version': 6.69},\n",
       " {'name': 'Lawrence Scicluna',\n",
       "  'language': 'Maltese',\n",
       "  'id': '0KDA7XKZNNZWL2SR',\n",
       "  'bio': 'Donec pellentesque ultrices mi, non consectetur eros luctus non. In id elit malesuada, pulvinar mi eu, imperdiet nulla. Aliquam sollicitudin ante ligula, eget malesuada nibh efficitur et.',\n",
       "  'version': 6.53},\n",
       " {'name': 'Iria Xamardo',\n",
       "  'language': 'Galician',\n",
       "  'id': 'ULUDKBP9PHBGHX2J',\n",
       "  'bio': 'Vivamus id faucibus velit, id posuere leo. Sed eu libero maximus nunc lacinia lobortis et sit amet nisi. Lorem ipsum dolor sit amet, consectetur adipiscing elit. Etiam malesuada blandit erat, nec ultricies leo maximus sed. Ut viverra quis eros eu tincidunt.',\n",
       "  'version': 3.42},\n",
       " {'name': 'Joseph Grech',\n",
       "  'language': 'Maltese',\n",
       "  'id': 'T4P1164RJBJ8S6XD',\n",
       "  'bio': 'Aliquam scelerisque pretium tellus, sed accumsan est ultrices id. Donec lobortis eleifend condimentum.',\n",
       "  'version': 7.68},\n",
       " {'name': 'Napogadi Selepe',\n",
       "  'language': 'Sesotho sa Leboa',\n",
       "  'id': 'AJK91MKRFIHAQHHG',\n",
       "  'bio': 'Quisque maximus sodales mauris ut elementum. Maecenas quis nisi nunc.',\n",
       "  'version': 4.95},\n",
       " {'name': 'Lesetja Theko',\n",
       "  'language': 'Sesotho sa Leboa',\n",
       "  'id': 'AATM20BURO1DHDAE',\n",
       "  'bio': 'Phasellus massa ligula, hendrerit eget efficitur eget, tincidunt in ligula. Etiam mauris magna, fermentum vitae aliquet eu, cursus vitae sapien. Nulla finibus massa at viverra facilisis. Morbi finibus dui sed est fringilla ornare.',\n",
       "  'version': 6.81},\n",
       " {'name': 'Martiño Arxíz',\n",
       "  'language': 'Galician',\n",
       "  'id': 'CQ56N9MH3WK7H5YQ',\n",
       "  'bio': 'Proin tempus eu risus nec mattis. Morbi vitae nisi lacinia, laoreet lorem nec, egestas orci. Vestibulum ante ipsum primis in faucibus orci luctus et ultrices posuere cubilia curae; Etiam consequat enim lorem, at tincidunt velit ultricies et. Nam rutrum sollicitudin ante tempus consequat. .',\n",
       "  'version': 7.13},\n",
       " {'name': 'Malehumò Ledwaba',\n",
       "  'language': 'Sesotho sa Leboa',\n",
       "  'id': 'E4F3HGRTKQKCT1SE',\n",
       "  'bio': 'Ut accumsan, est vel fringilla varius, purus augue blandit nisl, eu rhoncus ligula purus vel dolor. Curabitur quis commodo quam. Quisque maximus sodales mauris ut elementum. Curabitur sed condimentum felis, ut luctus eros. Curabitur ultricies id urna nec ultrices.',\n",
       "  'version': 6.52},\n",
       " {'name': 'Musa Yasin',\n",
       "  'language': 'Uyghur',\n",
       "  'id': '1AF8GIQZ1LF8QW0U',\n",
       "  'bio': 'Phasellus tincidunt sollicitudin posuere. Phasellus massa ligula, hendrerit eget efficitur eget, tincidunt in ligula. Ut maximus, libero nec facilisis fringilla, ex sem sollicitudin leo, non congue tortor ligula in eros. Ut accumsan, est vel fringilla varius, purus augue blandit nisl, eu rhoncus ligula purus vel dolor.',\n",
       "  'version': 1.54},\n",
       " {'name': 'Lajwanti Kumari',\n",
       "  'language': 'Sindhi',\n",
       "  'id': 'INRW3R54RAY7J9IS',\n",
       "  'bio': 'In sed ultricies lorem. Sed eu libero maximus nunc lacinia lobortis et sit amet nisi. Quisque mauris ligula, efficitur porttitor sodales ac, lacinia non ex. Lorem ipsum dolor sit amet, consectetur adipiscing elit.',\n",
       "  'version': 9.34},\n",
       " {'name': 'Maria Sammut',\n",
       "  'language': 'Maltese',\n",
       "  'id': 'BJRF0BWIHJ0Q12A1',\n",
       "  'bio': 'Maecenas tempus neque ut porttitor malesuada. Curabitur ultricies id urna nec ultrices.',\n",
       "  'version': 6.83},\n",
       " {'name': 'Rita Busuttil',\n",
       "  'language': 'Maltese',\n",
       "  'id': '1QLMU6QZ7EYUNNZV',\n",
       "  'bio': 'Phasellus tincidunt sollicitudin posuere. Quisque efficitur vel sapien ut imperdiet. Vestibulum pharetra libero et velit gravida euismod. Maecenas tempus neque ut porttitor malesuada.',\n",
       "  'version': 2.09},\n",
       " {'name': 'Roi Fraguela',\n",
       "  'language': 'Galician',\n",
       "  'id': 'UAT0M2O42E9M4SFT',\n",
       "  'bio': 'Donec congue sapien vel euismod interdum. Lorem ipsum dolor sit amet, consectetur adipiscing elit. Fusce congue aliquam elit ut luctus. Morbi ac tellus erat. Lorem ipsum dolor sit amet, consectetur adipiscing elit.',\n",
       "  'version': 1.08},\n",
       " {'name': 'Matome Molamo',\n",
       "  'language': 'Sesotho sa Leboa',\n",
       "  'id': '7HI0UZZLRB9N5CBI',\n",
       "  'bio': 'Vestibulum pharetra libero et velit gravida euismod. Fusce eu ultrices elit, vel posuere neque. Duis pellentesque ultrices convallis.',\n",
       "  'version': 9.55},\n",
       " {'name': 'Mapula Selokela',\n",
       "  'language': 'Sesotho sa Leboa',\n",
       "  'id': '6ZQTOKQI6K82EE9Q',\n",
       "  'bio': 'Duis pellentesque ultrices convallis. Nam laoreet, nunc non suscipit interdum, justo turpis vestibulum massa, non vulputate ex urna at purus. Ut viverra quis eros eu tincidunt. Proin tempus eu risus nec mattis.',\n",
       "  'version': 5.27},\n",
       " {'name': 'Noa Ervello',\n",
       "  'language': 'Galician',\n",
       "  'id': 'W9FR842CI16V8NU3',\n",
       "  'bio': 'Aliquam sollicitudin ante ligula, eget malesuada nibh efficitur et. Vestibulum ante ipsum primis in faucibus orci luctus et ultrices posuere cubilia curae; Etiam consequat enim lorem, at tincidunt velit ultricies et. Suspendisse sit amet ullamcorper sem. Quisque mauris ligula, efficitur porttitor sodales ac, lacinia non ex.',\n",
       "  'version': 9.33},\n",
       " {'name': 'Naseem Kakepoto',\n",
       "  'language': 'Sindhi',\n",
       "  'id': '6C7HZV4WPV9C9KS6',\n",
       "  'bio': 'Morbi ultricies consequat ligula posuere eleifend. Fusce congue aliquam elit ut luctus. . Phasellus massa ligula, hendrerit eget efficitur eget, tincidunt in ligula.',\n",
       "  'version': 1.4},\n",
       " {'name': 'sayama Amir',\n",
       "  'language': 'Sindhi',\n",
       "  'id': '7K4IJT1X7G0EK9WC',\n",
       "  'bio': 'Morbi ac tellus erat. Aliquam scelerisque pretium tellus, sed accumsan est ultrices id. Maecenas quis nisi nunc. Etiam congue dignissim volutpat. Sed nec suscipit ligula.',\n",
       "  'version': 9.48},\n",
       " {'name': 'Mariña Quintá',\n",
       "  'language': 'Galician',\n",
       "  'id': '7GXC4OQYXX5JJY9F',\n",
       "  'bio': 'Phasellus tincidunt sollicitudin posuere. Morbi ac tellus erat. Nullam ac sodales dolor, eu facilisis dui.',\n",
       "  'version': 8.81},\n",
       " {'name': 'Memet Tursun',\n",
       "  'language': 'Uyghur',\n",
       "  'id': 'KSFMV2JK2D553083',\n",
       "  'bio': 'Vestibulum ante ipsum primis in faucibus orci luctus et ultrices posuere cubilia curae; Etiam consequat enim lorem, at tincidunt velit ultricies et. Morbi finibus dui sed est fringilla ornare. Suspendisse sit amet ullamcorper sem.',\n",
       "  'version': 7.56},\n",
       " {'name': 'Carmen Vella',\n",
       "  'language': 'Maltese',\n",
       "  'id': 'WUALBIMS4E8JS4L2',\n",
       "  'bio': 'Lorem ipsum dolor sit amet, consectetur adipiscing elit. Nunc aliquet sodales nunc a pulvinar. Morbi vitae nisi lacinia, laoreet lorem nec, egestas orci. Vestibulum pharetra libero et velit gravida euismod.',\n",
       "  'version': 4.55},\n",
       " {'name': 'Sobia Khanam',\n",
       "  'language': 'Sindhi',\n",
       "  'id': 'YG1ERFWBJ7TIW35D',\n",
       "  'bio': 'Phasellus tincidunt sollicitudin posuere. Aliquam scelerisque pretium tellus, sed accumsan est ultrices id. Morbi ultricies consequat ligula posuere eleifend. Curabitur sed condimentum felis, ut luctus eros.',\n",
       "  'version': 4.59},\n",
       " {'name': 'Raheela Ali',\n",
       "  'language': 'Sindhi',\n",
       "  'id': '7JGX9SMLD5DE2IMG',\n",
       "  'bio': 'Morbi finibus dui sed est fringilla ornare. Maecenas quis nisi nunc. Maecenas tempus neque ut porttitor malesuada. Curabitur ultricies id urna nec ultrices.',\n",
       "  'version': 4.75},\n",
       " {'name': 'Rashid Rajput',\n",
       "  'language': 'Sindhi',\n",
       "  'id': 'UNBGUGDUATATCLS4',\n",
       "  'bio': 'Donec congue sapien vel euismod interdum. Maecenas quis nisi nunc.',\n",
       "  'version': 8.51},\n",
       " {'name': 'Uxía Feal',\n",
       "  'language': 'Galician',\n",
       "  'id': '35ZPXUNH1M6W3ZJP',\n",
       "  'bio': 'Vestibulum pharetra libero et velit gravida euismod. Vivamus id faucibus velit, id posuere leo.',\n",
       "  'version': 1.31},\n",
       " {'name': 'Andrew Fenech',\n",
       "  'language': 'Maltese',\n",
       "  'id': 'VEYKDKL8L0R0C7GQ',\n",
       "  'bio': 'In sed ultricies lorem. Etiam mauris magna, fermentum vitae aliquet eu, cursus vitae sapien. Sed laoreet posuere sapien, ut feugiat nibh gravida at.',\n",
       "  'version': 2.5},\n",
       " {'name': 'Nicholas Micallef',\n",
       "  'language': 'Maltese',\n",
       "  'id': 'ZYCAI905154LSICR',\n",
       "  'bio': 'Nam tristique feugiat est vitae mollis. Curabitur ultricies id urna nec ultrices. Morbi finibus dui sed est fringilla ornare.',\n",
       "  'version': 6.47},\n",
       " {'name': 'Paul Borg',\n",
       "  'language': 'Maltese',\n",
       "  'id': '8AD5MMJ0TD0NJ6H2',\n",
       "  'bio': 'Phasellus massa ligula, hendrerit eget efficitur eget, tincidunt in ligula. Etiam mauris magna, fermentum vitae aliquet eu, cursus vitae sapien.',\n",
       "  'version': 3.77},\n",
       " {'name': 'Sara Saleem',\n",
       "  'language': 'Sindhi',\n",
       "  'id': '5LPKMTZI7OPSJRBA',\n",
       "  'bio': 'Maecenas tempus neque ut porttitor malesuada. Etiam congue dignissim volutpat. Proin tempus eu risus nec mattis. Morbi vitae nisi lacinia, laoreet lorem nec, egestas orci. Duis commodo orci ut dolor iaculis facilisis.',\n",
       "  'version': 5.31},\n",
       " {'name': 'Xurxo Golán',\n",
       "  'language': 'Galician',\n",
       "  'id': '526ZUSGXEETODHJK',\n",
       "  'bio': 'Ut viverra quis eros eu tincidunt. Morbi finibus dui sed est fringilla ornare. Sed laoreet posuere sapien, ut feugiat nibh gravida at. Duis commodo orci ut dolor iaculis facilisis. In sed ultricies lorem.',\n",
       "  'version': 1.75},\n",
       " {'name': 'Peter Zammit',\n",
       "  'language': 'Maltese',\n",
       "  'id': 'NNRT5QWNWO2WLS5V',\n",
       "  'bio': 'Duis commodo orci ut dolor iaculis facilisis. Maecenas quis nisi nunc.',\n",
       "  'version': 8.23},\n",
       " {'name': 'Maname Mohlare',\n",
       "  'language': 'Sesotho sa Leboa',\n",
       "  'id': 'KZJZ9SD0DIWTIBUC',\n",
       "  'bio': 'Quisque mauris ligula, efficitur porttitor sodales ac, lacinia non ex. Vestibulum pharetra libero et velit gravida euismod. Ut accumsan, est vel fringilla varius, purus augue blandit nisl, eu rhoncus ligula purus vel dolor. Sed eu libero maximus nunc lacinia lobortis et sit amet nisi.',\n",
       "  'version': 8.95},\n",
       " {'name': 'Tshepè Mobu',\n",
       "  'language': 'Sesotho sa Leboa',\n",
       "  'id': '8CH586LQR7ZCP73P',\n",
       "  'bio': 'Lorem ipsum dolor sit amet, consectetur adipiscing elit. Nulla finibus massa at viverra facilisis.',\n",
       "  'version': 7.82},\n",
       " {'name': 'Monica Lohana',\n",
       "  'language': 'Sindhi',\n",
       "  'id': 'KP1C2WN3DN1R3Y52',\n",
       "  'bio': 'Vestibulum ante ipsum primis in faucibus orci luctus et ultrices posuere cubilia curae; Etiam consequat enim lorem, at tincidunt velit ultricies et. Aenean finibus in tortor vel aliquet. Nam laoreet, nunc non suscipit interdum, justo turpis vestibulum massa, non vulputate ex urna at purus. Morbi vitae nisi lacinia, laoreet lorem nec, egestas orci.',\n",
       "  'version': 7.95},\n",
       " {'name': 'Patigul Rahman',\n",
       "  'language': 'Uyghur',\n",
       "  'id': 'NXMNLB0SOYET1VMN',\n",
       "  'bio': 'In sed ultricies lorem. Proin tempus eu risus nec mattis. Nam rutrum sollicitudin ante tempus consequat. Aliquam scelerisque pretium tellus, sed accumsan est ultrices id.',\n",
       "  'version': 2.98},\n",
       " {'name': 'Joanne Scerri',\n",
       "  'language': 'Maltese',\n",
       "  'id': 'H8FJ2WKLGGF3K26U',\n",
       "  'bio': 'Fusce eu ultrices elit, vel posuere neque. Nulla finibus massa at viverra facilisis. Duis commodo orci ut dolor iaculis facilisis. Nam laoreet, nunc non suscipit interdum, justo turpis vestibulum massa, non vulputate ex urna at purus. Phasellus massa ligula, hendrerit eget efficitur eget, tincidunt in ligula.',\n",
       "  'version': 8.4},\n",
       " {'name': 'Ratanang Maphutha',\n",
       "  'language': 'Sesotho sa Leboa',\n",
       "  'id': 'EZXJTQQ2JWPB5DI3',\n",
       "  'bio': 'Vivamus id faucibus velit, id posuere leo. Phasellus tincidunt sollicitudin posuere. Duis pellentesque ultrices convallis.',\n",
       "  'version': 9.17},\n",
       " {'name': 'Kamil Mehmud',\n",
       "  'language': 'Uyghur',\n",
       "  'id': 'M24A9OMYPSX7FD16',\n",
       "  'bio': 'Donec congue sapien vel euismod interdum. Suspendisse potenti. In id elit malesuada, pulvinar mi eu, imperdiet nulla. Nunc aliquet sodales nunc a pulvinar. Ut viverra quis eros eu tincidunt.',\n",
       "  'version': 4.66},\n",
       " {'name': 'Thobile Mbele',\n",
       "  'language': 'isiZulu',\n",
       "  'id': '631M00M8YFFBC5NC',\n",
       "  'bio': 'Nunc aliquet sodales nunc a pulvinar. Proin tempus eu risus nec mattis. Proin tempus eu risus nec mattis. Aliquam scelerisque pretium tellus, sed accumsan est ultrices id. Nam laoreet, nunc non suscipit interdum, justo turpis vestibulum massa, non vulputate ex urna at purus.',\n",
       "  'version': 8.96},\n",
       " {'name': 'Kristján Kristjánsson',\n",
       "  'language': 'Icelandic',\n",
       "  'id': '0WT0ZW50DNSTCHKW',\n",
       "  'bio': 'Quisque maximus sodales mauris ut elementum. Pellentesque massa sem, scelerisque sit amet odio id, cursus tempor urna. Donec congue sapien vel euismod interdum. Phasellus massa ligula, hendrerit eget efficitur eget, tincidunt in ligula. Donec lobortis eleifend condimentum.',\n",
       "  'version': 8.82},\n",
       " {'name': 'Stefán Stefánsson',\n",
       "  'language': 'Icelandic',\n",
       "  'id': '1UOL8UK8BWAOSYTC',\n",
       "  'bio': 'Suspendisse potenti. Duis luctus, lacus eu aliquet convallis, purus elit malesuada ex, vitae rutrum ipsum dui ut magna. Morbi ultricies consequat ligula posuere eleifend.',\n",
       "  'version': 7.87},\n",
       " {'name': 'Preeti Rajdan',\n",
       "  'language': 'Hindi',\n",
       "  'id': '3UN0X88Y4WYH3X8X',\n",
       "  'bio': 'In sed ultricies lorem. Vivamus id faucibus velit, id posuere leo. Duis commodo orci ut dolor iaculis facilisis. Nam rutrum sollicitudin ante tempus consequat.',\n",
       "  'version': 9.17},\n",
       " {'name': 'Sanjay Trivedi',\n",
       "  'language': 'Hindi',\n",
       "  'id': 'CPHR246457BD01KY',\n",
       "  'bio': 'Quisque maximus sodales mauris ut elementum. Morbi ac tellus erat. Maecenas tempus neque ut porttitor malesuada. Cras dictum dolor lacinia lectus vehicula rutrum.',\n",
       "  'version': 8.3},\n",
       " {'name': 'Smiriti Sisodiya',\n",
       "  'language': 'Hindi',\n",
       "  'id': 'X3KWIL5KEHTMCKOM',\n",
       "  'bio': 'Integer vehicula, arcu sit amet egestas efficitur, orci justo interdum massa, eget ullamcorper risus ligula tristique libero. Morbi finibus dui sed est fringilla ornare.',\n",
       "  'version': 3.27},\n",
       " {'name': 'Sandeep Benarjee',\n",
       "  'language': 'Hindi',\n",
       "  'id': '9TS6CIE3UAIFG2IB',\n",
       "  'bio': 'Aliquam sollicitudin ante ligula, eget malesuada nibh efficitur et. Sed nec suscipit ligula. Quisque efficitur vel sapien ut imperdiet. Suspendisse sit amet ullamcorper sem.',\n",
       "  'version': 3.86},\n",
       " {'name': 'Damir Benic',\n",
       "  'language': 'Bosnian',\n",
       "  'id': 'QUNL9VBRHUGNOFMJ',\n",
       "  'bio': '. Ut dictum, ligula eget sagittis maximus, tellus mi varius ex, a accumsan justo tellus vitae leo.',\n",
       "  'version': 9.56},\n",
       " {'name': 'Sigrún Kristjánsdóttir',\n",
       "  'language': 'Icelandic',\n",
       "  'id': 'BT1Q0NUPKHDVCFLE',\n",
       "  'bio': 'Ut dictum, ligula eget sagittis maximus, tellus mi varius ex, a accumsan justo tellus vitae leo. Nulla finibus massa at viverra facilisis.',\n",
       "  'version': 6.78},\n",
       " {'name': 'Basetsana Thage',\n",
       "  'language': 'Setswana',\n",
       "  'id': 'R9P3P2IAN7NY2X2Y',\n",
       "  'bio': 'Pellentesque massa sem, scelerisque sit amet odio id, cursus tempor urna. Nulla finibus massa at viverra facilisis. Phasellus massa ligula, hendrerit eget efficitur eget, tincidunt in ligula.',\n",
       "  'version': 3.97},\n",
       " {'name': 'Rajesh Santoshi',\n",
       "  'language': 'Hindi',\n",
       "  'id': 'OXQTFZHZW8SVE3SY',\n",
       "  'bio': 'Donec lobortis eleifend condimentum. Nam rutrum sollicitudin ante tempus consequat. Nullam sodales convallis mauris, sit amet lobortis magna auctor sit amet.',\n",
       "  'version': 8.35},\n",
       " {'name': 'Margrét Magnúsdóttir',\n",
       "  'language': 'Icelandic',\n",
       "  'id': '1P6VZEDGK2XUU97L',\n",
       "  'bio': 'Sed eu libero maximus nunc lacinia lobortis et sit amet nisi. Duis pellentesque ultrices convallis. Donec lobortis eleifend condimentum.',\n",
       "  'version': 3.76},\n",
       " {'name': 'Makhosi Ngiba',\n",
       "  'language': 'isiZulu',\n",
       "  'id': 'CTM3Y3TZOLC7TPDU',\n",
       "  'bio': 'Ut dictum, ligula eget sagittis maximus, tellus mi varius ex, a accumsan justo tellus vitae leo. Suspendisse sit amet ullamcorper sem. Donec lobortis eleifend condimentum. Aenean finibus in tortor vel aliquet. Proin tempus eu risus nec mattis.',\n",
       "  'version': 1.18},\n",
       " {'name': 'Lorato Bogosi',\n",
       "  'language': 'Setswana',\n",
       "  'id': 'EEZ0KS5E0RXACAIA',\n",
       "  'bio': 'Morbi ultricies consequat ligula posuere eleifend. Nam rutrum sollicitudin ante tempus consequat. Ut dictum, ligula eget sagittis maximus, tellus mi varius ex, a accumsan justo tellus vitae leo. Curabitur ultricies id urna nec ultrices.',\n",
       "  'version': 5.48},\n",
       " {'name': 'Modisaotsile Bolokwe',\n",
       "  'language': 'Setswana',\n",
       "  'id': 'DN068KNEOAQ8LM19',\n",
       "  'bio': 'Nullam ac sodales dolor, eu facilisis dui. Duis commodo orci ut dolor iaculis facilisis. In id elit malesuada, pulvinar mi eu, imperdiet nulla. Donec congue sapien vel euismod interdum. Sed nec suscipit ligula.',\n",
       "  'version': 4.23},\n",
       " {'name': 'Mxolisi Mhlongo',\n",
       "  'language': 'isiZulu',\n",
       "  'id': 'Q2HFB19RPLHIZXKH',\n",
       "  'bio': 'Aliquam scelerisque pretium tellus, sed accumsan est ultrices id. Maecenas tempus neque ut porttitor malesuada. . Duis commodo orci ut dolor iaculis facilisis.',\n",
       "  'version': 7.49},\n",
       " {'name': 'Moni Sisodiya',\n",
       "  'language': 'Hindi',\n",
       "  'id': '3CR7CN74GCKXWUQF',\n",
       "  'bio': 'Vestibulum pharetra libero et velit gravida euismod. Donec congue sapien vel euismod interdum. Fusce congue aliquam elit ut luctus. Ut viverra quis eros eu tincidunt. Phasellus tincidunt sollicitudin posuere.',\n",
       "  'version': 4.58},\n",
       " {'name': 'Anna Jónsdóttir',\n",
       "  'language': 'Icelandic',\n",
       "  'id': 'CKJW1XVW90VWO4Y1',\n",
       "  'bio': 'Etiam mauris magna, fermentum vitae aliquet eu, cursus vitae sapien. Donec lobortis eleifend condimentum. Etiam mauris magna, fermentum vitae aliquet eu, cursus vitae sapien.',\n",
       "  'version': 5.78},\n",
       " {'name': 'Darko Basic',\n",
       "  'language': 'Bosnian',\n",
       "  'id': 'FWT1CZQOIVRJTXRD',\n",
       "  'bio': 'Donec congue sapien vel euismod interdum. Fusce eu ultrices elit, vel posuere neque. Duis luctus, lacus eu aliquet convallis, purus elit malesuada ex, vitae rutrum ipsum dui ut magna.',\n",
       "  'version': 2.27},\n",
       " {'name': 'Kedibonye Magogwe',\n",
       "  'language': 'Setswana',\n",
       "  'id': 'PCT0HLRPZLDSSDU1',\n",
       "  'bio': 'Aliquam sollicitudin ante ligula, eget malesuada nibh efficitur et. Aliquam sollicitudin ante ligula, eget malesuada nibh efficitur et. Quisque maximus sodales mauris ut elementum.',\n",
       "  'version': 5.57},\n",
       " {'name': 'Nobuhle Xaba',\n",
       "  'language': 'isiZulu',\n",
       "  'id': '5K1K8V1OUUFKQ2UV',\n",
       "  'bio': 'Maecenas non arcu nulla. Morbi ac tellus erat.',\n",
       "  'version': 1.18},\n",
       " {'name': 'Monty Dubey',\n",
       "  'language': 'Hindi',\n",
       "  'id': 'B7SF955NFGAEBRXU',\n",
       "  'bio': 'Maecenas quis nisi nunc. Maecenas tempus neque ut porttitor malesuada. Morbi ultricies consequat ligula posuere eleifend. Ut accumsan, est vel fringilla varius, purus augue blandit nisl, eu rhoncus ligula purus vel dolor.',\n",
       "  'version': 6.69},\n",
       " {'name': 'Richa Choukse',\n",
       "  'language': 'Hindi',\n",
       "  'id': 'BADWLBP8CNJNBEC8',\n",
       "  'bio': 'Nunc tincidunt laoreet laoreet. Ut dictum, ligula eget sagittis maximus, tellus mi varius ex, a accumsan justo tellus vitae leo. Curabitur quis commodo quam. Morbi vitae nisi lacinia, laoreet lorem nec, egestas orci.',\n",
       "  'version': 7.8},\n",
       " {'name': 'Dzenan Imamovic',\n",
       "  'language': 'Bosnian',\n",
       "  'id': 'FVAHD0OY99X9DIRW',\n",
       "  'bio': 'Nam tristique feugiat est vitae mollis. Quisque mauris ligula, efficitur porttitor sodales ac, lacinia non ex. Nullam ac sodales dolor, eu facilisis dui. Morbi finibus dui sed est fringilla ornare. Quisque efficitur vel sapien ut imperdiet.',\n",
       "  'version': 1.64},\n",
       " {'name': 'Amol Bhatnagar',\n",
       "  'language': 'Hindi',\n",
       "  'id': '3HPSETKL9VOW2WTL',\n",
       "  'bio': 'Vestibulum pharetra libero et velit gravida euismod. Nam semper gravida nunc, sit amet elementum ipsum.',\n",
       "  'version': 3.28},\n",
       " {'name': 'Ingibjörg Ólafsdóttir',\n",
       "  'language': 'Icelandic',\n",
       "  'id': '9BXLMMM1PQOZRHCR',\n",
       "  'bio': 'Maecenas non arcu nulla. Sed nec suscipit ligula. Fusce congue aliquam elit ut luctus.',\n",
       "  'version': 9.59},\n",
       " {'name': 'Shweta Chourasia',\n",
       "  'language': 'Hindi',\n",
       "  'id': '9GAO62FXPQMUTTLJ',\n",
       "  'bio': 'Duis luctus, lacus eu aliquet convallis, purus elit malesuada ex, vitae rutrum ipsum dui ut magna. Integer vehicula, arcu sit amet egestas efficitur, orci justo interdum massa, eget ullamcorper risus ligula tristique libero. Quisque maximus sodales mauris ut elementum. Sed eu libero maximus nunc lacinia lobortis et sit amet nisi.',\n",
       "  'version': 5.84},\n",
       " {'name': 'Ayanda Ndimande',\n",
       "  'language': 'isiZulu',\n",
       "  'id': 'VPK9MQRKX2L847HQ',\n",
       "  'bio': 'Duis commodo orci ut dolor iaculis facilisis. Nam laoreet, nunc non suscipit interdum, justo turpis vestibulum massa, non vulputate ex urna at purus.',\n",
       "  'version': 2.89},\n",
       " {'name': 'Sigurjón Guðmundsson',\n",
       "  'language': 'Icelandic',\n",
       "  'id': 'IAYT285H2U8JU94F',\n",
       "  'bio': 'Sed eu libero maximus nunc lacinia lobortis et sit amet nisi. Ut viverra quis eros eu tincidunt. Lorem ipsum dolor sit amet, consectetur adipiscing elit. Aliquam sollicitudin ante ligula, eget malesuada nibh efficitur et. Vestibulum ante ipsum primis in faucibus orci luctus et ultrices posuere cubilia curae; Etiam consequat enim lorem, at tincidunt velit ultricies et.',\n",
       "  'version': 4.85},\n",
       " {'name': 'Jóhannes Jóhannsson',\n",
       "  'language': 'Icelandic',\n",
       "  'id': 'J2RAROEJGKMR72I8',\n",
       "  'bio': 'Duis pellentesque ultrices convallis. Nulla finibus massa at viverra facilisis. Ut dictum, ligula eget sagittis maximus, tellus mi varius ex, a accumsan justo tellus vitae leo.',\n",
       "  'version': 4.83},\n",
       " {'name': 'Neo Dikgaka',\n",
       "  'language': 'Setswana',\n",
       "  'id': 'OQRF6Y37N20JILOC',\n",
       "  'bio': 'Nam tristique feugiat est vitae mollis. Sed nec suscipit ligula. Nam laoreet, nunc non suscipit interdum, justo turpis vestibulum massa, non vulputate ex urna at purus. Duis pellentesque ultrices convallis. Maecenas quis nisi nunc.',\n",
       "  'version': 1.07},\n",
       " {'name': 'Sanja Jankovic',\n",
       "  'language': 'Bosnian',\n",
       "  'id': 'HD94EKIPA6WAL05C',\n",
       "  'bio': 'Phasellus tincidunt sollicitudin posuere. Nam laoreet, nunc non suscipit interdum, justo turpis vestibulum massa, non vulputate ex urna at purus. In id elit malesuada, pulvinar mi eu, imperdiet nulla. Donec congue sapien vel euismod interdum. Nullam ac sodales dolor, eu facilisis dui.',\n",
       "  'version': 1.06},\n",
       " {'name': 'Mogorosi Bakwena',\n",
       "  'language': 'Setswana',\n",
       "  'id': 'FTZM8YDJJUH1OEM7',\n",
       "  'bio': 'Vestibulum pharetra libero et velit gravida euismod. Suspendisse sit amet ullamcorper sem.',\n",
       "  'version': 6.03},\n",
       " {'name': 'Ronak Gupta',\n",
       "  'language': 'Hindi',\n",
       "  'id': 'ZYPDGK8UDYJPTRKN',\n",
       "  'bio': 'Sed laoreet posuere sapien, ut feugiat nibh gravida at. Quisque mauris ligula, efficitur porttitor sodales ac, lacinia non ex. In sed ultricies lorem. Pellentesque massa sem, scelerisque sit amet odio id, cursus tempor urna.',\n",
       "  'version': 7.18},\n",
       " {'name': 'Ditiro Kgosi',\n",
       "  'language': 'Setswana',\n",
       "  'id': '67C5ET66U59WYJ6K',\n",
       "  'bio': 'Fusce congue aliquam elit ut luctus. Ut dictum, ligula eget sagittis maximus, tellus mi varius ex, a accumsan justo tellus vitae leo. Cras dictum dolor lacinia lectus vehicula rutrum. Etiam congue dignissim volutpat.',\n",
       "  'version': 4.56},\n",
       " {'name': 'Jelena Maric',\n",
       "  'language': 'Bosnian',\n",
       "  'id': 'JTW9DH3B9QGB39JY',\n",
       "  'bio': 'Vestibulum pharetra libero et velit gravida euismod. Etiam malesuada blandit erat, nec ultricies leo maximus sed.',\n",
       "  'version': 3.39},\n",
       " {'name': 'Esha Sastry',\n",
       "  'language': 'Hindi',\n",
       "  'id': '4OJULHY03Z6XTRMW',\n",
       "  'bio': 'Morbi vitae nisi lacinia, laoreet lorem nec, egestas orci. Nullam ac sodales dolor, eu facilisis dui.',\n",
       "  'version': 5.1},\n",
       " {'name': 'Chetana Hegde',\n",
       "  'language': 'Hindi',\n",
       "  'id': 'J9GS1RODDZL325LK',\n",
       "  'bio': 'Aliquam sollicitudin ante ligula, eget malesuada nibh efficitur et. Nulla finibus massa at viverra facilisis. Nam tristique feugiat est vitae mollis. Phasellus tincidunt sollicitudin posuere.',\n",
       "  'version': 9.99},\n",
       " {'name': 'Rahul Shukla',\n",
       "  'language': 'Hindi',\n",
       "  'id': '2ANVMAVG6YX2VT6N',\n",
       "  'bio': 'Phasellus massa ligula, hendrerit eget efficitur eget, tincidunt in ligula. Phasellus massa ligula, hendrerit eget efficitur eget, tincidunt in ligula.',\n",
       "  'version': 1.72},\n",
       " {'name': 'Samra Delic',\n",
       "  'language': 'Bosnian',\n",
       "  'id': 'BXJWNTJ2TDID61PJ',\n",
       "  'bio': 'Donec pellentesque ultrices mi, non consectetur eros luctus non. Sed nec suscipit ligula.',\n",
       "  'version': 2.5},\n",
       " {'name': 'Mohan Pandey',\n",
       "  'language': 'Hindi',\n",
       "  'id': 'XAHKVLM3I1WSPNIW',\n",
       "  'bio': 'Maecenas quis nisi nunc. Ut dictum, ligula eget sagittis maximus, tellus mi varius ex, a accumsan justo tellus vitae leo. Ut maximus, libero nec facilisis fringilla, ex sem sollicitudin leo, non congue tortor ligula in eros. Morbi ac tellus erat.',\n",
       "  'version': 8.1},\n",
       " {'name': 'Haris Osmanovic',\n",
       "  'language': 'Bosnian',\n",
       "  'id': 'ZDXF5KESMW9XF2TJ',\n",
       "  'bio': 'Nam rutrum sollicitudin ante tempus consequat. Etiam mauris magna, fermentum vitae aliquet eu, cursus vitae sapien.',\n",
       "  'version': 9.41},\n",
       " {'name': 'Kenosi Kwenaemang',\n",
       "  'language': 'Setswana',\n",
       "  'id': 'DX2IYTQ9IMY75W08',\n",
       "  'bio': 'Sed laoreet posuere sapien, ut feugiat nibh gravida at. Donec lobortis eleifend condimentum.',\n",
       "  'version': 9.01},\n",
       " {'name': 'Nontobeko Nzimande',\n",
       "  'language': 'isiZulu',\n",
       "  'id': 'Y9C4HQHTOP74DFZT',\n",
       "  'bio': 'Nullam sodales convallis mauris, sit amet lobortis magna auctor sit amet. Morbi vitae nisi lacinia, laoreet lorem nec, egestas orci. Integer vehicula, arcu sit amet egestas efficitur, orci justo interdum massa, eget ullamcorper risus ligula tristique libero. Nam laoreet, nunc non suscipit interdum, justo turpis vestibulum massa, non vulputate ex urna at purus.',\n",
       "  'version': 4.77},\n",
       " {'name': 'Sanjay Puranik',\n",
       "  'language': 'Hindi',\n",
       "  'id': 'WF2WP6S0HX8GR8GZ',\n",
       "  'bio': 'Ut viverra quis eros eu tincidunt. Vestibulum ante ipsum primis in faucibus orci luctus et ultrices posuere cubilia curae; Etiam consequat enim lorem, at tincidunt velit ultricies et. Nam semper gravida nunc, sit amet elementum ipsum.',\n",
       "  'version': 3.37},\n",
       " {'name': 'Sethunya Mpšwe',\n",
       "  'language': 'Setswana',\n",
       "  'id': '85MVUXVQ5H5HPA4F',\n",
       "  'bio': 'Quisque maximus sodales mauris ut elementum. Duis commodo orci ut dolor iaculis facilisis. Sed eu libero maximus nunc lacinia lobortis et sit amet nisi.',\n",
       "  'version': 1.75},\n",
       " {'name': 'Dileep Chaturvedi',\n",
       "  'language': 'Hindi',\n",
       "  'id': 'O95BY1KDMCEYQRFH',\n",
       "  'bio': 'Phasellus tincidunt sollicitudin posuere. In id elit malesuada, pulvinar mi eu, imperdiet nulla. Vivamus id faucibus velit, id posuere leo. Nullam ac sodales dolor, eu facilisis dui. Ut dictum, ligula eget sagittis maximus, tellus mi varius ex, a accumsan justo tellus vitae leo.',\n",
       "  'version': 4.94},\n",
       " {'name': 'Adnan Spahic',\n",
       "  'language': 'Bosnian',\n",
       "  'id': '97IIDMHAJMBPI4ON',\n",
       "  'bio': 'Duis commodo orci ut dolor iaculis facilisis. Vivamus id faucibus velit, id posuere leo.',\n",
       "  'version': 9.1},\n",
       " {'name': 'Madhur Jain',\n",
       "  'language': 'Hindi',\n",
       "  'id': 'FM300CZ0VU9LTNTE',\n",
       "  'bio': 'Fusce eu ultrices elit, vel posuere neque. Donec congue sapien vel euismod interdum. Vivamus id faucibus velit, id posuere leo. Integer vehicula, arcu sit amet egestas efficitur, orci justo interdum massa, eget ullamcorper risus ligula tristique libero. Aliquam sollicitudin ante ligula, eget malesuada nibh efficitur et.',\n",
       "  'version': 4.99},\n",
       " {'name': 'Nayan Mittal',\n",
       "  'language': 'Hindi',\n",
       "  'id': 'S879KFFIHDNK8GSE',\n",
       "  'bio': 'Suspendisse sit amet ullamcorper sem. In id elit malesuada, pulvinar mi eu, imperdiet nulla. Duis commodo orci ut dolor iaculis facilisis.',\n",
       "  'version': 3.99},\n",
       " {'name': 'Kabelo Morwe',\n",
       "  'language': 'Setswana',\n",
       "  'id': 'JJDPB2983QRVATD3',\n",
       "  'bio': 'Nullam ac sodales dolor, eu facilisis dui. Phasellus massa ligula, hendrerit eget efficitur eget, tincidunt in ligula. . Integer vehicula, arcu sit amet egestas efficitur, orci justo interdum massa, eget ullamcorper risus ligula tristique libero. Curabitur ultricies id urna nec ultrices.',\n",
       "  'version': 8.86},\n",
       " {'name': 'Einar Einarsson',\n",
       "  'language': 'Icelandic',\n",
       "  'id': 'ZWMFEUEBNYTW2WPB',\n",
       "  'bio': 'Etiam mauris magna, fermentum vitae aliquet eu, cursus vitae sapien. Duis pellentesque ultrices convallis. Nullam sodales convallis mauris, sit amet lobortis magna auctor sit amet. Vestibulum ante ipsum primis in faucibus orci luctus et ultrices posuere cubilia curae; Etiam consequat enim lorem, at tincidunt velit ultricies et. Donec congue sapien vel euismod interdum.',\n",
       "  'version': 9.05},\n",
       " {'name': 'Luka Lovren',\n",
       "  'language': 'Bosnian',\n",
       "  'id': '9S4SGEQWBKMRISYZ',\n",
       "  'bio': 'Maecenas tempus neque ut porttitor malesuada. Lorem ipsum dolor sit amet, consectetur adipiscing elit. Curabitur quis commodo quam. Nam rutrum sollicitudin ante tempus consequat.',\n",
       "  'version': 5.22},\n",
       " {'name': 'Sigríður Einarsdóttir',\n",
       "  'language': 'Icelandic',\n",
       "  'id': '4IJVD6OE3C7IX3ZG',\n",
       "  'bio': 'Aenean finibus in tortor vel aliquet. Nam tristique feugiat est vitae mollis.',\n",
       "  'version': 6.63},\n",
       " {'name': 'Sonu Jain',\n",
       "  'language': 'Hindi',\n",
       "  'id': '0OIB5SU9JB2PBJDV',\n",
       "  'bio': 'Phasellus massa ligula, hendrerit eget efficitur eget, tincidunt in ligula. Curabitur ultricies id urna nec ultrices.',\n",
       "  'version': 9.66},\n",
       " {'name': 'Boitumelo Ngwako',\n",
       "  'language': 'Setswana',\n",
       "  'id': 'INZITSS95L9V52JE',\n",
       "  'bio': 'Ut maximus, libero nec facilisis fringilla, ex sem sollicitudin leo, non congue tortor ligula in eros. Aliquam sollicitudin ante ligula, eget malesuada nibh efficitur et. Nam tristique feugiat est vitae mollis. Quisque mauris ligula, efficitur porttitor sodales ac, lacinia non ex. In sed ultricies lorem.',\n",
       "  'version': 9.07},\n",
       " {'name': 'Shilpa Bhatia',\n",
       "  'language': 'Hindi',\n",
       "  'id': 'SU0W3T6TF8G3JY5M',\n",
       "  'bio': 'Morbi ultricies consequat ligula posuere eleifend. Donec pellentesque ultrices mi, non consectetur eros luctus non. Quisque efficitur vel sapien ut imperdiet. Lorem ipsum dolor sit amet, consectetur adipiscing elit.',\n",
       "  'version': 4.43},\n",
       " {'name': 'Modise Tau',\n",
       "  'language': 'Setswana',\n",
       "  'id': 'U6SF3N4JXJEQSC1P',\n",
       "  'bio': 'Vivamus id faucibus velit, id posuere leo. Phasellus massa ligula, hendrerit eget efficitur eget, tincidunt in ligula. Fusce eu ultrices elit, vel posuere neque. Nunc tincidunt laoreet laoreet.',\n",
       "  'version': 6.23},\n",
       " {'name': 'Reena Shrivastav',\n",
       "  'language': 'Hindi',\n",
       "  'id': 'Y57EEOVURYX1OA1P',\n",
       "  'bio': 'Donec lobortis eleifend condimentum. Curabitur ultricies id urna nec ultrices. Maecenas non arcu nulla.',\n",
       "  'version': 3.07},\n",
       " {'name': 'Thabani Ngubani',\n",
       "  'language': 'isiZulu',\n",
       "  'id': 'LR7FI8WEE3SLTW02',\n",
       "  'bio': 'Cras dictum dolor lacinia lectus vehicula rutrum. Nulla finibus massa at viverra facilisis.',\n",
       "  'version': 5.99},\n",
       " {'name': 'Gunnar Gunnarsson',\n",
       "  'language': 'Icelandic',\n",
       "  'id': 'UVI6EKJNMC3VE3WU',\n",
       "  'bio': 'In sed ultricies lorem. Donec congue sapien vel euismod interdum. Duis commodo orci ut dolor iaculis facilisis. Vestibulum ante ipsum primis in faucibus orci luctus et ultrices posuere cubilia curae; Etiam consequat enim lorem, at tincidunt velit ultricies et.',\n",
       "  'version': 8.7},\n",
       " {'name': 'Lejla Selimagic',\n",
       "  'language': 'Bosnian',\n",
       "  'id': 'ESBBT644VZ64SSEN',\n",
       "  'bio': 'Vivamus id faucibus velit, id posuere leo. Etiam congue dignissim volutpat. Donec lobortis eleifend condimentum. Fusce eu ultrices elit, vel posuere neque.',\n",
       "  'version': 5.59},\n",
       " {'name': 'Kgosietsile Bogatsu',\n",
       "  'language': 'Setswana',\n",
       "  'id': '0B8IOVL2NSVJVV6T',\n",
       "  'bio': 'Curabitur quis commodo quam. In id elit malesuada, pulvinar mi eu, imperdiet nulla. Nullam ac sodales dolor, eu facilisis dui. Duis commodo orci ut dolor iaculis facilisis.',\n",
       "  'version': 6.78},\n",
       " {'name': 'Sushant Bhargav',\n",
       "  'language': 'Hindi',\n",
       "  'id': 'PRWA7HE1GJ7OCYQM',\n",
       "  'bio': 'Proin tempus eu risus nec mattis. Maecenas tempus neque ut porttitor malesuada. Quisque efficitur vel sapien ut imperdiet. Quisque efficitur vel sapien ut imperdiet.',\n",
       "  'version': 5.36},\n",
       " {'name': 'Monika Nayak',\n",
       "  'language': 'Hindi',\n",
       "  'id': 'RO0ZCWFTY6MJ66AZ',\n",
       "  'bio': 'Sed eu libero maximus nunc lacinia lobortis et sit amet nisi. Quisque efficitur vel sapien ut imperdiet. Nam rutrum sollicitudin ante tempus consequat. Curabitur ultricies id urna nec ultrices. Phasellus massa ligula, hendrerit eget efficitur eget, tincidunt in ligula.',\n",
       "  'version': 7.58},\n",
       " {'name': 'Guðrún Guðmundsdóttir',\n",
       "  'language': 'Icelandic',\n",
       "  'id': 'R1TRJT5TWANYO88D',\n",
       "  'bio': 'Maecenas non arcu nulla. In sed ultricies lorem.',\n",
       "  'version': 4.65},\n",
       " {'name': 'Shakti Menon',\n",
       "  'language': 'Hindi',\n",
       "  'id': 'J1NSHQXRWA7CY0AZ',\n",
       "  'bio': 'Vivamus id faucibus velit, id posuere leo. Etiam malesuada blandit erat, nec ultricies leo maximus sed. Nam semper gravida nunc, sit amet elementum ipsum.',\n",
       "  'version': 5.16},\n",
       " {'name': 'Ndumiso Hlatshwayo',\n",
       "  'language': 'isiZulu',\n",
       "  'id': '533XA8H67VO8CSGQ',\n",
       "  'bio': 'Quisque efficitur vel sapien ut imperdiet. Nam semper gravida nunc, sit amet elementum ipsum. Donec pellentesque ultrices mi, non consectetur eros luctus non. Vestibulum pharetra libero et velit gravida euismod. Lorem ipsum dolor sit amet, consectetur adipiscing elit.',\n",
       "  'version': 5.24},\n",
       " {'name': 'Lucky Shastry',\n",
       "  'language': 'Hindi',\n",
       "  'id': '3OBF3U08WI1QF63N',\n",
       "  'bio': 'Morbi ultricies consequat ligula posuere eleifend. Suspendisse sit amet ullamcorper sem.',\n",
       "  'version': 7.86},\n",
       " {'name': 'Pule Matlhaku',\n",
       "  'language': 'Setswana',\n",
       "  'id': 'UPATVXM44DAFUDI7',\n",
       "  'bio': 'Maecenas tempus neque ut porttitor malesuada. Vivamus id faucibus velit, id posuere leo. Morbi finibus dui sed est fringilla ornare.',\n",
       "  'version': 4.12},\n",
       " {'name': 'Raju Rathore',\n",
       "  'language': 'Hindi',\n",
       "  'id': 'QQMNYP788DEFG4IS',\n",
       "  'bio': 'Nam rutrum sollicitudin ante tempus consequat. Pellentesque massa sem, scelerisque sit amet odio id, cursus tempor urna. Integer vehicula, arcu sit amet egestas efficitur, orci justo interdum massa, eget ullamcorper risus ligula tristique libero.',\n",
       "  'version': 9.86},\n",
       " {'name': 'Xolani Ngcobo',\n",
       "  'language': 'isiZulu',\n",
       "  'id': 'SXWZ4IYT5VZA6WEE',\n",
       "  'bio': 'Ut dictum, ligula eget sagittis maximus, tellus mi varius ex, a accumsan justo tellus vitae leo. Fusce eu ultrices elit, vel posuere neque. Curabitur quis commodo quam.',\n",
       "  'version': 4.77},\n",
       " {'name': 'Meenakshi Benjaree',\n",
       "  'language': 'Hindi',\n",
       "  'id': '933PPBA946YX1K4X',\n",
       "  'bio': 'Maecenas tempus neque ut porttitor malesuada. Duis pellentesque ultrices convallis.',\n",
       "  'version': 7.9},\n",
       " {'name': 'Ólafur Magnússon',\n",
       "  'language': 'Icelandic',\n",
       "  'id': 'NWY9HV455M3W8QKY',\n",
       "  'bio': 'Morbi ultricies consequat ligula posuere eleifend. Duis pellentesque ultrices convallis. Vestibulum pharetra libero et velit gravida euismod. Ut dictum, ligula eget sagittis maximus, tellus mi varius ex, a accumsan justo tellus vitae leo. Aliquam sollicitudin ante ligula, eget malesuada nibh efficitur et.',\n",
       "  'version': 2.09},\n",
       " {'name': 'Samir Simic',\n",
       "  'language': 'Bosnian',\n",
       "  'id': '6H2IO7A62ZVUXGKZ',\n",
       "  'bio': 'Etiam malesuada blandit erat, nec ultricies leo maximus sed. Quisque maximus sodales mauris ut elementum. Lorem ipsum dolor sit amet, consectetur adipiscing elit. Lorem ipsum dolor sit amet, consectetur adipiscing elit.',\n",
       "  'version': 6.93},\n",
       " {'name': 'Swarnika Soni',\n",
       "  'language': 'Hindi',\n",
       "  'id': '4GJF8C6P1Y5RFPMC',\n",
       "  'bio': 'Ut maximus, libero nec facilisis fringilla, ex sem sollicitudin leo, non congue tortor ligula in eros. Nunc tincidunt laoreet laoreet.',\n",
       "  'version': 4.82},\n",
       " {'name': 'Lavanya Mittal',\n",
       "  'language': 'Hindi',\n",
       "  'id': '4Z09CO5IJH7CEUD2',\n",
       "  'bio': 'Suspendisse sit amet ullamcorper sem. Ut dictum, ligula eget sagittis maximus, tellus mi varius ex, a accumsan justo tellus vitae leo.',\n",
       "  'version': 1.08},\n",
       " {'name': 'Bontle Mokgatle',\n",
       "  'language': 'Setswana',\n",
       "  'id': '4Y497GAOTAFUJDIC',\n",
       "  'bio': 'Maecenas non arcu nulla. Lorem ipsum dolor sit amet, consectetur adipiscing elit.',\n",
       "  'version': 1.92},\n",
       " {'name': 'Prashant Chourey',\n",
       "  'language': 'Hindi',\n",
       "  'id': 'J4NMMNAALGOIZY8V',\n",
       "  'bio': 'Etiam malesuada blandit erat, nec ultricies leo maximus sed. Suspendisse potenti. Phasellus massa ligula, hendrerit eget efficitur eget, tincidunt in ligula. Ut viverra quis eros eu tincidunt.',\n",
       "  'version': 8.59},\n",
       " {'name': 'Prakash Malviya',\n",
       "  'language': 'Hindi',\n",
       "  'id': 'P442H9CEHIU6HAFV',\n",
       "  'bio': 'Proin tempus eu risus nec mattis. Integer vehicula, arcu sit amet egestas efficitur, orci justo interdum massa, eget ullamcorper risus ligula tristique libero. Vivamus id faucibus velit, id posuere leo. In id elit malesuada, pulvinar mi eu, imperdiet nulla. Donec pellentesque ultrices mi, non consectetur eros luctus non.',\n",
       "  'version': 8.21},\n",
       " {'name': 'Ivana Kalic',\n",
       "  'language': 'Bosnian',\n",
       "  'id': '31VIE8WWDJWKE5YL',\n",
       "  'bio': 'Quisque efficitur vel sapien ut imperdiet. Duis luctus, lacus eu aliquet convallis, purus elit malesuada ex, vitae rutrum ipsum dui ut magna.',\n",
       "  'version': 6.99},\n",
       " {'name': 'Ajeet Vasav',\n",
       "  'language': 'Hindi',\n",
       "  'id': 'ODNPTWVSRBPII0BH',\n",
       "  'bio': 'Aenean finibus in tortor vel aliquet. Integer vehicula, arcu sit amet egestas efficitur, orci justo interdum massa, eget ullamcorper risus ligula tristique libero. Morbi finibus dui sed est fringilla ornare. Morbi finibus dui sed est fringilla ornare. Ut maximus, libero nec facilisis fringilla, ex sem sollicitudin leo, non congue tortor ligula in eros.',\n",
       "  'version': 3.6},\n",
       " {'name': 'Jóhanna Jóhannsdóttir',\n",
       "  'language': 'Icelandic',\n",
       "  'id': 'ZI21GM8B08FVLMF0',\n",
       "  'bio': 'In sed ultricies lorem. Etiam malesuada blandit erat, nec ultricies leo maximus sed.',\n",
       "  'version': 4.93},\n",
       " {'name': 'Seema Thapar',\n",
       "  'language': 'Hindi',\n",
       "  'id': 'IZSO10C5ZHVYQ5O2',\n",
       "  'bio': 'Duis commodo orci ut dolor iaculis facilisis. Etiam mauris magna, fermentum vitae aliquet eu, cursus vitae sapien. Maecenas tempus neque ut porttitor malesuada. Phasellus massa ligula, hendrerit eget efficitur eget, tincidunt in ligula. Vestibulum ante ipsum primis in faucibus orci luctus et ultrices posuere cubilia curae; Etiam consequat enim lorem, at tincidunt velit ultricies et.',\n",
       "  'version': 1.79},\n",
       " {'name': 'María Stefánsdóttir',\n",
       "  'language': 'Icelandic',\n",
       "  'id': 'KWH2RVHSB25MYGL9',\n",
       "  'bio': 'In id elit malesuada, pulvinar mi eu, imperdiet nulla. Sed eu libero maximus nunc lacinia lobortis et sit amet nisi. Ut viverra quis eros eu tincidunt. Nam rutrum sollicitudin ante tempus consequat.',\n",
       "  'version': 5.21},\n",
       " {'name': 'Denis Terzic',\n",
       "  'language': 'Bosnian',\n",
       "  'id': '1WQO4VGBS2U7DOSL',\n",
       "  'bio': 'Ut accumsan, est vel fringilla varius, purus augue blandit nisl, eu rhoncus ligula purus vel dolor. Curabitur quis commodo quam. Curabitur ultricies id urna nec ultrices. Nam rutrum sollicitudin ante tempus consequat. Morbi finibus dui sed est fringilla ornare.',\n",
       "  'version': 6.32},\n",
       " {'name': 'Ana Livic',\n",
       "  'language': 'Bosnian',\n",
       "  'id': '8JYVK7SM07YQOVQ3',\n",
       "  'bio': 'Nam tristique feugiat est vitae mollis. Aliquam sollicitudin ante ligula, eget malesuada nibh efficitur et. Pellentesque massa sem, scelerisque sit amet odio id, cursus tempor urna. Proin tempus eu risus nec mattis. Sed eu libero maximus nunc lacinia lobortis et sit amet nisi.',\n",
       "  'version': 5.93},\n",
       " {'name': 'Bukhosi Bhengu',\n",
       "  'language': 'isiZulu',\n",
       "  'id': 'AFYXL0UNGMU0B1H2',\n",
       "  'bio': 'Curabitur quis commodo quam. Curabitur sed condimentum felis, ut luctus eros. Aliquam scelerisque pretium tellus, sed accumsan est ultrices id. Aliquam scelerisque pretium tellus, sed accumsan est ultrices id. Sed nec suscipit ligula.',\n",
       "  'version': 9.37},\n",
       " {'name': 'Siyabonga Sithole',\n",
       "  'language': 'isiZulu',\n",
       "  'id': 'NJDX77JXV51CNGF5',\n",
       "  'bio': 'Quisque mauris ligula, efficitur porttitor sodales ac, lacinia non ex. Sed laoreet posuere sapien, ut feugiat nibh gravida at.',\n",
       "  'version': 8.22},\n",
       " {'name': 'Meena Dubey',\n",
       "  'language': 'Hindi',\n",
       "  'id': 'GCJGYXSPDEFF9BTN',\n",
       "  'bio': 'Vestibulum ante ipsum primis in faucibus orci luctus et ultrices posuere cubilia curae; Etiam consequat enim lorem, at tincidunt velit ultricies et. Donec lobortis eleifend condimentum. Morbi ac tellus erat. Maecenas quis nisi nunc.',\n",
       "  'version': 2.95},\n",
       " {'name': 'Chandrika Gupta',\n",
       "  'language': 'Hindi',\n",
       "  'id': '7KFJHS86WKTL6Q12',\n",
       "  'bio': 'Aliquam sollicitudin ante ligula, eget malesuada nibh efficitur et. Suspendisse sit amet ullamcorper sem. Etiam mauris magna, fermentum vitae aliquet eu, cursus vitae sapien.',\n",
       "  'version': 5.35},\n",
       " {'name': 'Akhilesh Khare',\n",
       "  'language': 'Hindi',\n",
       "  'id': 'ATINHMT01VNMMDCP',\n",
       "  'bio': 'Donec congue sapien vel euismod interdum. Suspendisse potenti. Nullam ac sodales dolor, eu facilisis dui. Nam tristique feugiat est vitae mollis. Curabitur ultricies id urna nec ultrices.',\n",
       "  'version': 3.68},\n",
       " {'name': 'Motsumi Basiang',\n",
       "  'language': 'Setswana',\n",
       "  'id': 'MUELSFQENUOHGBZ3',\n",
       "  'bio': 'Cras dictum dolor lacinia lectus vehicula rutrum. Ut maximus, libero nec facilisis fringilla, ex sem sollicitudin leo, non congue tortor ligula in eros. Donec congue sapien vel euismod interdum.',\n",
       "  'version': 5.23},\n",
       " {'name': 'Neha Benjaree',\n",
       "  'language': 'Hindi',\n",
       "  'id': '5VTSZUD0SA9JVL40',\n",
       "  'bio': 'Morbi ultricies consequat ligula posuere eleifend. Nulla finibus massa at viverra facilisis. Nam tristique feugiat est vitae mollis.',\n",
       "  'version': 5.73},\n",
       " {'name': 'Kristín Sigurðardóttir',\n",
       "  'language': 'Icelandic',\n",
       "  'id': 'ZP5TBBYX6RI2UJ31',\n",
       "  'bio': 'Cras dictum dolor lacinia lectus vehicula rutrum. Cras dictum dolor lacinia lectus vehicula rutrum. Duis luctus, lacus eu aliquet convallis, purus elit malesuada ex, vitae rutrum ipsum dui ut magna. Fusce congue aliquam elit ut luctus. Duis commodo orci ut dolor iaculis facilisis.',\n",
       "  'version': 2.8},\n",
       " {'name': 'Rohini Vasav',\n",
       "  'language': 'Hindi',\n",
       "  'id': 'UEFML43TCGS04KWM',\n",
       "  'bio': 'Ut accumsan, est vel fringilla varius, purus augue blandit nisl, eu rhoncus ligula purus vel dolor. Ut maximus, libero nec facilisis fringilla, ex sem sollicitudin leo, non congue tortor ligula in eros. Nam rutrum sollicitudin ante tempus consequat. Aliquam scelerisque pretium tellus, sed accumsan est ultrices id. Suspendisse sit amet ullamcorper sem.',\n",
       "  'version': 9.3},\n",
       " {'name': 'Sunil Kapoor',\n",
       "  'language': 'Hindi',\n",
       "  'id': 'VY2A0APGVHK5NAW2',\n",
       "  'bio': 'Proin tempus eu risus nec mattis. Ut dictum, ligula eget sagittis maximus, tellus mi varius ex, a accumsan justo tellus vitae leo. In id elit malesuada, pulvinar mi eu, imperdiet nulla.',\n",
       "  'version': 8.04},\n",
       " {'name': 'Zamokuhle Zulu',\n",
       "  'language': 'isiZulu',\n",
       "  'id': 'XU7BX2F8M5PVZ1EF',\n",
       "  'bio': 'Etiam congue dignissim volutpat. Phasellus tincidunt sollicitudin posuere. Phasellus tincidunt sollicitudin posuere. Nam tristique feugiat est vitae mollis.',\n",
       "  'version': 8.39},\n",
       " {'name': 'Bhupesh Menon',\n",
       "  'language': 'Hindi',\n",
       "  'id': '0CEPNRDV98KT3ORP',\n",
       "  'bio': 'Maecenas tempus neque ut porttitor malesuada. Phasellus massa ligula, hendrerit eget efficitur eget, tincidunt in ligula. Quisque mauris ligula, efficitur porttitor sodales ac, lacinia non ex. Maecenas quis nisi nunc.',\n",
       "  'version': 2.69}]"
      ]
     },
     "execution_count": 120,
     "metadata": {},
     "output_type": "execute_result"
    }
   ],
   "source": [
    "import json\n",
    "from urllib.request import urlopen\n",
    "\n",
    "URL = \"https://microsoftedge.github.io/Demos/json-dummy-data/64KB.json\"\n",
    "\n",
    "res = urlopen(URL)\n",
    "data = json.load(res)\n",
    "data"
   ]
  },
  {
   "cell_type": "code",
   "execution_count": 123,
   "metadata": {},
   "outputs": [
    {
     "data": {
      "text/plain": [
       "'{\"host\": \"localhost\", \"port\": 5678, \"users\": [\"john\", \"smith\", \"joe\", \"sam\"], \"active\": false, \"admin\": null}'"
      ]
     },
     "execution_count": 123,
     "metadata": {},
     "output_type": "execute_result"
    }
   ],
   "source": [
    "config = {\n",
    "    \"host\": \"localhost\",\n",
    "    \"port\": 5678,\n",
    "    \"users\": (\"john\", \"smith\", \"joe\", \"sam\"),\n",
    "    \"active\": False,\n",
    "    \"admin\": None\n",
    "}\n",
    "\n",
    "json.dumps(config)"
   ]
  },
  {
   "cell_type": "code",
   "execution_count": 124,
   "metadata": {},
   "outputs": [],
   "source": [
    "with open(\"testfile.json\", \"w\") as outs:\n",
    "    json.dump(config, outs)"
   ]
  },
  {
   "cell_type": "code",
   "execution_count": 126,
   "metadata": {},
   "outputs": [
    {
     "ename": "AttributeError",
     "evalue": "module 'tomllib' has no attribute 'dump'",
     "output_type": "error",
     "traceback": [
      "\u001b[1;31m---------------------------------------------------------------------------\u001b[0m",
      "\u001b[1;31mAttributeError\u001b[0m                            Traceback (most recent call last)",
      "Cell \u001b[1;32mIn[126], line 4\u001b[0m\n\u001b[0;32m      1\u001b[0m \u001b[38;5;28;01mimport\u001b[39;00m \u001b[38;5;21;01mtomllib\u001b[39;00m \u001b[38;5;28;01mas\u001b[39;00m \u001b[38;5;21;01mtoml\u001b[39;00m\n\u001b[0;32m      3\u001b[0m \u001b[38;5;28;01mwith\u001b[39;00m \u001b[38;5;28mopen\u001b[39m(\u001b[38;5;124m\"\u001b[39m\u001b[38;5;124mtestfile.toml\u001b[39m\u001b[38;5;124m\"\u001b[39m, \u001b[38;5;124m\"\u001b[39m\u001b[38;5;124mw\u001b[39m\u001b[38;5;124m\"\u001b[39m) \u001b[38;5;28;01mas\u001b[39;00m outs:\n\u001b[1;32m----> 4\u001b[0m     toml\u001b[38;5;241m.\u001b[39mdump(config, outs)\n",
      "\u001b[1;31mAttributeError\u001b[0m: module 'tomllib' has no attribute 'dump'"
     ]
    }
   ],
   "source": [
    "import tomllib as toml\n",
    "\n",
    "with open(\"testfile.toml\", \"w\") as outs:\n",
    "    toml.dump(config, outs)"
   ]
  },
  {
   "cell_type": "code",
   "execution_count": 127,
   "metadata": {},
   "outputs": [
    {
     "name": "stderr",
     "output_type": "stream",
     "text": [
      "ERROR:root:this is an error message\n",
      "WARNING:root:this is a warning message\n"
     ]
    }
   ],
   "source": [
    "import logging\n",
    "logging.basicConfig\n",
    "logging.info(\"this is informational message\")\n",
    "logging.error(\"this is an error message\")\n",
    "logging.warning(\"this is a warning message\")"
   ]
  },
  {
   "cell_type": "code",
   "execution_count": 129,
   "metadata": {},
   "outputs": [
    {
     "name": "stderr",
     "output_type": "stream",
     "text": [
      "ERROR:root:this is an error message\n",
      "WARNING:root:this is a warning message\n"
     ]
    }
   ],
   "source": [
    "logging.basicConfig(filename=\"test.log\", level=logging.DEBUG)\n",
    "logging.info(\"this is informational message\")\n",
    "logging.error(\"this is an error message\")\n",
    "logging.warning(\"this is a warning message\")"
   ]
  },
  {
   "cell_type": "code",
   "execution_count": 131,
   "metadata": {},
   "outputs": [
    {
     "name": "stdout",
     "output_type": "stream",
     "text": [
      "('john', 'IT')\n",
      "('sam', 'Marketing')\n",
      "('joe', 'Operations')\n"
     ]
    }
   ],
   "source": [
    "import sqlite3 # DBAPI reference implement for SQLite3 database\n",
    "\n",
    "create_sql = \"\"\"CREATE TABLE users (\n",
    "                             name VARCHAR(32),\n",
    "                             dept VARCHAR(32)\n",
    ")\n",
    "\"\"\"\n",
    "\n",
    "insert_sql = \"\"\"INSERT INTO users (name, dept) VALUES (?,?)\"\"\"\n",
    "\n",
    "users = \"john\", \"sam\", \"joe\"\n",
    "depts = \"IT\", \"Marketing\", \"Operations\"\n",
    "\n",
    "with sqlite3.connect(\"testdb\") as conn:\n",
    "    cur = conn.cursor()\n",
    "    try:\n",
    "        cur.execute(create_sql)\n",
    "\n",
    "        for rec in zip(users, depts):\n",
    "            cur.execute(insert_sql, rec)\n",
    "    except:\n",
    "        conn.rollback()\n",
    "    else:\n",
    "        conn.commit()\n",
    "\n",
    "    cur.execute(\"SELECT * FROM users\")\n",
    "    for rec in cur:\n",
    "        print(rec)\n"
   ]
  }
 ],
 "metadata": {
  "kernelspec": {
   "display_name": "base",
   "language": "python",
   "name": "python3"
  },
  "language_info": {
   "codemirror_mode": {
    "name": "ipython",
    "version": 3
   },
   "file_extension": ".py",
   "mimetype": "text/x-python",
   "name": "python",
   "nbconvert_exporter": "python",
   "pygments_lexer": "ipython3",
   "version": "3.12.4"
  }
 },
 "nbformat": 4,
 "nbformat_minor": 2
}
