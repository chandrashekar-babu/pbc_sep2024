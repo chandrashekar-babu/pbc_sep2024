{
 "cells": [
  {
   "cell_type": "markdown",
   "metadata": {},
   "source": [
    "# Python Boot Camp - September 2024\n",
    "### Day 4 (September 26th 2024)\n",
    "\n",
    "#### Planned topics for the day\n",
    " - Lists, Sets and Dictionaries\n",
    " - Functions and function prototypes"
   ]
  },
  {
   "cell_type": "code",
   "execution_count": 4,
   "metadata": {},
   "outputs": [
    {
     "data": {
      "text/plain": [
       "[10, 20, 30, 40, 50, 60]"
      ]
     },
     "execution_count": 4,
     "metadata": {},
     "output_type": "execute_result"
    }
   ],
   "source": [
    "a = [10, 20, 30, 40, 50]\n",
    "#a.insert(len(a), 60)\n",
    "a.append(60)\n",
    "a"
   ]
  },
  {
   "cell_type": "code",
   "execution_count": 7,
   "metadata": {},
   "outputs": [
    {
     "name": "stdout",
     "output_type": "stream",
     "text": [
      "[10, 20, 30, 40, [55, 66, 77]] 5\n"
     ]
    }
   ],
   "source": [
    "a = [10, 20, 30, 40]\n",
    "b = [55, 66, 77]\n",
    "\n",
    "a.append(b)\n",
    "print(a, len(a))\n"
   ]
  },
  {
   "cell_type": "code",
   "execution_count": 10,
   "metadata": {},
   "outputs": [
    {
     "name": "stdout",
     "output_type": "stream",
     "text": [
      "[10, 20, 30, 40, 55, 66, 77] 7\n"
     ]
    },
    {
     "data": {
      "text/plain": [
       "[10, 20, 30, 40, 55, 66, 77, 'h', 'e', 'l', 'l', 'o']"
      ]
     },
     "execution_count": 10,
     "metadata": {},
     "output_type": "execute_result"
    }
   ],
   "source": [
    "a = [10, 20, 30, 40]\n",
    "b = [55, 66, 77]\n",
    "\n",
    "a.extend(b)\n",
    "print(a, len(a))\n",
    "a.extend(\"hello\")\n",
    "a\n"
   ]
  },
  {
   "cell_type": "code",
   "execution_count": 12,
   "metadata": {},
   "outputs": [
    {
     "name": "stdout",
     "output_type": "stream",
     "text": [
      "(10, 20, 30) (40, 50, 60)\n",
      "1965957607680 (10, 20, 30)\n",
      "1965956917824 (10, 20, 30, 40, 50, 60)\n"
     ]
    }
   ],
   "source": [
    "a = 10, 20, 30\n",
    "b = 40, 50, 60\n",
    "print(a, b)\n",
    "print(id(a), a)\n",
    "a += b  # a = a + b\n",
    "print(id(a), a)"
   ]
  },
  {
   "cell_type": "code",
   "execution_count": 13,
   "metadata": {},
   "outputs": [
    {
     "name": "stdout",
     "output_type": "stream",
     "text": [
      "[10, 20, 30] (40, 50, 60)\n",
      "1965957692352 [10, 20, 30]\n",
      "1965957692352 [10, 20, 30, 40, 50, 60]\n"
     ]
    }
   ],
   "source": [
    "a = [10, 20, 30]\n",
    "b = 40, 50, 60\n",
    "print(a, b)\n",
    "print(id(a), a)\n",
    "a += b  # a.__iadd__(b) -> list.__iadd__(a, b)\n",
    "print(id(a), a)"
   ]
  },
  {
   "cell_type": "code",
   "execution_count": 15,
   "metadata": {},
   "outputs": [
    {
     "name": "stdout",
     "output_type": "stream",
     "text": [
      "[11, 22, 33, 44, 55, 66, 77]\n",
      "[22, 33, 44, 55, 66, 77]\n"
     ]
    }
   ],
   "source": [
    "a = [11, 22, 33, 44, 55, 66, 77]\n",
    "print(a)\n",
    "del a[0]\n",
    "print(a)"
   ]
  },
  {
   "cell_type": "code",
   "execution_count": 16,
   "metadata": {},
   "outputs": [
    {
     "ename": "SyntaxError",
     "evalue": "invalid syntax (2057329133.py, line 3)",
     "output_type": "error",
     "traceback": [
      "\u001b[1;36m  Cell \u001b[1;32mIn[16], line 3\u001b[1;36m\u001b[0m\n\u001b[1;33m    v = del a[0]\u001b[0m\n\u001b[1;37m        ^\u001b[0m\n\u001b[1;31mSyntaxError\u001b[0m\u001b[1;31m:\u001b[0m invalid syntax\n"
     ]
    }
   ],
   "source": [
    "a = [11, 22, 33, 44, 55, 66, 77]\n",
    "print(a)\n",
    "v = del a[0]\n",
    "print(a)"
   ]
  },
  {
   "cell_type": "code",
   "execution_count": 19,
   "metadata": {},
   "outputs": [
    {
     "name": "stdout",
     "output_type": "stream",
     "text": [
      "[11, 22, 33, 44, 55, 66, 77]\n",
      "a=[22, 33, 44, 55, 66, 77], v=11\n",
      "a=[33, 44, 55, 66, 77], v=22\n"
     ]
    }
   ],
   "source": [
    "a = [11, 22, 33, 44, 55, 66, 77]\n",
    "print(a)\n",
    "v = a.pop(0)\n",
    "print(f\"{a=}, {v=}\")\n",
    "\n",
    "v = a.pop(0)\n",
    "print(f\"{a=}, {v=}\")\n"
   ]
  },
  {
   "cell_type": "code",
   "execution_count": 21,
   "metadata": {},
   "outputs": [
    {
     "name": "stdout",
     "output_type": "stream",
     "text": [
      "[11, 22, 33, 44, 55, 66, 77]\n"
     ]
    },
    {
     "ename": "IndexError",
     "evalue": "pop index out of range",
     "output_type": "error",
     "traceback": [
      "\u001b[1;31m---------------------------------------------------------------------------\u001b[0m",
      "\u001b[1;31mIndexError\u001b[0m                                Traceback (most recent call last)",
      "Cell \u001b[1;32mIn[21], line 3\u001b[0m\n\u001b[0;32m      1\u001b[0m a \u001b[38;5;241m=\u001b[39m [\u001b[38;5;241m11\u001b[39m, \u001b[38;5;241m22\u001b[39m, \u001b[38;5;241m33\u001b[39m, \u001b[38;5;241m44\u001b[39m, \u001b[38;5;241m55\u001b[39m, \u001b[38;5;241m66\u001b[39m, \u001b[38;5;241m77\u001b[39m]\n\u001b[0;32m      2\u001b[0m \u001b[38;5;28mprint\u001b[39m(a)\n\u001b[1;32m----> 3\u001b[0m v \u001b[38;5;241m=\u001b[39m a\u001b[38;5;241m.\u001b[39mpop(\u001b[38;5;241m8\u001b[39m)\n\u001b[0;32m      4\u001b[0m \u001b[38;5;28mprint\u001b[39m(\u001b[38;5;124mf\u001b[39m\u001b[38;5;124m\"\u001b[39m\u001b[38;5;132;01m{\u001b[39;00ma\u001b[38;5;132;01m=}\u001b[39;00m\u001b[38;5;124m, \u001b[39m\u001b[38;5;132;01m{\u001b[39;00mv\u001b[38;5;132;01m=}\u001b[39;00m\u001b[38;5;124m\"\u001b[39m)\n",
      "\u001b[1;31mIndexError\u001b[0m: pop index out of range"
     ]
    }
   ],
   "source": [
    "a = [11, 22, 33, 44, 55, 66, 77]\n",
    "print(a)\n",
    "v = a.pop(8)\n",
    "print(f\"{a=}, {v=}\")\n"
   ]
  },
  {
   "cell_type": "code",
   "execution_count": 22,
   "metadata": {},
   "outputs": [
    {
     "name": "stdout",
     "output_type": "stream",
     "text": [
      "[11, 22, 33, 44, 55, 66, 77]\n",
      "a=[11, 22, 33, 44, 55, 66], v=77\n"
     ]
    }
   ],
   "source": [
    "a = [11, 22, 33, 44, 55, 66, 77]\n",
    "print(a)\n",
    "v = a.pop()\n",
    "print(f\"{a=}, {v=}\")\n"
   ]
  },
  {
   "cell_type": "code",
   "execution_count": 23,
   "metadata": {},
   "outputs": [
    {
     "name": "stdout",
     "output_type": "stream",
     "text": [
      "a=[11, 22, 33], v=44\n",
      "a=[11, 22], v=33\n",
      "a=[11], v=22\n",
      "a=[], v=11\n"
     ]
    }
   ],
   "source": [
    "a = [11, 22, 33, 44]\n",
    "\n",
    "while a:\n",
    "    v = a.pop()\n",
    "    print(f\"{a=}, {v=}\")"
   ]
  },
  {
   "cell_type": "code",
   "execution_count": 24,
   "metadata": {},
   "outputs": [
    {
     "name": "stdout",
     "output_type": "stream",
     "text": [
      "stack=[34]\n",
      "stack=[34, 56]\n",
      "stack=[34, 56, 12]\n",
      "stack=[34, 56, 12, 45]\n",
      "stack=[34, 56, 12, 45, 38]\n",
      "stack=[34, 56, 12, 45, 38, 17]\n",
      "v=17, stack=[34, 56, 12, 45, 38]\n",
      "v=38, stack=[34, 56, 12, 45]\n",
      "v=45, stack=[34, 56, 12]\n",
      "v=12, stack=[34, 56]\n",
      "v=56, stack=[34]\n",
      "v=34, stack=[]\n"
     ]
    }
   ],
   "source": [
    "# Implementing a stack using a list\n",
    "stack = []\n",
    "\n",
    "# Push items into the stack\n",
    "while (v := int(input(\"Enter a value (or 0 to stop): \"))):\n",
    "    stack.append(v)\n",
    "    print(f\"{stack=}\")\n",
    "\n",
    "# Pop items from the stack\n",
    "while stack:\n",
    "    v = stack.pop()\n",
    "    print(f\"{v=}, {stack=}\")"
   ]
  },
  {
   "cell_type": "code",
   "execution_count": 25,
   "metadata": {},
   "outputs": [
    {
     "name": "stdout",
     "output_type": "stream",
     "text": [
      "queue=[10]\n",
      "queue=[10, 20]\n",
      "queue=[10, 20, 30]\n",
      "queue=[10, 20, 30, 40]\n",
      "v=10, queue=[20, 30, 40]\n",
      "v=20, queue=[30, 40]\n",
      "v=30, queue=[40]\n",
      "v=40, queue=[]\n"
     ]
    }
   ],
   "source": [
    "# Implementing a queue using a list\n",
    "queue = []\n",
    "\n",
    "# Enqueue items into the queue\n",
    "while (v := int(input(\"Enter a value (or 0 to stop): \"))):\n",
    "    queue.append(v)\n",
    "    print(f\"{queue=}\")\n",
    "\n",
    "# Dequeue items from the queue\n",
    "while queue:\n",
    "    v = queue.pop(0)\n",
    "    print(f\"{v=}, {queue=}\")"
   ]
  },
  {
   "cell_type": "code",
   "execution_count": null,
   "metadata": {},
   "outputs": [],
   "source": [
    "a = [10, 20, \"hello\", [40, 50, 60]]\n"
   ]
  },
  {
   "cell_type": "code",
   "execution_count": 27,
   "metadata": {},
   "outputs": [
    {
     "name": "stdout",
     "output_type": "stream",
     "text": [
      "queue=deque([10])\n",
      "queue=deque([10, 20])\n",
      "queue=deque([10, 20, 30])\n",
      "v=10, queue=deque([20, 30])\n",
      "v=20, queue=deque([30])\n",
      "v=30, queue=deque([])\n"
     ]
    }
   ],
   "source": [
    "from collections import deque\n",
    "# A deque is a circular doubly-linked-list implementation in python\n",
    "# However, it is categorized as a sequence.\n",
    "# It is most suitable for implementing large queues\n",
    "\n",
    "#queue = deque([10, 20, 30, 40, 50])\n",
    "queue = deque()\n",
    "\n",
    "# Enqueue items into the queue\n",
    "while (v := int(input(\"Enter a value (or 0 to stop): \"))):\n",
    "    queue.append(v)\n",
    "    print(f\"{queue=}\")\n",
    "\n",
    "# Dequeue items from the queue\n",
    "while queue:\n",
    "    v = queue.popleft()\n",
    "    print(f\"{v=}, {queue=}\")"
   ]
  },
  {
   "cell_type": "code",
   "execution_count": null,
   "metadata": {},
   "outputs": [],
   "source": [
    "# List methods:\n",
    "# .index(), .count()\n",
    "# .append(), .extend(), .insert(), .pop(), .remove()\n",
    "# .copy(), .clear()\n",
    "# .reverse(), .sort()\n"
   ]
  },
  {
   "cell_type": "code",
   "execution_count": 30,
   "metadata": {},
   "outputs": [
    {
     "name": "stdout",
     "output_type": "stream",
     "text": [
      "[22, 33, 67, 44, 2, 67, 43, 67, 11, 89]\n",
      "[22, 33, 44, 2, 67, 43, 67, 11, 89]\n"
     ]
    }
   ],
   "source": [
    "a = [22, 33, 67, 44, 2, 67, 43, 67, 11, 89]\n",
    "#a.pop(a.index(67))\n",
    "print(a)\n",
    "a.remove(67)\n",
    "print(a)"
   ]
  },
  {
   "cell_type": "code",
   "execution_count": 31,
   "metadata": {},
   "outputs": [
    {
     "name": "stdout",
     "output_type": "stream",
     "text": [
      "[22, 33, 67, 44, 2, 67, 43, 67, 11, 89] 1965971799488\n",
      "[22, 33, 44, 2, 43, 11, 89] 1965971792192\n"
     ]
    }
   ],
   "source": [
    "a = [22, 33, 67, 44, 2, 67, 43, 67, 11, 89]\n",
    "print(a, id(a))\n",
    "a = [ x for x in a if x != 67 ]\n",
    "print(a, id(a))"
   ]
  },
  {
   "cell_type": "code",
   "execution_count": 32,
   "metadata": {},
   "outputs": [
    {
     "name": "stdout",
     "output_type": "stream",
     "text": [
      "[22, 33, 67, 44, 2, 67, 43, 67, 11, 89] 1965971784320\n",
      "[22, 33, 44, 2, 43, 11, 89] 1965971784320\n"
     ]
    }
   ],
   "source": [
    "a = [22, 33, 67, 44, 2, 67, 43, 67, 11, 89]\n",
    "print(a, id(a))\n",
    "while 67 in a:\n",
    "    a.remove(67)\n",
    "print(a, id(a))"
   ]
  },
  {
   "cell_type": "code",
   "execution_count": 35,
   "metadata": {},
   "outputs": [
    {
     "name": "stdout",
     "output_type": "stream",
     "text": [
      "[22, 33, 67, 44, 2, 67, 43, 67, 11, 89, 22, 33, 67, 44, 2, 67, 43, 67, 11, 89, 22, 33, 67, 44, 2, 67, 43, 67, 11, 89, 22, 33, 67, 44, 2, 67, 43, 67, 11, 89, 22, 33, 67, 44, 2, 67, 43, 67, 11, 89, 22, 33, 67, 44, 2, 67, 43, 67, 11, 89, 22, 33, 67, 44, 2, 67, 43, 67, 11, 89, 22, 33, 67, 44, 2, 67, 43, 67, 11, 89, 22, 33, 67, 44, 2, 67, 43, 67, 11, 89, 22, 33, 67, 44, 2, 67, 43, 67, 11, 89, 22, 33, 67, 44, 2, 67, 43, 67, 11, 89, 22, 33, 67, 44, 2, 67, 43, 67, 11, 89, 22, 33, 67, 44, 2, 67, 43, 67, 11, 89, 22, 33, 67, 44, 2, 67, 43, 67, 11, 89, 22, 33, 67, 44, 2, 67, 43, 67, 11, 89, 22, 33, 67, 44, 2, 67, 43, 67, 11, 89, 22, 33, 67, 44, 2, 67, 43, 67, 11, 89, 22, 33, 67, 44, 2, 67, 43, 67, 11, 89, 22, 33, 67, 44, 2, 67, 43, 67, 11, 89, 22, 33, 67, 44, 2, 67, 43, 67, 11, 89, 22, 33, 67, 44, 2, 67, 43, 67, 11, 89, 22, 33, 67, 44, 2, 67, 43, 67, 11, 89, 22, 33, 67, 44, 2, 67, 43, 67, 11, 89, 22, 33, 67, 44, 2, 67, 43, 67, 11, 89, 22, 33, 67, 44, 2, 67, 43, 67, 11, 89, 22, 33, 67, 44, 2, 67, 43, 67, 11, 89, 22, 33, 67, 44, 2, 67, 43, 67, 11, 89, 22, 33, 67, 44, 2, 67, 43, 67, 11, 89, 22, 33, 67, 44, 2, 67, 43, 67, 11, 89, 22, 33, 67, 44, 2, 67, 43, 67, 11, 89, 22, 33, 67, 44, 2, 67, 43, 67, 11, 89, 22, 33, 67, 44, 2, 67, 43, 67, 11, 89, 22, 33, 67, 44, 2, 67, 43, 67, 11, 89, 22, 33, 67, 44, 2, 67, 43, 67, 11, 89, 22, 33, 67, 44, 2, 67, 43, 67, 11, 89, 22, 33, 67, 44, 2, 67, 43, 67, 11, 89, 22, 33, 67, 44, 2, 67, 43, 67, 11, 89, 22, 33, 67, 44, 2, 67, 43, 67, 11, 89, 22, 33, 67, 44, 2, 67, 43, 67, 11, 89, 22, 33, 67, 44, 2, 67, 43, 67, 11, 89, 22, 33, 67, 44, 2, 67, 43, 67, 11, 89, 22, 33, 67, 44, 2, 67, 43, 67, 11, 89, 22, 33, 67, 44, 2, 67, 43, 67, 11, 89, 22, 33, 67, 44, 2, 67, 43, 67, 11, 89, 22, 33, 67, 44, 2, 67, 43, 67, 11, 89, 22, 33, 67, 44, 2, 67, 43, 67, 11, 89, 22, 33, 67, 44, 2, 67, 43, 67, 11, 89, 22, 33, 67, 44, 2, 67, 43, 67, 11, 89, 22, 33, 67, 44, 2, 67, 43, 67, 11, 89, 22, 33, 67, 44, 2, 67, 43, 67, 11, 89, 22, 33, 67, 44, 2, 67, 43, 67, 11, 89, 22, 33, 67, 44, 2, 67, 43, 67, 11, 89, 22, 33, 67, 44, 2, 67, 43, 67, 11, 89, 22, 33, 67, 44, 2, 67, 43, 67, 11, 89, 22, 33, 67, 44, 2, 67, 43, 67, 11, 89, 22, 33, 67, 44, 2, 67, 43, 67, 11, 89, 22, 33, 67, 44, 2, 67, 43, 67, 11, 89, 22, 33, 67, 44, 2, 67, 43, 67, 11, 89, 22, 33, 67, 44, 2, 67, 43, 67, 11, 89, 22, 33, 67, 44, 2, 67, 43, 67, 11, 89, 22, 33, 67, 44, 2, 67, 43, 67, 11, 89, 22, 33, 67, 44, 2, 67, 43, 67, 11, 89, 22, 33, 67, 44, 2, 67, 43, 67, 11, 89, 22, 33, 67, 44, 2, 67, 43, 67, 11, 89, 22, 33, 67, 44, 2, 67, 43, 67, 11, 89, 22, 33, 67, 44, 2, 67, 43, 67, 11, 89, 22, 33, 67, 44, 2, 67, 43, 67, 11, 89, 22, 33, 67, 44, 2, 67, 43, 67, 11, 89, 22, 33, 67, 44, 2, 67, 43, 67, 11, 89, 22, 33, 67, 44, 2, 67, 43, 67, 11, 89, 22, 33, 67, 44, 2, 67, 43, 67, 11, 89, 22, 33, 67, 44, 2, 67, 43, 67, 11, 89, 22, 33, 67, 44, 2, 67, 43, 67, 11, 89, 22, 33, 67, 44, 2, 67, 43, 67, 11, 89, 22, 33, 67, 44, 2, 67, 43, 67, 11, 89, 22, 33, 67, 44, 2, 67, 43, 67, 11, 89, 22, 33, 67, 44, 2, 67, 43, 67, 11, 89, 22, 33, 67, 44, 2, 67, 43, 67, 11, 89, 22, 33, 67, 44, 2, 67, 43, 67, 11, 89, 22, 33, 67, 44, 2, 67, 43, 67, 11, 89, 22, 33, 67, 44, 2, 67, 43, 67, 11, 89, 22, 33, 67, 44, 2, 67, 43, 67, 11, 89, 22, 33, 67, 44, 2, 67, 43, 67, 11, 89, 22, 33, 67, 44, 2, 67, 43, 67, 11, 89, 22, 33, 67, 44, 2, 67, 43, 67, 11, 89, 22, 33, 67, 44, 2, 67, 43, 67, 11, 89, 22, 33, 67, 44, 2, 67, 43, 67, 11, 89, 22, 33, 67, 44, 2, 67, 43, 67, 11, 89, 22, 33, 67, 44, 2, 67, 43, 67, 11, 89, 22, 33, 67, 44, 2, 67, 43, 67, 11, 89, 22, 33, 67, 44, 2, 67, 43, 67, 11, 89, 22, 33, 67, 44, 2, 67, 43, 67, 11, 89, 22, 33, 67, 44, 2, 67, 43, 67, 11, 89, 22, 33, 67, 44, 2, 67, 43, 67, 11, 89, 22, 33, 67, 44, 2, 67, 43, 67, 11, 89, 22, 33, 67, 44, 2, 67, 43, 67, 11, 89, 22, 33, 67, 44, 2, 67, 43, 67, 11, 89, 22, 33, 67, 44, 2, 67, 43, 67, 11, 89, 22, 33, 67, 44, 2, 67, 43, 67, 11, 89, 22, 33, 67, 44, 2, 67, 43, 67, 11, 89] 1965971794944\n"
     ]
    }
   ],
   "source": [
    "a = [22, 33, 67, 44, 2, 67, 43, 67, 11, 89] * 100\n",
    "print(a, id(a))\n"
   ]
  },
  {
   "cell_type": "code",
   "execution_count": 36,
   "metadata": {},
   "outputs": [
    {
     "name": "stdout",
     "output_type": "stream",
     "text": [
      "9.02 μs ± 190 ns per loop (mean ± std. dev. of 7 runs, 100,000 loops each)\n"
     ]
    }
   ],
   "source": [
    "%%timeit\n",
    "\n",
    "while 67 in a:\n",
    "    a.remove(67)"
   ]
  },
  {
   "cell_type": "code",
   "execution_count": 39,
   "metadata": {},
   "outputs": [
    {
     "name": "stdout",
     "output_type": "stream",
     "text": [
      "17.1 μs ± 535 ns per loop (mean ± std. dev. of 7 runs, 100,000 loops each)\n"
     ]
    }
   ],
   "source": [
    "%%timeit\n",
    "\n",
    "for v in a:\n",
    "    if v == 67: a.remove(v)"
   ]
  },
  {
   "cell_type": "code",
   "execution_count": null,
   "metadata": {},
   "outputs": [],
   "source": [
    "print(a, id(a))"
   ]
  },
  {
   "cell_type": "code",
   "execution_count": 41,
   "metadata": {},
   "outputs": [
    {
     "name": "stdout",
     "output_type": "stream",
     "text": [
      "[11, 22, 33, 44, 55] [11, 22, 33, 44, 55]\n",
      "[11, 22, 33, 44] [11, 22, 33, 44]\n"
     ]
    }
   ],
   "source": [
    "a = [11, 22, 33, 44, 55]\n",
    "b = a\n",
    "print(a, b)\n",
    "a.pop()\n",
    "print(a, b)"
   ]
  },
  {
   "cell_type": "code",
   "execution_count": 45,
   "metadata": {},
   "outputs": [
    {
     "name": "stdout",
     "output_type": "stream",
     "text": [
      "[11, 22, 33, 44, 55] [11, 22, 33, 44, 55]\n",
      "[11, 22, 33, 44] [11, 22, 33, 44, 55]\n",
      "1965971796160 1965971795712\n"
     ]
    }
   ],
   "source": [
    "a = [11, 22, 33, 44, 55]\n",
    "#b = a[:]\n",
    "b = a.copy()\n",
    "print(a, b)\n",
    "a.pop()\n",
    "print(a, b)\n",
    "print(id(a), id(b))"
   ]
  },
  {
   "cell_type": "code",
   "execution_count": 46,
   "metadata": {},
   "outputs": [
    {
     "name": "stdout",
     "output_type": "stream",
     "text": [
      "[100, [20, 30], 40]\n",
      "[100, [20, 30], 40]\n",
      "[10, [20, 30], 40]\n"
     ]
    }
   ],
   "source": [
    "a = [10, [20, 30], 40]\n",
    "b = a\n",
    "c = a.copy()\n",
    "\n",
    "a[0] = 100\n",
    "print(a, b, c, sep=\"\\n\")"
   ]
  },
  {
   "cell_type": "code",
   "execution_count": 47,
   "metadata": {},
   "outputs": [
    {
     "name": "stdout",
     "output_type": "stream",
     "text": [
      "[10, [100, 30], 40]\n",
      "[10, [100, 30], 40]\n",
      "[10, [100, 30], 40]\n"
     ]
    }
   ],
   "source": [
    "a = [10, [20, 30], 40]\n",
    "b = a\n",
    "c = a.copy()\n",
    "\n",
    "a[1][0] = 100\n",
    "print(a, b, c, sep=\"\\n\")"
   ]
  },
  {
   "cell_type": "code",
   "execution_count": 48,
   "metadata": {},
   "outputs": [
    {
     "name": "stdout",
     "output_type": "stream",
     "text": [
      "[10, [100, 30], 40]\n",
      "[10, [100, 30], 40]\n",
      "[10, [20, 30], 40]\n"
     ]
    }
   ],
   "source": [
    "from copy import deepcopy\n",
    "\n",
    "a = [10, [20, 30], 40]\n",
    "b = a\n",
    "c = deepcopy(a)\n",
    "\n",
    "a[1][0] = 100\n",
    "print(a, b, c, sep=\"\\n\")"
   ]
  },
  {
   "cell_type": "code",
   "execution_count": 52,
   "metadata": {},
   "outputs": [],
   "source": [
    "a = list(range(1_000_000))"
   ]
  },
  {
   "cell_type": "code",
   "execution_count": 53,
   "metadata": {},
   "outputs": [
    {
     "name": "stdout",
     "output_type": "stream",
     "text": [
      "9.53 ms ± 185 μs per loop (mean ± std. dev. of 7 runs, 100 loops each)\n"
     ]
    }
   ],
   "source": [
    "%%timeit\n",
    "b = a.copy()"
   ]
  },
  {
   "cell_type": "code",
   "execution_count": 54,
   "metadata": {},
   "outputs": [
    {
     "name": "stdout",
     "output_type": "stream",
     "text": [
      "9.31 ms ± 295 μs per loop (mean ± std. dev. of 7 runs, 100 loops each)\n"
     ]
    }
   ],
   "source": [
    "%%timeit\n",
    "b = a[:]"
   ]
  },
  {
   "cell_type": "code",
   "execution_count": 55,
   "metadata": {},
   "outputs": [
    {
     "name": "stdout",
     "output_type": "stream",
     "text": [
      "[11, 23, 43, 67, 88, 65, 34]\n"
     ]
    }
   ],
   "source": [
    "a = [11, 23, 43, 67, 88, 65, 34]\n",
    "b = a\n",
    "\n",
    "a = []\n",
    "print(b)"
   ]
  },
  {
   "cell_type": "code",
   "execution_count": 57,
   "metadata": {},
   "outputs": [
    {
     "name": "stdout",
     "output_type": "stream",
     "text": [
      "[]\n"
     ]
    }
   ],
   "source": [
    "a = [11, 23, 43, 67, 88, 65, 34]\n",
    "b = a\n",
    "\n",
    "#del a[:]\n",
    "a.clear()\n",
    "print(b)"
   ]
  },
  {
   "cell_type": "code",
   "execution_count": 58,
   "metadata": {},
   "outputs": [
    {
     "name": "stdout",
     "output_type": "stream",
     "text": [
      "[12, 43, 67, 89] [89, 67, 43, 12]\n"
     ]
    }
   ],
   "source": [
    "# To create a reverse-copy of a list:\n",
    "a = [12, 43, 67, 89]\n",
    "b = a[::-1]\n",
    "\n",
    "print(a, b)"
   ]
  },
  {
   "cell_type": "code",
   "execution_count": 61,
   "metadata": {},
   "outputs": [
    {
     "name": "stdout",
     "output_type": "stream",
     "text": [
      "89\n",
      "67\n",
      "43\n",
      "12\n"
     ]
    },
    {
     "data": {
      "text/plain": [
       "<list_reverseiterator at 0x1c9bc5a5300>"
      ]
     },
     "execution_count": 61,
     "metadata": {},
     "output_type": "execute_result"
    }
   ],
   "source": [
    "# To iterate a list in reverse order\n",
    "\n",
    "for v in reversed(a):\n",
    "    print(v)\n",
    "\n",
    "b = reversed(a)\n",
    "b"
   ]
  },
  {
   "cell_type": "code",
   "execution_count": 62,
   "metadata": {},
   "outputs": [
    {
     "name": "stdout",
     "output_type": "stream",
     "text": [
      "[89, 67, 43, 12]\n"
     ]
    }
   ],
   "source": [
    "# To reverse a list in-place\n",
    "\n",
    "a = [12, 43, 67, 89]\n",
    "a.reverse()\n",
    "print(a)"
   ]
  },
  {
   "cell_type": "code",
   "execution_count": 63,
   "metadata": {},
   "outputs": [
    {
     "name": "stdout",
     "output_type": "stream",
     "text": [
      "None\n"
     ]
    }
   ],
   "source": [
    "a = [11, 34, 54, 12, 78]\n",
    "b = a.reverse()  # Common patterns to avoid in your code\n",
    "print(b)"
   ]
  },
  {
   "cell_type": "code",
   "execution_count": 64,
   "metadata": {},
   "outputs": [
    {
     "ename": "TypeError",
     "evalue": "'NoneType' object is not iterable",
     "output_type": "error",
     "traceback": [
      "\u001b[1;31m---------------------------------------------------------------------------\u001b[0m",
      "\u001b[1;31mTypeError\u001b[0m                                 Traceback (most recent call last)",
      "Cell \u001b[1;32mIn[64], line 3\u001b[0m\n\u001b[0;32m      1\u001b[0m a \u001b[38;5;241m=\u001b[39m [\u001b[38;5;241m11\u001b[39m, \u001b[38;5;241m34\u001b[39m, \u001b[38;5;241m54\u001b[39m, \u001b[38;5;241m12\u001b[39m, \u001b[38;5;241m78\u001b[39m]\n\u001b[1;32m----> 3\u001b[0m \u001b[38;5;28;01mfor\u001b[39;00m v \u001b[38;5;129;01min\u001b[39;00m a\u001b[38;5;241m.\u001b[39mreverse():\n\u001b[0;32m      4\u001b[0m     \u001b[38;5;28mprint\u001b[39m(v)\n",
      "\u001b[1;31mTypeError\u001b[0m: 'NoneType' object is not iterable"
     ]
    }
   ],
   "source": [
    "a = [11, 34, 54, 12, 78]\n",
    "\n",
    "for v in a.reverse():  # A common mistake by python newbies\n",
    "    print(v)"
   ]
  },
  {
   "cell_type": "code",
   "execution_count": 65,
   "metadata": {},
   "outputs": [
    {
     "name": "stdout",
     "output_type": "stream",
     "text": [
      "[34, 12, 78, 53, 27, 19, 35] [12, 19, 27, 34, 35, 53, 78]\n"
     ]
    }
   ],
   "source": [
    "a = [34, 12, 78, 53, 27, 19, 35]\n",
    "b = sorted(a) # Note: sorted() always returns a copy as a list\n",
    "print(a, b)\n",
    "\n",
    "# Use sorted() function to create a sorted copy of a list or \n",
    "# to iterate a list in sorted order\n"
   ]
  },
  {
   "cell_type": "code",
   "execution_count": 67,
   "metadata": {},
   "outputs": [
    {
     "name": "stdout",
     "output_type": "stream",
     "text": [
      "[12, 19, 27, 34, 35, 53, 78]\n",
      "None\n"
     ]
    }
   ],
   "source": [
    "a = [34, 12, 78, 53, 27, 19, 35]\n",
    "a.sort()\n",
    "print(a)\n",
    "\n",
    "b = a.sort()\n",
    "print(b)"
   ]
  },
  {
   "cell_type": "code",
   "execution_count": 68,
   "metadata": {},
   "outputs": [
    {
     "name": "stdout",
     "output_type": "stream",
     "text": [
      "[78, 53, 35, 34, 27, 19, 12]\n"
     ]
    }
   ],
   "source": [
    "a = [34, 12, 78, 53, 27, 19, 35]\n",
    "a.sort(reverse=True)\n",
    "print(a)\n"
   ]
  },
  {
   "cell_type": "markdown",
   "metadata": {},
   "source": [
    "list.sort() and the builtin sorted() function work on homogenous collections where items are comparable\n"
   ]
  },
  {
   "cell_type": "markdown",
   "metadata": {},
   "source": [
    "### Set \n",
    "#### A mutable unordered collection of unique hashable items"
   ]
  },
  {
   "cell_type": "code",
   "execution_count": 81,
   "metadata": {},
   "outputs": [
    {
     "name": "stdout",
     "output_type": "stream",
     "text": [
      "{33, 66, 11, 44, 77, 22, 55, 88}\n",
      "{33, 66, 44, 22, 55}\n",
      "{0, 1, 256, 4, 9, 16, 144, 25, 289, 36, 169, 49, 64, 196, 324, 81, 225, 100, 361, 121}\n"
     ]
    }
   ],
   "source": [
    "a = {11, 22, 33, 44, 55, 66, 77, 88} # Literal notation\n",
    "print(a)\n",
    "\n",
    "a = set([22, 33, 44, 55, 66]) # Constructor expression\n",
    "print(a)\n",
    "\n",
    "a = { v*v for v in range(20) } # Comprehension\n",
    "print(a)"
   ]
  },
  {
   "cell_type": "code",
   "execution_count": 82,
   "metadata": {},
   "outputs": [
    {
     "ename": "TypeError",
     "evalue": "unhashable type: 'list'",
     "output_type": "error",
     "traceback": [
      "\u001b[1;31m---------------------------------------------------------------------------\u001b[0m",
      "\u001b[1;31mTypeError\u001b[0m                                 Traceback (most recent call last)",
      "Cell \u001b[1;32mIn[82], line 1\u001b[0m\n\u001b[1;32m----> 1\u001b[0m a \u001b[38;5;241m=\u001b[39m {\u001b[38;5;241m45\u001b[39m, [\u001b[38;5;241m22\u001b[39m, \u001b[38;5;241m33\u001b[39m, \u001b[38;5;241m44\u001b[39m, \u001b[38;5;241m55\u001b[39m], \u001b[38;5;241m56\u001b[39m, \u001b[38;5;241m78\u001b[39m, \u001b[38;5;241m23\u001b[39m}\n",
      "\u001b[1;31mTypeError\u001b[0m: unhashable type: 'list'"
     ]
    }
   ],
   "source": [
    "a = {45, [22, 33, 44, 55], 56, 78, 23}"
   ]
  },
  {
   "cell_type": "code",
   "execution_count": 83,
   "metadata": {},
   "outputs": [
    {
     "ename": "TypeError",
     "evalue": "unhashable type: 'set'",
     "output_type": "error",
     "traceback": [
      "\u001b[1;31m---------------------------------------------------------------------------\u001b[0m",
      "\u001b[1;31mTypeError\u001b[0m                                 Traceback (most recent call last)",
      "Cell \u001b[1;32mIn[83], line 1\u001b[0m\n\u001b[1;32m----> 1\u001b[0m a \u001b[38;5;241m=\u001b[39m {\u001b[38;5;241m45\u001b[39m, {\u001b[38;5;241m22\u001b[39m, \u001b[38;5;241m33\u001b[39m, \u001b[38;5;241m44\u001b[39m, \u001b[38;5;241m55\u001b[39m}, \u001b[38;5;241m56\u001b[39m, \u001b[38;5;241m78\u001b[39m, \u001b[38;5;241m23\u001b[39m}\n",
      "\u001b[1;31mTypeError\u001b[0m: unhashable type: 'set'"
     ]
    }
   ],
   "source": [
    "a = {45, {22, 33, 44, 55}, 56, 78, 23}"
   ]
  },
  {
   "cell_type": "code",
   "execution_count": 89,
   "metadata": {},
   "outputs": [
    {
     "data": {
      "text/plain": [
       "{(32, 45), 12, 34, 54, 56, 67}"
      ]
     },
     "execution_count": 89,
     "metadata": {},
     "output_type": "execute_result"
    }
   ],
   "source": [
    "a = [12, 34, 54, (32, 45), 67, [11, 22], 56, [22, 44], bytearray(b\"hello\")]\n",
    "\n",
    "s = { v for v in a if type(v) not in (list, bytearray) }\n",
    "s"
   ]
  },
  {
   "cell_type": "code",
   "execution_count": 91,
   "metadata": {},
   "outputs": [
    {
     "data": {
      "text/plain": [
       "{(32, 45), 12, 34, 54, 56, 67}"
      ]
     },
     "execution_count": 91,
     "metadata": {},
     "output_type": "execute_result"
    }
   ],
   "source": [
    "a = [12, 34, 54, (32, 45), 67, [11, 22], 56, [22, 44], bytearray(b\"hello\")]\n",
    "\n",
    "def hashable(v):\n",
    "    try:\n",
    "        hash(v)\n",
    "    except:\n",
    "        return False\n",
    "    else:\n",
    "        return True\n",
    "\n",
    "s = { v for v in a if hashable(v) }\n",
    "s"
   ]
  },
  {
   "cell_type": "code",
   "execution_count": 92,
   "metadata": {},
   "outputs": [
    {
     "name": "stdout",
     "output_type": "stream",
     "text": [
      "{33, 22, 55, 11, 44}\n"
     ]
    }
   ],
   "source": [
    "s = {11, 22, 33, 22, 44, 55, 22, 11, 55, 22, 33, 11, 11, 22, 33, 22, 33, 44}\n",
    "print(s)"
   ]
  },
  {
   "cell_type": "code",
   "execution_count": 70,
   "metadata": {},
   "outputs": [
    {
     "name": "stdout",
     "output_type": "stream",
     "text": [
      "{33, 66, 11, 44, 77, 22, 55, 88}\n"
     ]
    }
   ],
   "source": [
    "a = {11, 22, 33, 44, 55, 66, 77, 88}\n",
    "print(a)"
   ]
  },
  {
   "cell_type": "code",
   "execution_count": 76,
   "metadata": {},
   "outputs": [],
   "source": [
    "a = list(range(100_000))\n",
    "b = set(range(100_000))"
   ]
  },
  {
   "cell_type": "code",
   "execution_count": 73,
   "metadata": {},
   "outputs": [
    {
     "name": "stdout",
     "output_type": "stream",
     "text": [
      "134 μs ± 3.08 μs per loop (mean ± std. dev. of 7 runs, 10,000 loops each)\n"
     ]
    }
   ],
   "source": [
    "%timeit 9999 in a"
   ]
  },
  {
   "cell_type": "code",
   "execution_count": 77,
   "metadata": {},
   "outputs": [
    {
     "name": "stdout",
     "output_type": "stream",
     "text": [
      "1.39 ms ± 28.2 μs per loop (mean ± std. dev. of 7 runs, 1,000 loops each)\n"
     ]
    }
   ],
   "source": [
    "%timeit 99999 in a"
   ]
  },
  {
   "cell_type": "code",
   "execution_count": 74,
   "metadata": {},
   "outputs": [
    {
     "name": "stdout",
     "output_type": "stream",
     "text": [
      "47.6 ns ± 3.44 ns per loop (mean ± std. dev. of 7 runs, 10,000,000 loops each)\n"
     ]
    }
   ],
   "source": [
    "%timeit 9999 in b"
   ]
  },
  {
   "cell_type": "code",
   "execution_count": 78,
   "metadata": {},
   "outputs": [
    {
     "name": "stdout",
     "output_type": "stream",
     "text": [
      "47 ns ± 2.53 ns per loop (mean ± std. dev. of 7 runs, 10,000,000 loops each)\n"
     ]
    }
   ],
   "source": [
    "%timeit 99999 in b"
   ]
  },
  {
   "cell_type": "code",
   "execution_count": 94,
   "metadata": {},
   "outputs": [
    {
     "name": "stdout",
     "output_type": "stream",
     "text": [
      "{33, 66, 99, 12, 44, 77, 55, 88}\n"
     ]
    },
    {
     "ename": "TypeError",
     "evalue": "'set' object is not subscriptable",
     "output_type": "error",
     "traceback": [
      "\u001b[1;31m---------------------------------------------------------------------------\u001b[0m",
      "\u001b[1;31mTypeError\u001b[0m                                 Traceback (most recent call last)",
      "Cell \u001b[1;32mIn[94], line 3\u001b[0m\n\u001b[0;32m      1\u001b[0m s \u001b[38;5;241m=\u001b[39m {\u001b[38;5;241m12\u001b[39m, \u001b[38;5;241m33\u001b[39m, \u001b[38;5;241m44\u001b[39m, \u001b[38;5;241m55\u001b[39m, \u001b[38;5;241m66\u001b[39m, \u001b[38;5;241m77\u001b[39m, \u001b[38;5;241m88\u001b[39m, \u001b[38;5;241m99\u001b[39m}\n\u001b[0;32m      2\u001b[0m \u001b[38;5;28mprint\u001b[39m(s)\n\u001b[1;32m----> 3\u001b[0m s[\u001b[38;5;241m0\u001b[39m]\n",
      "\u001b[1;31mTypeError\u001b[0m: 'set' object is not subscriptable"
     ]
    }
   ],
   "source": [
    "s = {12, 33, 44, 55, 66, 77, 88, 99}\n",
    "print(s)\n",
    "s[0]"
   ]
  },
  {
   "cell_type": "code",
   "execution_count": 96,
   "metadata": {},
   "outputs": [
    {
     "name": "stdout",
     "output_type": "stream",
     "text": [
      "{33, 66, 99, 100, 12, 44, 77, 55, 88}\n",
      "{33, 66, 99, 100, 12, 44, 77, 47, 55, 88}\n"
     ]
    }
   ],
   "source": [
    "s = {12, 33, 44, 55, 66, 77, 88, 99}\n",
    "\n",
    "s.add(100)\n",
    "print(s)\n",
    "\n",
    "s.add(47)\n",
    "print(s)"
   ]
  },
  {
   "cell_type": "code",
   "execution_count": 99,
   "metadata": {},
   "outputs": [
    {
     "name": "stdout",
     "output_type": "stream",
     "text": [
      "{50, 20, 40, 10, 30}\n",
      "{66, 77, 55}\n",
      "{50, 66, 20, 55, 40, 10, 77, 30}\n"
     ]
    }
   ],
   "source": [
    "s = {10, 20, 30, 40, 50}\n",
    "print(s)\n",
    "a = {55, 66, 77}\n",
    "print(a)\n",
    "s.update(a)\n",
    "print(s)"
   ]
  },
  {
   "cell_type": "code",
   "execution_count": 100,
   "metadata": {},
   "outputs": [
    {
     "name": "stdout",
     "output_type": "stream",
     "text": [
      "{50, 20, 40, 10}\n"
     ]
    }
   ],
   "source": [
    "s = {10, 20, 30, 40, 50}\n",
    "s.remove(30)\n",
    "print(s)"
   ]
  },
  {
   "cell_type": "code",
   "execution_count": 101,
   "metadata": {},
   "outputs": [
    {
     "name": "stdout",
     "output_type": "stream",
     "text": [
      "50 20 40 10 30 "
     ]
    }
   ],
   "source": [
    "s = {10, 20, 30, 40, 50}\n",
    "while s:\n",
    "    v = s.pop()\n",
    "    print(v, end=\" \")"
   ]
  },
  {
   "cell_type": "code",
   "execution_count": 105,
   "metadata": {},
   "outputs": [
    {
     "name": "stdout",
     "output_type": "stream",
     "text": [
      "[] <class 'list'>\n",
      "() <class 'tuple'>\n",
      "{} <class 'dict'>\n",
      "set() <class 'set'>\n"
     ]
    }
   ],
   "source": [
    "a = []\n",
    "print(a, type(a))\n",
    "b = ()\n",
    "print(b, type(b))\n",
    "c = {}\n",
    "print(c, type(c))\n",
    "d = set()\n",
    "print(d, type(d))"
   ]
  },
  {
   "cell_type": "code",
   "execution_count": 107,
   "metadata": {},
   "outputs": [
    {
     "name": "stdout",
     "output_type": "stream",
     "text": [
      "{33, 66, 22, 55, 44}\n",
      "set()\n"
     ]
    }
   ],
   "source": [
    "s = {33, 44, 55, 33, 22, 55, 66}\n",
    "print(s)\n",
    "s.clear()\n",
    "print(s)"
   ]
  },
  {
   "cell_type": "code",
   "execution_count": 108,
   "metadata": {},
   "outputs": [
    {
     "name": "stdout",
     "output_type": "stream",
     "text": [
      "{33, 66, 22, 55, 44} {33, 66, 22, 55, 44}\n",
      "1965980146304 1965980146976\n"
     ]
    }
   ],
   "source": [
    "s = {33, 44, 55, 33, 22, 55, 66}\n",
    "s1 = s.copy()\n",
    "print(s, s1)\n",
    "print(id(s), id(s1))"
   ]
  },
  {
   "cell_type": "code",
   "execution_count": null,
   "metadata": {},
   "outputs": [],
   "source": [
    "### Set methods:\n",
    "## .add(), .update(), .pop(), .remove()\n",
    "## .copy(), .clear()\n"
   ]
  },
  {
   "cell_type": "code",
   "execution_count": 109,
   "metadata": {},
   "outputs": [
    {
     "name": "stdout",
     "output_type": "stream",
     "text": [
      "[32, 33, 66, 43, 44, 77, 12, 21, 55, 56, 89]\n"
     ]
    }
   ],
   "source": [
    "a = [33, 44, 33, 55, 66, 77, 12, 43, 56, 89, 21, 32, 33, 44, 55, 12, 89]\n",
    "b = list(set(a))\n",
    "print(b)"
   ]
  },
  {
   "cell_type": "code",
   "execution_count": 110,
   "metadata": {},
   "outputs": [
    {
     "data": {
      "text/plain": [
       "[12, 32, 55, 65, 76]"
      ]
     },
     "execution_count": 110,
     "metadata": {},
     "output_type": "execute_result"
    }
   ],
   "source": [
    "a = [12, 32, 55, 65, 28, 76, 19]\n",
    "b = [12, 32, 65, 43, 76, 55, 15]\n",
    "\n",
    "c = []\n",
    "for v in a:\n",
    "    if v in b:\n",
    "       c.append(v)\n",
    "c"
   ]
  },
  {
   "cell_type": "code",
   "execution_count": 112,
   "metadata": {},
   "outputs": [
    {
     "data": {
      "text/plain": [
       "{12, 32, 55, 65, 76}"
      ]
     },
     "execution_count": 112,
     "metadata": {},
     "output_type": "execute_result"
    }
   ],
   "source": [
    "a = {12, 32, 55, 65, 28, 76, 19}\n",
    "b = {12, 32, 65, 43, 76, 55, 15}\n",
    "\n",
    "c = a & b # Set intersection\n",
    "c"
   ]
  },
  {
   "cell_type": "code",
   "execution_count": 113,
   "metadata": {},
   "outputs": [
    {
     "data": {
      "text/plain": [
       "[32, 65, 12, 76, 55]"
      ]
     },
     "execution_count": 113,
     "metadata": {},
     "output_type": "execute_result"
    }
   ],
   "source": [
    "a = [12, 32, 55, 65, 28, 76, 19]\n",
    "b = [12, 32, 65, 43, 76, 55, 15]\n",
    "\n",
    "c = list(set(a) & set(b))\n",
    "c"
   ]
  },
  {
   "cell_type": "code",
   "execution_count": 111,
   "metadata": {},
   "outputs": [
    {
     "data": {
      "text/plain": [
       "[28, 19]"
      ]
     },
     "execution_count": 111,
     "metadata": {},
     "output_type": "execute_result"
    }
   ],
   "source": [
    "a = [12, 32, 55, 65, 28, 76, 19]\n",
    "b = [12, 32, 65, 43, 76, 55, 15]\n",
    "\n",
    "c = []\n",
    "for v in a:\n",
    "    if v not in b:\n",
    "       c.append(v)\n",
    "c"
   ]
  },
  {
   "cell_type": "code",
   "execution_count": 119,
   "metadata": {},
   "outputs": [
    {
     "name": "stdout",
     "output_type": "stream",
     "text": [
      "{32, 65, 12, 76, 55}\n",
      "{19, 28}\n",
      "{43, 15}\n",
      "{32, 65, 43, 12, 76, 15, 19, 55, 28}\n",
      "{19, 43, 28, 15}\n",
      "True\n",
      "True\n",
      "False\n",
      "False\n"
     ]
    }
   ],
   "source": [
    "a = {12, 32, 55, 65, 28, 76, 19}\n",
    "b = {12, 32, 65, 43, 76, 55, 15}\n",
    "\n",
    "c = {65, 19, 32}\n",
    "\n",
    "print(a & b) # Set intersection\n",
    "print(a - b) # Set difference\n",
    "print(b - a)\n",
    "print(a | b)  # Set union\n",
    "print(a ^ b)  # Symmetric difference (a | b) - (a & b)\n",
    "print(c < a)  # check if c is a subset of a\n",
    "print(a > c)  # check if a is a superset of c\n",
    "print(c < b)\n",
    "print(c > c)\n"
   ]
  },
  {
   "cell_type": "code",
   "execution_count": 122,
   "metadata": {},
   "outputs": [
    {
     "data": {
      "text/plain": [
       "'c:\\\\Users\\\\chandra\\\\Python_Boot_Camp\\\\pbc_sep2024\\\\day4'"
      ]
     },
     "execution_count": 122,
     "metadata": {},
     "output_type": "execute_result"
    }
   ],
   "source": [
    "import os\n",
    "os.getcwd()\n",
    "os.__dict__[\"getcwd\"]()"
   ]
  },
  {
   "cell_type": "markdown",
   "metadata": {},
   "source": [
    "#### Dictionary:\n",
    "##### A mutable collection of key:value pairs where keys are unique and hashable\n"
   ]
  },
  {
   "cell_type": "code",
   "execution_count": 134,
   "metadata": {},
   "outputs": [
    {
     "name": "stdout",
     "output_type": "stream",
     "text": [
      "{'name': 'John', 'role': 'developer', 'dept': 'Engineering'} <class 'dict'>\n",
      "('name', 'role', 'dept') ('John', 'developer', 'Engineering')\n",
      "{'name': 'John', 'role': 'developer', 'dept': 'Engineering'}\n",
      "{'name': 'John', 'role': 'developer', 'dept': 'Engineering'}\n",
      "{0: 0, 1: 1, 2: 4, 3: 9, 4: 16, 5: 25, 6: 36, 7: 49, 8: 64, 9: 81}\n"
     ]
    }
   ],
   "source": [
    "d = {\"name\": \"John\", \"role\": \"developer\", \"dept\": \"Engineering\"}  # Literal notation\n",
    "print(d, type(d))\n",
    "\n",
    "keys = \"name\", \"role\", \"dept\"\n",
    "values = \"John\", \"developer\", \"Engineering\"\n",
    "print(keys, values)\n",
    "\n",
    "d = dict(zip(keys, values))  # Constructor expression with 2-element zip object\n",
    "print(d)\n",
    "\n",
    "# Constructor expression with keyword arguments\n",
    "d = dict(name=\"John\", role=\"developer\", dept=\"Engineering\") \n",
    "print(d)\n",
    "\n",
    "d = { v: v*v for v in range(10) }  # dictionary comprehension\n",
    "print(d)"
   ]
  },
  {
   "cell_type": "code",
   "execution_count": 131,
   "metadata": {},
   "outputs": [
    {
     "ename": "SyntaxError",
     "evalue": "expression cannot contain assignment, perhaps you meant \"==\"? (2847626883.py, line 3)",
     "output_type": "error",
     "traceback": [
      "\u001b[1;36m  Cell \u001b[1;32mIn[131], line 3\u001b[1;36m\u001b[0m\n\u001b[1;33m    d = dict(name=\"John\", role=\"developer\", dept=\"Enginnering\", 10=20)\u001b[0m\n\u001b[1;37m                                                                ^\u001b[0m\n\u001b[1;31mSyntaxError\u001b[0m\u001b[1;31m:\u001b[0m expression cannot contain assignment, perhaps you meant \"==\"?\n"
     ]
    }
   ],
   "source": [
    "d = {\"name\": \"John\", \"2role\": \"developer\", \"dept\": \"Engineering\", 10: 20}\n",
    "\n",
    "d = dict(name=\"John\", role=\"developer\", dept=\"Enginnering\", 10=20)"
   ]
  },
  {
   "cell_type": "code",
   "execution_count": 132,
   "metadata": {},
   "outputs": [
    {
     "data": {
      "text/plain": [
       "{'name': 'Smith', 'role': 'developer', 'dept': 'Engineering'}"
      ]
     },
     "execution_count": 132,
     "metadata": {},
     "output_type": "execute_result"
    }
   ],
   "source": [
    "d = {\n",
    "     \"name\": \"John\", \n",
    "     \"role\": \"developer\", \n",
    "     \"dept\": \"Engineering\", \n",
    "     \"name\": \"Smith\"\n",
    "}\n",
    "\n",
    "d"
   ]
  },
  {
   "cell_type": "code",
   "execution_count": 133,
   "metadata": {},
   "outputs": [
    {
     "ename": "SyntaxError",
     "evalue": "keyword argument repeated: name (2417299124.py, line 5)",
     "output_type": "error",
     "traceback": [
      "\u001b[1;36m  Cell \u001b[1;32mIn[133], line 5\u001b[1;36m\u001b[0m\n\u001b[1;33m    name=\"Smith\"\u001b[0m\n\u001b[1;37m    ^\u001b[0m\n\u001b[1;31mSyntaxError\u001b[0m\u001b[1;31m:\u001b[0m keyword argument repeated: name\n"
     ]
    }
   ],
   "source": [
    "d = dict(\n",
    "    name=\"John\",\n",
    "    role=\"Developer\",\n",
    "    dept=\"Engineering\",\n",
    "    name=\"Smith\"\n",
    ")\n",
    "\n",
    "d"
   ]
  },
  {
   "cell_type": "code",
   "execution_count": 136,
   "metadata": {},
   "outputs": [
    {
     "name": "stdout",
     "output_type": "stream",
     "text": [
      "{'name': 'Smith', 'role': 'developer', 'dept': 'Engineering'}\n",
      "developer\n"
     ]
    }
   ],
   "source": [
    "d = {\n",
    "     \"name\": \"John\", \n",
    "     \"role\": \"developer\", \n",
    "     \"dept\": \"Engineering\", \n",
    "     \"name\": \"Smith\"\n",
    "}\n",
    "print(d)\n",
    "print(d[\"role\"])"
   ]
  },
  {
   "cell_type": "code",
   "execution_count": 137,
   "metadata": {},
   "outputs": [
    {
     "name": "stdout",
     "output_type": "stream",
     "text": [
      "{'name': 'Smith', 'role': 'developer', 'dept': 'Engineering'}\n"
     ]
    },
    {
     "ename": "KeyError",
     "evalue": "'place'",
     "output_type": "error",
     "traceback": [
      "\u001b[1;31m---------------------------------------------------------------------------\u001b[0m",
      "\u001b[1;31mKeyError\u001b[0m                                  Traceback (most recent call last)",
      "Cell \u001b[1;32mIn[137], line 8\u001b[0m\n\u001b[0;32m      1\u001b[0m d \u001b[38;5;241m=\u001b[39m {\n\u001b[0;32m      2\u001b[0m      \u001b[38;5;124m\"\u001b[39m\u001b[38;5;124mname\u001b[39m\u001b[38;5;124m\"\u001b[39m: \u001b[38;5;124m\"\u001b[39m\u001b[38;5;124mJohn\u001b[39m\u001b[38;5;124m\"\u001b[39m, \n\u001b[0;32m      3\u001b[0m      \u001b[38;5;124m\"\u001b[39m\u001b[38;5;124mrole\u001b[39m\u001b[38;5;124m\"\u001b[39m: \u001b[38;5;124m\"\u001b[39m\u001b[38;5;124mdeveloper\u001b[39m\u001b[38;5;124m\"\u001b[39m, \n\u001b[0;32m      4\u001b[0m      \u001b[38;5;124m\"\u001b[39m\u001b[38;5;124mdept\u001b[39m\u001b[38;5;124m\"\u001b[39m: \u001b[38;5;124m\"\u001b[39m\u001b[38;5;124mEngineering\u001b[39m\u001b[38;5;124m\"\u001b[39m, \n\u001b[0;32m      5\u001b[0m      \u001b[38;5;124m\"\u001b[39m\u001b[38;5;124mname\u001b[39m\u001b[38;5;124m\"\u001b[39m: \u001b[38;5;124m\"\u001b[39m\u001b[38;5;124mSmith\u001b[39m\u001b[38;5;124m\"\u001b[39m\n\u001b[0;32m      6\u001b[0m }\n\u001b[0;32m      7\u001b[0m \u001b[38;5;28mprint\u001b[39m(d)\n\u001b[1;32m----> 8\u001b[0m \u001b[38;5;28mprint\u001b[39m(d[\u001b[38;5;124m\"\u001b[39m\u001b[38;5;124mplace\u001b[39m\u001b[38;5;124m\"\u001b[39m])\n",
      "\u001b[1;31mKeyError\u001b[0m: 'place'"
     ]
    }
   ],
   "source": [
    "d = {\n",
    "     \"name\": \"John\", \n",
    "     \"role\": \"developer\", \n",
    "     \"dept\": \"Engineering\", \n",
    "     \"name\": \"Smith\"\n",
    "}\n",
    "print(d)\n",
    "print(d[\"place\"])"
   ]
  },
  {
   "cell_type": "code",
   "execution_count": 139,
   "metadata": {},
   "outputs": [
    {
     "name": "stdout",
     "output_type": "stream",
     "text": [
      "{'name': 'Smith', 'role': 'developer', 'dept': 'Engineering'}\n",
      "False True\n"
     ]
    }
   ],
   "source": [
    "d = {\n",
    "     \"name\": \"John\", \n",
    "     \"role\": \"developer\", \n",
    "     \"dept\": \"Engineering\", \n",
    "     \"name\": \"Smith\"\n",
    "}\n",
    "print(d)\n",
    "print(\"place\" in d, \"dept\" in d)"
   ]
  },
  {
   "cell_type": "code",
   "execution_count": 143,
   "metadata": {},
   "outputs": [
    {
     "name": "stdout",
     "output_type": "stream",
     "text": [
      "not found\n"
     ]
    }
   ],
   "source": [
    "d = {\n",
    "     \"name\": \"John\", \n",
    "     \"role\": \"developer\", \n",
    "     \"dept\": \"Engineering\", \n",
    "     \"name\": \"Smith\"\n",
    "}\n",
    "\n",
    "k = \"designation\"\n",
    "v = d[k] if k in d else \"not found\"\n",
    "print(v)"
   ]
  },
  {
   "cell_type": "code",
   "execution_count": 147,
   "metadata": {},
   "outputs": [
    {
     "name": "stdout",
     "output_type": "stream",
     "text": [
      "Engineering\n",
      "Engineering\n",
      "None\n"
     ]
    }
   ],
   "source": [
    "d = {\n",
    "     \"name\": \"John\", \n",
    "     \"role\": \"developer\", \n",
    "     \"dept\": \"Engineering\", \n",
    "     \"name\": \"Smith\"\n",
    "}\n",
    "\n",
    "k = \"dept\"\n",
    "#v = d[k] if k in d else \"not found\"\n",
    "v = d.get(k, \"not found\")\n",
    "print(v)\n",
    "\n",
    "v = d.get(\"dept\")\n",
    "print(v)\n",
    "\n",
    "v = d.get(\"place\")\n",
    "print(v)"
   ]
  },
  {
   "cell_type": "code",
   "execution_count": 151,
   "metadata": {},
   "outputs": [
    {
     "name": "stdout",
     "output_type": "stream",
     "text": [
      "{'name': 'Smith', 'role': 'developer', 'dept': 'Engineering'}\n",
      "{'name': 'Mary', 'role': 'developer', 'dept': 'Engineering'}\n",
      "{'name': 'Mary', 'role': 'developer', 'dept': 'Engineering', 'place': 'Sydney'}\n",
      "{'name': 'Mary', 'role': 'developer', 'place': 'Sydney'}\n"
     ]
    }
   ],
   "source": [
    "d = {\n",
    "     \"name\": \"John\", \n",
    "     \"role\": \"developer\", \n",
    "     \"dept\": \"Engineering\", \n",
    "     \"name\": \"Smith\"\n",
    "}\n",
    "\n",
    "print(d)\n",
    "d[\"name\"] = \"Mary\"\n",
    "print(d)\n",
    "d[\"place\"] = \"Sydney\"\n",
    "print(d)\n",
    "\n",
    "del d[\"dept\"]\n",
    "print(d)"
   ]
  },
  {
   "cell_type": "code",
   "execution_count": 152,
   "metadata": {},
   "outputs": [
    {
     "data": {
      "text/plain": [
       "['__class__',\n",
       " '__class_getitem__',\n",
       " '__contains__',\n",
       " '__delattr__',\n",
       " '__delitem__',\n",
       " '__dir__',\n",
       " '__doc__',\n",
       " '__eq__',\n",
       " '__format__',\n",
       " '__ge__',\n",
       " '__getattribute__',\n",
       " '__getitem__',\n",
       " '__getstate__',\n",
       " '__gt__',\n",
       " '__hash__',\n",
       " '__init__',\n",
       " '__init_subclass__',\n",
       " '__ior__',\n",
       " '__iter__',\n",
       " '__le__',\n",
       " '__len__',\n",
       " '__lt__',\n",
       " '__ne__',\n",
       " '__new__',\n",
       " '__or__',\n",
       " '__reduce__',\n",
       " '__reduce_ex__',\n",
       " '__repr__',\n",
       " '__reversed__',\n",
       " '__ror__',\n",
       " '__setattr__',\n",
       " '__setitem__',\n",
       " '__sizeof__',\n",
       " '__str__',\n",
       " '__subclasshook__',\n",
       " 'clear',\n",
       " 'copy',\n",
       " 'fromkeys',\n",
       " 'get',\n",
       " 'items',\n",
       " 'keys',\n",
       " 'pop',\n",
       " 'popitem',\n",
       " 'setdefault',\n",
       " 'update',\n",
       " 'values']"
      ]
     },
     "execution_count": 152,
     "metadata": {},
     "output_type": "execute_result"
    }
   ],
   "source": [
    "# Dictionary methods:\n",
    "#  .get(), .keys(), .values(), .items()\n",
    "#  .update(), .pop(), .popitem(), .clear(), .copy()\n",
    "#  .setdefault(), .fromkeys()\n",
    "dir(d)"
   ]
  },
  {
   "cell_type": "code",
   "execution_count": 158,
   "metadata": {},
   "outputs": [
    {
     "name": "stdout",
     "output_type": "stream",
     "text": [
      "Smith {'name': 'Smith', 'role': 'Manager'}\n",
      "Engineering {'name': 'Smith', 'role': 'Manager', 'dept': 'Engineering'}\n"
     ]
    }
   ],
   "source": [
    "d = {\"name\": \"Smith\", \"role\": \"Manager\"}\n",
    "\n",
    "v = d.setdefault(\"name\", \"Guest\")\n",
    "print(v, d)\n",
    "\n",
    "v = d.setdefault(\"dept\", \"Engineering\")\n",
    "print(v, d)"
   ]
  },
  {
   "cell_type": "code",
   "execution_count": 163,
   "metadata": {},
   "outputs": [
    {
     "name": "stdout",
     "output_type": "stream",
     "text": [
      "{'name': 'Smith', 'role': 'Manager'}\n",
      "{'name': None, 'role': None}\n"
     ]
    },
    {
     "data": {
      "text/plain": [
       "{'name': None, 'place': None, 'role': None, 'dept': None}"
      ]
     },
     "execution_count": 163,
     "metadata": {},
     "output_type": "execute_result"
    }
   ],
   "source": [
    "d = {\"name\": \"Smith\", \"role\": \"Manager\"}\n",
    "print(d)\n",
    "\n",
    "e = d.fromkeys(d)\n",
    "print(e)\n",
    "\n",
    "keys = \"name\", \"place\", \"role\", \"dept\"\n",
    "d = dict().fromkeys(keys)\n",
    "d"
   ]
  },
  {
   "cell_type": "code",
   "execution_count": 165,
   "metadata": {},
   "outputs": [
    {
     "name": "stdout",
     "output_type": "stream",
     "text": [
      "dict_keys(['name', 'role'])\n",
      "dict_values(['Smith', 'Manager'])\n",
      "dict_items([('name', 'Smith'), ('role', 'Manager')])\n"
     ]
    }
   ],
   "source": [
    "d = {\"name\": \"Smith\", \"role\": \"Manager\"}\n",
    "print(d.keys(), d.values(), d.items(), sep=\"\\n\")"
   ]
  },
  {
   "cell_type": "code",
   "execution_count": 166,
   "metadata": {},
   "outputs": [
    {
     "name": "stdout",
     "output_type": "stream",
     "text": [
      "name => Smith\n",
      "role => Manager\n"
     ]
    }
   ],
   "source": [
    "# To iterate over keys and values of a dictionary:\n",
    "for k, v in d.items():\n",
    "    print(f\"{k} => {v}\")"
   ]
  },
  {
   "cell_type": "code",
   "execution_count": 167,
   "metadata": {},
   "outputs": [
    {
     "name": "stdout",
     "output_type": "stream",
     "text": [
      "v='Smith'\n",
      "v='Manager'\n"
     ]
    }
   ],
   "source": [
    "# To iterate over values of a dictionary:\n",
    "for v in d.values():\n",
    "    print(f\"{v=}\")"
   ]
  },
  {
   "cell_type": "code",
   "execution_count": 169,
   "metadata": {},
   "outputs": [
    {
     "name": "stdout",
     "output_type": "stream",
     "text": [
      "k='name'\n",
      "k='role'\n"
     ]
    }
   ],
   "source": [
    "# To iterate over keys of a dictionary:\n",
    "for k in d.keys():  # Avoid this! the .keys() method is not necessary\n",
    "    print(f\"{k=}\")"
   ]
  },
  {
   "cell_type": "code",
   "execution_count": 171,
   "metadata": {},
   "outputs": [
    {
     "name": "stdout",
     "output_type": "stream",
     "text": [
      "key=name,  value=Smith\n",
      "key=role,  value=Manager\n"
     ]
    }
   ],
   "source": [
    "# To iterate over keys of a dictionary:\n",
    "for k in d: # This is the correct way!\n",
    "    print(f\"key={k},  value={d[k]}\")"
   ]
  },
  {
   "cell_type": "code",
   "execution_count": 175,
   "metadata": {},
   "outputs": [
    {
     "name": "stdout",
     "output_type": "stream",
     "text": [
      "{'name': 'Smith', 'role': 'Manager'} {'name': 'Smith', 'role': 'Manager'}\n",
      "1965972966912 1965972824384\n",
      "{}\n"
     ]
    }
   ],
   "source": [
    "d\n",
    "e = d.copy()\n",
    "print(d, e)\n",
    "print(id(d), id(e))\n",
    "\n",
    "d.clear()\n",
    "print(d)"
   ]
  },
  {
   "cell_type": "code",
   "execution_count": 177,
   "metadata": {},
   "outputs": [
    {
     "name": "stdout",
     "output_type": "stream",
     "text": [
      "{'name': 'John', 'role': 'Developer'} {'role': 'Administrator', 'dept': 'Engineering'}\n",
      "{'name': 'John', 'role': 'Administrator', 'dept': 'Engineering'}\n"
     ]
    }
   ],
   "source": [
    "d = {\"name\": \"John\", \"role\": \"Developer\"}\n",
    "e = {\"role\": \"Administrator\", \"dept\": \"Engineering\"}\n",
    "print(d, e)\n",
    "\n",
    "d.update(e)\n",
    "print(d)"
   ]
  },
  {
   "cell_type": "code",
   "execution_count": 178,
   "metadata": {},
   "outputs": [
    {
     "ename": "TypeError",
     "evalue": "unsupported operand type(s) for +: 'dict' and 'dict'",
     "output_type": "error",
     "traceback": [
      "\u001b[1;31m---------------------------------------------------------------------------\u001b[0m",
      "\u001b[1;31mTypeError\u001b[0m                                 Traceback (most recent call last)",
      "Cell \u001b[1;32mIn[178], line 4\u001b[0m\n\u001b[0;32m      1\u001b[0m d \u001b[38;5;241m=\u001b[39m {\u001b[38;5;124m\"\u001b[39m\u001b[38;5;124mname\u001b[39m\u001b[38;5;124m\"\u001b[39m: \u001b[38;5;124m\"\u001b[39m\u001b[38;5;124mJohn\u001b[39m\u001b[38;5;124m\"\u001b[39m, \u001b[38;5;124m\"\u001b[39m\u001b[38;5;124mrole\u001b[39m\u001b[38;5;124m\"\u001b[39m: \u001b[38;5;124m\"\u001b[39m\u001b[38;5;124mDeveloper\u001b[39m\u001b[38;5;124m\"\u001b[39m}\n\u001b[0;32m      2\u001b[0m e \u001b[38;5;241m=\u001b[39m {\u001b[38;5;124m\"\u001b[39m\u001b[38;5;124mrole\u001b[39m\u001b[38;5;124m\"\u001b[39m: \u001b[38;5;124m\"\u001b[39m\u001b[38;5;124mAdministrator\u001b[39m\u001b[38;5;124m\"\u001b[39m, \u001b[38;5;124m\"\u001b[39m\u001b[38;5;124mdept\u001b[39m\u001b[38;5;124m\"\u001b[39m: \u001b[38;5;124m\"\u001b[39m\u001b[38;5;124mEngineering\u001b[39m\u001b[38;5;124m\"\u001b[39m}\n\u001b[1;32m----> 4\u001b[0m a \u001b[38;5;241m=\u001b[39m d \u001b[38;5;241m+\u001b[39m e\n",
      "\u001b[1;31mTypeError\u001b[0m: unsupported operand type(s) for +: 'dict' and 'dict'"
     ]
    }
   ],
   "source": [
    "d = {\"name\": \"John\", \"role\": \"Developer\"}\n",
    "e = {\"role\": \"Administrator\", \"dept\": \"Engineering\"}\n",
    "\n",
    "a = d + e"
   ]
  },
  {
   "cell_type": "code",
   "execution_count": 179,
   "metadata": {},
   "outputs": [
    {
     "name": "stdout",
     "output_type": "stream",
     "text": [
      "{'name': 'John', 'role': 'Administrator', 'dept': 'Engineering'}\n"
     ]
    }
   ],
   "source": [
    "d = {\"name\": \"John\", \"role\": \"Developer\"}\n",
    "e = {\"role\": \"Administrator\", \"dept\": \"Engineering\"}\n",
    "\n",
    "a = d | e # Python 3.9+ -> This is the preferred way to merge dictionaries newer Python versions\n",
    "print(a)"
   ]
  },
  {
   "cell_type": "code",
   "execution_count": 180,
   "metadata": {},
   "outputs": [
    {
     "name": "stdout",
     "output_type": "stream",
     "text": [
      "{'name': 'John', 'role': 'Administrator', 'dept': 'Engineering'}\n"
     ]
    }
   ],
   "source": [
    "d = {\"name\": \"John\", \"role\": \"Developer\"}\n",
    "e = {\"role\": \"Administrator\", \"dept\": \"Engineering\"}\n",
    "\n",
    "a = {**d, **e}  # Dictionary expansion hack! Supported from Python 3.4+\n",
    "print(a)"
   ]
  },
  {
   "cell_type": "code",
   "execution_count": 184,
   "metadata": {},
   "outputs": [
    {
     "name": "stdout",
     "output_type": "stream",
     "text": [
      "{'name', 'role', 'dept'}\n",
      "{('dept', 'Engineering'), ('name', 'John'), ('role', 'Administrator'), ('role', 'Developer')}\n",
      "{'role'}\n"
     ]
    }
   ],
   "source": [
    "d = {\"name\": \"John\", \"role\": \"Developer\"}\n",
    "e = {\"role\": \"Administrator\", \"dept\": \"Engineering\"}\n",
    "\n",
    "print(d.keys() | e.keys())\n",
    "print(d.items() | e.items())\n",
    "print(d.keys() & e.keys())"
   ]
  },
  {
   "cell_type": "code",
   "execution_count": 185,
   "metadata": {},
   "outputs": [
    {
     "name": "stdout",
     "output_type": "stream",
     "text": [
      "{'dept': 'Engineering', 'name': 'John', 'role': 'Developer'}\n"
     ]
    }
   ],
   "source": [
    "d = {\"name\": \"John\", \"role\": \"Developer\"}\n",
    "e = {\"role\": \"Administrator\", \"dept\": \"Engineering\"}\n",
    "\n",
    "a = dict(d.items() | e.items()) # Python 3.0 ~ 3.3\n",
    "print(a)"
   ]
  },
  {
   "cell_type": "code",
   "execution_count": 186,
   "metadata": {},
   "outputs": [
    {
     "name": "stdout",
     "output_type": "stream",
     "text": [
      "v='Administrator', e={'dept': 'Engineering'}\n"
     ]
    }
   ],
   "source": [
    "e = {\"role\": \"Administrator\", \"dept\": \"Engineering\"}\n",
    "\n",
    "v = e.pop(\"role\")\n",
    "print(f\"{v=}, {e=}\")"
   ]
  },
  {
   "cell_type": "code",
   "execution_count": 187,
   "metadata": {},
   "outputs": [
    {
     "name": "stdout",
     "output_type": "stream",
     "text": [
      "dept Engineering\n",
      "{'role': 'Administrator'}\n"
     ]
    }
   ],
   "source": [
    "d = {\"role\": \"Administrator\", \"dept\": \"Engineering\"}\n",
    "\n",
    "k, v = d.popitem()\n",
    "print(k, v)\n",
    "print(d)"
   ]
  },
  {
   "cell_type": "code",
   "execution_count": 189,
   "metadata": {},
   "outputs": [
    {
     "name": "stdout",
     "output_type": "stream",
     "text": [
      "dept Engineering\n",
      "role Administrator\n"
     ]
    }
   ],
   "source": [
    "d = {\"role\": \"Administrator\", \"dept\": \"Engineering\"}\n",
    "\n",
    "while d:\n",
    "    k, v = d.popitem()\n",
    "    print(k, v)\n"
   ]
  },
  {
   "cell_type": "code",
   "execution_count": 194,
   "metadata": {},
   "outputs": [
    {
     "name": "stdout",
     "output_type": "stream",
     "text": [
      "'When' occurs 1 times\n",
      "'I' occurs 2 times\n",
      "'see' occurs 1 times\n",
      "'a' occurs 5 times\n",
      "'bird,' occurs 1 times\n",
      "'that' occurs 2 times\n",
      "'walks' occurs 1 times\n",
      "'like' occurs 3 times\n",
      "'duck' occurs 4 times\n",
      "'quacks' occurs 1 times\n",
      "'and' occurs 1 times\n",
      "'swims' occurs 1 times\n",
      "'call' occurs 1 times\n",
      "'bird' occurs 1 times\n"
     ]
    }
   ],
   "source": [
    "s = \"\"\"\n",
    "When I see a bird,\n",
    "  that walks like a duck\n",
    "  quacks like a duck\n",
    "  and swims like a duck\n",
    "  I call that bird a duck\n",
    "\"\"\"\n",
    "\n",
    "def count_words(s):\n",
    "    count = {}\n",
    "    for word in s.split():\n",
    "        if word in count:\n",
    "            count[word] += 1\n",
    "        else:\n",
    "            count[word] = 1\n",
    "\n",
    "    for word, freq in count.items():\n",
    "        print(f\"'{word}' occurs {freq} times\") \n",
    "\n",
    "count_words(s)\n",
    "# OUT: 'When' occurs 1 times\n",
    "# OUT: 'I' occurs 2 times\n",
    "# OUT: 'see' occurs 1 times\n",
    "# ...\n"
   ]
  },
  {
   "cell_type": "code",
   "execution_count": 195,
   "metadata": {},
   "outputs": [
    {
     "name": "stdout",
     "output_type": "stream",
     "text": [
      "'When' occurs 1 times\n",
      "'I' occurs 2 times\n",
      "'see' occurs 1 times\n",
      "'a' occurs 5 times\n",
      "'bird,' occurs 1 times\n",
      "'that' occurs 2 times\n",
      "'walks' occurs 1 times\n",
      "'like' occurs 3 times\n",
      "'duck,' occurs 3 times\n",
      "'quacks' occurs 1 times\n",
      "'and' occurs 1 times\n",
      "'swims' occurs 1 times\n",
      "'call' occurs 1 times\n",
      "'bird' occurs 1 times\n",
      "'duck' occurs 1 times\n"
     ]
    }
   ],
   "source": [
    "s = \"\"\"\n",
    "When I see a bird,\n",
    "  that walks like a duck,\n",
    "  quacks like a duck,\n",
    "  and swims like a duck,\n",
    "  I call that bird a duck\n",
    "\"\"\"\n",
    "\n",
    "def count_words(s):\n",
    "    count = {}\n",
    "    for word in s.split():\n",
    "        count[word] = count.get(word, 0) + 1\n",
    "\n",
    "    for word, freq in count.items():\n",
    "        print(f\"'{word}' occurs {freq} times\") \n",
    "\n",
    "count_words(s)\n",
    "# OUT: 'When' occurs 1 times\n",
    "# OUT: 'I' occurs 2 times\n",
    "# OUT: 'see' occurs 1 times\n",
    "# ...\n"
   ]
  },
  {
   "cell_type": "code",
   "execution_count": 205,
   "metadata": {},
   "outputs": [
    {
     "name": "stdout",
     "output_type": "stream",
     "text": [
      "'' occurs 2 times\n",
      "'When' occurs 1 times\n",
      "'I' occurs 2 times\n",
      "'see' occurs 1 times\n",
      "'a' occurs 5 times\n",
      "'bird' occurs 2 times\n",
      "'that' occurs 2 times\n",
      "'walks' occurs 1 times\n",
      "'like' occurs 3 times\n",
      "'duck' occurs 4 times\n",
      "'quacks' occurs 1 times\n",
      "'and' occurs 1 times\n",
      "'swims' occurs 1 times\n",
      "'call' occurs 1 times\n"
     ]
    }
   ],
   "source": [
    "s = \"\"\"\n",
    "When I see a bird,\n",
    "  that walks like a duck,\n",
    "  quacks like a duck,\n",
    "  and swims like a duck,\n",
    "  I call that bird a duck\n",
    "\"\"\"\n",
    "\n",
    "def count_words(s):\n",
    "    import re\n",
    "    count = {}\n",
    "    for word in re.split(r\"\\W+\", s):\n",
    "        count[word] = count.get(word, 0) + 1\n",
    "\n",
    "    for word, freq in count.items():\n",
    "        print(f\"'{word}' occurs {freq} times\") \n",
    "\n",
    "count_words(s)\n",
    "# OUT: 'When' occurs 1 times\n",
    "# OUT: 'I' occurs 2 times\n",
    "# OUT: 'see' occurs 1 times\n",
    "# ...\n"
   ]
  },
  {
   "cell_type": "code",
   "execution_count": 199,
   "metadata": {},
   "outputs": [
    {
     "data": {
      "text/plain": [
       "['this', 'is', 'a', 'test', 'this', 'test', 'test', 'test', 'test']"
      ]
     },
     "execution_count": 199,
     "metadata": {},
     "output_type": "execute_result"
    }
   ],
   "source": [
    "import re\n",
    "s = \"this. is a test this test. test test,test\"\n",
    "re.split(r\"\\W+\", s)\n"
   ]
  },
  {
   "cell_type": "code",
   "execution_count": 206,
   "metadata": {},
   "outputs": [
    {
     "name": "stdout",
     "output_type": "stream",
     "text": [
      "'When' occurs 1 times\n",
      "'I' occurs 2 times\n",
      "'see' occurs 1 times\n",
      "'a' occurs 5 times\n",
      "'bird,' occurs 1 times\n",
      "'that' occurs 2 times\n",
      "'walks' occurs 1 times\n",
      "'like' occurs 3 times\n",
      "'duck,' occurs 3 times\n",
      "'quacks' occurs 1 times\n",
      "'and' occurs 1 times\n",
      "'swims' occurs 1 times\n",
      "'call' occurs 1 times\n",
      "'bird' occurs 1 times\n",
      "'duck' occurs 1 times\n"
     ]
    }
   ],
   "source": [
    "s = \"\"\"\n",
    "When I see a bird,\n",
    "  that walks like a duck,\n",
    "  quacks like a duck,\n",
    "  and swims like a duck,\n",
    "  I call that bird a duck\n",
    "\"\"\"\n",
    "\n",
    "def count_words(s):\n",
    "    from collections import Counter\n",
    "    count = Counter(s.split())\n",
    "    \n",
    "    for word, freq in count.items():\n",
    "        print(f\"'{word}' occurs {freq} times\") \n",
    "\n",
    "count_words(s)\n",
    "# OUT: 'When' occurs 1 times\n",
    "# OUT: 'I' occurs 2 times\n",
    "# OUT: 'see' occurs 1 times\n",
    "# ...\n"
   ]
  },
  {
   "cell_type": "code",
   "execution_count": 210,
   "metadata": {},
   "outputs": [
    {
     "name": "stdout",
     "output_type": "stream",
     "text": [
      "Counter({33: 7, 44: 4, 22: 2, 55: 1, 66: 1, 54: 1, 56: 1})\n",
      "[(33, 7), (44, 4), (22, 2), (55, 1)]\n"
     ]
    }
   ],
   "source": [
    "from collections import Counter\n",
    "\n",
    "a = [33, 44, 33, 22, 33, 44, 55, 44, 33, 66, 54, 56, 33, 22, 33, 44, 33]\n",
    "print(Counter(a))\n",
    "print(Counter(a).most_common(4))"
   ]
  },
  {
   "cell_type": "code",
   "execution_count": 215,
   "metadata": {},
   "outputs": [
    {
     "name": "stdout",
     "output_type": "stream",
     "text": [
      "Smith Developer\n",
      "defaultdict(<class 'int'>, {'name': 'Smith', 'role': 'Developer'})\n",
      "0 defaultdict(<class 'int'>, {'name': 'Smith', 'role': 'Developer', 'place': 0})\n"
     ]
    }
   ],
   "source": [
    "from collections import defaultdict\n",
    "\n",
    "d = defaultdict(int)\n",
    "\n",
    "d[\"name\"] = \"Smith\"\n",
    "d[\"role\"] = \"Developer\"\n",
    "\n",
    "print(d[\"name\"], d[\"role\"])\n",
    "print(d)\n",
    "print(d[\"place\"], d)\n",
    "\n"
   ]
  },
  {
   "cell_type": "code",
   "execution_count": 213,
   "metadata": {},
   "outputs": [
    {
     "data": {
      "text/plain": [
       "[]"
      ]
     },
     "execution_count": 213,
     "metadata": {},
     "output_type": "execute_result"
    }
   ],
   "source": [
    "list()"
   ]
  },
  {
   "cell_type": "code",
   "execution_count": 217,
   "metadata": {},
   "outputs": [
    {
     "name": "stdout",
     "output_type": "stream",
     "text": [
      "'When' occurs 1 times\n",
      "'I' occurs 2 times\n",
      "'see' occurs 1 times\n",
      "'a' occurs 5 times\n",
      "'bird,' occurs 1 times\n",
      "'that' occurs 2 times\n",
      "'walks' occurs 1 times\n",
      "'like' occurs 3 times\n",
      "'duck,' occurs 3 times\n",
      "'quacks' occurs 1 times\n",
      "'and' occurs 1 times\n",
      "'swims' occurs 1 times\n",
      "'call' occurs 1 times\n",
      "'bird' occurs 1 times\n",
      "'duck' occurs 1 times\n"
     ]
    }
   ],
   "source": [
    "s = \"\"\"\n",
    "When I see a bird,\n",
    "  that walks like a duck,\n",
    "  quacks like a duck,\n",
    "  and swims like a duck,\n",
    "  I call that bird a duck\n",
    "\"\"\"\n",
    "\n",
    "def count_words(s):\n",
    "    from collections import defaultdict\n",
    "    count = defaultdict(int)\n",
    "    for word in s.split():\n",
    "        count[word] += 1\n",
    "    \n",
    "    for word, freq in count.items():\n",
    "        print(f\"'{word}' occurs {freq} times\") \n",
    "\n",
    "count_words(s)\n",
    "# OUT: 'When' occurs 1 times\n",
    "# OUT: 'I' occurs 2 times\n",
    "# OUT: 'see' occurs 1 times\n",
    "# ...\n"
   ]
  },
  {
   "cell_type": "code",
   "execution_count": 224,
   "metadata": {},
   "outputs": [
    {
     "name": "stdout",
     "output_type": "stream",
     "text": [
      "defaultdict(<class 'list'>, {'int': [45, 23, 12], 'float': [4.5, 5.6, 4.2], 'list': [[11, 22, 33]], 'bool': [True, True], 'str': ['hello', 'test']})\n"
     ]
    }
   ],
   "source": [
    "data = [45, 4.5, 23, 5.6, [11, 22, 33], True, 12, \"hello\", True, 4.2, \"test\"]\n",
    "\n",
    "def organize(data):\n",
    "    from collections import defaultdict\n",
    "    d = defaultdict(list)\n",
    "    for v in data:\n",
    "        n = type(v).__name__\n",
    "        d[n].append(v)\n",
    "    return d\n",
    "\n",
    "result = organize(data)\n",
    "print(result)\n",
    "# OUT: {'int': [45, 23, 12], 'float': [4.5, 5.6, 4.2], \n",
    "# OUT   'list': [[11, 22, 33]], 'bool': [True, True], 'str': [\"hello\", \"test\"]}\n"
   ]
  },
  {
   "cell_type": "code",
   "execution_count": 225,
   "metadata": {},
   "outputs": [
    {
     "name": "stdout",
     "output_type": "stream",
     "text": [
      "{'int': [45, 23, 12], 'float': [4.5, 5.6, 4.2], 'list': [[11, 22, 33]], 'bool': [True, True], 'str': ['hello', 'test']}\n"
     ]
    }
   ],
   "source": [
    "data = [45, 4.5, 23, 5.6, [11, 22, 33], True, 12, \"hello\", True, 4.2, \"test\"]\n",
    "\n",
    "def organize(data):\n",
    "    d = {}\n",
    "    for v in data:\n",
    "        n = type(v).__name__\n",
    "        d.setdefault(n, []).append(v)\n",
    "    return d\n",
    "\n",
    "result = organize(data)\n",
    "print(result)\n",
    "# OUT: {'int': [45, 23, 12], 'float': [4.5, 5.6, 4.2], \n",
    "# OUT   'list': [[11, 22, 33]], 'bool': [True, True], 'str': [\"hello\", \"test\"]}\n"
   ]
  },
  {
   "cell_type": "code",
   "execution_count": 220,
   "metadata": {},
   "outputs": [
    {
     "name": "stdout",
     "output_type": "stream",
     "text": [
      "int\n"
     ]
    }
   ],
   "source": [
    "print(int.__name__)"
   ]
  },
  {
   "cell_type": "code",
   "execution_count": 222,
   "metadata": {},
   "outputs": [
    {
     "name": "stdout",
     "output_type": "stream",
     "text": [
      "10 belongs to int class\n"
     ]
    }
   ],
   "source": [
    "a = 10\n",
    "n = type(a).__name__\n",
    "print(f\"{a} belongs to {n} class\")"
   ]
  },
  {
   "cell_type": "markdown",
   "metadata": {},
   "source": [
    "#### Functions in Python"
   ]
  },
  {
   "cell_type": "code",
   "execution_count": 228,
   "metadata": {},
   "outputs": [
    {
     "ename": "TypeError",
     "evalue": "greet() takes 0 positional arguments but 1 was given",
     "output_type": "error",
     "traceback": [
      "\u001b[1;31m---------------------------------------------------------------------------\u001b[0m",
      "\u001b[1;31mTypeError\u001b[0m                                 Traceback (most recent call last)",
      "Cell \u001b[1;32mIn[228], line 4\u001b[0m\n\u001b[0;32m      1\u001b[0m \u001b[38;5;28;01mdef\u001b[39;00m \u001b[38;5;21mgreet\u001b[39m():\n\u001b[0;32m      2\u001b[0m     \u001b[38;5;28mprint\u001b[39m(\u001b[38;5;124m\"\u001b[39m\u001b[38;5;124mHello, world\u001b[39m\u001b[38;5;124m\"\u001b[39m)\n\u001b[1;32m----> 4\u001b[0m greet(\u001b[38;5;124m\"\u001b[39m\u001b[38;5;124mJohn\u001b[39m\u001b[38;5;124m\"\u001b[39m)\n",
      "\u001b[1;31mTypeError\u001b[0m: greet() takes 0 positional arguments but 1 was given"
     ]
    }
   ],
   "source": [
    "def greet():\n",
    "    print(\"Hello, world\")\n",
    "\n",
    "greet(\"John\")"
   ]
  },
  {
   "cell_type": "code",
   "execution_count": 230,
   "metadata": {},
   "outputs": [
    {
     "name": "stdout",
     "output_type": "stream",
     "text": [
      "Hello, John\n"
     ]
    },
    {
     "ename": "TypeError",
     "evalue": "greet() missing 1 required positional argument: 'user'",
     "output_type": "error",
     "traceback": [
      "\u001b[1;31m---------------------------------------------------------------------------\u001b[0m",
      "\u001b[1;31mTypeError\u001b[0m                                 Traceback (most recent call last)",
      "Cell \u001b[1;32mIn[230], line 8\u001b[0m\n\u001b[0;32m      5\u001b[0m     \u001b[38;5;28mprint\u001b[39m(\u001b[38;5;124m\"\u001b[39m\u001b[38;5;124mHello,\u001b[39m\u001b[38;5;124m\"\u001b[39m, user)\n\u001b[0;32m      7\u001b[0m greet(\u001b[38;5;124m\"\u001b[39m\u001b[38;5;124mJohn\u001b[39m\u001b[38;5;124m\"\u001b[39m)\n\u001b[1;32m----> 8\u001b[0m greet()\n",
      "\u001b[1;31mTypeError\u001b[0m: greet() missing 1 required positional argument: 'user'"
     ]
    }
   ],
   "source": [
    "def greet():\n",
    "    print(\"Hello, world\")\n",
    "\n",
    "def greet(user):\n",
    "    print(\"Hello,\", user)\n",
    "\n",
    "greet(\"John\")\n",
    "greet()"
   ]
  },
  {
   "cell_type": "code",
   "execution_count": 232,
   "metadata": {},
   "outputs": [
    {
     "name": "stdout",
     "output_type": "stream",
     "text": [
      "Hello, John\n",
      "Hello, world\n"
     ]
    }
   ],
   "source": [
    "def greet(user=\"world\"): # function definition with default arguments (default-args)\n",
    "    print(\"Hello,\", user)\n",
    "\n",
    "greet(\"John\")\n",
    "greet()"
   ]
  },
  {
   "cell_type": "code",
   "execution_count": 234,
   "metadata": {},
   "outputs": [
    {
     "name": "stdout",
     "output_type": "stream",
     "text": [
      "Hello John, Welcome to Mumbai\n"
     ]
    }
   ],
   "source": [
    "def greet(user, place):\n",
    "    print(f\"Hello {user}, Welcome to {place}\")\n",
    "\n",
    "greet(\"John\", \"Mumbai\") # Calling functions with positional arguments"
   ]
  },
  {
   "cell_type": "code",
   "execution_count": 236,
   "metadata": {},
   "outputs": [
    {
     "name": "stdout",
     "output_type": "stream",
     "text": [
      "Hello Mumbai, Welcome to John\n",
      "Hello John, Welcome to Mumbai\n"
     ]
    }
   ],
   "source": [
    "def greet(user, place):\n",
    "    print(f\"Hello {user}, Welcome to {place}\")\n",
    "\n",
    "greet(\"Mumbai\", \"John\") # Calling functions with positional arguments\n",
    "greet(place=\"Mumbai\", user=\"John\") # Calling functions with keyword arguments"
   ]
  },
  {
   "cell_type": "code",
   "execution_count": 239,
   "metadata": {},
   "outputs": [
    {
     "name": "stdout",
     "output_type": "stream",
     "text": [
      "Hello John, Welcome to Pune\n",
      "Hello Smith, Welcome to Noida\n"
     ]
    }
   ],
   "source": [
    "def greet(user, place=\"Pune\"):\n",
    "    print(f\"Hello {user}, Welcome to {place}\")\n",
    "\n",
    "greet(\"John\")\n",
    "greet(\"Smith\", \"Noida\")"
   ]
  },
  {
   "cell_type": "markdown",
   "metadata": {},
   "source": [
    "Function prototype and call rules:\n",
    "   1. When defining functions, non-default arguments must not follow default arguments\n",
    "   2. When calling functions, positional arguments must not follow keyword arguments"
   ]
  },
  {
   "cell_type": "code",
   "execution_count": 240,
   "metadata": {},
   "outputs": [
    {
     "ename": "SyntaxError",
     "evalue": "parameter without a default follows parameter with a default (2321632583.py, line 1)",
     "output_type": "error",
     "traceback": [
      "\u001b[1;36m  Cell \u001b[1;32mIn[240], line 1\u001b[1;36m\u001b[0m\n\u001b[1;33m    def greet(user=\"Guest\", place):\u001b[0m\n\u001b[1;37m                            ^\u001b[0m\n\u001b[1;31mSyntaxError\u001b[0m\u001b[1;31m:\u001b[0m parameter without a default follows parameter with a default\n"
     ]
    }
   ],
   "source": [
    "def greet(user=\"Guest\", place):\n",
    "    print(f\"Hello {user}, Welcome to {place}\")\n",
    "\n",
    "greet(\"John\")\n",
    "greet(\"Smith\", \"Noida\")"
   ]
  },
  {
   "cell_type": "code",
   "execution_count": 242,
   "metadata": {},
   "outputs": [
    {
     "name": "stdout",
     "output_type": "stream",
     "text": [
      "Hello Guest, Welcome to Bengaluru\n",
      "Hello John, Welcome to Bengaluru\n",
      "Hello Smith, Welcome to Noida\n",
      "Hello Guest, Welcome to Delhi\n"
     ]
    }
   ],
   "source": [
    "def greet(user=\"Guest\", place=\"Bengaluru\"):\n",
    "    print(f\"Hello {user}, Welcome to {place}\")\n",
    "\n",
    "greet()\n",
    "greet(\"John\")\n",
    "greet(\"Smith\", \"Noida\")\n",
    "greet(place=\"Delhi\")"
   ]
  },
  {
   "cell_type": "code",
   "execution_count": 244,
   "metadata": {},
   "outputs": [
    {
     "ename": "SyntaxError",
     "evalue": "positional argument follows keyword argument (3346170330.py, line 4)",
     "output_type": "error",
     "traceback": [
      "\u001b[1;36m  Cell \u001b[1;32mIn[244], line 4\u001b[1;36m\u001b[0m\n\u001b[1;33m    greet(place=\"Delhi\", \"Smith\")\u001b[0m\n\u001b[1;37m                                ^\u001b[0m\n\u001b[1;31mSyntaxError\u001b[0m\u001b[1;31m:\u001b[0m positional argument follows keyword argument\n"
     ]
    }
   ],
   "source": [
    "def greet(user=\"Guest\", place=\"Bengaluru\"):\n",
    "    print(f\"Hello {user}, Welcome to {place}\")\n",
    "\n",
    "greet(place=\"Delhi\", \"Smith\")"
   ]
  },
  {
   "cell_type": "code",
   "execution_count": 251,
   "metadata": {},
   "outputs": [
    {
     "name": "stdout",
     "output_type": "stream",
     "text": [
      "user='Jones', role='Developer', dept='IT', place='Seattle', age=35\n"
     ]
    }
   ],
   "source": [
    "def add_record(user, role=\"Developer\", dept=\"IT\", place=\"Noida\", age=23):\n",
    "    if age < 23:\n",
    "        raise ValueError(\"Invalid age (must be greater than 22)\")\n",
    "    print(f\"{user=}, {role=}, {dept=}, {place=}, {age=}\")\n",
    "\n",
    "add_record(\"Jones\", place=\"Seattle\", age=35)"
   ]
  },
  {
   "cell_type": "code",
   "execution_count": 255,
   "metadata": {},
   "outputs": [
    {
     "name": "stdout",
     "output_type": "stream",
     "text": [
      "('John',) <class 'tuple'>\n",
      "('Sam', 'Smith', 'Guido', 'Dave') <class 'tuple'>\n"
     ]
    }
   ],
   "source": [
    "# Variable arguments / var-args / arbitrary-argument-lists / star-args / splat-args\n",
    "\n",
    "def greet(*users):\n",
    "    print(users, type(users))\n",
    "\n",
    "greet(\"John\")\n",
    "greet(\"Sam\", \"Smith\", \"Guido\", \"Dave\")\n",
    "\n"
   ]
  },
  {
   "cell_type": "code",
   "execution_count": 256,
   "metadata": {},
   "outputs": [
    {
     "name": "stdout",
     "output_type": "stream",
     "text": [
      "Hello, John\n",
      "----------\n",
      "Hello, Sam\n",
      "Hello, Smith\n",
      "Hello, Guido\n",
      "Hello, Dave\n",
      "----------\n"
     ]
    }
   ],
   "source": [
    "# Variable arguments / var-args / arbitrary-argument-lists / star-args / splat-args\n",
    "\n",
    "def greet(*users):\n",
    "    for u in users:\n",
    "        print(\"Hello,\", u)\n",
    "    print(\"-\" * 10)\n",
    "\n",
    "greet(\"John\")\n",
    "greet(\"Sam\", \"Smith\", \"Guido\", \"Dave\")\n",
    "\n"
   ]
  },
  {
   "cell_type": "code",
   "execution_count": 266,
   "metadata": {},
   "outputs": [
    {
     "name": "stdout",
     "output_type": "stream",
     "text": [
      "x=10, y=20, z=()\n",
      "x=10, y=50, z=(100, 200, 300)\n"
     ]
    }
   ],
   "source": [
    "# From Python 3.4 onwards,\n",
    "# In function definition, if you mix different forms of arguments:\n",
    "# non-default-args, var-args, keyword-arguments\n",
    "\n",
    "def testfn(x, y=20, *z):\n",
    "    print(f\"{x=}, {y=}, {z=}\")\n",
    "\n",
    "testfn(10)\n",
    "#testfn(10,, 100, 200, 300)\n",
    "#testfn(10, z=(100, 200, 300))\n",
    "testfn(10, 50, 100, 200, 300)"
   ]
  },
  {
   "cell_type": "code",
   "execution_count": 265,
   "metadata": {},
   "outputs": [
    {
     "name": "stdout",
     "output_type": "stream",
     "text": [
      "x=10, y=20, z=()\n",
      "x=10, y=20, z=(100, 200, 300)\n",
      "x=10, y=50, z=(100, 200, 300)\n"
     ]
    }
   ],
   "source": [
    "# From Python 3.4 onwards,\n",
    "# In function definition, if you mix different forms of arguments:\n",
    "# non-default-args, var-args, keyword-arguments\n",
    "\n",
    "def testfn(x, *z, y=20):\n",
    "    print(f\"{x=}, {y=}, {z=}\")\n",
    "\n",
    "testfn(10)\n",
    "#testfn(10,, 100, 200, 300)\n",
    "#testfn(10, z=(100, 200, 300))\n",
    "testfn(10, 100, 200, 300)\n",
    "testfn(10, 100, 200, 300, y=50)"
   ]
  },
  {
   "cell_type": "code",
   "execution_count": 267,
   "metadata": {},
   "outputs": [
    {
     "ename": "SyntaxError",
     "evalue": "* argument may appear only once (1946186292.py, line 5)",
     "output_type": "error",
     "traceback": [
      "\u001b[1;36m  Cell \u001b[1;32mIn[267], line 5\u001b[1;36m\u001b[0m\n\u001b[1;33m    def testfn(x, *z, *a, y=20):\u001b[0m\n\u001b[1;37m                      ^\u001b[0m\n\u001b[1;31mSyntaxError\u001b[0m\u001b[1;31m:\u001b[0m * argument may appear only once\n"
     ]
    }
   ],
   "source": [
    "# From Python 3.4 onwards,\n",
    "# In function definition, if you mix different forms of arguments:\n",
    "# non-default-args, var-args, keyword-arguments\n",
    "\n",
    "def testfn(x, *z, *a, y=20):\n",
    "    print(f\"{x=}, {y=}, {z=}\")\n",
    "\n",
    "testfn(10)\n",
    "#testfn(10,, 100, 200, 300)\n",
    "#testfn(10, z=(100, 200, 300))\n",
    "testfn(10, 100, 200, 300)\n",
    "testfn(10, 100, 200, 300, y=50)"
   ]
  },
  {
   "cell_type": "code",
   "execution_count": 271,
   "metadata": {},
   "outputs": [
    {
     "name": "stdout",
     "output_type": "stream",
     "text": [
      "a=10, b=20, c=30, d=40\n",
      "a=100, b=200, c=300, d=400\n",
      "a=100, b=200, c=300, d=400\n"
     ]
    }
   ],
   "source": [
    "def testfn(a, b, c, d):\n",
    "    print(f\"{a=}, {b=}, {c=}, {d=}\")\n",
    "\n",
    "testfn(10, 20, 30, 40)\n",
    "\n",
    "values = 100, 200, 300, 400\n",
    "testfn(values[0], values[1], values[2], values[3])\n",
    "testfn(*values)"
   ]
  },
  {
   "cell_type": "code",
   "execution_count": null,
   "metadata": {},
   "outputs": [],
   "source": [
    "def testfn(x, y):\n",
    "    print(x, y)\n",
    "\n",
    "testfn(10, 20) # x, y = 10, 20\n",
    "\n",
    "def testfn(*args):\n",
    "    print(args)\n",
    "\n",
    "testfn(10, 20, 30) # args = 10, 20, 30\n",
    "\n",
    "def testfn(x, y, z):\n",
    "    print(x, y, z)\n",
    "\n",
    "values = 10, 20, 30\n",
    "testfn(*values)  # x, y, z = values\n"
   ]
  },
  {
   "cell_type": "code",
   "execution_count": 274,
   "metadata": {},
   "outputs": [
    {
     "name": "stdout",
     "output_type": "stream",
     "text": [
      "w=10, x=20, y=30, z=40\n"
     ]
    }
   ],
   "source": [
    "def testfn(w, x, y, z):\n",
    "    print(f\"{w=}, {x=}, {y=}, {z=}\")\n",
    "\n",
    "d = {\"z\": 40, \"x\": 20, \"w\": 10, \"y\": 30}\n",
    "testfn(**d)"
   ]
  },
  {
   "cell_type": "code",
   "execution_count": 277,
   "metadata": {},
   "outputs": [
    {
     "name": "stdout",
     "output_type": "stream",
     "text": [
      "Connecting to host='localhost', port=6789, user='admin', password='secret', domain='org.python'\n"
     ]
    }
   ],
   "source": [
    "def create_connection(host, port, user, password, domain):\n",
    "    print(f\"Connecting to {host=}, {port=}, {user=}, {password=}, {domain=}\")\n",
    "\n",
    "config = {\n",
    "    \"user\": \"admin\",\n",
    "    \"password\": \"secret\",\n",
    "    \"domain\": \"org.python\",\n",
    "    \"host\": \"localhost\",\n",
    "    \"port\": 6789\n",
    "}\n",
    "\n",
    "create_connection(**config) # Calling function with dictionary-arguments"
   ]
  },
  {
   "cell_type": "code",
   "execution_count": 281,
   "metadata": {},
   "outputs": [
    {
     "name": "stdout",
     "output_type": "stream",
     "text": [
      "{'a': 10, 'b': 20, 'user': 'sam', 'logged_in': False}\n",
      "{}\n"
     ]
    },
    {
     "ename": "TypeError",
     "evalue": "testfn() takes 0 positional arguments but 2 were given",
     "output_type": "error",
     "traceback": [
      "\u001b[1;31m---------------------------------------------------------------------------\u001b[0m",
      "\u001b[1;31mTypeError\u001b[0m                                 Traceback (most recent call last)",
      "Cell \u001b[1;32mIn[281], line 6\u001b[0m\n\u001b[0;32m      4\u001b[0m testfn(a\u001b[38;5;241m=\u001b[39m\u001b[38;5;241m10\u001b[39m, b\u001b[38;5;241m=\u001b[39m\u001b[38;5;241m20\u001b[39m, user\u001b[38;5;241m=\u001b[39m\u001b[38;5;124m\"\u001b[39m\u001b[38;5;124msam\u001b[39m\u001b[38;5;124m\"\u001b[39m, logged_in\u001b[38;5;241m=\u001b[39m\u001b[38;5;28;01mFalse\u001b[39;00m)\n\u001b[0;32m      5\u001b[0m testfn()\n\u001b[1;32m----> 6\u001b[0m testfn(\u001b[38;5;241m10\u001b[39m, \u001b[38;5;241m20\u001b[39m)\n",
      "\u001b[1;31mTypeError\u001b[0m: testfn() takes 0 positional arguments but 2 were given"
     ]
    }
   ],
   "source": [
    "def testfn(**d):\n",
    "    print(d)\n",
    "\n",
    "testfn(a=10, b=20, user=\"sam\", logged_in=False)\n",
    "testfn()\n",
    "testfn(10, 20)\n"
   ]
  },
  {
   "cell_type": "code",
   "execution_count": 285,
   "metadata": {},
   "outputs": [
    {
     "name": "stdout",
     "output_type": "stream",
     "text": [
      "args=(), kwargs={}\n",
      "args=('john', 4.5, True), kwargs={}\n",
      "args=(), kwargs={'a': 10, 'b': 20}\n",
      "args=(10, 20), kwargs={'x': 30, 'y': 40}\n"
     ]
    }
   ],
   "source": [
    "def testfn(*args, **kwargs):\n",
    "    print(f\"{args=}, {kwargs=}\")\n",
    "\n",
    "testfn()\n",
    "testfn(\"john\", 4.5, True)\n",
    "testfn(a=10, b=20)\n",
    "testfn(10, 20, x=30, y=40)"
   ]
  },
  {
   "cell_type": "code",
   "execution_count": 287,
   "metadata": {},
   "outputs": [
    {
     "name": "stdout",
     "output_type": "stream",
     "text": [
      "Thu Sep 26 17:18:59 2024\n",
      ":\n",
      "10\n",
      "20\n",
      "30\n"
     ]
    }
   ],
   "source": [
    "def print_with_time(*args, **kwargs):\n",
    "    from time import ctime\n",
    "    __builtins__.print(ctime(), \":\", *args, **kwargs)\n",
    "\n",
    "print_with_time(10, 20, 30, sep=\"\\n\")"
   ]
  },
  {
   "cell_type": "code",
   "execution_count": 291,
   "metadata": {},
   "outputs": [
    {
     "name": "stdout",
     "output_type": "stream",
     "text": [
      "10 20 30 40\n"
     ]
    }
   ],
   "source": [
    "# Python 3.7+\n",
    "def testfn(a, b, *, c, d):\n",
    "    print(a, b, c, d)\n",
    "\n",
    "testfn(10, 20, c=30, d=40)"
   ]
  },
  {
   "cell_type": "code",
   "execution_count": 297,
   "metadata": {},
   "outputs": [
    {
     "data": {
      "text/plain": [
       "<Thread(Thread-8, initial)>"
      ]
     },
     "execution_count": 297,
     "metadata": {},
     "output_type": "execute_result"
    }
   ],
   "source": [
    "from threading import Thread\n",
    "Thread(None, None, daemon=False)"
   ]
  },
  {
   "cell_type": "code",
   "execution_count": 302,
   "metadata": {},
   "outputs": [
    {
     "name": "stdout",
     "output_type": "stream",
     "text": [
      "10 20 30\n",
      "10 20 40\n"
     ]
    },
    {
     "ename": "TypeError",
     "evalue": "testfn() got some positional-only arguments passed as keyword arguments: 'a, b'",
     "output_type": "error",
     "traceback": [
      "\u001b[1;31m---------------------------------------------------------------------------\u001b[0m",
      "\u001b[1;31mTypeError\u001b[0m                                 Traceback (most recent call last)",
      "Cell \u001b[1;32mIn[302], line 6\u001b[0m\n\u001b[0;32m      4\u001b[0m testfn(\u001b[38;5;241m10\u001b[39m, \u001b[38;5;241m20\u001b[39m, \u001b[38;5;241m30\u001b[39m)\n\u001b[0;32m      5\u001b[0m testfn(\u001b[38;5;241m10\u001b[39m, \u001b[38;5;241m20\u001b[39m, c\u001b[38;5;241m=\u001b[39m\u001b[38;5;241m40\u001b[39m)\n\u001b[1;32m----> 6\u001b[0m testfn(a\u001b[38;5;241m=\u001b[39m\u001b[38;5;241m10\u001b[39m, b\u001b[38;5;241m=\u001b[39m\u001b[38;5;241m20\u001b[39m, c\u001b[38;5;241m=\u001b[39m\u001b[38;5;241m30\u001b[39m)\n",
      "\u001b[1;31mTypeError\u001b[0m: testfn() got some positional-only arguments passed as keyword arguments: 'a, b'"
     ]
    }
   ],
   "source": [
    "def testfn(a, b, /, c):\n",
    "    print(a, b, c)\n",
    "\n",
    "testfn(10, 20, 30)\n",
    "testfn(10, 20, c=40)\n",
    "testfn(a=10, b=20, c=30)"
   ]
  },
  {
   "cell_type": "code",
   "execution_count": 306,
   "metadata": {},
   "outputs": [
    {
     "name": "stdout",
     "output_type": "stream",
     "text": [
      "4\n",
      "11.559999999999999\n",
      "(-9+40j)\n"
     ]
    },
    {
     "ename": "TypeError",
     "evalue": "can't multiply sequence by non-int of type 'str'",
     "output_type": "error",
     "traceback": [
      "\u001b[1;31m---------------------------------------------------------------------------\u001b[0m",
      "\u001b[1;31mTypeError\u001b[0m                                 Traceback (most recent call last)",
      "Cell \u001b[1;32mIn[306], line 7\u001b[0m\n\u001b[0;32m      5\u001b[0m \u001b[38;5;28mprint\u001b[39m(square(\u001b[38;5;241m3.4\u001b[39m))\n\u001b[0;32m      6\u001b[0m \u001b[38;5;28mprint\u001b[39m(square(\u001b[38;5;241m4\u001b[39m\u001b[38;5;241m+\u001b[39m\u001b[38;5;241m5\u001b[39mj))\n\u001b[1;32m----> 7\u001b[0m \u001b[38;5;28mprint\u001b[39m(square(\u001b[38;5;124m\"\u001b[39m\u001b[38;5;124mjohn\u001b[39m\u001b[38;5;124m\"\u001b[39m))\n",
      "Cell \u001b[1;32mIn[306], line 2\u001b[0m, in \u001b[0;36msquare\u001b[1;34m(x)\u001b[0m\n\u001b[0;32m      1\u001b[0m \u001b[38;5;28;01mdef\u001b[39;00m \u001b[38;5;21msquare\u001b[39m(x):\n\u001b[1;32m----> 2\u001b[0m     \u001b[38;5;28;01mreturn\u001b[39;00m x\u001b[38;5;241m*\u001b[39mx\n",
      "\u001b[1;31mTypeError\u001b[0m: can't multiply sequence by non-int of type 'str'"
     ]
    }
   ],
   "source": [
    "def square(x):\n",
    "    return x*x\n",
    "\n",
    "print(square(2))\n",
    "print(square(3.4))\n",
    "print(square(4+5j))\n",
    "print(square(\"john\"))"
   ]
  },
  {
   "cell_type": "code",
   "execution_count": 308,
   "metadata": {},
   "outputs": [
    {
     "name": "stdout",
     "output_type": "stream",
     "text": [
      "4\n",
      "11.559999999999999\n",
      "(-9+40j)\n",
      "0\n"
     ]
    }
   ],
   "source": [
    "def square(x):\n",
    "    if type(x) in (int, float, complex):\n",
    "        return x*x\n",
    "    else:\n",
    "        return 0\n",
    "\n",
    "print(square(2))\n",
    "print(square(3.4))\n",
    "print(square(4+5j))\n",
    "print(square(\"john\"))"
   ]
  }
 ],
 "metadata": {
  "kernelspec": {
   "display_name": "base",
   "language": "python",
   "name": "python3"
  },
  "language_info": {
   "codemirror_mode": {
    "name": "ipython",
    "version": 3
   },
   "file_extension": ".py",
   "mimetype": "text/x-python",
   "name": "python",
   "nbconvert_exporter": "python",
   "pygments_lexer": "ipython3",
   "version": "3.12.4"
  }
 },
 "nbformat": 4,
 "nbformat_minor": 2
}
