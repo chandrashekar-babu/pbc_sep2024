{
 "cells": [
  {
   "cell_type": "markdown",
   "metadata": {},
   "source": [
    "## Python Boot Camp - September 2024\n",
    "### Day 2 (September 24th 2024)\n",
    "\n",
    "#### Planned topics for today\n",
    " - Statements and Flow control\n",
    " - Python Builtin data-types"
   ]
  },
  {
   "cell_type": "code",
   "execution_count": 1,
   "metadata": {},
   "outputs": [
    {
     "name": "stdout",
     "output_type": "stream",
     "text": [
      "Hello\n"
     ]
    }
   ],
   "source": [
    "a = \"Hello\"\n",
    "print(a)"
   ]
  },
  {
   "cell_type": "code",
   "execution_count": 2,
   "metadata": {},
   "outputs": [],
   "source": [
    "del a"
   ]
  },
  {
   "cell_type": "code",
   "execution_count": 4,
   "metadata": {},
   "outputs": [
    {
     "name": "stdout",
     "output_type": "stream",
     "text": [
      "Hello, world\n"
     ]
    }
   ],
   "source": [
    "def greet():\n",
    "    print(\"Hello, world\")\n",
    "\n",
    "greet()"
   ]
  },
  {
   "cell_type": "code",
   "execution_count": 5,
   "metadata": {},
   "outputs": [],
   "source": [
    "del greet"
   ]
  },
  {
   "cell_type": "code",
   "execution_count": 7,
   "metadata": {},
   "outputs": [
    {
     "name": "stdout",
     "output_type": "stream",
     "text": [
      "[11, 22, 33, 44, 55]\n",
      "[11, 33, 44, 55]\n"
     ]
    }
   ],
   "source": [
    "a = [11, 22, 33, 44, 55]\n",
    "print(a)\n",
    "del a[1]\n",
    "print(a)"
   ]
  },
  {
   "cell_type": "code",
   "execution_count": 9,
   "metadata": {},
   "outputs": [
    {
     "name": "stdout",
     "output_type": "stream",
     "text": [
      "{'name': 'Jonathan', 'place': 'Denver', 'age': 45} <class 'dict'>\n",
      "{'name': 'Jonathan', 'age': 45}\n"
     ]
    }
   ],
   "source": [
    "d = {\"name\": \"Jonathan\", \"place\": \"Denver\", \"age\": 45}\n",
    "print(d, type(d))\n",
    "del d[\"place\"]\n",
    "print(d)"
   ]
  },
  {
   "cell_type": "code",
   "execution_count": 14,
   "metadata": {},
   "outputs": [
    {
     "name": "stdout",
     "output_type": "stream",
     "text": [
      "c:\\Users\\chandra\\Python_Boot_Camp\\pbc_sep2024\\day2\n",
      "['2024_Sep24.ipynb', 'a.txt', 'for_else.py', 'for_else_realword_usage.py', 'for_loop.py', 'run_ls.py', 'run_table.py', 'while.py', 'while_else.py', 'while_else1.py', 'while_else2.py', 'while_else_realworld.py', 'while_else_realworld_unpythonic.py', 'while_else_realworld_usage.py']\n"
     ]
    }
   ],
   "source": [
    "# The 'os' module provides operating system wrapper functions compatible with POSIX API\n",
    "import os\n",
    "print(os.getcwd())\n",
    "print(os.listdir(\".\"))"
   ]
  },
  {
   "cell_type": "code",
   "execution_count": 15,
   "metadata": {},
   "outputs": [
    {
     "ename": "AttributeError",
     "evalue": "module 'os' has no attribute 'unlink'",
     "output_type": "error",
     "traceback": [
      "\u001b[1;31m---------------------------------------------------------------------------\u001b[0m",
      "\u001b[1;31mAttributeError\u001b[0m                            Traceback (most recent call last)",
      "Cell \u001b[1;32mIn[15], line 1\u001b[0m\n\u001b[1;32m----> 1\u001b[0m os\u001b[38;5;241m.\u001b[39munlink(\u001b[38;5;124m\"\u001b[39m\u001b[38;5;124ma.txt\u001b[39m\u001b[38;5;124m\"\u001b[39m)\n",
      "\u001b[1;31mAttributeError\u001b[0m: module 'os' has no attribute 'unlink'"
     ]
    }
   ],
   "source": [
    "os.unlink(\"a.txt\")"
   ]
  },
  {
   "cell_type": "code",
   "execution_count": 13,
   "metadata": {},
   "outputs": [],
   "source": [
    "del os.unlink # Delete unlink attribute from the os module"
   ]
  },
  {
   "cell_type": "markdown",
   "metadata": {},
   "source": [
    "We can use `del` statement to:\n",
    "   - delete a variable (or any identifier)\n",
    "   - remove items from a mutable and subscriptable collection\n",
    "   - remove attributes from module, python classes and their instances"
   ]
  },
  {
   "cell_type": "code",
   "execution_count": 18,
   "metadata": {},
   "outputs": [
    {
     "name": "stdout",
     "output_type": "stream",
     "text": [
      "['DirEntry', 'EX_OK', 'F_OK', 'GenericAlias', 'Mapping', 'MutableMapping', 'O_APPEND', 'O_BINARY', 'O_CREAT', 'O_EXCL', 'O_NOINHERIT', 'O_RANDOM', 'O_RDONLY', 'O_RDWR', 'O_SEQUENTIAL', 'O_SHORT_LIVED', 'O_TEMPORARY', 'O_TEXT', 'O_TRUNC', 'O_WRONLY', 'P_DETACH', 'P_NOWAIT', 'P_NOWAITO', 'P_OVERLAY', 'P_WAIT', 'PathLike', 'R_OK', 'SEEK_CUR', 'SEEK_END', 'SEEK_SET', 'TMP_MAX', 'W_OK', 'X_OK', '_AddedDllDirectory', '_Environ', '__all__', '__builtins__', '__doc__', '__file__', '__loader__', '__name__', '__package__', '__spec__', '_check_methods', '_execvpe', '_exists', '_exit', '_fspath', '_get_exports_list', '_walk_symlinks_as_files', '_wrap_close', 'abc', 'abort', 'access', 'add_dll_directory', 'altsep', 'chdir', 'chmod', 'close', 'closerange', 'cpu_count', 'curdir', 'defpath', 'device_encoding', 'devnull', 'dup', 'dup2', 'environ', 'error', 'execl', 'execle', 'execlp', 'execlpe', 'execv', 'execve', 'execvp', 'execvpe', 'extsep', 'fdopen', 'fsdecode', 'fsencode', 'fspath', 'fstat', 'fsync', 'ftruncate', 'get_blocking', 'get_exec_path', 'get_handle_inheritable', 'get_inheritable', 'get_terminal_size', 'getcwd', 'getcwdb', 'getenv', 'getlogin', 'getpid', 'getppid', 'isatty', 'kill', 'linesep', 'link', 'listdir', 'listdrives', 'listmounts', 'listvolumes', 'lseek', 'lstat', 'makedirs', 'mkdir', 'name', 'open', 'pardir', 'path', 'pathsep', 'pipe', 'popen', 'putenv', 'read', 'readlink', 'remove', 'removedirs', 'rename', 'renames', 'replace', 'rmdir', 'scandir', 'sep', 'set_blocking', 'set_handle_inheritable', 'set_inheritable', 'spawnl', 'spawnle', 'spawnv', 'spawnve', 'st', 'startfile', 'stat', 'stat_result', 'statvfs_result', 'strerror', 'supports_bytes_environ', 'supports_dir_fd', 'supports_effective_ids', 'supports_fd', 'supports_follow_symlinks', 'symlink', 'sys', 'system', 'terminal_size', 'times', 'times_result', 'truncate', 'umask', 'uname_result', 'unsetenv', 'urandom', 'utime', 'waitpid', 'waitstatus_to_exitcode', 'walk', 'write']\n"
     ]
    }
   ],
   "source": [
    "import os\n",
    "print(dir(os))"
   ]
  },
  {
   "cell_type": "code",
   "execution_count": 19,
   "metadata": {},
   "outputs": [
    {
     "data": {
      "text/plain": [
       "<function xml.etree.ElementTree.parse(source, parser=None)>"
      ]
     },
     "execution_count": 19,
     "metadata": {},
     "output_type": "execute_result"
    }
   ],
   "source": [
    "import xml.etree.ElementTree\n",
    "\n",
    "xml.etree.ElementTree.parse"
   ]
  },
  {
   "cell_type": "code",
   "execution_count": 27,
   "metadata": {},
   "outputs": [
    {
     "data": {
      "text/plain": [
       "<cyfunction parse at 0x0000020EB4607C60>"
      ]
     },
     "execution_count": 27,
     "metadata": {},
     "output_type": "execute_result"
    }
   ],
   "source": [
    "#import xml.etree.ElementTree as et\n",
    "import lxml.etree as et\n",
    "et.parse"
   ]
  },
  {
   "cell_type": "code",
   "execution_count": 20,
   "metadata": {},
   "outputs": [
    {
     "data": {
      "text/plain": [
       "<function xml.etree.ElementTree.parse(source, parser=None)>"
      ]
     },
     "execution_count": 20,
     "metadata": {},
     "output_type": "execute_result"
    }
   ],
   "source": [
    "import xml.etree.ElementTree as et\n",
    "\n",
    "et.parse"
   ]
  },
  {
   "cell_type": "code",
   "execution_count": 21,
   "metadata": {},
   "outputs": [
    {
     "data": {
      "text/plain": [
       "<function numpy.array>"
      ]
     },
     "execution_count": 21,
     "metadata": {},
     "output_type": "execute_result"
    }
   ],
   "source": [
    "import numpy as np\n",
    "np.array"
   ]
  },
  {
   "cell_type": "code",
   "execution_count": null,
   "metadata": {},
   "outputs": [],
   "source": [
    "#import numpy as np\n",
    "import numpy\n",
    "np = numpy\n",
    "del numpy\n"
   ]
  },
  {
   "cell_type": "code",
   "execution_count": 23,
   "metadata": {},
   "outputs": [
    {
     "name": "stdout",
     "output_type": "stream",
     "text": [
      "<function load at 0x0000020EADEA4400> <function dump at 0x0000020EADE8F600>\n"
     ]
    }
   ],
   "source": [
    "import json\n",
    "print(json.load, json.dump)"
   ]
  },
  {
   "cell_type": "code",
   "execution_count": 25,
   "metadata": {},
   "outputs": [
    {
     "name": "stdout",
     "output_type": "stream",
     "text": [
      "<built-in function load> <built-in function dump>\n"
     ]
    }
   ],
   "source": [
    "import ujson as json\n",
    "print(json.load, json.dump)"
   ]
  },
  {
   "cell_type": "code",
   "execution_count": 29,
   "metadata": {},
   "outputs": [
    {
     "ename": "NameError",
     "evalue": "name 'ctime' is not defined",
     "output_type": "error",
     "traceback": [
      "\u001b[1;31m---------------------------------------------------------------------------\u001b[0m",
      "\u001b[1;31mNameError\u001b[0m                                 Traceback (most recent call last)",
      "Cell \u001b[1;32mIn[29], line 3\u001b[0m\n\u001b[0;32m      1\u001b[0m \u001b[38;5;28;01mimport\u001b[39;00m \u001b[38;5;21;01mtime\u001b[39;00m\n\u001b[0;32m      2\u001b[0m time\u001b[38;5;241m.\u001b[39mctime()\n\u001b[1;32m----> 3\u001b[0m ctime()\n",
      "\u001b[1;31mNameError\u001b[0m: name 'ctime' is not defined"
     ]
    }
   ],
   "source": [
    "import time\n",
    "time.ctime()\n",
    "ctime()"
   ]
  },
  {
   "cell_type": "code",
   "execution_count": 32,
   "metadata": {},
   "outputs": [
    {
     "ename": "NameError",
     "evalue": "name 'time' is not defined",
     "output_type": "error",
     "traceback": [
      "\u001b[1;31m---------------------------------------------------------------------------\u001b[0m",
      "\u001b[1;31mNameError\u001b[0m                                 Traceback (most recent call last)",
      "Cell \u001b[1;32mIn[32], line 6\u001b[0m\n\u001b[0;32m      3\u001b[0m \u001b[38;5;28;01mdel\u001b[39;00m time\n\u001b[0;32m      5\u001b[0m ctime()\n\u001b[1;32m----> 6\u001b[0m time\n",
      "\u001b[1;31mNameError\u001b[0m: name 'time' is not defined"
     ]
    }
   ],
   "source": [
    "import time\n",
    "ctime = time.ctime\n",
    "del time\n",
    "\n",
    "ctime()\n",
    "time"
   ]
  },
  {
   "cell_type": "code",
   "execution_count": 35,
   "metadata": {},
   "outputs": [
    {
     "ename": "NameError",
     "evalue": "name 'time' is not defined",
     "output_type": "error",
     "traceback": [
      "\u001b[1;31m---------------------------------------------------------------------------\u001b[0m",
      "\u001b[1;31mNameError\u001b[0m                                 Traceback (most recent call last)",
      "Cell \u001b[1;32mIn[35], line 3\u001b[0m\n\u001b[0;32m      1\u001b[0m \u001b[38;5;28;01mfrom\u001b[39;00m \u001b[38;5;21;01mtime\u001b[39;00m \u001b[38;5;28;01mimport\u001b[39;00m ctime\n\u001b[0;32m      2\u001b[0m ctime()\n\u001b[1;32m----> 3\u001b[0m time\u001b[38;5;241m.\u001b[39mctime()\n",
      "\u001b[1;31mNameError\u001b[0m: name 'time' is not defined"
     ]
    }
   ],
   "source": [
    "from time import ctime\n",
    "ctime()\n",
    "time.ctime()"
   ]
  },
  {
   "cell_type": "code",
   "execution_count": null,
   "metadata": {},
   "outputs": [],
   "source": [
    "import json\n",
    "\n",
    "json.load(\"a.json\")"
   ]
  },
  {
   "cell_type": "code",
   "execution_count": null,
   "metadata": {},
   "outputs": [],
   "source": [
    "from json import load\n",
    "\n",
    "data = load(\"a.json\")  # Avoid this -> not very readable\n"
   ]
  },
  {
   "cell_type": "code",
   "execution_count": 36,
   "metadata": {},
   "outputs": [
    {
     "name": "stdout",
     "output_type": "stream",
     "text": [
      "[11 22 33 44 55]\n"
     ]
    }
   ],
   "source": [
    "import numpy as np\n",
    "\n",
    "a = np.array([11, 22, 33, 44, 55])\n",
    "print(a)"
   ]
  },
  {
   "cell_type": "code",
   "execution_count": 38,
   "metadata": {},
   "outputs": [
    {
     "name": "stdout",
     "output_type": "stream",
     "text": [
      "array('i', [11, 22, 33, 44, 55])\n"
     ]
    }
   ],
   "source": [
    "import array as ar\n",
    "\n",
    "a = ar.array(\"i\", [11, 22, 33, 44, 55])\n",
    "print(a)"
   ]
  },
  {
   "cell_type": "code",
   "execution_count": 40,
   "metadata": {},
   "outputs": [
    {
     "data": {
      "text/plain": [
       "'Tue Sep 24 10:28:39 2024'"
      ]
     },
     "execution_count": 40,
     "metadata": {},
     "output_type": "execute_result"
    }
   ],
   "source": [
    "import time\n",
    "time.ctime()  # ctime is not a generic name, it is known to belong to time\n",
    "\n",
    "# Better way to use ctime\n",
    "from time import ctime\n",
    "ctime()"
   ]
  },
  {
   "cell_type": "code",
   "execution_count": 41,
   "metadata": {},
   "outputs": [
    {
     "data": {
      "text/plain": [
       "<socket.socket fd=1988, family=2, type=1, proto=0>"
      ]
     },
     "execution_count": 41,
     "metadata": {},
     "output_type": "execute_result"
    }
   ],
   "source": [
    "import socket\n",
    "\n",
    "sock = socket.socket(socket.AF_INET, socket.SOCK_STREAM)\n",
    "sock"
   ]
  },
  {
   "cell_type": "code",
   "execution_count": null,
   "metadata": {},
   "outputs": [
    {
     "data": {
      "text/plain": [
       "<socket.socket fd=1988, family=2, type=1, proto=0>"
      ]
     },
     "metadata": {},
     "output_type": "display_data"
    }
   ],
   "source": [
    "from socket import socket, AF_INET, SOCK_STREAM\n",
    "\n",
    "sock = socket(AF_INET, SOCK_STREAM)\n",
    "sock"
   ]
  },
  {
   "cell_type": "code",
   "execution_count": 43,
   "metadata": {},
   "outputs": [
    {
     "name": "stdout",
     "output_type": "stream",
     "text": [
      "\u001b[1;31mInit signature:\u001b[0m\n",
      "\u001b[0mThread\u001b[0m\u001b[1;33m(\u001b[0m\u001b[1;33m\n",
      "\u001b[0m    \u001b[0mgroup\u001b[0m\u001b[1;33m=\u001b[0m\u001b[1;32mNone\u001b[0m\u001b[1;33m,\u001b[0m\u001b[1;33m\n",
      "\u001b[0m    \u001b[0mtarget\u001b[0m\u001b[1;33m=\u001b[0m\u001b[1;32mNone\u001b[0m\u001b[1;33m,\u001b[0m\u001b[1;33m\n",
      "\u001b[0m    \u001b[0mname\u001b[0m\u001b[1;33m=\u001b[0m\u001b[1;32mNone\u001b[0m\u001b[1;33m,\u001b[0m\u001b[1;33m\n",
      "\u001b[0m    \u001b[0margs\u001b[0m\u001b[1;33m=\u001b[0m\u001b[1;33m(\u001b[0m\u001b[1;33m)\u001b[0m\u001b[1;33m,\u001b[0m\u001b[1;33m\n",
      "\u001b[0m    \u001b[0mkwargs\u001b[0m\u001b[1;33m=\u001b[0m\u001b[1;32mNone\u001b[0m\u001b[1;33m,\u001b[0m\u001b[1;33m\n",
      "\u001b[0m    \u001b[1;33m*\u001b[0m\u001b[1;33m,\u001b[0m\u001b[1;33m\n",
      "\u001b[0m    \u001b[0mdaemon\u001b[0m\u001b[1;33m=\u001b[0m\u001b[1;32mNone\u001b[0m\u001b[1;33m,\u001b[0m\u001b[1;33m\n",
      "\u001b[0m\u001b[1;33m)\u001b[0m\u001b[1;33m\u001b[0m\u001b[1;33m\u001b[0m\u001b[0m\n",
      "\u001b[1;31mDocstring:\u001b[0m     \n",
      "A class that represents a thread of control.\n",
      "\n",
      "This class can be safely subclassed in a limited fashion. There are two ways\n",
      "to specify the activity: by passing a callable object to the constructor, or\n",
      "by overriding the run() method in a subclass.\n",
      "\u001b[1;31mInit docstring:\u001b[0m\n",
      "This constructor should always be called with keyword arguments. Arguments are:\n",
      "\n",
      "*group* should be None; reserved for future extension when a ThreadGroup\n",
      "class is implemented.\n",
      "\n",
      "*target* is the callable object to be invoked by the run()\n",
      "method. Defaults to None, meaning nothing is called.\n",
      "\n",
      "*name* is the thread name. By default, a unique name is constructed of\n",
      "the form \"Thread-N\" where N is a small decimal number.\n",
      "\n",
      "*args* is a list or tuple of arguments for the target invocation. Defaults to ().\n",
      "\n",
      "*kwargs* is a dictionary of keyword arguments for the target\n",
      "invocation. Defaults to {}.\n",
      "\n",
      "If a subclass overrides the constructor, it must make sure to invoke\n",
      "the base class constructor (Thread.__init__()) before doing anything\n",
      "else to the thread.\n",
      "\u001b[1;31mFile:\u001b[0m           c:\\users\\chandra\\anaconda3\\lib\\threading.py\n",
      "\u001b[1;31mType:\u001b[0m           type\n",
      "\u001b[1;31mSubclasses:\u001b[0m     Timer, _MainThread, _DummyThread, HBChannel, HistorySavingThread, ControlThread, Heartbeat, PyDBDaemonThread, _EvalAwaitInNewEventLoop, ParentPollerUnix, ..."
     ]
    }
   ],
   "source": [
    "from threading import Thread\n",
    "Thread?"
   ]
  },
  {
   "cell_type": "code",
   "execution_count": 44,
   "metadata": {},
   "outputs": [
    {
     "name": "stdout",
     "output_type": "stream",
     "text": [
      "\u001b[1;31mInit signature:\u001b[0m\n",
      "\u001b[0mProcess\u001b[0m\u001b[1;33m(\u001b[0m\u001b[1;33m\n",
      "\u001b[0m    \u001b[0mgroup\u001b[0m\u001b[1;33m=\u001b[0m\u001b[1;32mNone\u001b[0m\u001b[1;33m,\u001b[0m\u001b[1;33m\n",
      "\u001b[0m    \u001b[0mtarget\u001b[0m\u001b[1;33m=\u001b[0m\u001b[1;32mNone\u001b[0m\u001b[1;33m,\u001b[0m\u001b[1;33m\n",
      "\u001b[0m    \u001b[0mname\u001b[0m\u001b[1;33m=\u001b[0m\u001b[1;32mNone\u001b[0m\u001b[1;33m,\u001b[0m\u001b[1;33m\n",
      "\u001b[0m    \u001b[0margs\u001b[0m\u001b[1;33m=\u001b[0m\u001b[1;33m(\u001b[0m\u001b[1;33m)\u001b[0m\u001b[1;33m,\u001b[0m\u001b[1;33m\n",
      "\u001b[0m    \u001b[0mkwargs\u001b[0m\u001b[1;33m=\u001b[0m\u001b[1;33m{\u001b[0m\u001b[1;33m}\u001b[0m\u001b[1;33m,\u001b[0m\u001b[1;33m\n",
      "\u001b[0m    \u001b[1;33m*\u001b[0m\u001b[1;33m,\u001b[0m\u001b[1;33m\n",
      "\u001b[0m    \u001b[0mdaemon\u001b[0m\u001b[1;33m=\u001b[0m\u001b[1;32mNone\u001b[0m\u001b[1;33m,\u001b[0m\u001b[1;33m\n",
      "\u001b[0m\u001b[1;33m)\u001b[0m\u001b[1;33m\u001b[0m\u001b[1;33m\u001b[0m\u001b[0m\n",
      "\u001b[1;31mDocstring:\u001b[0m     \n",
      "Process objects represent activity that is run in a separate process\n",
      "\n",
      "The class is analogous to `threading.Thread`\n",
      "\u001b[1;31mFile:\u001b[0m           c:\\users\\chandra\\anaconda3\\lib\\multiprocessing\\context.py\n",
      "\u001b[1;31mType:\u001b[0m           type\n",
      "\u001b[1;31mSubclasses:\u001b[0m     "
     ]
    }
   ],
   "source": [
    "from multiprocessing import Process\n",
    "Process?"
   ]
  },
  {
   "cell_type": "code",
   "execution_count": 47,
   "metadata": {},
   "outputs": [
    {
     "name": "stdout",
     "output_type": "stream",
     "text": [
      "<Thread(Thread-7, stopped 10368)>\n"
     ]
    }
   ],
   "source": [
    "from threading import Thread as Task\n",
    "\n",
    "t = Task()\n",
    "t.start()\n",
    "t.join()\n",
    "print(t)"
   ]
  },
  {
   "cell_type": "code",
   "execution_count": 48,
   "metadata": {},
   "outputs": [
    {
     "name": "stdout",
     "output_type": "stream",
     "text": [
      "<Process name='Process-1' pid=1512 parent=7092 stopped exitcode=0>\n"
     ]
    }
   ],
   "source": [
    "#from threading import Thread as Task\n",
    "from multiprocessing import Process as Task\n",
    "\n",
    "t = Task()\n",
    "t.start()\n",
    "t.join()\n",
    "print(t)"
   ]
  },
  {
   "cell_type": "code",
   "execution_count": 50,
   "metadata": {},
   "outputs": [
    {
     "data": {
      "text/plain": [
       "concurrent.futures.process.ProcessPoolExecutor"
      ]
     },
     "execution_count": 50,
     "metadata": {},
     "output_type": "execute_result"
    }
   ],
   "source": [
    "#from concurrent.futures import ThreadPoolExecutor as Executor\n",
    "from concurrent.futures import ProcessPoolExecutor as Executor\n",
    "\n",
    "Executor"
   ]
  },
  {
   "cell_type": "code",
   "execution_count": 51,
   "metadata": {},
   "outputs": [
    {
     "ename": "TypeError",
     "evalue": "Invalid type",
     "output_type": "error",
     "traceback": [
      "\u001b[1;31m---------------------------------------------------------------------------\u001b[0m",
      "\u001b[1;31mTypeError\u001b[0m                                 Traceback (most recent call last)",
      "Cell \u001b[1;32mIn[51], line 1\u001b[0m\n\u001b[1;32m----> 1\u001b[0m \u001b[38;5;28;01mraise\u001b[39;00m \u001b[38;5;167;01mTypeError\u001b[39;00m(\u001b[38;5;124m\"\u001b[39m\u001b[38;5;124mInvalid type\u001b[39m\u001b[38;5;124m\"\u001b[39m)\n",
      "\u001b[1;31mTypeError\u001b[0m: Invalid type"
     ]
    }
   ],
   "source": [
    "raise TypeError(\"Invalid type\")"
   ]
  },
  {
   "cell_type": "code",
   "execution_count": 52,
   "metadata": {},
   "outputs": [
    {
     "ename": "NameError",
     "evalue": "name 'test_data' is not defined",
     "output_type": "error",
     "traceback": [
      "\u001b[1;31m---------------------------------------------------------------------------\u001b[0m",
      "\u001b[1;31mNameError\u001b[0m                                 Traceback (most recent call last)",
      "Cell \u001b[1;32mIn[52], line 1\u001b[0m\n\u001b[1;32m----> 1\u001b[0m \u001b[38;5;28mprint\u001b[39m(test_data)\n",
      "\u001b[1;31mNameError\u001b[0m: name 'test_data' is not defined"
     ]
    }
   ],
   "source": [
    "print(test_data)"
   ]
  },
  {
   "cell_type": "code",
   "execution_count": 53,
   "metadata": {},
   "outputs": [
    {
     "ename": "NameError",
     "evalue": "name 'testfn' is not defined",
     "output_type": "error",
     "traceback": [
      "\u001b[1;31m---------------------------------------------------------------------------\u001b[0m",
      "\u001b[1;31mNameError\u001b[0m                                 Traceback (most recent call last)",
      "Cell \u001b[1;32mIn[53], line 1\u001b[0m\n\u001b[1;32m----> 1\u001b[0m testfn()\n",
      "\u001b[1;31mNameError\u001b[0m: name 'testfn' is not defined"
     ]
    }
   ],
   "source": [
    "testfn()"
   ]
  },
  {
   "cell_type": "code",
   "execution_count": 54,
   "metadata": {},
   "outputs": [
    {
     "ename": "AttributeError",
     "evalue": "module 'os' has no attribute 'uname'",
     "output_type": "error",
     "traceback": [
      "\u001b[1;31m---------------------------------------------------------------------------\u001b[0m",
      "\u001b[1;31mAttributeError\u001b[0m                            Traceback (most recent call last)",
      "Cell \u001b[1;32mIn[54], line 2\u001b[0m\n\u001b[0;32m      1\u001b[0m \u001b[38;5;28;01mimport\u001b[39;00m \u001b[38;5;21;01mos\u001b[39;00m\n\u001b[1;32m----> 2\u001b[0m os\u001b[38;5;241m.\u001b[39muname()\n",
      "\u001b[1;31mAttributeError\u001b[0m: module 'os' has no attribute 'uname'"
     ]
    }
   ],
   "source": [
    "import os\n",
    "os.uname()"
   ]
  },
  {
   "cell_type": "code",
   "execution_count": 55,
   "metadata": {},
   "outputs": [],
   "source": [
    "a = [11, 22, 33, 44, 55]\n",
    "a.reverse()"
   ]
  },
  {
   "cell_type": "code",
   "execution_count": 56,
   "metadata": {},
   "outputs": [
    {
     "ename": "AttributeError",
     "evalue": "'str' object has no attribute 'reverse'",
     "output_type": "error",
     "traceback": [
      "\u001b[1;31m---------------------------------------------------------------------------\u001b[0m",
      "\u001b[1;31mAttributeError\u001b[0m                            Traceback (most recent call last)",
      "Cell \u001b[1;32mIn[56], line 2\u001b[0m\n\u001b[0;32m      1\u001b[0m s \u001b[38;5;241m=\u001b[39m \u001b[38;5;124m\"\u001b[39m\u001b[38;5;124mhello\u001b[39m\u001b[38;5;124m\"\u001b[39m\n\u001b[1;32m----> 2\u001b[0m s\u001b[38;5;241m.\u001b[39mreverse()\n",
      "\u001b[1;31mAttributeError\u001b[0m: 'str' object has no attribute 'reverse'"
     ]
    }
   ],
   "source": [
    "s = \"hello\"\n",
    "s.reverse()"
   ]
  },
  {
   "cell_type": "markdown",
   "metadata": {},
   "source": [
    "##### Common builtin Error types:\n",
    "  - NameError: raised when undefined identifiers are accessed in an expression\n",
    "  - AttributeError: raised when undefined attributes are being access on an object\n",
    "  - TypeError: raised when an expression is passed with an incompatible type\n",
    "  - ValueError: raised when an expression is passed with incompatible value\n",
    "  - IndexError: raised when an invalid subscript index is accessed on a sequence\n",
    "  - KeyError: raised when a non-existent key is accessed on a dictionary\n",
    "  \n",
    "  "
   ]
  },
  {
   "cell_type": "code",
   "execution_count": 57,
   "metadata": {},
   "outputs": [
    {
     "name": "stdout",
     "output_type": "stream",
     "text": [
      "300\n"
     ]
    }
   ],
   "source": [
    "a = 100\n",
    "b = 200\n",
    "c = a + b\n",
    "print(c)"
   ]
  },
  {
   "cell_type": "code",
   "execution_count": 58,
   "metadata": {},
   "outputs": [
    {
     "ename": "TypeError",
     "evalue": "unsupported operand type(s) for +: 'int' and 'str'",
     "output_type": "error",
     "traceback": [
      "\u001b[1;31m---------------------------------------------------------------------------\u001b[0m",
      "\u001b[1;31mTypeError\u001b[0m                                 Traceback (most recent call last)",
      "Cell \u001b[1;32mIn[58], line 3\u001b[0m\n\u001b[0;32m      1\u001b[0m a \u001b[38;5;241m=\u001b[39m \u001b[38;5;241m100\u001b[39m\n\u001b[0;32m      2\u001b[0m b \u001b[38;5;241m=\u001b[39m \u001b[38;5;124m\"\u001b[39m\u001b[38;5;124m200\u001b[39m\u001b[38;5;124m\"\u001b[39m\n\u001b[1;32m----> 3\u001b[0m c \u001b[38;5;241m=\u001b[39m a \u001b[38;5;241m+\u001b[39m b\n\u001b[0;32m      4\u001b[0m \u001b[38;5;28mprint\u001b[39m(c)\n",
      "\u001b[1;31mTypeError\u001b[0m: unsupported operand type(s) for +: 'int' and 'str'"
     ]
    }
   ],
   "source": [
    "a = 100\n",
    "b = \"200\"\n",
    "c = a + b\n",
    "print(c)"
   ]
  },
  {
   "cell_type": "code",
   "execution_count": 60,
   "metadata": {},
   "outputs": [
    {
     "name": "stdout",
     "output_type": "stream",
     "text": [
      "300\n",
      "100200\n"
     ]
    }
   ],
   "source": [
    "a = 100\n",
    "b = \"200\"\n",
    "c = a + int(b)  # This is NOT type-casting, it is type conversion / type-construction\n",
    "print(c)\n",
    "\n",
    "d = str(a) + b\n",
    "print(d)\n",
    "# Follows - \"Explicit is better than implicit\" zen idiom\n"
   ]
  },
  {
   "cell_type": "code",
   "execution_count": 70,
   "metadata": {},
   "outputs": [
    {
     "name": "stdout",
     "output_type": "stream",
     "text": [
      "1a00 <class 'str'>\n"
     ]
    },
    {
     "ename": "ValueError",
     "evalue": "invalid literal for int() with base 10: '1a00'",
     "output_type": "error",
     "traceback": [
      "\u001b[1;31m---------------------------------------------------------------------------\u001b[0m",
      "\u001b[1;31mValueError\u001b[0m                                Traceback (most recent call last)",
      "Cell \u001b[1;32mIn[70], line 4\u001b[0m\n\u001b[0;32m      1\u001b[0m a \u001b[38;5;241m=\u001b[39m \u001b[38;5;124m\"\u001b[39m\u001b[38;5;124m1a00\u001b[39m\u001b[38;5;124m\"\u001b[39m\n\u001b[0;32m      2\u001b[0m \u001b[38;5;28mprint\u001b[39m(a, \u001b[38;5;28mtype\u001b[39m(a))\n\u001b[1;32m----> 4\u001b[0m b \u001b[38;5;241m=\u001b[39m \u001b[38;5;28mint\u001b[39m(a)\n\u001b[0;32m      5\u001b[0m \u001b[38;5;28mprint\u001b[39m(b, \u001b[38;5;28mtype\u001b[39m(b))\n",
      "\u001b[1;31mValueError\u001b[0m: invalid literal for int() with base 10: '1a00'"
     ]
    }
   ],
   "source": [
    "a = \"1a00\"\n",
    "print(a, type(a))\n",
    "\n",
    "b = int(a)\n",
    "print(b, type(b))"
   ]
  },
  {
   "cell_type": "markdown",
   "metadata": {},
   "source": [
    "Note: Python is a strongly-typed language. However, types are associated with objects and\n",
    "not variables."
   ]
  },
  {
   "cell_type": "code",
   "execution_count": 64,
   "metadata": {},
   "outputs": [
    {
     "name": "stdout",
     "output_type": "stream",
     "text": [
      "<class 'int'>\n",
      "<class 'list'>\n",
      "<class 'str'>\n",
      "<class 'function'>\n"
     ]
    }
   ],
   "source": [
    "a = 100\n",
    "print(type(a))\n",
    "\n",
    "a = [11, 22, 33]\n",
    "print(type(a))\n",
    "\n",
    "a = \"Hello\"\n",
    "print(type(a))\n",
    "\n",
    "def a():\n",
    "    print(\"I'm a function\")\n",
    "\n",
    "print(type(a))"
   ]
  },
  {
   "cell_type": "code",
   "execution_count": 68,
   "metadata": {},
   "outputs": [],
   "source": [
    "# Gradual Static Typing / Optional Static Typing\n",
    "\n",
    "a :int\n",
    "\n",
    "a = 100\n",
    "\n",
    "a = 3.4\n",
    "\n",
    "a = \"hello\""
   ]
  },
  {
   "cell_type": "code",
   "execution_count": 71,
   "metadata": {},
   "outputs": [
    {
     "ename": "ConnectionFailed",
     "evalue": "Failed to connect to the host",
     "output_type": "error",
     "traceback": [
      "\u001b[1;31m---------------------------------------------------------------------------\u001b[0m",
      "\u001b[1;31mConnectionFailed\u001b[0m                          Traceback (most recent call last)",
      "Cell \u001b[1;32mIn[71], line 3\u001b[0m\n\u001b[0;32m      1\u001b[0m \u001b[38;5;28;01mclass\u001b[39;00m \u001b[38;5;21;01mConnectionFailed\u001b[39;00m(\u001b[38;5;167;01mException\u001b[39;00m): \u001b[38;5;28;01mpass\u001b[39;00m\n\u001b[1;32m----> 3\u001b[0m \u001b[38;5;28;01mraise\u001b[39;00m ConnectionFailed(\u001b[38;5;124m\"\u001b[39m\u001b[38;5;124mFailed to connect to the host\u001b[39m\u001b[38;5;124m\"\u001b[39m)\n",
      "\u001b[1;31mConnectionFailed\u001b[0m: Failed to connect to the host"
     ]
    }
   ],
   "source": [
    "class ConnectionFailed(Exception): pass\n",
    "\n",
    "raise ConnectionFailed(\"Failed to connect to the host\")"
   ]
  },
  {
   "cell_type": "code",
   "execution_count": 73,
   "metadata": {},
   "outputs": [],
   "source": [
    "pass  # Do noting statement"
   ]
  },
  {
   "cell_type": "code",
   "execution_count": 85,
   "metadata": {},
   "outputs": [
    {
     "ename": "IndentationError",
     "evalue": "unindent does not match any outer indentation level (<string>, line 3)",
     "output_type": "error",
     "traceback": [
      "\u001b[1;36m  File \u001b[1;32m<string>:3\u001b[1;36m\u001b[0m\n\u001b[1;33m    print(\"Another test string\")\u001b[0m\n\u001b[1;37m                                 ^\u001b[0m\n\u001b[1;31mIndentationError\u001b[0m\u001b[1;31m:\u001b[0m unindent does not match any outer indentation level\n"
     ]
    }
   ],
   "source": [
    "def testfn():\n",
    "    print(\"Hello\")\n",
    "    print(\"Another test string\") \n",
    "\n",
    "testfn()"
   ]
  },
  {
   "cell_type": "code",
   "execution_count": 86,
   "metadata": {},
   "outputs": [],
   "source": [
    "def testfn():\n",
    "    pass\n",
    "\n",
    "testfn()"
   ]
  },
  {
   "cell_type": "code",
   "execution_count": 80,
   "metadata": {},
   "outputs": [
    {
     "name": "stdout",
     "output_type": "stream",
     "text": [
      "Hello\n"
     ]
    }
   ],
   "source": [
    "  print(\"Hello\")"
   ]
  },
  {
   "cell_type": "code",
   "execution_count": null,
   "metadata": {},
   "outputs": [],
   "source": [
    "user_name = \"john\"\n",
    "\n",
    "class EmployeeInfo: pass  # CamelCase to be used only for classes\n",
    "\n",
    "MAX_LIMIT = 500  # Infer that MAX_LIMIT should be treated as a constant\n"
   ]
  },
  {
   "cell_type": "markdown",
   "metadata": {},
   "source": [
    "For coding guidelines to follow in Python: \n",
    "https://peps.python.org/pep-0008/"
   ]
  },
  {
   "cell_type": "markdown",
   "metadata": {},
   "source": [
    "Simple statements (summary)\n",
    "  - Assignments\n",
    "  - The del statement\n",
    "  - Import statements\n",
    "  - raise\n",
    "  - pass\n",
    "  - return\n",
    "  - yield\n",
    "  - await\n",
    "  - break\n",
    "  - continue\n",
    "  - assert\n"
   ]
  },
  {
   "cell_type": "code",
   "execution_count": 88,
   "metadata": {},
   "outputs": [
    {
     "ename": "AssertionError",
     "evalue": "The value is too low",
     "output_type": "error",
     "traceback": [
      "\u001b[1;31m---------------------------------------------------------------------------\u001b[0m",
      "\u001b[1;31mAssertionError\u001b[0m                            Traceback (most recent call last)",
      "Cell \u001b[1;32mIn[88], line 2\u001b[0m\n\u001b[0;32m      1\u001b[0m a \u001b[38;5;241m=\u001b[39m \u001b[38;5;241m10\u001b[39m\n\u001b[1;32m----> 2\u001b[0m \u001b[38;5;28;01massert\u001b[39;00m a \u001b[38;5;241m>\u001b[39m \u001b[38;5;241m50\u001b[39m, \u001b[38;5;124m\"\u001b[39m\u001b[38;5;124mThe value is too low\u001b[39m\u001b[38;5;124m\"\u001b[39m\n",
      "\u001b[1;31mAssertionError\u001b[0m: The value is too low"
     ]
    }
   ],
   "source": [
    "a = 10\n",
    "assert a > 50, \"The value is too low\""
   ]
  },
  {
   "cell_type": "markdown",
   "metadata": {},
   "source": [
    "#### Compound statements\n",
    " 1. Flow control\n",
    "     - `if` statement\n",
    "     - `match`...`case` statement (Python 3.10)\n",
    "     - `while` loop\n",
    "     - `for` loop\n",
    "     - `try`...`except` block\n",
    "     - `with` statement\n",
    "\n",
    " 2. Function / coroutine definition\n",
    "     - `def` statement\n",
    "     - `async def` statement (from Python 3.6)\n",
    "\n",
    " 3. Class definition\n",
    "    - `class` statement\n",
    "    "
   ]
  },
  {
   "cell_type": "code",
   "execution_count": 89,
   "metadata": {},
   "outputs": [
    {
     "data": {
      "text/plain": [
       "bool"
      ]
     },
     "execution_count": 89,
     "metadata": {},
     "output_type": "execute_result"
    }
   ],
   "source": [
    "bool"
   ]
  },
  {
   "cell_type": "code",
   "execution_count": 90,
   "metadata": {},
   "outputs": [
    {
     "name": "stdout",
     "output_type": "stream",
     "text": [
      "1\n"
     ]
    }
   ],
   "source": [
    "a = 1\n",
    "print(a)"
   ]
  },
  {
   "cell_type": "code",
   "execution_count": 96,
   "metadata": {},
   "outputs": [
    {
     "name": "stdout",
     "output_type": "stream",
     "text": [
      "True\n",
      "True False\n",
      "True True\n",
      "True <class 'bool'>\n",
      "3\n"
     ]
    }
   ],
   "source": [
    "a = bool(1)\n",
    "print(a)\n",
    "\n",
    "a, b = True, False\n",
    "print(a, b)\n",
    "print(a == 1, b == 0)\n",
    "print(a, type(a))\n",
    "c = a + 2\n",
    "print(c)"
   ]
  },
  {
   "cell_type": "code",
   "execution_count": 98,
   "metadata": {},
   "outputs": [
    {
     "data": {
      "text/plain": [
       "(True, True, False)"
      ]
     },
     "execution_count": 98,
     "metadata": {},
     "output_type": "execute_result"
    }
   ],
   "source": [
    "bool(-5), bool(5), bool(0)"
   ]
  },
  {
   "cell_type": "code",
   "execution_count": 99,
   "metadata": {},
   "outputs": [
    {
     "name": "stdout",
     "output_type": "stream",
     "text": [
      "False False False False False\n"
     ]
    }
   ],
   "source": [
    "s = \"\"\n",
    "l = []\n",
    "t = ()\n",
    "d = {}\n",
    "s1 = set()\n",
    "print(bool(s), bool(l), bool(t), bool(d), bool(s1))"
   ]
  },
  {
   "cell_type": "markdown",
   "metadata": {},
   "source": [
    "Boolean truthiness (context of expressions / objects):\n",
    " - Numerical 0, 0.0, 0+0j\n",
    " - All empty collections (\"\", (), [], {}, set())\n",
    " - None, False\n",
    "Are all treated as False in boolean context"
   ]
  },
  {
   "cell_type": "code",
   "execution_count": 100,
   "metadata": {},
   "outputs": [
    {
     "data": {
      "text/plain": [
       "True"
      ]
     },
     "execution_count": 100,
     "metadata": {},
     "output_type": "execute_result"
    }
   ],
   "source": [
    "a = \"0\"\n",
    "bool(a)"
   ]
  },
  {
   "cell_type": "markdown",
   "metadata": {},
   "source": [
    "Boolean comparison operators:\n",
    "   ==, !=, <, >, <=, >=\n",
    "   is, is not\n",
    "   in, not in\n",
    "\n",
    "Boolean connection operators:\n",
    "  and, or, not\n",
    "  \n",
    "   "
   ]
  },
  {
   "cell_type": "code",
   "execution_count": 118,
   "metadata": {},
   "outputs": [
    {
     "data": {
      "text/plain": [
       "False"
      ]
     },
     "execution_count": 118,
     "metadata": {},
     "output_type": "execute_result"
    }
   ],
   "source": [
    "a = 50\n",
    "a > 2 and a < 10 and a == 5"
   ]
  },
  {
   "cell_type": "code",
   "execution_count": 119,
   "metadata": {},
   "outputs": [
    {
     "data": {
      "text/plain": [
       "True"
      ]
     },
     "execution_count": 119,
     "metadata": {},
     "output_type": "execute_result"
    }
   ],
   "source": [
    "a = 50\n",
    "a > 2 or a < 40"
   ]
  },
  {
   "cell_type": "code",
   "execution_count": 121,
   "metadata": {},
   "outputs": [
    {
     "data": {
      "text/plain": [
       "True"
      ]
     },
     "execution_count": 121,
     "metadata": {},
     "output_type": "execute_result"
    }
   ],
   "source": [
    "a = 10\n",
    "not a > 15 # Avoid abuse of not in this manner\n",
    "\n",
    "quit = False\n",
    "# while not quit: ... # A valid use-case of 'not'\n"
   ]
  },
  {
   "cell_type": "code",
   "execution_count": 105,
   "metadata": {},
   "outputs": [
    {
     "name": "stdout",
     "output_type": "stream",
     "text": [
      "1234 1234 1234\n",
      "True True\n",
      "False True\n",
      "False True\n"
     ]
    },
    {
     "data": {
      "text/plain": [
       "True"
      ]
     },
     "execution_count": 105,
     "metadata": {},
     "output_type": "execute_result"
    }
   ],
   "source": [
    "a = 1234\n",
    "b = 1234\n",
    "c = a\n",
    "print(a, b, c)\n",
    "print(a == b, a == c) # == compares objects by their values\n",
    "print(a is b, a is c) # is - compares id of objects\n",
    "print(id(a) == id(b), id(a) == id(c))\n",
    "# The 'is' operator returns True if both operands refer to the same object\n",
    "# It is recommended to compare variables against singleton objects using 'is' operator\n",
    "a = None\n",
    "a == None # Not pythonic!\n",
    "a is None # Pythonic\n",
    "a is not True # Though pythonic, avoid this one!\n",
    "\n"
   ]
  },
  {
   "cell_type": "code",
   "execution_count": 106,
   "metadata": {},
   "outputs": [
    {
     "data": {
      "text/plain": [
       "True"
      ]
     },
     "execution_count": 106,
     "metadata": {},
     "output_type": "execute_result"
    }
   ],
   "source": [
    "nums = [45, 65, 12, 89, 22, 64, 15, 90, 36]\n",
    "22 in nums"
   ]
  },
  {
   "cell_type": "code",
   "execution_count": 110,
   "metadata": {},
   "outputs": [
    {
     "name": "stdout",
     "output_type": "stream",
     "text": [
      "(45, 65, 12, 89, 22, 64, 15, 90, 36) <class 'tuple'>\n"
     ]
    },
    {
     "data": {
      "text/plain": [
       "True"
      ]
     },
     "execution_count": 110,
     "metadata": {},
     "output_type": "execute_result"
    }
   ],
   "source": [
    "nums = 45, 65, 12, 89, 22, 64, 15, 90, 36\n",
    "print(nums, type(nums))\n",
    "22 in nums"
   ]
  },
  {
   "cell_type": "code",
   "execution_count": 111,
   "metadata": {},
   "outputs": [
    {
     "name": "stdout",
     "output_type": "stream",
     "text": [
      "{64, 65, 36, 12, 45, 15, 22, 89, 90} <class 'set'>\n"
     ]
    },
    {
     "data": {
      "text/plain": [
       "True"
      ]
     },
     "execution_count": 111,
     "metadata": {},
     "output_type": "execute_result"
    }
   ],
   "source": [
    "nums = {45, 65, 12, 89, 22, 64, 15, 90, 36}\n",
    "print(nums, type(nums))\n",
    "22 in nums"
   ]
  },
  {
   "cell_type": "code",
   "execution_count": 115,
   "metadata": {},
   "outputs": [
    {
     "name": "stdout",
     "output_type": "stream",
     "text": [
      "{'host': 'localhost', 'username': 'smith', 'home': '/home/smith', 'role': 'admin'} <class 'dict'>\n",
      "True\n",
      "True\n"
     ]
    }
   ],
   "source": [
    "config = {\"host\": \"localhost\", \"username\": \"smith\", \"home\": \"/home/smith\", \"role\": \"admin\"}\n",
    "print(config, type(config))\n",
    "print(\"role\" in config)\n",
    "print(\"smith\" in config.values())\n"
   ]
  },
  {
   "cell_type": "code",
   "execution_count": 108,
   "metadata": {},
   "outputs": [
    {
     "name": "stdout",
     "output_type": "stream",
     "text": [
      "'temp' missing\n"
     ]
    }
   ],
   "source": [
    "a = \"this is a test string with a couple of words\"\n",
    "\"with\" in a\n",
    "if \"temp\" not in a: print(\"'temp' missing\")"
   ]
  },
  {
   "cell_type": "code",
   "execution_count": 126,
   "metadata": {},
   "outputs": [
    {
     "name": "stdout",
     "output_type": "stream",
     "text": [
      "Are you human ?\n"
     ]
    }
   ],
   "source": [
    "age = int(input(\"Enter your age: \"))\n",
    "if age < 0:\n",
    "    print(\"Are you awake ?\")\n",
    "elif age < 10:\n",
    "    print(\"Do you really know Python ?!\")\n",
    "elif age < 50:\n",
    "    print(\"Hello Pythonista!\")\n",
    "elif age < 150:\n",
    "    print(\"Hello Python Guru!\")\n",
    "else:\n",
    "    print(\"Are you human ?\")\n"
   ]
  },
  {
   "cell_type": "code",
   "execution_count": 133,
   "metadata": {},
   "outputs": [
    {
     "name": "stdout",
     "output_type": "stream",
     "text": [
      "Setting temperature to 30\n"
     ]
    }
   ],
   "source": [
    "temperature = int(input(\"Enter room temperature (in celsius): \"))\n",
    "if temperature > 16 and temperature < 32:\n",
    "    print(\"Setting temperature to\", temperature)\n",
    "else:\n",
    "    print(\"Extreme temperature!\")\n",
    "\n"
   ]
  },
  {
   "cell_type": "code",
   "execution_count": 132,
   "metadata": {},
   "outputs": [
    {
     "name": "stdout",
     "output_type": "stream",
     "text": [
      "Extreme temperature!\n"
     ]
    }
   ],
   "source": [
    "temperature = int(input(\"Enter room temperature (in celsius): \"))\n",
    "if 16 < temperature < 32:\n",
    "    print(\"Setting temperature to\", temperature)\n",
    "else:\n",
    "    print(\"Extreme temperature!\")\n",
    "\n"
   ]
  },
  {
   "cell_type": "code",
   "execution_count": 137,
   "metadata": {},
   "outputs": [
    {
     "name": "stdout",
     "output_type": "stream",
     "text": [
      "This list has some data\n"
     ]
    }
   ],
   "source": [
    "a = [11, 22, 33]\n",
    "if a:\n",
    "    print(\"This list has some data\")\n",
    "else:\n",
    "    print(\"This list is empty\")"
   ]
  },
  {
   "cell_type": "code",
   "execution_count": 139,
   "metadata": {},
   "outputs": [
    {
     "name": "stdout",
     "output_type": "stream",
     "text": [
      "String is empty!\n"
     ]
    }
   ],
   "source": [
    "s = \"\"\n",
    "if not s:\n",
    "    print(\"String is empty!\")\n",
    "else:\n",
    "    print(\"Processing string...\")"
   ]
  },
  {
   "cell_type": "code",
   "execution_count": 141,
   "metadata": {},
   "outputs": [
    {
     "name": "stdout",
     "output_type": "stream",
     "text": [
      "Congratulations! You won the game!\n"
     ]
    }
   ],
   "source": [
    "score = int(input(\"Enter your score: \"))\n",
    "if score > 50:\n",
    "    print(\"Congratulations! You won the game!\")\n",
    "else:\n",
    "    print(\"Better luck next time\")"
   ]
  },
  {
   "cell_type": "code",
   "execution_count": 143,
   "metadata": {},
   "outputs": [
    {
     "data": {
      "text/plain": [
       "'Congratulations!'"
      ]
     },
     "execution_count": 143,
     "metadata": {},
     "output_type": "execute_result"
    }
   ],
   "source": [
    "score = 100\n",
    "result = \"Congratulations!\" if score > 50 else \"Better luck next time!\"\n",
    "# result = (score > 50) ? \"Congratulations!\" : \"Better luck next time!\"\n",
    "result"
   ]
  },
  {
   "cell_type": "code",
   "execution_count": 146,
   "metadata": {},
   "outputs": [
    {
     "name": "stdout",
     "output_type": "stream",
     "text": [
      "Better luck next time!\n"
     ]
    }
   ],
   "source": [
    "score = int(input(\"Enter your score: \"))\n",
    "print(\"Congratulations! You won the game!\" if score > 50 else \"Better luck next time!\")\n",
    "# Ternary-if expression"
   ]
  },
  {
   "cell_type": "code",
   "execution_count": 151,
   "metadata": {},
   "outputs": [
    {
     "name": "stdout",
     "output_type": "stream",
     "text": [
      "Weekend! Travel time!\n"
     ]
    }
   ],
   "source": [
    "weekday = \"Saturday\"\n",
    "\n",
    "if weekday == \"Sunday\":\n",
    "    print(\"Holiday time!\")\n",
    "\n",
    "elif weekday == \"Monday\":\n",
    "    print(\"Manic Monday\")\n",
    "\n",
    "elif weekday in (\"Tuesday\", \"Wednesday\", \"Thursday\"):\n",
    "    print(\"Work! Work! Work!\")\n",
    "\n",
    "elif weekday == \"Friday\":\n",
    "    print(\"Casual day\")\n",
    "    \n",
    "elif weekday == \"Saturday\":\n",
    "    print(\"Weekend! Travel time!\")\n"
   ]
  },
  {
   "cell_type": "code",
   "execution_count": 155,
   "metadata": {},
   "outputs": [
    {
     "name": "stdout",
     "output_type": "stream",
     "text": [
      "Invalid weekday\n"
     ]
    }
   ],
   "source": [
    "weekday = \"Fryday\"\n",
    "\n",
    "match weekday:\n",
    "    \n",
    "    case \"Sunday\":\n",
    "        print(\"Holiday time!\")\n",
    "    \n",
    "    case \"Monday\":\n",
    "        print(\"Manic Monday\")\n",
    "\n",
    "    case \"Tuesday\" | \"Wednesday\" | \"Thursday\":\n",
    "        print(\"Work! Work! Work!\")\n",
    "    \n",
    "    case \"Friday\":\n",
    "        print(\"Casual day\")\n",
    "\n",
    "    case \"Saturday\":\n",
    "        print(\"Weekend! Travel time!\")\n",
    "\n",
    "    case _:\n",
    "        print(\"Invalid weekday\")\n"
   ]
  },
  {
   "cell_type": "code",
   "execution_count": 158,
   "metadata": {},
   "outputs": [
    {
     "data": {
      "text/plain": [
       "'Casual day'"
      ]
     },
     "execution_count": 158,
     "metadata": {},
     "output_type": "execute_result"
    }
   ],
   "source": [
    "messages = {\n",
    "    \"Sunday\": \"Holiday time!\",\n",
    "    \"Monday\": \"Manic Monday\",\n",
    "    \"Tuesday\": \"Work! Work! Work!\",\n",
    "    \"Wednesday\": \"Work! Work! Work!\",\n",
    "    \"Thursday\": \"Work! Work! Work!\",\n",
    "    \"Friday\": \"Casual day\",\n",
    "    \"Saturday\": \"Weekend! Travel time!\"\n",
    "}\n",
    "\n",
    "weekday = \"Friday\"\n",
    "messages[weekday]\n",
    "\n"
   ]
  },
  {
   "cell_type": "markdown",
   "metadata": {},
   "source": [
    "##### Loops:\n",
    "   - while loop\n",
    "   - for loop\n"
   ]
  },
  {
   "cell_type": "code",
   "execution_count": 159,
   "metadata": {},
   "outputs": [
    {
     "name": "stdout",
     "output_type": "stream",
     "text": [
      "Counting 0\n",
      "Counting 1\n",
      "Counting 2\n",
      "Counting 3\n",
      "Counting 4\n"
     ]
    }
   ],
   "source": [
    "# Conditional looping\n",
    "\n",
    "a = 0\n",
    "while a < 5:\n",
    "    print(\"Counting\", a)\n",
    "    a += 1\n",
    "\n",
    "# NOTE: The above is a \"bad\" example for real-world use-case of a 'while' loop "
   ]
  },
  {
   "cell_type": "code",
   "execution_count": 160,
   "metadata": {},
   "outputs": [
    {
     "name": "stdout",
     "output_type": "stream",
     "text": [
      "Counting 0\n",
      "Counting 1\n",
      "Counting 2\n",
      "Counting 3\n",
      "Counting 4\n"
     ]
    }
   ],
   "source": [
    "# For loop\n",
    "\n",
    "for a in range(5):\n",
    "    print(\"Counting\", a) "
   ]
  },
  {
   "cell_type": "markdown",
   "metadata": {},
   "source": [
    "For all kinds of deterministic iteration/loops: prefer using the 'for' loop\n",
    "\n",
    "For non-deterministic loops (mostly loops based on runtime conditions): use a 'while' loop"
   ]
  },
  {
   "cell_type": "code",
   "execution_count": 161,
   "metadata": {},
   "outputs": [
    {
     "name": "stdout",
     "output_type": "stream",
     "text": [
      "[45, 23, 78, 123, 12, 44, 55, 66, 33]\n"
     ]
    }
   ],
   "source": [
    "values = []\n",
    "while (v := int(input(\"Enter a value (or 0 to quit):\"))):\n",
    "    values.append(v)\n",
    "\n",
    "print(values)"
   ]
  },
  {
   "cell_type": "code",
   "execution_count": 164,
   "metadata": {},
   "outputs": [
    {
     "name": "stdout",
     "output_type": "stream",
     "text": [
      "Popped v=77, total=77, values=[34, 22, 66, 77, 12, 32, 54]\n",
      "Popped v=54, total=131, values=[34, 22, 66, 77, 12, 32]\n",
      "Popped v=32, total=163, values=[34, 22, 66, 77, 12]\n",
      "Popped v=12, total=175, values=[34, 22, 66, 77]\n",
      "Popped v=77, total=252, values=[34, 22, 66]\n",
      "Popped v=66, total=318, values=[34, 22]\n",
      "Popped v=22, total=340, values=[34]\n",
      "Popped v=34, total=374, values=[]\n",
      "Final total = 374\n"
     ]
    }
   ],
   "source": [
    "values = [34, 22, 66, 77, 12, 32, 54, 77]\n",
    "\n",
    "total = 0\n",
    "\n",
    "while values:\n",
    "    v = values.pop()\n",
    "    total += v\n",
    "    print(f\"Popped {v=}, {total=}, {values=}\")\n",
    "\n",
    "print(\"Final total =\", total)"
   ]
  },
  {
   "cell_type": "code",
   "execution_count": 167,
   "metadata": {},
   "outputs": [
    {
     "name": "stdout",
     "output_type": "stream",
     "text": [
      "Popped v=77, total=77, values=[34, 22, 66, 77, 12, -32, 54]\n",
      "Popped v=54, total=131, values=[34, 22, 66, 77, 12, -32]\n",
      "values holds corrupted data (found negative number)\n"
     ]
    }
   ],
   "source": [
    "values = [34, 22, 66, 77, 12, -32, 54, 77]\n",
    "\n",
    "total = 0\n",
    "valid = True\n",
    "\n",
    "while values:\n",
    "    v = values.pop()\n",
    "    if v < 0:\n",
    "        valid = False\n",
    "        print(\"values holds corrupted data (found negative number)\")\n",
    "        break\n",
    "    total += v\n",
    "    print(f\"Popped {v=}, {total=}, {values=}\")\n",
    "\n",
    "if valid:\n",
    "    print(\"Final total =\", total)"
   ]
  },
  {
   "cell_type": "code",
   "execution_count": 172,
   "metadata": {},
   "outputs": [
    {
     "name": "stdout",
     "output_type": "stream",
     "text": [
      "Popped v=77, total=77, values=[34, 22, 66, 77, 12, 32, 54]\n",
      "Popped v=54, total=131, values=[34, 22, 66, 77, 12, 32]\n",
      "Popped v=32, total=163, values=[34, 22, 66, 77, 12]\n",
      "Popped v=12, total=175, values=[34, 22, 66, 77]\n",
      "Popped v=77, total=252, values=[34, 22, 66]\n",
      "Popped v=66, total=318, values=[34, 22]\n",
      "Popped v=22, total=340, values=[34]\n",
      "Popped v=34, total=374, values=[]\n",
      "Final total = 374\n"
     ]
    }
   ],
   "source": [
    "values = [34, 22, 66, 77, 12, 32, 54, 77]\n",
    "\n",
    "total = 0\n",
    "\n",
    "while values:\n",
    "    v = values.pop()\n",
    "    total += v\n",
    "    print(f\"Popped {v=}, {total=}, {values=}\")\n",
    "    if v < 0:\n",
    "        print(\"values holds corrupted data (found negative number)\")\n",
    "        break\n",
    "else: # DO NOT re-indent: Read -> https://docs.python.org/3/tutorial/controlflow.html#break-and-continue-statements-and-else-clauses-on-loops\n",
    "    print(\"Final total =\", total)"
   ]
  }
 ],
 "metadata": {
  "kernelspec": {
   "display_name": "base",
   "language": "python",
   "name": "python3"
  },
  "language_info": {
   "codemirror_mode": {
    "name": "ipython",
    "version": 3
   },
   "file_extension": ".py",
   "mimetype": "text/x-python",
   "name": "python",
   "nbconvert_exporter": "python",
   "pygments_lexer": "ipython3",
   "version": "3.12.4"
  }
 },
 "nbformat": 4,
 "nbformat_minor": 2
}
